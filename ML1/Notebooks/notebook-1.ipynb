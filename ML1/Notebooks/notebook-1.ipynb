{
 "cells": [
  {
   "cell_type": "code",
   "execution_count": 169,
   "id": "6d62a42c",
   "metadata": {},
   "outputs": [],
   "source": [
    "import pandas as pd\n",
    "import numpy as np\n",
    "import plotly as px\n",
    "import matplotlib.pyplot as plt\n",
    "from colorama import Fore, Back, Style\n",
    "import json\n",
    "import os\n",
    "import matplotlib.colors as mcolors"
   ]
  },
  {
   "cell_type": "markdown",
   "id": "d8d61639",
   "metadata": {},
   "source": [
    "# Etape I --> Importer / Nettoyer"
   ]
  },
  {
   "cell_type": "markdown",
   "id": "5b0e6907",
   "metadata": {},
   "source": [
    "### Importation"
   ]
  },
  {
   "cell_type": "code",
   "execution_count": 170,
   "id": "b57972d6",
   "metadata": {},
   "outputs": [],
   "source": [
    "wd = os.getcwd()"
   ]
  },
  {
   "cell_type": "code",
   "execution_count": 222,
   "id": "a3a754cc",
   "metadata": {},
   "outputs": [],
   "source": [
    "file_path = '../data/original/ESP_PUBLIC.IDENTITE_ARBRE.csv'\n",
    "df = pd.read_csv(file_path, sep=',', header = 0, index_col=False)"
   ]
  },
  {
   "cell_type": "code",
   "execution_count": 223,
   "id": "92119a4d",
   "metadata": {},
   "outputs": [
    {
     "data": {
      "text/html": [
       "<div>\n",
       "<style scoped>\n",
       "    .dataframe tbody tr th:only-of-type {\n",
       "        vertical-align: middle;\n",
       "    }\n",
       "\n",
       "    .dataframe tbody tr th {\n",
       "        vertical-align: top;\n",
       "    }\n",
       "\n",
       "    .dataframe thead th {\n",
       "        text-align: right;\n",
       "    }\n",
       "</style>\n",
       "<table border=\"1\" class=\"dataframe\">\n",
       "  <thead>\n",
       "    <tr style=\"text-align: right;\">\n",
       "      <th></th>\n",
       "      <th>ELEM_POINT_ID</th>\n",
       "      <th>CODE</th>\n",
       "      <th>NOM</th>\n",
       "      <th>GENRE</th>\n",
       "      <th>GENRE_DESC</th>\n",
       "      <th>CATEGORIE</th>\n",
       "      <th>CATEGORIE_DESC</th>\n",
       "      <th>SOUS_CATEGORIE</th>\n",
       "      <th>SOUS_CATEGORIE_DESC</th>\n",
       "      <th>CODE_PARENT</th>\n",
       "      <th>...</th>\n",
       "      <th>COURRIER</th>\n",
       "      <th>IDENTIFIANTPLU</th>\n",
       "      <th>TYPEIMPLANTATIONPLU</th>\n",
       "      <th>INTITULEPROTECTIONPLU</th>\n",
       "      <th>ANNEEABATTAGE</th>\n",
       "      <th>ESSOUCHEMENT</th>\n",
       "      <th>DIAMETREARBRE</th>\n",
       "      <th>CAUSEABATTAGE</th>\n",
       "      <th>COLLECTIVITE</th>\n",
       "      <th>GeoJSON</th>\n",
       "    </tr>\n",
       "  </thead>\n",
       "  <tbody>\n",
       "    <tr>\n",
       "      <th>0</th>\n",
       "      <td>43866</td>\n",
       "      <td>ESP40237</td>\n",
       "      <td>ESP40237</td>\n",
       "      <td>VEG</td>\n",
       "      <td>VEGETATION</td>\n",
       "      <td>ESP01</td>\n",
       "      <td>Arbre</td>\n",
       "      <td>ESP151</td>\n",
       "      <td>Arbre de voirie</td>\n",
       "      <td>ESP453</td>\n",
       "      <td>...</td>\n",
       "      <td>NaN</td>\n",
       "      <td>NaN</td>\n",
       "      <td>NaN</td>\n",
       "      <td>NaN</td>\n",
       "      <td>NaN</td>\n",
       "      <td>NaN</td>\n",
       "      <td>NaN</td>\n",
       "      <td>NaN</td>\n",
       "      <td>Grenoble Alpes Métropole</td>\n",
       "      <td>{\"type\":\"Point\",\"coordinates\":[5.7209090239891...</td>\n",
       "    </tr>\n",
       "    <tr>\n",
       "      <th>1</th>\n",
       "      <td>38181</td>\n",
       "      <td>ESP38129</td>\n",
       "      <td>ESP38129</td>\n",
       "      <td>VEG</td>\n",
       "      <td>VEGETATION</td>\n",
       "      <td>ESP01</td>\n",
       "      <td>Arbre</td>\n",
       "      <td>ESP151</td>\n",
       "      <td>Arbre de voirie</td>\n",
       "      <td>ESP1075</td>\n",
       "      <td>...</td>\n",
       "      <td>NaN</td>\n",
       "      <td>NaN</td>\n",
       "      <td>NaN</td>\n",
       "      <td>NaN</td>\n",
       "      <td>NaN</td>\n",
       "      <td>NaN</td>\n",
       "      <td>NaN</td>\n",
       "      <td>NaN</td>\n",
       "      <td>Grenoble Alpes Métropole</td>\n",
       "      <td>{\"type\":\"Point\",\"coordinates\":[5.7048112482231...</td>\n",
       "    </tr>\n",
       "    <tr>\n",
       "      <th>2</th>\n",
       "      <td>38182</td>\n",
       "      <td>ESP38130</td>\n",
       "      <td>ESP38130</td>\n",
       "      <td>VEG</td>\n",
       "      <td>VEGETATION</td>\n",
       "      <td>ESP01</td>\n",
       "      <td>Arbre</td>\n",
       "      <td>ESP151</td>\n",
       "      <td>Arbre de voirie</td>\n",
       "      <td>ESP1075</td>\n",
       "      <td>...</td>\n",
       "      <td>NaN</td>\n",
       "      <td>NaN</td>\n",
       "      <td>NaN</td>\n",
       "      <td>NaN</td>\n",
       "      <td>NaN</td>\n",
       "      <td>NaN</td>\n",
       "      <td>NaN</td>\n",
       "      <td>NaN</td>\n",
       "      <td>Grenoble Alpes Métropole</td>\n",
       "      <td>{\"type\":\"Point\",\"coordinates\":[5.704875754357,...</td>\n",
       "    </tr>\n",
       "    <tr>\n",
       "      <th>3</th>\n",
       "      <td>38183</td>\n",
       "      <td>ESP38131</td>\n",
       "      <td>ESP38131</td>\n",
       "      <td>VEG</td>\n",
       "      <td>VEGETATION</td>\n",
       "      <td>ESP01</td>\n",
       "      <td>Arbre</td>\n",
       "      <td>ESP151</td>\n",
       "      <td>Arbre de voirie</td>\n",
       "      <td>ESP1075</td>\n",
       "      <td>...</td>\n",
       "      <td>NaN</td>\n",
       "      <td>NaN</td>\n",
       "      <td>NaN</td>\n",
       "      <td>NaN</td>\n",
       "      <td>NaN</td>\n",
       "      <td>NaN</td>\n",
       "      <td>NaN</td>\n",
       "      <td>NaN</td>\n",
       "      <td>Grenoble Alpes Métropole</td>\n",
       "      <td>{\"type\":\"Point\",\"coordinates\":[5.7049488370901...</td>\n",
       "    </tr>\n",
       "    <tr>\n",
       "      <th>4</th>\n",
       "      <td>38184</td>\n",
       "      <td>ESP38132</td>\n",
       "      <td>ESP38132</td>\n",
       "      <td>VEG</td>\n",
       "      <td>VEGETATION</td>\n",
       "      <td>ESP01</td>\n",
       "      <td>Arbre</td>\n",
       "      <td>ESP151</td>\n",
       "      <td>Arbre de voirie</td>\n",
       "      <td>ESP1075</td>\n",
       "      <td>...</td>\n",
       "      <td>NaN</td>\n",
       "      <td>NaN</td>\n",
       "      <td>NaN</td>\n",
       "      <td>NaN</td>\n",
       "      <td>NaN</td>\n",
       "      <td>NaN</td>\n",
       "      <td>NaN</td>\n",
       "      <td>NaN</td>\n",
       "      <td>Grenoble Alpes Métropole</td>\n",
       "      <td>{\"type\":\"Point\",\"coordinates\":[5.7050118332264...</td>\n",
       "    </tr>\n",
       "  </tbody>\n",
       "</table>\n",
       "<p>5 rows × 32 columns</p>\n",
       "</div>"
      ],
      "text/plain": [
       "   ELEM_POINT_ID      CODE       NOM GENRE  GENRE_DESC CATEGORIE  \\\n",
       "0          43866  ESP40237  ESP40237   VEG  VEGETATION     ESP01   \n",
       "1          38181  ESP38129  ESP38129   VEG  VEGETATION     ESP01   \n",
       "2          38182  ESP38130  ESP38130   VEG  VEGETATION     ESP01   \n",
       "3          38183  ESP38131  ESP38131   VEG  VEGETATION     ESP01   \n",
       "4          38184  ESP38132  ESP38132   VEG  VEGETATION     ESP01   \n",
       "\n",
       "  CATEGORIE_DESC SOUS_CATEGORIE SOUS_CATEGORIE_DESC CODE_PARENT  ... COURRIER  \\\n",
       "0          Arbre         ESP151     Arbre de voirie      ESP453  ...      NaN   \n",
       "1          Arbre         ESP151     Arbre de voirie     ESP1075  ...      NaN   \n",
       "2          Arbre         ESP151     Arbre de voirie     ESP1075  ...      NaN   \n",
       "3          Arbre         ESP151     Arbre de voirie     ESP1075  ...      NaN   \n",
       "4          Arbre         ESP151     Arbre de voirie     ESP1075  ...      NaN   \n",
       "\n",
       "   IDENTIFIANTPLU TYPEIMPLANTATIONPLU INTITULEPROTECTIONPLU ANNEEABATTAGE  \\\n",
       "0             NaN                 NaN                   NaN           NaN   \n",
       "1             NaN                 NaN                   NaN           NaN   \n",
       "2             NaN                 NaN                   NaN           NaN   \n",
       "3             NaN                 NaN                   NaN           NaN   \n",
       "4             NaN                 NaN                   NaN           NaN   \n",
       "\n",
       "  ESSOUCHEMENT DIAMETREARBRE  CAUSEABATTAGE              COLLECTIVITE  \\\n",
       "0          NaN           NaN            NaN  Grenoble Alpes Métropole   \n",
       "1          NaN           NaN            NaN  Grenoble Alpes Métropole   \n",
       "2          NaN           NaN            NaN  Grenoble Alpes Métropole   \n",
       "3          NaN           NaN            NaN  Grenoble Alpes Métropole   \n",
       "4          NaN           NaN            NaN  Grenoble Alpes Métropole   \n",
       "\n",
       "                                             GeoJSON  \n",
       "0  {\"type\":\"Point\",\"coordinates\":[5.7209090239891...  \n",
       "1  {\"type\":\"Point\",\"coordinates\":[5.7048112482231...  \n",
       "2  {\"type\":\"Point\",\"coordinates\":[5.704875754357,...  \n",
       "3  {\"type\":\"Point\",\"coordinates\":[5.7049488370901...  \n",
       "4  {\"type\":\"Point\",\"coordinates\":[5.7050118332264...  \n",
       "\n",
       "[5 rows x 32 columns]"
      ]
     },
     "execution_count": 223,
     "metadata": {},
     "output_type": "execute_result"
    }
   ],
   "source": [
    "df.head()"
   ]
  },
  {
   "cell_type": "markdown",
   "id": "639c047b",
   "metadata": {},
   "source": [
    "### Infos"
   ]
  },
  {
   "cell_type": "code",
   "execution_count": 224,
   "id": "5e678771",
   "metadata": {},
   "outputs": [
    {
     "data": {
      "text/plain": [
       "(31618, 32)"
      ]
     },
     "execution_count": 224,
     "metadata": {},
     "output_type": "execute_result"
    }
   ],
   "source": [
    "df.shape"
   ]
  },
  {
   "cell_type": "code",
   "execution_count": 225,
   "id": "33cd10ac",
   "metadata": {},
   "outputs": [
    {
     "name": "stdout",
     "output_type": "stream",
     "text": [
      "<class 'pandas.core.frame.DataFrame'>\n",
      "RangeIndex: 31618 entries, 0 to 31617\n",
      "Data columns (total 32 columns):\n",
      " #   Column                 Non-Null Count  Dtype  \n",
      "---  ------                 --------------  -----  \n",
      " 0   ELEM_POINT_ID          31618 non-null  int64  \n",
      " 1   CODE                   31618 non-null  object \n",
      " 2   NOM                    31618 non-null  object \n",
      " 3   GENRE                  31618 non-null  object \n",
      " 4   GENRE_DESC             31618 non-null  object \n",
      " 5   CATEGORIE              31618 non-null  object \n",
      " 6   CATEGORIE_DESC         31618 non-null  object \n",
      " 7   SOUS_CATEGORIE         31618 non-null  object \n",
      " 8   SOUS_CATEGORIE_DESC    31618 non-null  object \n",
      " 9   CODE_PARENT            31618 non-null  object \n",
      " 10  CODE_PARENT_DESC       31618 non-null  object \n",
      " 11  ADR_SECTEUR            31618 non-null  int64  \n",
      " 12  BIEN_REFERENCE         31618 non-null  object \n",
      " 13  GENRE_BOTA             30685 non-null  object \n",
      " 14  ESPECE                 29084 non-null  object \n",
      " 15  VARIETE                4480 non-null   object \n",
      " 16  STADEDEDEVELOPPEMENT   28668 non-null  object \n",
      " 17  EQUIPE                 0 non-null      float64\n",
      " 18  REMARQUES              5356 non-null   object \n",
      " 19  ANNEEDEPLANTATION      30180 non-null  float64\n",
      " 20  RAISONDEPLANTATION     2912 non-null   object \n",
      " 21  TRAITEMENTCHENILLES    2151 non-null   object \n",
      " 22  COURRIER               0 non-null      float64\n",
      " 23  IDENTIFIANTPLU         601 non-null    float64\n",
      " 24  TYPEIMPLANTATIONPLU    601 non-null    object \n",
      " 25  INTITULEPROTECTIONPLU  601 non-null    object \n",
      " 26  ANNEEABATTAGE          0 non-null      float64\n",
      " 27  ESSOUCHEMENT           0 non-null      float64\n",
      " 28  DIAMETREARBRE          0 non-null      float64\n",
      " 29  CAUSEABATTAGE          0 non-null      float64\n",
      " 30  COLLECTIVITE           31187 non-null  object \n",
      " 31  GeoJSON                31618 non-null  object \n",
      "dtypes: float64(8), int64(2), object(22)\n",
      "memory usage: 7.7+ MB\n"
     ]
    }
   ],
   "source": [
    "df.info()"
   ]
  },
  {
   "cell_type": "markdown",
   "id": "a0b40c3f",
   "metadata": {},
   "source": [
    "### Cleaning empty or almost empty"
   ]
  },
  {
   "cell_type": "raw",
   "id": "105a5ce0",
   "metadata": {},
   "source": [
    "--> If more than 50% NULL value we suppress the column"
   ]
  },
  {
   "cell_type": "code",
   "execution_count": 226,
   "id": "f828d30e",
   "metadata": {},
   "outputs": [
    {
     "data": {
      "text/plain": [
       "15809.0"
      ]
     },
     "execution_count": 226,
     "metadata": {},
     "output_type": "execute_result"
    }
   ],
   "source": [
    "nullThreshold = len(df[\"ELEM_POINT_ID\"])*50/100\n",
    "nullThreshold"
   ]
  },
  {
   "cell_type": "code",
   "execution_count": 227,
   "id": "02f94c3f",
   "metadata": {},
   "outputs": [
    {
     "data": {
      "text/plain": [
       "31618"
      ]
     },
     "execution_count": 227,
     "metadata": {},
     "output_type": "execute_result"
    }
   ],
   "source": [
    "df[\"ELEM_POINT_ID\"].count()"
   ]
  },
  {
   "cell_type": "markdown",
   "id": "45eb8549",
   "metadata": {},
   "source": [
    "#### Utils"
   ]
  },
  {
   "cell_type": "code",
   "execution_count": 228,
   "id": "6f3e882d",
   "metadata": {},
   "outputs": [],
   "source": [
    "def is_suppressed(df, colName):\n",
    "    nullNum = df[colName].count()\n",
    "    if nullNum > nullThreshold:\n",
    "        answer =  False\n",
    "    else:\n",
    "        answer =  True\n",
    "    return answer"
   ]
  },
  {
   "cell_type": "code",
   "execution_count": 229,
   "id": "92d6e972",
   "metadata": {},
   "outputs": [],
   "source": [
    "def has_more_than_one(df,col):\n",
    "    value = df[col].nunique()\n",
    "    if value > 1:\n",
    "        return True\n",
    "    else:\n",
    "        return False"
   ]
  },
  {
   "cell_type": "code",
   "execution_count": 230,
   "id": "285478d4",
   "metadata": {},
   "outputs": [],
   "source": [
    "def drop_column_threshold(df):\n",
    "    colSuppressed = []\n",
    "    dff = df.copy()\n",
    "    for col in df.columns:\n",
    "        if is_suppressed(df, col):\n",
    "            dff.drop(columns=col, inplace=True)\n",
    "            colSuppressed.append(col)\n",
    "            print(f\"col suppressed : {col}\")\n",
    "            \n",
    "    return dff, colSuppressed"
   ]
  },
  {
   "cell_type": "code",
   "execution_count": 231,
   "id": "48bbf26a",
   "metadata": {},
   "outputs": [],
   "source": [
    "def clean_unique_value(df):\n",
    "    dff = df.copy()\n",
    "    colSuppressed = []\n",
    "    for col in df.columns:\n",
    "        if not has_more_than_one(df,col):\n",
    "            dff.drop(columns=col, inplace=True)\n",
    "            colSuppressed.append(col)\n",
    "            print(f\"col suppressed : {col}\")\n",
    "    return dff, colSuppressed"
   ]
  },
  {
   "cell_type": "code",
   "execution_count": 240,
   "id": "246a57e6",
   "metadata": {},
   "outputs": [],
   "source": [
    "def has_only_different_value(df,col):\n",
    "    if len(df[col]) == len(df[col].value_counts()):\n",
    "        return True\n",
    "    else:\n",
    "        return False"
   ]
  },
  {
   "cell_type": "code",
   "execution_count": 268,
   "id": "34fded4f",
   "metadata": {},
   "outputs": [],
   "source": [
    "def clean_only_diff_value(df):\n",
    "    dff = df.copy()\n",
    "    colSuppressed = []\n",
    "    for col in dff.columns:\n",
    "        if has_only_different_value(dff,col) and col != \"GeoJSON\":\n",
    "            dff.drop(columns=col, inplace=True)\n",
    "            colSuppressed.append(col)\n",
    "            print(f\"col suppressed : {col}\")\n",
    "            \n",
    "    return dff, colSuppressed      "
   ]
  },
  {
   "cell_type": "markdown",
   "id": "5cb620c1",
   "metadata": {},
   "source": [
    "#### Cleaning"
   ]
  },
  {
   "cell_type": "code",
   "execution_count": 287,
   "id": "cb488201",
   "metadata": {},
   "outputs": [],
   "source": [
    "df_clean = df.copy()"
   ]
  },
  {
   "cell_type": "code",
   "execution_count": 288,
   "id": "7c5b727f",
   "metadata": {
    "scrolled": true
   },
   "outputs": [
    {
     "name": "stdout",
     "output_type": "stream",
     "text": [
      "-------------------------------------------------\n",
      "Columns suppressed => 0\n",
      "\n"
     ]
    }
   ],
   "source": [
    "df_clean, colSuppressed = drop_column_threshold(df)\n",
    "print(\"-------------------------------------------------\")\n",
    "print(f\"Columns suppressed => {len(colSuppressed)}\")\n",
    "print(\"\")"
   ]
  },
  {
   "cell_type": "code",
   "execution_count": 289,
   "id": "dc64e1a4",
   "metadata": {},
   "outputs": [
    {
     "name": "stdout",
     "output_type": "stream",
     "text": [
      "-------------------------------------------------\n",
      "Columns suppressed => 0\n",
      "\n"
     ]
    }
   ],
   "source": [
    "df_clean, colSuppressed = clean_unique_value(df_clean)\n",
    "print(\"-------------------------------------------------\")\n",
    "print(f\"Columns suppressed => {len(colSuppressed)}\")\n",
    "print(\"\")"
   ]
  },
  {
   "cell_type": "code",
   "execution_count": 290,
   "id": "7aa103d8",
   "metadata": {},
   "outputs": [
    {
     "name": "stdout",
     "output_type": "stream",
     "text": [
      "col suppressed : ELEM_POINT_ID\n",
      "col suppressed : CODE\n",
      "col suppressed : NOM\n",
      "col suppressed : BIEN_REFERENCE\n",
      "-------------------------------------------------\n",
      "Columns suppressed => 4\n",
      "\n"
     ]
    }
   ],
   "source": [
    "df_clean, colSuppressed = clean_only_diff_value(df_clean)\n",
    "print(\"-------------------------------------------------\")\n",
    "print(f\"Columns suppressed => {len(colSuppressed)}\")\n",
    "print(\"\")"
   ]
  },
  {
   "cell_type": "code",
   "execution_count": 291,
   "id": "667267d0",
   "metadata": {},
   "outputs": [
    {
     "data": {
      "text/plain": [
       "Index(['SOUS_CATEGORIE', 'SOUS_CATEGORIE_DESC', 'CODE_PARENT',\n",
       "       'CODE_PARENT_DESC', 'ADR_SECTEUR', 'GENRE_BOTA', 'ESPECE',\n",
       "       'STADEDEDEVELOPPEMENT', 'ANNEEDEPLANTATION', 'COLLECTIVITE', 'GeoJSON'],\n",
       "      dtype='object')"
      ]
     },
     "execution_count": 291,
     "metadata": {},
     "output_type": "execute_result"
    }
   ],
   "source": [
    "df_clean.columns"
   ]
  },
  {
   "cell_type": "markdown",
   "id": "a9fb10cc",
   "metadata": {},
   "source": [
    "### Clean Tween columns"
   ]
  },
  {
   "cell_type": "code",
   "execution_count": 292,
   "id": "83916ce7",
   "metadata": {},
   "outputs": [],
   "source": [
    "df_clean.drop(columns=\"SOUS_CATEGORIE\", inplace=True)\n",
    "df_clean.drop(columns=\"CODE_PARENT\", inplace=True)"
   ]
  },
  {
   "cell_type": "markdown",
   "id": "afa32130",
   "metadata": {},
   "source": [
    "### Parse GeoJson"
   ]
  },
  {
   "cell_type": "code",
   "execution_count": 313,
   "id": "1e61a114",
   "metadata": {},
   "outputs": [],
   "source": [
    "def split_GeoJSON(df):\n",
    "    dff = df.copy()\n",
    "    dff['coordinates'] = dff['GeoJSON'].apply(lambda x: json.loads(x)['coordinates'])\n",
    "    dff['latitude'] = dff['coordinates'].apply(lambda x: x[1])\n",
    "    dff['longitude'] = dff['coordinates'].apply(lambda x: x[0])\n",
    "    dff['sum_coordinate'] = dff['latitude'] + dff['longitude']\n",
    "    return dff"
   ]
  },
  {
   "cell_type": "code",
   "execution_count": 314,
   "id": "d4ef4d7c",
   "metadata": {},
   "outputs": [],
   "source": [
    "df_clean = split_GeoJSON(df_clean)"
   ]
  },
  {
   "cell_type": "markdown",
   "id": "22de83d8",
   "metadata": {},
   "source": [
    "# First Analysis"
   ]
  },
  {
   "cell_type": "code",
   "execution_count": 315,
   "id": "72d8b9ea",
   "metadata": {},
   "outputs": [
    {
     "data": {
      "text/html": [
       "<div>\n",
       "<style scoped>\n",
       "    .dataframe tbody tr th:only-of-type {\n",
       "        vertical-align: middle;\n",
       "    }\n",
       "\n",
       "    .dataframe tbody tr th {\n",
       "        vertical-align: top;\n",
       "    }\n",
       "\n",
       "    .dataframe thead th {\n",
       "        text-align: right;\n",
       "    }\n",
       "</style>\n",
       "<table border=\"1\" class=\"dataframe\">\n",
       "  <thead>\n",
       "    <tr style=\"text-align: right;\">\n",
       "      <th></th>\n",
       "      <th>SOUS_CATEGORIE_DESC</th>\n",
       "      <th>CODE_PARENT_DESC</th>\n",
       "      <th>ADR_SECTEUR</th>\n",
       "      <th>GENRE_BOTA</th>\n",
       "      <th>ESPECE</th>\n",
       "      <th>STADEDEDEVELOPPEMENT</th>\n",
       "      <th>ANNEEDEPLANTATION</th>\n",
       "      <th>COLLECTIVITE</th>\n",
       "      <th>GeoJSON</th>\n",
       "      <th>coordinates</th>\n",
       "      <th>latitude</th>\n",
       "      <th>longitude</th>\n",
       "      <th>sum_coordinate</th>\n",
       "    </tr>\n",
       "  </thead>\n",
       "  <tbody>\n",
       "    <tr>\n",
       "      <th>0</th>\n",
       "      <td>Arbre de voirie</td>\n",
       "      <td>R Andrieux PM Curie R François</td>\n",
       "      <td>6</td>\n",
       "      <td>NaN</td>\n",
       "      <td>NaN</td>\n",
       "      <td>NaN</td>\n",
       "      <td>NaN</td>\n",
       "      <td>Grenoble Alpes Métropole</td>\n",
       "      <td>{\"type\":\"Point\",\"coordinates\":[5.7209090239891...</td>\n",
       "      <td>[5.72090902398911, 45.1623384592357]</td>\n",
       "      <td>45.162338</td>\n",
       "      <td>5.720909</td>\n",
       "      <td>50.883247</td>\n",
       "    </tr>\n",
       "    <tr>\n",
       "      <th>1</th>\n",
       "      <td>Arbre de voirie</td>\n",
       "      <td>Av Rh Danube Vallier E Claires</td>\n",
       "      <td>3</td>\n",
       "      <td>Platanus</td>\n",
       "      <td>hispanica</td>\n",
       "      <td>Arbre adulte</td>\n",
       "      <td>NaN</td>\n",
       "      <td>Grenoble Alpes Métropole</td>\n",
       "      <td>{\"type\":\"Point\",\"coordinates\":[5.7048112482231...</td>\n",
       "      <td>[5.70481124822311, 45.1779382313614]</td>\n",
       "      <td>45.177938</td>\n",
       "      <td>5.704811</td>\n",
       "      <td>50.882749</td>\n",
       "    </tr>\n",
       "    <tr>\n",
       "      <th>2</th>\n",
       "      <td>Arbre de voirie</td>\n",
       "      <td>Av Rh Danube Vallier E Claires</td>\n",
       "      <td>3</td>\n",
       "      <td>Platanus</td>\n",
       "      <td>hispanica</td>\n",
       "      <td>Arbre adulte</td>\n",
       "      <td>NaN</td>\n",
       "      <td>Grenoble Alpes Métropole</td>\n",
       "      <td>{\"type\":\"Point\",\"coordinates\":[5.704875754357,...</td>\n",
       "      <td>[5.704875754357, 45.1779321250833]</td>\n",
       "      <td>45.177932</td>\n",
       "      <td>5.704876</td>\n",
       "      <td>50.882808</td>\n",
       "    </tr>\n",
       "    <tr>\n",
       "      <th>3</th>\n",
       "      <td>Arbre de voirie</td>\n",
       "      <td>Av Rh Danube Vallier E Claires</td>\n",
       "      <td>3</td>\n",
       "      <td>Platanus</td>\n",
       "      <td>hispanica</td>\n",
       "      <td>Arbre adulte</td>\n",
       "      <td>NaN</td>\n",
       "      <td>Grenoble Alpes Métropole</td>\n",
       "      <td>{\"type\":\"Point\",\"coordinates\":[5.7049488370901...</td>\n",
       "      <td>[5.70494883709017, 45.1779361272749]</td>\n",
       "      <td>45.177936</td>\n",
       "      <td>5.704949</td>\n",
       "      <td>50.882885</td>\n",
       "    </tr>\n",
       "    <tr>\n",
       "      <th>4</th>\n",
       "      <td>Arbre de voirie</td>\n",
       "      <td>Av Rh Danube Vallier E Claires</td>\n",
       "      <td>3</td>\n",
       "      <td>Platanus</td>\n",
       "      <td>hispanica</td>\n",
       "      <td>Arbre adulte</td>\n",
       "      <td>NaN</td>\n",
       "      <td>Grenoble Alpes Métropole</td>\n",
       "      <td>{\"type\":\"Point\",\"coordinates\":[5.7050118332264...</td>\n",
       "      <td>[5.70501183322648, 45.1779323479383]</td>\n",
       "      <td>45.177932</td>\n",
       "      <td>5.705012</td>\n",
       "      <td>50.882944</td>\n",
       "    </tr>\n",
       "  </tbody>\n",
       "</table>\n",
       "</div>"
      ],
      "text/plain": [
       "  SOUS_CATEGORIE_DESC                CODE_PARENT_DESC  ADR_SECTEUR GENRE_BOTA  \\\n",
       "0     Arbre de voirie  R Andrieux PM Curie R François            6        NaN   \n",
       "1     Arbre de voirie  Av Rh Danube Vallier E Claires            3   Platanus   \n",
       "2     Arbre de voirie  Av Rh Danube Vallier E Claires            3   Platanus   \n",
       "3     Arbre de voirie  Av Rh Danube Vallier E Claires            3   Platanus   \n",
       "4     Arbre de voirie  Av Rh Danube Vallier E Claires            3   Platanus   \n",
       "\n",
       "      ESPECE STADEDEDEVELOPPEMENT  ANNEEDEPLANTATION  \\\n",
       "0        NaN                  NaN                NaN   \n",
       "1  hispanica         Arbre adulte                NaN   \n",
       "2  hispanica         Arbre adulte                NaN   \n",
       "3  hispanica         Arbre adulte                NaN   \n",
       "4  hispanica         Arbre adulte                NaN   \n",
       "\n",
       "               COLLECTIVITE  \\\n",
       "0  Grenoble Alpes Métropole   \n",
       "1  Grenoble Alpes Métropole   \n",
       "2  Grenoble Alpes Métropole   \n",
       "3  Grenoble Alpes Métropole   \n",
       "4  Grenoble Alpes Métropole   \n",
       "\n",
       "                                             GeoJSON  \\\n",
       "0  {\"type\":\"Point\",\"coordinates\":[5.7209090239891...   \n",
       "1  {\"type\":\"Point\",\"coordinates\":[5.7048112482231...   \n",
       "2  {\"type\":\"Point\",\"coordinates\":[5.704875754357,...   \n",
       "3  {\"type\":\"Point\",\"coordinates\":[5.7049488370901...   \n",
       "4  {\"type\":\"Point\",\"coordinates\":[5.7050118332264...   \n",
       "\n",
       "                            coordinates   latitude  longitude  sum_coordinate  \n",
       "0  [5.72090902398911, 45.1623384592357]  45.162338   5.720909       50.883247  \n",
       "1  [5.70481124822311, 45.1779382313614]  45.177938   5.704811       50.882749  \n",
       "2    [5.704875754357, 45.1779321250833]  45.177932   5.704876       50.882808  \n",
       "3  [5.70494883709017, 45.1779361272749]  45.177936   5.704949       50.882885  \n",
       "4  [5.70501183322648, 45.1779323479383]  45.177932   5.705012       50.882944  "
      ]
     },
     "execution_count": 315,
     "metadata": {},
     "output_type": "execute_result"
    }
   ],
   "source": [
    "df = df_clean.copy()\n",
    "df.head()"
   ]
  },
  {
   "cell_type": "code",
   "execution_count": 294,
   "id": "ee462372",
   "metadata": {},
   "outputs": [],
   "source": [
    "year = df[\"ANNEEDEPLANTATION\"]"
   ]
  },
  {
   "cell_type": "code",
   "execution_count": 306,
   "id": "df578430",
   "metadata": {},
   "outputs": [
    {
     "data": {
      "text/plain": [
       "'{\"type\":\"Point\",\"coordinates\":[5.70507321129802,45.1779286067872]}'"
      ]
     },
     "execution_count": 306,
     "metadata": {},
     "output_type": "execute_result"
    }
   ],
   "source": [
    "df.loc[5,\"GeoJSON\"]"
   ]
  },
  {
   "cell_type": "code",
   "execution_count": 310,
   "id": "f42f6a95",
   "metadata": {},
   "outputs": [
    {
     "data": {
      "text/plain": [
       "45.1779286067872"
      ]
     },
     "execution_count": 310,
     "metadata": {},
     "output_type": "execute_result"
    }
   ],
   "source": [
    "import json\n",
    "import pandas as pd\n",
    "\n",
    "# create example dataframe\n",
    "df = pd.DataFrame({'value': ['{\"type\":\"Point\",\"coordinates\":[5.70507321129802,45.1779286067872]}']})\n",
    "\n",
    "# extract latitude and longitude using json.loads()\n",
    "df['coordinates'] = df['value'].apply(lambda x: json.loads(x)['coordinates'])\n",
    "df['latitude'] = df['coordinates'].apply(lambda x: x[1])\n",
    "df['longitude'] = df['coordinates'].apply(lambda x: x[0])\n",
    "\n",
    "# print resulting dataframe\n",
    "df['longitude']\n",
    "df.loc[0,'latitude']"
   ]
  },
  {
   "cell_type": "code",
   "execution_count": null,
   "id": "59c1819d",
   "metadata": {},
   "outputs": [],
   "source": []
  }
 ],
 "metadata": {
  "kernelspec": {
   "display_name": "Python 3 (ipykernel)",
   "language": "python",
   "name": "python3"
  },
  "language_info": {
   "codemirror_mode": {
    "name": "ipython",
    "version": 3
   },
   "file_extension": ".py",
   "mimetype": "text/x-python",
   "name": "python",
   "nbconvert_exporter": "python",
   "pygments_lexer": "ipython3",
   "version": "3.9.7"
  }
 },
 "nbformat": 4,
 "nbformat_minor": 5
}
