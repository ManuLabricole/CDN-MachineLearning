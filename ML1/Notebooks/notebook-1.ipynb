{
 "cells": [
  {
   "cell_type": "code",
   "execution_count": 42,
   "id": "6bc52367",
   "metadata": {},
   "outputs": [],
   "source": [
    "import pandas as pd\n",
    "import numpy as np\n",
    "import plotly as px\n",
    "import matplotlib.pyplot as plt\n",
    "import seaborn as sns\n",
    "import missingno as msno\n",
    "import pickle\n",
    "from colorama import Fore, Back, Style\n",
    "import json\n",
    "import os\n",
    "import matplotlib.colors as mcolors"
   ]
  },
  {
   "cell_type": "code",
   "execution_count": 2,
   "id": "0e6f0482",
   "metadata": {},
   "outputs": [
    {
     "data": {
      "image/png": "[encoded data removed]",
      "text/plain": [
       "<Figure size 1152x72 with 1 Axes>"
      ]
     },
     "metadata": {
      "needs_background": "light"
     },
     "output_type": "display_data"
    }
   ],
   "source": [
    "colors = sns.color_palette(\"tab20_r\", 16)\n",
    "sns.palplot(colors)\n",
    "sns.set_style(\"darkgrid\")"
   ]
  },
  {
   "cell_type": "markdown",
   "id": "86eac07e",
   "metadata": {},
   "source": [
    "# Etape I --> Importer / Nettoyer"
   ]
  },
  {
   "cell_type": "markdown",
   "id": "fc329235",
   "metadata": {},
   "source": [
    "### Importation"
   ]
  },
  {
   "cell_type": "code",
   "execution_count": 3,
   "id": "77ba8a8c",
   "metadata": {},
   "outputs": [],
   "source": [
    "wd = os.getcwd()"
   ]
  },
  {
   "cell_type": "code",
   "execution_count": 4,
   "id": "bac95592",
   "metadata": {},
   "outputs": [],
   "source": [
    "file_path = '../data/original/ESP_PUBLIC.IDENTITE_ARBRE.csv'\n",
    "df = pd.read_csv(file_path, sep=',', header = 0, index_col=False)"
   ]
  },
  {
   "cell_type": "code",
   "execution_count": 5,
   "id": "68a6e536",
   "metadata": {},
   "outputs": [
    {
     "data": {
      "text/html": [
       "<div>\n",
       "<style scoped>\n",
       "    .dataframe tbody tr th:only-of-type {\n",
       "        vertical-align: middle;\n",
       "    }\n",
       "\n",
       "    .dataframe tbody tr th {\n",
       "        vertical-align: top;\n",
       "    }\n",
       "\n",
       "    .dataframe thead th {\n",
       "        text-align: right;\n",
       "    }\n",
       "</style>\n",
       "<table border=\"1\" class=\"dataframe\">\n",
       "  <thead>\n",
       "    <tr style=\"text-align: right;\">\n",
       "      <th></th>\n",
       "      <th>ELEM_POINT_ID</th>\n",
       "      <th>CODE</th>\n",
       "      <th>NOM</th>\n",
       "      <th>GENRE</th>\n",
       "      <th>GENRE_DESC</th>\n",
       "      <th>CATEGORIE</th>\n",
       "      <th>CATEGORIE_DESC</th>\n",
       "      <th>SOUS_CATEGORIE</th>\n",
       "      <th>SOUS_CATEGORIE_DESC</th>\n",
       "      <th>CODE_PARENT</th>\n",
       "      <th>...</th>\n",
       "      <th>COURRIER</th>\n",
       "      <th>IDENTIFIANTPLU</th>\n",
       "      <th>TYPEIMPLANTATIONPLU</th>\n",
       "      <th>INTITULEPROTECTIONPLU</th>\n",
       "      <th>ANNEEABATTAGE</th>\n",
       "      <th>ESSOUCHEMENT</th>\n",
       "      <th>DIAMETREARBRE</th>\n",
       "      <th>CAUSEABATTAGE</th>\n",
       "      <th>COLLECTIVITE</th>\n",
       "      <th>GeoJSON</th>\n",
       "    </tr>\n",
       "  </thead>\n",
       "  <tbody>\n",
       "    <tr>\n",
       "      <th>0</th>\n",
       "      <td>43866</td>\n",
       "      <td>ESP40237</td>\n",
       "      <td>ESP40237</td>\n",
       "      <td>VEG</td>\n",
       "      <td>VEGETATION</td>\n",
       "      <td>ESP01</td>\n",
       "      <td>Arbre</td>\n",
       "      <td>ESP151</td>\n",
       "      <td>Arbre de voirie</td>\n",
       "      <td>ESP453</td>\n",
       "      <td>...</td>\n",
       "      <td>NaN</td>\n",
       "      <td>NaN</td>\n",
       "      <td>NaN</td>\n",
       "      <td>NaN</td>\n",
       "      <td>NaN</td>\n",
       "      <td>NaN</td>\n",
       "      <td>NaN</td>\n",
       "      <td>NaN</td>\n",
       "      <td>Grenoble Alpes Métropole</td>\n",
       "      <td>{\"type\":\"Point\",\"coordinates\":[5.7209090239891...</td>\n",
       "    </tr>\n",
       "    <tr>\n",
       "      <th>1</th>\n",
       "      <td>38181</td>\n",
       "      <td>ESP38129</td>\n",
       "      <td>ESP38129</td>\n",
       "      <td>VEG</td>\n",
       "      <td>VEGETATION</td>\n",
       "      <td>ESP01</td>\n",
       "      <td>Arbre</td>\n",
       "      <td>ESP151</td>\n",
       "      <td>Arbre de voirie</td>\n",
       "      <td>ESP1075</td>\n",
       "      <td>...</td>\n",
       "      <td>NaN</td>\n",
       "      <td>NaN</td>\n",
       "      <td>NaN</td>\n",
       "      <td>NaN</td>\n",
       "      <td>NaN</td>\n",
       "      <td>NaN</td>\n",
       "      <td>NaN</td>\n",
       "      <td>NaN</td>\n",
       "      <td>Grenoble Alpes Métropole</td>\n",
       "      <td>{\"type\":\"Point\",\"coordinates\":[5.7048112482231...</td>\n",
       "    </tr>\n",
       "    <tr>\n",
       "      <th>2</th>\n",
       "      <td>38182</td>\n",
       "      <td>ESP38130</td>\n",
       "      <td>ESP38130</td>\n",
       "      <td>VEG</td>\n",
       "      <td>VEGETATION</td>\n",
       "      <td>ESP01</td>\n",
       "      <td>Arbre</td>\n",
       "      <td>ESP151</td>\n",
       "      <td>Arbre de voirie</td>\n",
       "      <td>ESP1075</td>\n",
       "      <td>...</td>\n",
       "      <td>NaN</td>\n",
       "      <td>NaN</td>\n",
       "      <td>NaN</td>\n",
       "      <td>NaN</td>\n",
       "      <td>NaN</td>\n",
       "      <td>NaN</td>\n",
       "      <td>NaN</td>\n",
       "      <td>NaN</td>\n",
       "      <td>Grenoble Alpes Métropole</td>\n",
       "      <td>{\"type\":\"Point\",\"coordinates\":[5.704875754357,...</td>\n",
       "    </tr>\n",
       "    <tr>\n",
       "      <th>3</th>\n",
       "      <td>38183</td>\n",
       "      <td>ESP38131</td>\n",
       "      <td>ESP38131</td>\n",
       "      <td>VEG</td>\n",
       "      <td>VEGETATION</td>\n",
       "      <td>ESP01</td>\n",
       "      <td>Arbre</td>\n",
       "      <td>ESP151</td>\n",
       "      <td>Arbre de voirie</td>\n",
       "      <td>ESP1075</td>\n",
       "      <td>...</td>\n",
       "      <td>NaN</td>\n",
       "      <td>NaN</td>\n",
       "      <td>NaN</td>\n",
       "      <td>NaN</td>\n",
       "      <td>NaN</td>\n",
       "      <td>NaN</td>\n",
       "      <td>NaN</td>\n",
       "      <td>NaN</td>\n",
       "      <td>Grenoble Alpes Métropole</td>\n",
       "      <td>{\"type\":\"Point\",\"coordinates\":[5.7049488370901...</td>\n",
       "    </tr>\n",
       "    <tr>\n",
       "      <th>4</th>\n",
       "      <td>38184</td>\n",
       "      <td>ESP38132</td>\n",
       "      <td>ESP38132</td>\n",
       "      <td>VEG</td>\n",
       "      <td>VEGETATION</td>\n",
       "      <td>ESP01</td>\n",
       "      <td>Arbre</td>\n",
       "      <td>ESP151</td>\n",
       "      <td>Arbre de voirie</td>\n",
       "      <td>ESP1075</td>\n",
       "      <td>...</td>\n",
       "      <td>NaN</td>\n",
       "      <td>NaN</td>\n",
       "      <td>NaN</td>\n",
       "      <td>NaN</td>\n",
       "      <td>NaN</td>\n",
       "      <td>NaN</td>\n",
       "      <td>NaN</td>\n",
       "      <td>NaN</td>\n",
       "      <td>Grenoble Alpes Métropole</td>\n",
       "      <td>{\"type\":\"Point\",\"coordinates\":[5.7050118332264...</td>\n",
       "    </tr>\n",
       "  </tbody>\n",
       "</table>\n",
       "<p>5 rows × 32 columns</p>\n",
       "</div>"
      ],
      "text/plain": [
       "   ELEM_POINT_ID      CODE       NOM GENRE  GENRE_DESC CATEGORIE  \\\n",
       "0          43866  ESP40237  ESP40237   VEG  VEGETATION     ESP01   \n",
       "1          38181  ESP38129  ESP38129   VEG  VEGETATION     ESP01   \n",
       "2          38182  ESP38130  ESP38130   VEG  VEGETATION     ESP01   \n",
       "3          38183  ESP38131  ESP38131   VEG  VEGETATION     ESP01   \n",
       "4          38184  ESP38132  ESP38132   VEG  VEGETATION     ESP01   \n",
       "\n",
       "  CATEGORIE_DESC SOUS_CATEGORIE SOUS_CATEGORIE_DESC CODE_PARENT  ... COURRIER  \\\n",
       "0          Arbre         ESP151     Arbre de voirie      ESP453  ...      NaN   \n",
       "1          Arbre         ESP151     Arbre de voirie     ESP1075  ...      NaN   \n",
       "2          Arbre         ESP151     Arbre de voirie     ESP1075  ...      NaN   \n",
       "3          Arbre         ESP151     Arbre de voirie     ESP1075  ...      NaN   \n",
       "4          Arbre         ESP151     Arbre de voirie     ESP1075  ...      NaN   \n",
       "\n",
       "   IDENTIFIANTPLU TYPEIMPLANTATIONPLU INTITULEPROTECTIONPLU ANNEEABATTAGE  \\\n",
       "0             NaN                 NaN                   NaN           NaN   \n",
       "1             NaN                 NaN                   NaN           NaN   \n",
       "2             NaN                 NaN                   NaN           NaN   \n",
       "3             NaN                 NaN                   NaN           NaN   \n",
       "4             NaN                 NaN                   NaN           NaN   \n",
       "\n",
       "  ESSOUCHEMENT DIAMETREARBRE  CAUSEABATTAGE              COLLECTIVITE  \\\n",
       "0          NaN           NaN            NaN  Grenoble Alpes Métropole   \n",
       "1          NaN           NaN            NaN  Grenoble Alpes Métropole   \n",
       "2          NaN           NaN            NaN  Grenoble Alpes Métropole   \n",
       "3          NaN           NaN            NaN  Grenoble Alpes Métropole   \n",
       "4          NaN           NaN            NaN  Grenoble Alpes Métropole   \n",
       "\n",
       "                                             GeoJSON  \n",
       "0  {\"type\":\"Point\",\"coordinates\":[5.7209090239891...  \n",
       "1  {\"type\":\"Point\",\"coordinates\":[5.7048112482231...  \n",
       "2  {\"type\":\"Point\",\"coordinates\":[5.704875754357,...  \n",
       "3  {\"type\":\"Point\",\"coordinates\":[5.7049488370901...  \n",
       "4  {\"type\":\"Point\",\"coordinates\":[5.7050118332264...  \n",
       "\n",
       "[5 rows x 32 columns]"
      ]
     },
     "execution_count": 5,
     "metadata": {},
     "output_type": "execute_result"
    }
   ],
   "source": [
    "df.head()"
   ]
  },
  {
   "cell_type": "markdown",
   "id": "0ec8c668",
   "metadata": {},
   "source": [
    "### Infos"
   ]
  },
  {
   "cell_type": "code",
   "execution_count": 6,
   "id": "4f72607b",
   "metadata": {},
   "outputs": [
    {
     "data": {
      "text/plain": [
       "(31618, 32)"
      ]
     },
     "execution_count": 6,
     "metadata": {},
     "output_type": "execute_result"
    }
   ],
   "source": [
    "df.shape"
   ]
  },
  {
   "cell_type": "code",
   "execution_count": 7,
   "id": "b54224f6",
   "metadata": {},
   "outputs": [
    {
     "name": "stdout",
     "output_type": "stream",
     "text": [
      "<class 'pandas.core.frame.DataFrame'>\n",
      "RangeIndex: 31618 entries, 0 to 31617\n",
      "Data columns (total 32 columns):\n",
      " #   Column                 Non-Null Count  Dtype  \n",
      "---  ------                 --------------  -----  \n",
      " 0   ELEM_POINT_ID          31618 non-null  int64  \n",
      " 1   CODE                   31618 non-null  object \n",
      " 2   NOM                    31618 non-null  object \n",
      " 3   GENRE                  31618 non-null  object \n",
      " 4   GENRE_DESC             31618 non-null  object \n",
      " 5   CATEGORIE              31618 non-null  object \n",
      " 6   CATEGORIE_DESC         31618 non-null  object \n",
      " 7   SOUS_CATEGORIE         31618 non-null  object \n",
      " 8   SOUS_CATEGORIE_DESC    31618 non-null  object \n",
      " 9   CODE_PARENT            31618 non-null  object \n",
      " 10  CODE_PARENT_DESC       31618 non-null  object \n",
      " 11  ADR_SECTEUR            31618 non-null  int64  \n",
      " 12  BIEN_REFERENCE         31618 non-null  object \n",
      " 13  GENRE_BOTA             30685 non-null  object \n",
      " 14  ESPECE                 29084 non-null  object \n",
      " 15  VARIETE                4480 non-null   object \n",
      " 16  STADEDEDEVELOPPEMENT   28668 non-null  object \n",
      " 17  EQUIPE                 0 non-null      float64\n",
      " 18  REMARQUES              5356 non-null   object \n",
      " 19  ANNEEDEPLANTATION      30180 non-null  float64\n",
      " 20  RAISONDEPLANTATION     2912 non-null   object \n",
      " 21  TRAITEMENTCHENILLES    2151 non-null   object \n",
      " 22  COURRIER               0 non-null      float64\n",
      " 23  IDENTIFIANTPLU         601 non-null    float64\n",
      " 24  TYPEIMPLANTATIONPLU    601 non-null    object \n",
      " 25  INTITULEPROTECTIONPLU  601 non-null    object \n",
      " 26  ANNEEABATTAGE          0 non-null      float64\n",
      " 27  ESSOUCHEMENT           0 non-null      float64\n",
      " 28  DIAMETREARBRE          0 non-null      float64\n",
      " 29  CAUSEABATTAGE          0 non-null      float64\n",
      " 30  COLLECTIVITE           31187 non-null  object \n",
      " 31  GeoJSON                31618 non-null  object \n",
      "dtypes: float64(8), int64(2), object(22)\n",
      "memory usage: 7.7+ MB\n"
     ]
    }
   ],
   "source": [
    "df.info()"
   ]
  },
  {
   "cell_type": "markdown",
   "id": "5c60173e",
   "metadata": {},
   "source": [
    "### Cleaning empty or almost empty"
   ]
  },
  {
   "cell_type": "raw",
   "id": "9fdfffbd",
   "metadata": {},
   "source": [
    "--> If more than 50% NULL value we suppress the column"
   ]
  },
  {
   "cell_type": "code",
   "execution_count": 8,
   "id": "b57a7973",
   "metadata": {},
   "outputs": [
    {
     "data": {
      "text/plain": [
       "15809.0"
      ]
     },
     "execution_count": 8,
     "metadata": {},
     "output_type": "execute_result"
    }
   ],
   "source": [
    "nullThreshold = len(df[\"ELEM_POINT_ID\"])*50/100\n",
    "nullThreshold"
   ]
  },
  {
   "cell_type": "code",
   "execution_count": 9,
   "id": "62732020",
   "metadata": {},
   "outputs": [
    {
     "data": {
      "text/plain": [
       "31618"
      ]
     },
     "execution_count": 9,
     "metadata": {},
     "output_type": "execute_result"
    }
   ],
   "source": [
    "df[\"ELEM_POINT_ID\"].count()"
   ]
  },
  {
   "cell_type": "markdown",
   "id": "87fd276a",
   "metadata": {},
   "source": [
    "#### Utils"
   ]
  },
  {
   "cell_type": "code",
   "execution_count": 10,
   "id": "9aae7518",
   "metadata": {},
   "outputs": [],
   "source": [
    "def is_suppressed(df, colName):\n",
    "    nullNum = df[colName].count()\n",
    "    if nullNum > nullThreshold:\n",
    "        answer =  False\n",
    "    else:\n",
    "        answer =  True\n",
    "    return answer"
   ]
  },
  {
   "cell_type": "code",
   "execution_count": 11,
   "id": "4ea7b78f",
   "metadata": {},
   "outputs": [],
   "source": [
    "def has_more_than_one(df,col):\n",
    "    value = df[col].nunique()\n",
    "    if value > 1:\n",
    "        return True\n",
    "    else:\n",
    "        return False"
   ]
  },
  {
   "cell_type": "code",
   "execution_count": 12,
   "id": "1217c0c6",
   "metadata": {},
   "outputs": [],
   "source": [
    "def drop_column_threshold(df):\n",
    "    colSuppressed = []\n",
    "    dff = df.copy()\n",
    "    for col in df.columns:\n",
    "        if is_suppressed(df, col):\n",
    "            dff.drop(columns=col, inplace=True)\n",
    "            colSuppressed.append(col)\n",
    "            print(f\"col suppressed : {col}\")\n",
    "            \n",
    "    return dff, colSuppressed"
   ]
  },
  {
   "cell_type": "code",
   "execution_count": 13,
   "id": "dcf3b587",
   "metadata": {},
   "outputs": [],
   "source": [
    "def clean_unique_value(df):\n",
    "    dff = df.copy()\n",
    "    colSuppressed = []\n",
    "    for col in df.columns:\n",
    "        if not has_more_than_one(df,col):\n",
    "            dff.drop(columns=col, inplace=True)\n",
    "            colSuppressed.append(col)\n",
    "            print(f\"col suppressed : {col}\")\n",
    "    return dff, colSuppressed"
   ]
  },
  {
   "cell_type": "code",
   "execution_count": 14,
   "id": "c14c4953",
   "metadata": {},
   "outputs": [],
   "source": [
    "def has_only_different_value(df,col):\n",
    "    if len(df[col]) == len(df[col].value_counts()):\n",
    "        return True\n",
    "    else:\n",
    "        return False"
   ]
  },
  {
   "cell_type": "code",
   "execution_count": 15,
   "id": "6b44bedc",
   "metadata": {},
   "outputs": [],
   "source": [
    "def clean_only_diff_value(df):\n",
    "    dff = df.copy()\n",
    "    colSuppressed = []\n",
    "    for col in dff.columns:\n",
    "        if has_only_different_value(dff,col) and col != \"GeoJSON\":\n",
    "            dff.drop(columns=col, inplace=True)\n",
    "            colSuppressed.append(col)\n",
    "            print(f\"col suppressed : {col}\")\n",
    "            \n",
    "    return dff, colSuppressed      "
   ]
  },
  {
   "cell_type": "markdown",
   "id": "3d2769b7",
   "metadata": {},
   "source": [
    "#### Cleaning"
   ]
  },
  {
   "cell_type": "code",
   "execution_count": 16,
   "id": "dcbc99f4",
   "metadata": {},
   "outputs": [],
   "source": [
    "df_clean = df.copy()"
   ]
  },
  {
   "cell_type": "code",
   "execution_count": 17,
   "id": "edbd9876",
   "metadata": {
    "scrolled": true
   },
   "outputs": [
    {
     "name": "stdout",
     "output_type": "stream",
     "text": [
      "col suppressed : VARIETE\n",
      "col suppressed : EQUIPE\n",
      "col suppressed : REMARQUES\n",
      "col suppressed : RAISONDEPLANTATION\n",
      "col suppressed : TRAITEMENTCHENILLES\n",
      "col suppressed : COURRIER\n",
      "col suppressed : IDENTIFIANTPLU\n",
      "col suppressed : TYPEIMPLANTATIONPLU\n",
      "col suppressed : INTITULEPROTECTIONPLU\n",
      "col suppressed : ANNEEABATTAGE\n",
      "col suppressed : ESSOUCHEMENT\n",
      "col suppressed : DIAMETREARBRE\n",
      "col suppressed : CAUSEABATTAGE\n",
      "-------------------------------------------------\n",
      "Columns suppressed => 13\n",
      "\n"
     ]
    }
   ],
   "source": [
    "df_clean, colSuppressed = drop_column_threshold(df)\n",
    "print(\"-------------------------------------------------\")\n",
    "print(f\"Columns suppressed => {len(colSuppressed)}\")\n",
    "print(\"\")"
   ]
  },
  {
   "cell_type": "code",
   "execution_count": 18,
   "id": "e9e01067",
   "metadata": {},
   "outputs": [
    {
     "name": "stdout",
     "output_type": "stream",
     "text": [
      "col suppressed : GENRE\n",
      "col suppressed : GENRE_DESC\n",
      "col suppressed : CATEGORIE\n",
      "col suppressed : CATEGORIE_DESC\n",
      "-------------------------------------------------\n",
      "Columns suppressed => 4\n",
      "\n"
     ]
    }
   ],
   "source": [
    "df_clean, colSuppressed = clean_unique_value(df_clean)\n",
    "print(\"-------------------------------------------------\")\n",
    "print(f\"Columns suppressed => {len(colSuppressed)}\")\n",
    "print(\"\")"
   ]
  },
  {
   "cell_type": "code",
   "execution_count": 19,
   "id": "7d58e9b9",
   "metadata": {},
   "outputs": [
    {
     "name": "stdout",
     "output_type": "stream",
     "text": [
      "col suppressed : ELEM_POINT_ID\n",
      "col suppressed : CODE\n",
      "col suppressed : NOM\n",
      "col suppressed : BIEN_REFERENCE\n",
      "-------------------------------------------------\n",
      "Columns suppressed => 4\n",
      "\n"
     ]
    }
   ],
   "source": [
    "df_clean, colSuppressed = clean_only_diff_value(df_clean)\n",
    "print(\"-------------------------------------------------\")\n",
    "print(f\"Columns suppressed => {len(colSuppressed)}\")\n",
    "print(\"\")"
   ]
  },
  {
   "cell_type": "code",
   "execution_count": 20,
   "id": "07edfd7b",
   "metadata": {},
   "outputs": [
    {
     "data": {
      "text/plain": [
       "Index(['SOUS_CATEGORIE', 'SOUS_CATEGORIE_DESC', 'CODE_PARENT',\n",
       "       'CODE_PARENT_DESC', 'ADR_SECTEUR', 'GENRE_BOTA', 'ESPECE',\n",
       "       'STADEDEDEVELOPPEMENT', 'ANNEEDEPLANTATION', 'COLLECTIVITE', 'GeoJSON'],\n",
       "      dtype='object')"
      ]
     },
     "execution_count": 20,
     "metadata": {},
     "output_type": "execute_result"
    }
   ],
   "source": [
    "df_clean.columns"
   ]
  },
  {
   "cell_type": "markdown",
   "id": "552262da",
   "metadata": {},
   "source": [
    "### Clean Tween columns"
   ]
  },
  {
   "cell_type": "code",
   "execution_count": 21,
   "id": "2c6522d6",
   "metadata": {},
   "outputs": [],
   "source": [
    "df_clean.drop(columns=\"SOUS_CATEGORIE\", inplace=True)\n",
    "df_clean.drop(columns=\"CODE_PARENT\", inplace=True)"
   ]
  },
  {
   "cell_type": "markdown",
   "id": "1d38575c",
   "metadata": {},
   "source": [
    "### Parse GeoJson"
   ]
  },
  {
   "cell_type": "code",
   "execution_count": 22,
   "id": "d04ea5f9",
   "metadata": {},
   "outputs": [],
   "source": [
    "def split_GeoJSON(df):\n",
    "    dff = df.copy()\n",
    "    dff['coordinates'] = dff['GeoJSON'].apply(lambda x: json.loads(x)['coordinates'])\n",
    "    dff['LATITUDE'] = dff['coordinates'].apply(lambda x: x[1])\n",
    "    dff['LONGITUDE'] = dff['coordinates'].apply(lambda x: x[0])\n",
    "    dff['SUM_COORDINATE'] = dff['LATITUDE'] + dff['LONGITUDE']\n",
    "    dff.drop(columns=\"GeoJSON\", inplace=True)\n",
    "    dff.drop(columns=\"coordinates\", inplace=True)\n",
    "    return dff"
   ]
  },
  {
   "cell_type": "code",
   "execution_count": 41,
   "id": "4651e60c",
   "metadata": {},
   "outputs": [
    {
     "ename": "KeyError",
     "evalue": "'GeoJSON'",
     "output_type": "error",
     "traceback": [
      "\u001b[0;31m---------------------------------------------------------------------------\u001b[0m",
      "\u001b[0;31mKeyError\u001b[0m                                  Traceback (most recent call last)",
      "\u001b[0;32m~/opt/anaconda3/lib/python3.9/site-packages/pandas/core/indexes/base.py\u001b[0m in \u001b[0;36mget_loc\u001b[0;34m(self, key, method, tolerance)\u001b[0m\n\u001b[1;32m   3360\u001b[0m             \u001b[0;32mtry\u001b[0m\u001b[0;34m:\u001b[0m\u001b[0;34m\u001b[0m\u001b[0;34m\u001b[0m\u001b[0m\n\u001b[0;32m-> 3361\u001b[0;31m                 \u001b[0;32mreturn\u001b[0m \u001b[0mself\u001b[0m\u001b[0;34m.\u001b[0m\u001b[0m_engine\u001b[0m\u001b[0;34m.\u001b[0m\u001b[0mget_loc\u001b[0m\u001b[0;34m(\u001b[0m\u001b[0mcasted_key\u001b[0m\u001b[0;34m)\u001b[0m\u001b[0;34m\u001b[0m\u001b[0;34m\u001b[0m\u001b[0m\n\u001b[0m\u001b[1;32m   3362\u001b[0m             \u001b[0;32mexcept\u001b[0m \u001b[0mKeyError\u001b[0m \u001b[0;32mas\u001b[0m \u001b[0merr\u001b[0m\u001b[0;34m:\u001b[0m\u001b[0;34m\u001b[0m\u001b[0;34m\u001b[0m\u001b[0m\n",
      "\u001b[0;32m~/opt/anaconda3/lib/python3.9/site-packages/pandas/_libs/index.pyx\u001b[0m in \u001b[0;36mpandas._libs.index.IndexEngine.get_loc\u001b[0;34m()\u001b[0m\n",
      "\u001b[0;32m~/opt/anaconda3/lib/python3.9/site-packages/pandas/_libs/index.pyx\u001b[0m in \u001b[0;36mpandas._libs.index.IndexEngine.get_loc\u001b[0;34m()\u001b[0m\n",
      "\u001b[0;32mpandas/_libs/hashtable_class_helper.pxi\u001b[0m in \u001b[0;36mpandas._libs.hashtable.PyObjectHashTable.get_item\u001b[0;34m()\u001b[0m\n",
      "\u001b[0;32mpandas/_libs/hashtable_class_helper.pxi\u001b[0m in \u001b[0;36mpandas._libs.hashtable.PyObjectHashTable.get_item\u001b[0;34m()\u001b[0m\n",
      "\u001b[0;31mKeyError\u001b[0m: 'GeoJSON'",
      "\nThe above exception was the direct cause of the following exception:\n",
      "\u001b[0;31mKeyError\u001b[0m                                  Traceback (most recent call last)",
      "\u001b[0;32m/var/folders/vs/63szyqqn4dq91nzk275599p40000gn/T/ipykernel_95168/628393106.py\u001b[0m in \u001b[0;36m<module>\u001b[0;34m\u001b[0m\n\u001b[0;32m----> 1\u001b[0;31m \u001b[0mdf_clean\u001b[0m \u001b[0;34m=\u001b[0m \u001b[0msplit_GeoJSON\u001b[0m\u001b[0;34m(\u001b[0m\u001b[0mdf_clean\u001b[0m\u001b[0;34m)\u001b[0m\u001b[0;34m\u001b[0m\u001b[0;34m\u001b[0m\u001b[0m\n\u001b[0m\u001b[1;32m      2\u001b[0m \u001b[0mdf_clean\u001b[0m\u001b[0;34m.\u001b[0m\u001b[0mto_pickle\u001b[0m\u001b[0;34m(\u001b[0m\u001b[0;34m'df.pickle'\u001b[0m\u001b[0;34m)\u001b[0m\u001b[0;34m\u001b[0m\u001b[0;34m\u001b[0m\u001b[0m\n",
      "\u001b[0;32m/var/folders/vs/63szyqqn4dq91nzk275599p40000gn/T/ipykernel_95168/4032827147.py\u001b[0m in \u001b[0;36msplit_GeoJSON\u001b[0;34m(df)\u001b[0m\n\u001b[1;32m      1\u001b[0m \u001b[0;32mdef\u001b[0m \u001b[0msplit_GeoJSON\u001b[0m\u001b[0;34m(\u001b[0m\u001b[0mdf\u001b[0m\u001b[0;34m)\u001b[0m\u001b[0;34m:\u001b[0m\u001b[0;34m\u001b[0m\u001b[0;34m\u001b[0m\u001b[0m\n\u001b[1;32m      2\u001b[0m     \u001b[0mdff\u001b[0m \u001b[0;34m=\u001b[0m \u001b[0mdf\u001b[0m\u001b[0;34m.\u001b[0m\u001b[0mcopy\u001b[0m\u001b[0;34m(\u001b[0m\u001b[0;34m)\u001b[0m\u001b[0;34m\u001b[0m\u001b[0;34m\u001b[0m\u001b[0m\n\u001b[0;32m----> 3\u001b[0;31m     \u001b[0mdff\u001b[0m\u001b[0;34m[\u001b[0m\u001b[0;34m'coordinates'\u001b[0m\u001b[0;34m]\u001b[0m \u001b[0;34m=\u001b[0m \u001b[0mdff\u001b[0m\u001b[0;34m[\u001b[0m\u001b[0;34m'GeoJSON'\u001b[0m\u001b[0;34m]\u001b[0m\u001b[0;34m.\u001b[0m\u001b[0mapply\u001b[0m\u001b[0;34m(\u001b[0m\u001b[0;32mlambda\u001b[0m \u001b[0mx\u001b[0m\u001b[0;34m:\u001b[0m \u001b[0mjson\u001b[0m\u001b[0;34m.\u001b[0m\u001b[0mloads\u001b[0m\u001b[0;34m(\u001b[0m\u001b[0mx\u001b[0m\u001b[0;34m)\u001b[0m\u001b[0;34m[\u001b[0m\u001b[0;34m'coordinates'\u001b[0m\u001b[0;34m]\u001b[0m\u001b[0;34m)\u001b[0m\u001b[0;34m\u001b[0m\u001b[0;34m\u001b[0m\u001b[0m\n\u001b[0m\u001b[1;32m      4\u001b[0m     \u001b[0mdff\u001b[0m\u001b[0;34m[\u001b[0m\u001b[0;34m'LATITUDE'\u001b[0m\u001b[0;34m]\u001b[0m \u001b[0;34m=\u001b[0m \u001b[0mdff\u001b[0m\u001b[0;34m[\u001b[0m\u001b[0;34m'coordinates'\u001b[0m\u001b[0;34m]\u001b[0m\u001b[0;34m.\u001b[0m\u001b[0mapply\u001b[0m\u001b[0;34m(\u001b[0m\u001b[0;32mlambda\u001b[0m \u001b[0mx\u001b[0m\u001b[0;34m:\u001b[0m \u001b[0mx\u001b[0m\u001b[0;34m[\u001b[0m\u001b[0;36m1\u001b[0m\u001b[0;34m]\u001b[0m\u001b[0;34m)\u001b[0m\u001b[0;34m\u001b[0m\u001b[0;34m\u001b[0m\u001b[0m\n\u001b[1;32m      5\u001b[0m     \u001b[0mdff\u001b[0m\u001b[0;34m[\u001b[0m\u001b[0;34m'LONGITUDE'\u001b[0m\u001b[0;34m]\u001b[0m \u001b[0;34m=\u001b[0m \u001b[0mdff\u001b[0m\u001b[0;34m[\u001b[0m\u001b[0;34m'coordinates'\u001b[0m\u001b[0;34m]\u001b[0m\u001b[0;34m.\u001b[0m\u001b[0mapply\u001b[0m\u001b[0;34m(\u001b[0m\u001b[0;32mlambda\u001b[0m \u001b[0mx\u001b[0m\u001b[0;34m:\u001b[0m \u001b[0mx\u001b[0m\u001b[0;34m[\u001b[0m\u001b[0;36m0\u001b[0m\u001b[0;34m]\u001b[0m\u001b[0;34m)\u001b[0m\u001b[0;34m\u001b[0m\u001b[0;34m\u001b[0m\u001b[0m\n",
      "\u001b[0;32m~/opt/anaconda3/lib/python3.9/site-packages/pandas/core/frame.py\u001b[0m in \u001b[0;36m__getitem__\u001b[0;34m(self, key)\u001b[0m\n\u001b[1;32m   3456\u001b[0m             \u001b[0;32mif\u001b[0m \u001b[0mself\u001b[0m\u001b[0;34m.\u001b[0m\u001b[0mcolumns\u001b[0m\u001b[0;34m.\u001b[0m\u001b[0mnlevels\u001b[0m \u001b[0;34m>\u001b[0m \u001b[0;36m1\u001b[0m\u001b[0;34m:\u001b[0m\u001b[0;34m\u001b[0m\u001b[0;34m\u001b[0m\u001b[0m\n\u001b[1;32m   3457\u001b[0m                 \u001b[0;32mreturn\u001b[0m \u001b[0mself\u001b[0m\u001b[0;34m.\u001b[0m\u001b[0m_getitem_multilevel\u001b[0m\u001b[0;34m(\u001b[0m\u001b[0mkey\u001b[0m\u001b[0;34m)\u001b[0m\u001b[0;34m\u001b[0m\u001b[0;34m\u001b[0m\u001b[0m\n\u001b[0;32m-> 3458\u001b[0;31m             \u001b[0mindexer\u001b[0m \u001b[0;34m=\u001b[0m \u001b[0mself\u001b[0m\u001b[0;34m.\u001b[0m\u001b[0mcolumns\u001b[0m\u001b[0;34m.\u001b[0m\u001b[0mget_loc\u001b[0m\u001b[0;34m(\u001b[0m\u001b[0mkey\u001b[0m\u001b[0;34m)\u001b[0m\u001b[0;34m\u001b[0m\u001b[0;34m\u001b[0m\u001b[0m\n\u001b[0m\u001b[1;32m   3459\u001b[0m             \u001b[0;32mif\u001b[0m \u001b[0mis_integer\u001b[0m\u001b[0;34m(\u001b[0m\u001b[0mindexer\u001b[0m\u001b[0;34m)\u001b[0m\u001b[0;34m:\u001b[0m\u001b[0;34m\u001b[0m\u001b[0;34m\u001b[0m\u001b[0m\n\u001b[1;32m   3460\u001b[0m                 \u001b[0mindexer\u001b[0m \u001b[0;34m=\u001b[0m \u001b[0;34m[\u001b[0m\u001b[0mindexer\u001b[0m\u001b[0;34m]\u001b[0m\u001b[0;34m\u001b[0m\u001b[0;34m\u001b[0m\u001b[0m\n",
      "\u001b[0;32m~/opt/anaconda3/lib/python3.9/site-packages/pandas/core/indexes/base.py\u001b[0m in \u001b[0;36mget_loc\u001b[0;34m(self, key, method, tolerance)\u001b[0m\n\u001b[1;32m   3361\u001b[0m                 \u001b[0;32mreturn\u001b[0m \u001b[0mself\u001b[0m\u001b[0;34m.\u001b[0m\u001b[0m_engine\u001b[0m\u001b[0;34m.\u001b[0m\u001b[0mget_loc\u001b[0m\u001b[0;34m(\u001b[0m\u001b[0mcasted_key\u001b[0m\u001b[0;34m)\u001b[0m\u001b[0;34m\u001b[0m\u001b[0;34m\u001b[0m\u001b[0m\n\u001b[1;32m   3362\u001b[0m             \u001b[0;32mexcept\u001b[0m \u001b[0mKeyError\u001b[0m \u001b[0;32mas\u001b[0m \u001b[0merr\u001b[0m\u001b[0;34m:\u001b[0m\u001b[0;34m\u001b[0m\u001b[0;34m\u001b[0m\u001b[0m\n\u001b[0;32m-> 3363\u001b[0;31m                 \u001b[0;32mraise\u001b[0m \u001b[0mKeyError\u001b[0m\u001b[0;34m(\u001b[0m\u001b[0mkey\u001b[0m\u001b[0;34m)\u001b[0m \u001b[0;32mfrom\u001b[0m \u001b[0merr\u001b[0m\u001b[0;34m\u001b[0m\u001b[0;34m\u001b[0m\u001b[0m\n\u001b[0m\u001b[1;32m   3364\u001b[0m \u001b[0;34m\u001b[0m\u001b[0m\n\u001b[1;32m   3365\u001b[0m         \u001b[0;32mif\u001b[0m \u001b[0mis_scalar\u001b[0m\u001b[0;34m(\u001b[0m\u001b[0mkey\u001b[0m\u001b[0;34m)\u001b[0m \u001b[0;32mand\u001b[0m \u001b[0misna\u001b[0m\u001b[0;34m(\u001b[0m\u001b[0mkey\u001b[0m\u001b[0;34m)\u001b[0m \u001b[0;32mand\u001b[0m \u001b[0;32mnot\u001b[0m \u001b[0mself\u001b[0m\u001b[0;34m.\u001b[0m\u001b[0mhasnans\u001b[0m\u001b[0;34m:\u001b[0m\u001b[0;34m\u001b[0m\u001b[0;34m\u001b[0m\u001b[0m\n",
      "\u001b[0;31mKeyError\u001b[0m: 'GeoJSON'"
     ]
    }
   ],
   "source": [
    "df_clean = split_GeoJSON(df_clean)\n",
    "df_clean.to_pickle('df.pickle')"
   ]
  },
  {
   "cell_type": "markdown",
   "id": "bc2323c3",
   "metadata": {},
   "source": [
    "----"
   ]
  },
  {
   "cell_type": "markdown",
   "id": "bb460227",
   "metadata": {},
   "source": [
    "# First Analysis"
   ]
  },
  {
   "cell_type": "markdown",
   "id": "d206e96d",
   "metadata": {},
   "source": [
    "#### Utils"
   ]
  },
  {
   "cell_type": "code",
   "execution_count": null,
   "id": "45ad3281",
   "metadata": {},
   "outputs": [],
   "source": []
  },
  {
   "cell_type": "code",
   "execution_count": 24,
   "id": "32bf1ef3",
   "metadata": {},
   "outputs": [
    {
     "data": {
      "text/html": [
       "<div>\n",
       "<style scoped>\n",
       "    .dataframe tbody tr th:only-of-type {\n",
       "        vertical-align: middle;\n",
       "    }\n",
       "\n",
       "    .dataframe tbody tr th {\n",
       "        vertical-align: top;\n",
       "    }\n",
       "\n",
       "    .dataframe thead th {\n",
       "        text-align: right;\n",
       "    }\n",
       "</style>\n",
       "<table border=\"1\" class=\"dataframe\">\n",
       "  <thead>\n",
       "    <tr style=\"text-align: right;\">\n",
       "      <th></th>\n",
       "      <th>SOUS_CATEGORIE_DESC</th>\n",
       "      <th>CODE_PARENT_DESC</th>\n",
       "      <th>ADR_SECTEUR</th>\n",
       "      <th>GENRE_BOTA</th>\n",
       "      <th>ESPECE</th>\n",
       "      <th>STADEDEDEVELOPPEMENT</th>\n",
       "      <th>ANNEEDEPLANTATION</th>\n",
       "      <th>COLLECTIVITE</th>\n",
       "      <th>LATITUDE</th>\n",
       "      <th>LONGITUDE</th>\n",
       "      <th>SUM_COORDINATE</th>\n",
       "    </tr>\n",
       "  </thead>\n",
       "  <tbody>\n",
       "    <tr>\n",
       "      <th>0</th>\n",
       "      <td>Arbre de voirie</td>\n",
       "      <td>R Andrieux PM Curie R François</td>\n",
       "      <td>6</td>\n",
       "      <td>NaN</td>\n",
       "      <td>NaN</td>\n",
       "      <td>NaN</td>\n",
       "      <td>NaN</td>\n",
       "      <td>Grenoble Alpes Métropole</td>\n",
       "      <td>45.162338</td>\n",
       "      <td>5.720909</td>\n",
       "      <td>50.883247</td>\n",
       "    </tr>\n",
       "    <tr>\n",
       "      <th>1</th>\n",
       "      <td>Arbre de voirie</td>\n",
       "      <td>Av Rh Danube Vallier E Claires</td>\n",
       "      <td>3</td>\n",
       "      <td>Platanus</td>\n",
       "      <td>hispanica</td>\n",
       "      <td>Arbre adulte</td>\n",
       "      <td>NaN</td>\n",
       "      <td>Grenoble Alpes Métropole</td>\n",
       "      <td>45.177938</td>\n",
       "      <td>5.704811</td>\n",
       "      <td>50.882749</td>\n",
       "    </tr>\n",
       "    <tr>\n",
       "      <th>2</th>\n",
       "      <td>Arbre de voirie</td>\n",
       "      <td>Av Rh Danube Vallier E Claires</td>\n",
       "      <td>3</td>\n",
       "      <td>Platanus</td>\n",
       "      <td>hispanica</td>\n",
       "      <td>Arbre adulte</td>\n",
       "      <td>NaN</td>\n",
       "      <td>Grenoble Alpes Métropole</td>\n",
       "      <td>45.177932</td>\n",
       "      <td>5.704876</td>\n",
       "      <td>50.882808</td>\n",
       "    </tr>\n",
       "    <tr>\n",
       "      <th>3</th>\n",
       "      <td>Arbre de voirie</td>\n",
       "      <td>Av Rh Danube Vallier E Claires</td>\n",
       "      <td>3</td>\n",
       "      <td>Platanus</td>\n",
       "      <td>hispanica</td>\n",
       "      <td>Arbre adulte</td>\n",
       "      <td>NaN</td>\n",
       "      <td>Grenoble Alpes Métropole</td>\n",
       "      <td>45.177936</td>\n",
       "      <td>5.704949</td>\n",
       "      <td>50.882885</td>\n",
       "    </tr>\n",
       "    <tr>\n",
       "      <th>4</th>\n",
       "      <td>Arbre de voirie</td>\n",
       "      <td>Av Rh Danube Vallier E Claires</td>\n",
       "      <td>3</td>\n",
       "      <td>Platanus</td>\n",
       "      <td>hispanica</td>\n",
       "      <td>Arbre adulte</td>\n",
       "      <td>NaN</td>\n",
       "      <td>Grenoble Alpes Métropole</td>\n",
       "      <td>45.177932</td>\n",
       "      <td>5.705012</td>\n",
       "      <td>50.882944</td>\n",
       "    </tr>\n",
       "  </tbody>\n",
       "</table>\n",
       "</div>"
      ],
      "text/plain": [
       "  SOUS_CATEGORIE_DESC                CODE_PARENT_DESC  ADR_SECTEUR GENRE_BOTA  \\\n",
       "0     Arbre de voirie  R Andrieux PM Curie R François            6        NaN   \n",
       "1     Arbre de voirie  Av Rh Danube Vallier E Claires            3   Platanus   \n",
       "2     Arbre de voirie  Av Rh Danube Vallier E Claires            3   Platanus   \n",
       "3     Arbre de voirie  Av Rh Danube Vallier E Claires            3   Platanus   \n",
       "4     Arbre de voirie  Av Rh Danube Vallier E Claires            3   Platanus   \n",
       "\n",
       "      ESPECE STADEDEDEVELOPPEMENT  ANNEEDEPLANTATION  \\\n",
       "0        NaN                  NaN                NaN   \n",
       "1  hispanica         Arbre adulte                NaN   \n",
       "2  hispanica         Arbre adulte                NaN   \n",
       "3  hispanica         Arbre adulte                NaN   \n",
       "4  hispanica         Arbre adulte                NaN   \n",
       "\n",
       "               COLLECTIVITE   LATITUDE  LONGITUDE  SUM_COORDINATE  \n",
       "0  Grenoble Alpes Métropole  45.162338   5.720909       50.883247  \n",
       "1  Grenoble Alpes Métropole  45.177938   5.704811       50.882749  \n",
       "2  Grenoble Alpes Métropole  45.177932   5.704876       50.882808  \n",
       "3  Grenoble Alpes Métropole  45.177936   5.704949       50.882885  \n",
       "4  Grenoble Alpes Métropole  45.177932   5.705012       50.882944  "
      ]
     },
     "execution_count": 24,
     "metadata": {},
     "output_type": "execute_result"
    }
   ],
   "source": [
    "df = df_clean.copy()\n",
    "df.head()"
   ]
  },
  {
   "cell_type": "code",
   "execution_count": 25,
   "id": "b8a719e7",
   "metadata": {},
   "outputs": [
    {
     "data": {
      "text/html": [
       "<div>\n",
       "<style scoped>\n",
       "    .dataframe tbody tr th:only-of-type {\n",
       "        vertical-align: middle;\n",
       "    }\n",
       "\n",
       "    .dataframe tbody tr th {\n",
       "        vertical-align: top;\n",
       "    }\n",
       "\n",
       "    .dataframe thead th {\n",
       "        text-align: right;\n",
       "    }\n",
       "</style>\n",
       "<table border=\"1\" class=\"dataframe\">\n",
       "  <thead>\n",
       "    <tr style=\"text-align: right;\">\n",
       "      <th></th>\n",
       "      <th>ADR_SECTEUR</th>\n",
       "      <th>ANNEEDEPLANTATION</th>\n",
       "      <th>LATITUDE</th>\n",
       "      <th>LONGITUDE</th>\n",
       "      <th>SUM_COORDINATE</th>\n",
       "    </tr>\n",
       "  </thead>\n",
       "  <tbody>\n",
       "    <tr>\n",
       "      <th>count</th>\n",
       "      <td>31618.000000</td>\n",
       "      <td>30180.000000</td>\n",
       "      <td>31618.000000</td>\n",
       "      <td>31618.000000</td>\n",
       "      <td>31618.000000</td>\n",
       "    </tr>\n",
       "    <tr>\n",
       "      <th>mean</th>\n",
       "      <td>3.840819</td>\n",
       "      <td>1989.384427</td>\n",
       "      <td>45.177209</td>\n",
       "      <td>5.727567</td>\n",
       "      <td>50.904776</td>\n",
       "    </tr>\n",
       "    <tr>\n",
       "      <th>std</th>\n",
       "      <td>1.713904</td>\n",
       "      <td>17.372641</td>\n",
       "      <td>0.012171</td>\n",
       "      <td>0.013106</td>\n",
       "      <td>0.017970</td>\n",
       "    </tr>\n",
       "    <tr>\n",
       "      <th>min</th>\n",
       "      <td>1.000000</td>\n",
       "      <td>1900.000000</td>\n",
       "      <td>45.151572</td>\n",
       "      <td>5.695056</td>\n",
       "      <td>50.863142</td>\n",
       "    </tr>\n",
       "    <tr>\n",
       "      <th>25%</th>\n",
       "      <td>2.000000</td>\n",
       "      <td>1975.000000</td>\n",
       "      <td>45.166124</td>\n",
       "      <td>5.717559</td>\n",
       "      <td>50.893027</td>\n",
       "    </tr>\n",
       "    <tr>\n",
       "      <th>50%</th>\n",
       "      <td>4.000000</td>\n",
       "      <td>1985.000000</td>\n",
       "      <td>45.175822</td>\n",
       "      <td>5.729705</td>\n",
       "      <td>50.904190</td>\n",
       "    </tr>\n",
       "    <tr>\n",
       "      <th>75%</th>\n",
       "      <td>5.000000</td>\n",
       "      <td>2004.000000</td>\n",
       "      <td>45.187410</td>\n",
       "      <td>5.737575</td>\n",
       "      <td>50.917289</td>\n",
       "    </tr>\n",
       "    <tr>\n",
       "      <th>max</th>\n",
       "      <td>6.000000</td>\n",
       "      <td>2021.000000</td>\n",
       "      <td>45.224825</td>\n",
       "      <td>5.798704</td>\n",
       "      <td>51.023187</td>\n",
       "    </tr>\n",
       "  </tbody>\n",
       "</table>\n",
       "</div>"
      ],
      "text/plain": [
       "        ADR_SECTEUR  ANNEEDEPLANTATION      LATITUDE     LONGITUDE  \\\n",
       "count  31618.000000       30180.000000  31618.000000  31618.000000   \n",
       "mean       3.840819        1989.384427     45.177209      5.727567   \n",
       "std        1.713904          17.372641      0.012171      0.013106   \n",
       "min        1.000000        1900.000000     45.151572      5.695056   \n",
       "25%        2.000000        1975.000000     45.166124      5.717559   \n",
       "50%        4.000000        1985.000000     45.175822      5.729705   \n",
       "75%        5.000000        2004.000000     45.187410      5.737575   \n",
       "max        6.000000        2021.000000     45.224825      5.798704   \n",
       "\n",
       "       SUM_COORDINATE  \n",
       "count    31618.000000  \n",
       "mean        50.904776  \n",
       "std          0.017970  \n",
       "min         50.863142  \n",
       "25%         50.893027  \n",
       "50%         50.904190  \n",
       "75%         50.917289  \n",
       "max         51.023187  "
      ]
     },
     "execution_count": 25,
     "metadata": {},
     "output_type": "execute_result"
    }
   ],
   "source": [
    "df.describe()"
   ]
  },
  {
   "cell_type": "code",
   "execution_count": 26,
   "id": "0ce58c2f",
   "metadata": {},
   "outputs": [],
   "source": [
    "year = df[\"ANNEEDEPLANTATION\"]"
   ]
  },
  {
   "cell_type": "markdown",
   "id": "65ddc1d5",
   "metadata": {},
   "source": [
    "### Missing values remaining"
   ]
  },
  {
   "cell_type": "code",
   "execution_count": 27,
   "id": "b726cedb",
   "metadata": {},
   "outputs": [
    {
     "data": {
      "text/plain": [
       "<AxesSubplot:>"
      ]
     },
     "execution_count": 27,
     "metadata": {},
     "output_type": "execute_result"
    },
    {
     "data": {
      "image/png": "[encoded data removed]",
      "text/plain": [
       "<Figure size 864x648 with 1 Axes>"
      ]
     },
     "metadata": {},
     "output_type": "display_data"
    }
   ],
   "source": [
    "fig, ax = plt.subplots(figsize=(12,9))\n",
    "fig.suptitle(\"Correlation matrix\", fontsize=15)\n",
    "sns.heatmap(df.isnull(), cbar=False)"
   ]
  },
  {
   "cell_type": "code",
   "execution_count": 28,
   "id": "d610457e",
   "metadata": {},
   "outputs": [
    {
     "data": {
      "text/plain": [
       "Text(0, 0.5, 'Number of NaN values')"
      ]
     },
     "execution_count": 28,
     "metadata": {},
     "output_type": "execute_result"
    },
    {
     "data": {
      "image/png": "[encoded data removed]",
      "text/plain": [
       "<Figure size 2016x648 with 1 Axes>"
      ]
     },
     "metadata": {},
     "output_type": "display_data"
    }
   ],
   "source": [
    "fig, ax = plt.subplots(figsize=(28,9))\n",
    "fig.suptitle(\"Remaining nan study\", fontsize=20)\n",
    "\n",
    "nan_counts = df.isna().sum()\n",
    "\n",
    "sns.barplot(x=nan_counts.index, y=nan_counts.values)\n",
    "\n",
    "plt.ylabel('Number of NaN values')"
   ]
  },
  {
   "cell_type": "code",
   "execution_count": 29,
   "id": "7957d8cc",
   "metadata": {},
   "outputs": [
    {
     "data": {
      "image/png": "[encoded data removed]",
      "text/plain": [
       "<Figure size 864x648 with 2 Axes>"
      ]
     },
     "metadata": {},
     "output_type": "display_data"
    }
   ],
   "source": [
    "fig, ax = plt.subplots(figsize=(12,9))\n",
    "fig.suptitle(\"Correlation matrix\", fontsize=15)\n",
    "\n",
    "ax = sns.heatmap(\n",
    "        df.corr(), \n",
    "        cmap=\"RdBu_r\", \n",
    "        vmin=-1, \n",
    "        vmax=1\n",
    "    )"
   ]
  },
  {
   "cell_type": "markdown",
   "id": "161d7cb1",
   "metadata": {},
   "source": [
    "### Individual Numerical study"
   ]
  },
  {
   "cell_type": "code",
   "execution_count": 30,
   "id": "7e2e0ed8",
   "metadata": {},
   "outputs": [
    {
     "data": {
      "text/html": [
       "<div>\n",
       "<style scoped>\n",
       "    .dataframe tbody tr th:only-of-type {\n",
       "        vertical-align: middle;\n",
       "    }\n",
       "\n",
       "    .dataframe tbody tr th {\n",
       "        vertical-align: top;\n",
       "    }\n",
       "\n",
       "    .dataframe thead th {\n",
       "        text-align: right;\n",
       "    }\n",
       "</style>\n",
       "<table border=\"1\" class=\"dataframe\">\n",
       "  <thead>\n",
       "    <tr style=\"text-align: right;\">\n",
       "      <th></th>\n",
       "      <th>ADR_SECTEUR</th>\n",
       "      <th>ANNEEDEPLANTATION</th>\n",
       "      <th>LATITUDE</th>\n",
       "      <th>LONGITUDE</th>\n",
       "      <th>SUM_COORDINATE</th>\n",
       "    </tr>\n",
       "  </thead>\n",
       "  <tbody>\n",
       "    <tr>\n",
       "      <th>count</th>\n",
       "      <td>31618.000000</td>\n",
       "      <td>30180.000000</td>\n",
       "      <td>31618.000000</td>\n",
       "      <td>31618.000000</td>\n",
       "      <td>31618.000000</td>\n",
       "    </tr>\n",
       "    <tr>\n",
       "      <th>mean</th>\n",
       "      <td>3.840819</td>\n",
       "      <td>1989.384427</td>\n",
       "      <td>45.177209</td>\n",
       "      <td>5.727567</td>\n",
       "      <td>50.904776</td>\n",
       "    </tr>\n",
       "    <tr>\n",
       "      <th>std</th>\n",
       "      <td>1.713904</td>\n",
       "      <td>17.372641</td>\n",
       "      <td>0.012171</td>\n",
       "      <td>0.013106</td>\n",
       "      <td>0.017970</td>\n",
       "    </tr>\n",
       "    <tr>\n",
       "      <th>min</th>\n",
       "      <td>1.000000</td>\n",
       "      <td>1900.000000</td>\n",
       "      <td>45.151572</td>\n",
       "      <td>5.695056</td>\n",
       "      <td>50.863142</td>\n",
       "    </tr>\n",
       "    <tr>\n",
       "      <th>25%</th>\n",
       "      <td>2.000000</td>\n",
       "      <td>1975.000000</td>\n",
       "      <td>45.166124</td>\n",
       "      <td>5.717559</td>\n",
       "      <td>50.893027</td>\n",
       "    </tr>\n",
       "    <tr>\n",
       "      <th>50%</th>\n",
       "      <td>4.000000</td>\n",
       "      <td>1985.000000</td>\n",
       "      <td>45.175822</td>\n",
       "      <td>5.729705</td>\n",
       "      <td>50.904190</td>\n",
       "    </tr>\n",
       "    <tr>\n",
       "      <th>75%</th>\n",
       "      <td>5.000000</td>\n",
       "      <td>2004.000000</td>\n",
       "      <td>45.187410</td>\n",
       "      <td>5.737575</td>\n",
       "      <td>50.917289</td>\n",
       "    </tr>\n",
       "    <tr>\n",
       "      <th>max</th>\n",
       "      <td>6.000000</td>\n",
       "      <td>2021.000000</td>\n",
       "      <td>45.224825</td>\n",
       "      <td>5.798704</td>\n",
       "      <td>51.023187</td>\n",
       "    </tr>\n",
       "  </tbody>\n",
       "</table>\n",
       "</div>"
      ],
      "text/plain": [
       "        ADR_SECTEUR  ANNEEDEPLANTATION      LATITUDE     LONGITUDE  \\\n",
       "count  31618.000000       30180.000000  31618.000000  31618.000000   \n",
       "mean       3.840819        1989.384427     45.177209      5.727567   \n",
       "std        1.713904          17.372641      0.012171      0.013106   \n",
       "min        1.000000        1900.000000     45.151572      5.695056   \n",
       "25%        2.000000        1975.000000     45.166124      5.717559   \n",
       "50%        4.000000        1985.000000     45.175822      5.729705   \n",
       "75%        5.000000        2004.000000     45.187410      5.737575   \n",
       "max        6.000000        2021.000000     45.224825      5.798704   \n",
       "\n",
       "       SUM_COORDINATE  \n",
       "count    31618.000000  \n",
       "mean        50.904776  \n",
       "std          0.017970  \n",
       "min         50.863142  \n",
       "25%         50.893027  \n",
       "50%         50.904190  \n",
       "75%         50.917289  \n",
       "max         51.023187  "
      ]
     },
     "execution_count": 30,
     "metadata": {},
     "output_type": "execute_result"
    }
   ],
   "source": [
    "df.describe()"
   ]
  },
  {
   "cell_type": "code",
   "execution_count": 31,
   "id": "f4881c1d",
   "metadata": {},
   "outputs": [
    {
     "data": {
      "text/plain": [
       "SOUS_CATEGORIE_DESC      object\n",
       "CODE_PARENT_DESC         object\n",
       "ADR_SECTEUR               int64\n",
       "GENRE_BOTA               object\n",
       "ESPECE                   object\n",
       "STADEDEDEVELOPPEMENT     object\n",
       "ANNEEDEPLANTATION       float64\n",
       "COLLECTIVITE             object\n",
       "LATITUDE                float64\n",
       "LONGITUDE               float64\n",
       "SUM_COORDINATE          float64\n",
       "dtype: object"
      ]
     },
     "execution_count": 31,
     "metadata": {},
     "output_type": "execute_result"
    }
   ],
   "source": [
    "df.dtypes"
   ]
  },
  {
   "cell_type": "code",
   "execution_count": 32,
   "id": "4c62f7a0",
   "metadata": {
    "scrolled": false
   },
   "outputs": [
    {
     "data": {
      "text/plain": [
       "<AxesSubplot:xlabel='ADR_SECTEUR', ylabel='Count'>"
      ]
     },
     "execution_count": 32,
     "metadata": {},
     "output_type": "execute_result"
    },
    {
     "data": {
      "image/png": "[encoded data removed]",
      "text/plain": [
       "<Figure size 864x648 with 1 Axes>"
      ]
     },
     "metadata": {},
     "output_type": "display_data"
    }
   ],
   "source": [
    "fig, ax = plt.subplots(figsize=(12,9))\n",
    "fig.suptitle(f\"ADR_secteur Study\", fontsize=15)\n",
    "sns.histplot(data=df, x='ADR_SECTEUR', binwidth=1, color=colors[1])"
   ]
  },
  {
   "cell_type": "code",
   "execution_count": 33,
   "id": "fb7a1c42",
   "metadata": {},
   "outputs": [
    {
     "data": {
      "text/plain": [
       "<AxesSubplot:xlabel='ANNEEDEPLANTATION', ylabel='Count'>"
      ]
     },
     "execution_count": 33,
     "metadata": {},
     "output_type": "execute_result"
    },
    {
     "data": {
      "image/png": "[encoded data removed]",
      "text/plain": [
       "<Figure size 864x648 with 1 Axes>"
      ]
     },
     "metadata": {},
     "output_type": "display_data"
    }
   ],
   "source": [
    "fig, ax = plt.subplots(figsize=(12,9))\n",
    "fig.suptitle(f\"Annee de plantation Study\", fontsize=15)\n",
    "sns.histplot(data=df, x='ANNEEDEPLANTATION', binwidth=1, color=colors[2])"
   ]
  },
  {
   "cell_type": "code",
   "execution_count": 40,
   "id": "59f0dcd4",
   "metadata": {},
   "outputs": [
    {
     "data": {
      "text/plain": [
       "<AxesSubplot:xlabel='LATITUDE', ylabel='Count'>"
      ]
     },
     "execution_count": 40,
     "metadata": {},
     "output_type": "execute_result"
    },
    {
     "data": {
      "image/png": "[encoded data removed]",
      "text/plain": [
       "<Figure size 864x648 with 1 Axes>"
      ]
     },
     "metadata": {},
     "output_type": "display_data"
    }
   ],
   "source": [
    "fig, ax = plt.subplots(figsize=(12,9))\n",
    "fig.suptitle(f\"Latitude\", fontsize=15)\n",
    "sns.histplot(data=df, x='LATITUDE', binwidth=0.001, color=colors[3])"
   ]
  },
  {
   "cell_type": "code",
   "execution_count": 39,
   "id": "143b2bc4",
   "metadata": {},
   "outputs": [
    {
     "data": {
      "text/plain": [
       "<AxesSubplot:xlabel='LONGITUDE', ylabel='Count'>"
      ]
     },
     "execution_count": 39,
     "metadata": {},
     "output_type": "execute_result"
    },
    {
     "data": {
      "image/png": "[encoded data removed]",
      "text/plain": [
       "<Figure size 864x648 with 1 Axes>"
      ]
     },
     "metadata": {},
     "output_type": "display_data"
    }
   ],
   "source": [
    "fig, ax = plt.subplots(figsize=(12,9))\n",
    "fig.suptitle(f\"Longitude\", fontsize=15)\n",
    "sns.histplot(data=df, x='LONGITUDE', binwidth=0.001, color=colors[4])"
   ]
  },
  {
   "cell_type": "code",
   "execution_count": null,
   "id": "bef03df2",
   "metadata": {},
   "outputs": [],
   "source": []
  }
 ],
 "metadata": {
  "kernelspec": {
   "display_name": "Python 3 (ipykernel)",
   "language": "python",
   "name": "python3"
  },
  "language_info": {
   "codemirror_mode": {
    "name": "ipython",
    "version": 3
   },
   "file_extension": ".py",
   "mimetype": "text/x-python",
   "name": "python",
   "nbconvert_exporter": "python",
   "pygments_lexer": "ipython3",
   "version": "3.9.7"
  }
 },
 "nbformat": 4,
 "nbformat_minor": 5
}
