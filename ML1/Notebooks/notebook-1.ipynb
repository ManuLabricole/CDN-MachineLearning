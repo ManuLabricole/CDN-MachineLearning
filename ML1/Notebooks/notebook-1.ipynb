{
 "cells": [
  {
   "cell_type": "code",
   "execution_count": 169,
   "id": "ef84a586",
   "metadata": {},
   "outputs": [],
   "source": [
    "import pandas as pd\n",
    "import numpy as np\n",
    "import plotly as px\n",
    "import matplotlib.pyplot as plt\n",
    "from colorama import Fore, Back, Style\n",
    "import json\n",
    "import os\n",
    "import matplotlib.colors as mcolors"
   ]
  },
  {
   "cell_type": "markdown",
   "id": "d7f4f995",
   "metadata": {},
   "source": [
    "# Etape I --> Importer / Nettoyer"
   ]
  },
  {
   "cell_type": "markdown",
   "id": "57e23ed7",
   "metadata": {},
   "source": [
    "### Importation"
   ]
  },
  {
   "cell_type": "code",
   "execution_count": 170,
   "id": "c853e31e",
   "metadata": {},
   "outputs": [],
   "source": [
    "wd = os.getcwd()"
   ]
  },
  {
   "cell_type": "code",
   "execution_count": 222,
   "id": "ef00743c",
   "metadata": {},
   "outputs": [],
   "source": [
    "file_path = '../data/original/ESP_PUBLIC.IDENTITE_ARBRE.csv'\n",
    "df = pd.read_csv(file_path, sep=',', header = 0, index_col=False)"
   ]
  },
  {
   "cell_type": "code",
   "execution_count": 223,
   "id": "c4925a3c",
   "metadata": {},
   "outputs": [
    {
     "data": {
      "text/html": [
       "<div>\n",
       "<style scoped>\n",
       "    .dataframe tbody tr th:only-of-type {\n",
       "        vertical-align: middle;\n",
       "    }\n",
       "\n",
       "    .dataframe tbody tr th {\n",
       "        vertical-align: top;\n",
       "    }\n",
       "\n",
       "    .dataframe thead th {\n",
       "        text-align: right;\n",
       "    }\n",
       "</style>\n",
       "<table border=\"1\" class=\"dataframe\">\n",
       "  <thead>\n",
       "    <tr style=\"text-align: right;\">\n",
       "      <th></th>\n",
       "      <th>ELEM_POINT_ID</th>\n",
       "      <th>CODE</th>\n",
       "      <th>NOM</th>\n",
       "      <th>GENRE</th>\n",
       "      <th>GENRE_DESC</th>\n",
       "      <th>CATEGORIE</th>\n",
       "      <th>CATEGORIE_DESC</th>\n",
       "      <th>SOUS_CATEGORIE</th>\n",
       "      <th>SOUS_CATEGORIE_DESC</th>\n",
       "      <th>CODE_PARENT</th>\n",
       "      <th>...</th>\n",
       "      <th>COURRIER</th>\n",
       "      <th>IDENTIFIANTPLU</th>\n",
       "      <th>TYPEIMPLANTATIONPLU</th>\n",
       "      <th>INTITULEPROTECTIONPLU</th>\n",
       "      <th>ANNEEABATTAGE</th>\n",
       "      <th>ESSOUCHEMENT</th>\n",
       "      <th>DIAMETREARBRE</th>\n",
       "      <th>CAUSEABATTAGE</th>\n",
       "      <th>COLLECTIVITE</th>\n",
       "      <th>GeoJSON</th>\n",
       "    </tr>\n",
       "  </thead>\n",
       "  <tbody>\n",
       "    <tr>\n",
       "      <th>0</th>\n",
       "      <td>43866</td>\n",
       "      <td>ESP40237</td>\n",
       "      <td>ESP40237</td>\n",
       "      <td>VEG</td>\n",
       "      <td>VEGETATION</td>\n",
       "      <td>ESP01</td>\n",
       "      <td>Arbre</td>\n",
       "      <td>ESP151</td>\n",
       "      <td>Arbre de voirie</td>\n",
       "      <td>ESP453</td>\n",
       "      <td>...</td>\n",
       "      <td>NaN</td>\n",
       "      <td>NaN</td>\n",
       "      <td>NaN</td>\n",
       "      <td>NaN</td>\n",
       "      <td>NaN</td>\n",
       "      <td>NaN</td>\n",
       "      <td>NaN</td>\n",
       "      <td>NaN</td>\n",
       "      <td>Grenoble Alpes Métropole</td>\n",
       "      <td>{\"type\":\"Point\",\"coordinates\":[5.7209090239891...</td>\n",
       "    </tr>\n",
       "    <tr>\n",
       "      <th>1</th>\n",
       "      <td>38181</td>\n",
       "      <td>ESP38129</td>\n",
       "      <td>ESP38129</td>\n",
       "      <td>VEG</td>\n",
       "      <td>VEGETATION</td>\n",
       "      <td>ESP01</td>\n",
       "      <td>Arbre</td>\n",
       "      <td>ESP151</td>\n",
       "      <td>Arbre de voirie</td>\n",
       "      <td>ESP1075</td>\n",
       "      <td>...</td>\n",
       "      <td>NaN</td>\n",
       "      <td>NaN</td>\n",
       "      <td>NaN</td>\n",
       "      <td>NaN</td>\n",
       "      <td>NaN</td>\n",
       "      <td>NaN</td>\n",
       "      <td>NaN</td>\n",
       "      <td>NaN</td>\n",
       "      <td>Grenoble Alpes Métropole</td>\n",
       "      <td>{\"type\":\"Point\",\"coordinates\":[5.7048112482231...</td>\n",
       "    </tr>\n",
       "    <tr>\n",
       "      <th>2</th>\n",
       "      <td>38182</td>\n",
       "      <td>ESP38130</td>\n",
       "      <td>ESP38130</td>\n",
       "      <td>VEG</td>\n",
       "      <td>VEGETATION</td>\n",
       "      <td>ESP01</td>\n",
       "      <td>Arbre</td>\n",
       "      <td>ESP151</td>\n",
       "      <td>Arbre de voirie</td>\n",
       "      <td>ESP1075</td>\n",
       "      <td>...</td>\n",
       "      <td>NaN</td>\n",
       "      <td>NaN</td>\n",
       "      <td>NaN</td>\n",
       "      <td>NaN</td>\n",
       "      <td>NaN</td>\n",
       "      <td>NaN</td>\n",
       "      <td>NaN</td>\n",
       "      <td>NaN</td>\n",
       "      <td>Grenoble Alpes Métropole</td>\n",
       "      <td>{\"type\":\"Point\",\"coordinates\":[5.704875754357,...</td>\n",
       "    </tr>\n",
       "    <tr>\n",
       "      <th>3</th>\n",
       "      <td>38183</td>\n",
       "      <td>ESP38131</td>\n",
       "      <td>ESP38131</td>\n",
       "      <td>VEG</td>\n",
       "      <td>VEGETATION</td>\n",
       "      <td>ESP01</td>\n",
       "      <td>Arbre</td>\n",
       "      <td>ESP151</td>\n",
       "      <td>Arbre de voirie</td>\n",
       "      <td>ESP1075</td>\n",
       "      <td>...</td>\n",
       "      <td>NaN</td>\n",
       "      <td>NaN</td>\n",
       "      <td>NaN</td>\n",
       "      <td>NaN</td>\n",
       "      <td>NaN</td>\n",
       "      <td>NaN</td>\n",
       "      <td>NaN</td>\n",
       "      <td>NaN</td>\n",
       "      <td>Grenoble Alpes Métropole</td>\n",
       "      <td>{\"type\":\"Point\",\"coordinates\":[5.7049488370901...</td>\n",
       "    </tr>\n",
       "    <tr>\n",
       "      <th>4</th>\n",
       "      <td>38184</td>\n",
       "      <td>ESP38132</td>\n",
       "      <td>ESP38132</td>\n",
       "      <td>VEG</td>\n",
       "      <td>VEGETATION</td>\n",
       "      <td>ESP01</td>\n",
       "      <td>Arbre</td>\n",
       "      <td>ESP151</td>\n",
       "      <td>Arbre de voirie</td>\n",
       "      <td>ESP1075</td>\n",
       "      <td>...</td>\n",
       "      <td>NaN</td>\n",
       "      <td>NaN</td>\n",
       "      <td>NaN</td>\n",
       "      <td>NaN</td>\n",
       "      <td>NaN</td>\n",
       "      <td>NaN</td>\n",
       "      <td>NaN</td>\n",
       "      <td>NaN</td>\n",
       "      <td>Grenoble Alpes Métropole</td>\n",
       "      <td>{\"type\":\"Point\",\"coordinates\":[5.7050118332264...</td>\n",
       "    </tr>\n",
       "  </tbody>\n",
       "</table>\n",
       "<p>5 rows × 32 columns</p>\n",
       "</div>"
      ],
      "text/plain": [
       "   ELEM_POINT_ID      CODE       NOM GENRE  GENRE_DESC CATEGORIE  \\\n",
       "0          43866  ESP40237  ESP40237   VEG  VEGETATION     ESP01   \n",
       "1          38181  ESP38129  ESP38129   VEG  VEGETATION     ESP01   \n",
       "2          38182  ESP38130  ESP38130   VEG  VEGETATION     ESP01   \n",
       "3          38183  ESP38131  ESP38131   VEG  VEGETATION     ESP01   \n",
       "4          38184  ESP38132  ESP38132   VEG  VEGETATION     ESP01   \n",
       "\n",
       "  CATEGORIE_DESC SOUS_CATEGORIE SOUS_CATEGORIE_DESC CODE_PARENT  ... COURRIER  \\\n",
       "0          Arbre         ESP151     Arbre de voirie      ESP453  ...      NaN   \n",
       "1          Arbre         ESP151     Arbre de voirie     ESP1075  ...      NaN   \n",
       "2          Arbre         ESP151     Arbre de voirie     ESP1075  ...      NaN   \n",
       "3          Arbre         ESP151     Arbre de voirie     ESP1075  ...      NaN   \n",
       "4          Arbre         ESP151     Arbre de voirie     ESP1075  ...      NaN   \n",
       "\n",
       "   IDENTIFIANTPLU TYPEIMPLANTATIONPLU INTITULEPROTECTIONPLU ANNEEABATTAGE  \\\n",
       "0             NaN                 NaN                   NaN           NaN   \n",
       "1             NaN                 NaN                   NaN           NaN   \n",
       "2             NaN                 NaN                   NaN           NaN   \n",
       "3             NaN                 NaN                   NaN           NaN   \n",
       "4             NaN                 NaN                   NaN           NaN   \n",
       "\n",
       "  ESSOUCHEMENT DIAMETREARBRE  CAUSEABATTAGE              COLLECTIVITE  \\\n",
       "0          NaN           NaN            NaN  Grenoble Alpes Métropole   \n",
       "1          NaN           NaN            NaN  Grenoble Alpes Métropole   \n",
       "2          NaN           NaN            NaN  Grenoble Alpes Métropole   \n",
       "3          NaN           NaN            NaN  Grenoble Alpes Métropole   \n",
       "4          NaN           NaN            NaN  Grenoble Alpes Métropole   \n",
       "\n",
       "                                             GeoJSON  \n",
       "0  {\"type\":\"Point\",\"coordinates\":[5.7209090239891...  \n",
       "1  {\"type\":\"Point\",\"coordinates\":[5.7048112482231...  \n",
       "2  {\"type\":\"Point\",\"coordinates\":[5.704875754357,...  \n",
       "3  {\"type\":\"Point\",\"coordinates\":[5.7049488370901...  \n",
       "4  {\"type\":\"Point\",\"coordinates\":[5.7050118332264...  \n",
       "\n",
       "[5 rows x 32 columns]"
      ]
     },
     "execution_count": 223,
     "metadata": {},
     "output_type": "execute_result"
    }
   ],
   "source": [
    "df.head()"
   ]
  },
  {
   "cell_type": "markdown",
   "id": "44764815",
   "metadata": {},
   "source": [
    "### Infos"
   ]
  },
  {
   "cell_type": "code",
   "execution_count": 224,
   "id": "0f55e45c",
   "metadata": {},
   "outputs": [
    {
     "data": {
      "text/plain": [
       "(31618, 32)"
      ]
     },
     "execution_count": 224,
     "metadata": {},
     "output_type": "execute_result"
    }
   ],
   "source": [
    "df.shape"
   ]
  },
  {
   "cell_type": "code",
   "execution_count": 225,
   "id": "14c23d6b",
   "metadata": {},
   "outputs": [
    {
     "name": "stdout",
     "output_type": "stream",
     "text": [
      "<class 'pandas.core.frame.DataFrame'>\n",
      "RangeIndex: 31618 entries, 0 to 31617\n",
      "Data columns (total 32 columns):\n",
      " #   Column                 Non-Null Count  Dtype  \n",
      "---  ------                 --------------  -----  \n",
      " 0   ELEM_POINT_ID          31618 non-null  int64  \n",
      " 1   CODE                   31618 non-null  object \n",
      " 2   NOM                    31618 non-null  object \n",
      " 3   GENRE                  31618 non-null  object \n",
      " 4   GENRE_DESC             31618 non-null  object \n",
      " 5   CATEGORIE              31618 non-null  object \n",
      " 6   CATEGORIE_DESC         31618 non-null  object \n",
      " 7   SOUS_CATEGORIE         31618 non-null  object \n",
      " 8   SOUS_CATEGORIE_DESC    31618 non-null  object \n",
      " 9   CODE_PARENT            31618 non-null  object \n",
      " 10  CODE_PARENT_DESC       31618 non-null  object \n",
      " 11  ADR_SECTEUR            31618 non-null  int64  \n",
      " 12  BIEN_REFERENCE         31618 non-null  object \n",
      " 13  GENRE_BOTA             30685 non-null  object \n",
      " 14  ESPECE                 29084 non-null  object \n",
      " 15  VARIETE                4480 non-null   object \n",
      " 16  STADEDEDEVELOPPEMENT   28668 non-null  object \n",
      " 17  EQUIPE                 0 non-null      float64\n",
      " 18  REMARQUES              5356 non-null   object \n",
      " 19  ANNEEDEPLANTATION      30180 non-null  float64\n",
      " 20  RAISONDEPLANTATION     2912 non-null   object \n",
      " 21  TRAITEMENTCHENILLES    2151 non-null   object \n",
      " 22  COURRIER               0 non-null      float64\n",
      " 23  IDENTIFIANTPLU         601 non-null    float64\n",
      " 24  TYPEIMPLANTATIONPLU    601 non-null    object \n",
      " 25  INTITULEPROTECTIONPLU  601 non-null    object \n",
      " 26  ANNEEABATTAGE          0 non-null      float64\n",
      " 27  ESSOUCHEMENT           0 non-null      float64\n",
      " 28  DIAMETREARBRE          0 non-null      float64\n",
      " 29  CAUSEABATTAGE          0 non-null      float64\n",
      " 30  COLLECTIVITE           31187 non-null  object \n",
      " 31  GeoJSON                31618 non-null  object \n",
      "dtypes: float64(8), int64(2), object(22)\n",
      "memory usage: 7.7+ MB\n"
     ]
    }
   ],
   "source": [
    "df.info()"
   ]
  },
  {
   "cell_type": "markdown",
   "id": "630c082e",
   "metadata": {},
   "source": [
    "### Cleaning empty or almost empty"
   ]
  },
  {
   "cell_type": "raw",
   "id": "1f590655",
   "metadata": {},
   "source": [
    "--> If more than 50% NULL value we suppress the column"
   ]
  },
  {
   "cell_type": "code",
   "execution_count": 226,
   "id": "8b68aa85",
   "metadata": {},
   "outputs": [
    {
     "data": {
      "text/plain": [
       "15809.0"
      ]
     },
     "execution_count": 226,
     "metadata": {},
     "output_type": "execute_result"
    }
   ],
   "source": [
    "nullThreshold = len(df[\"ELEM_POINT_ID\"])*50/100\n",
    "nullThreshold"
   ]
  },
  {
   "cell_type": "code",
   "execution_count": 227,
   "id": "ad5a5122",
   "metadata": {},
   "outputs": [
    {
     "data": {
      "text/plain": [
       "31618"
      ]
     },
     "execution_count": 227,
     "metadata": {},
     "output_type": "execute_result"
    }
   ],
   "source": [
    "df[\"ELEM_POINT_ID\"].count()"
   ]
  },
  {
   "cell_type": "markdown",
   "id": "8c57c1c5",
   "metadata": {},
   "source": [
    "#### Utils"
   ]
  },
  {
   "cell_type": "code",
   "execution_count": 228,
   "id": "88036f08",
   "metadata": {},
   "outputs": [],
   "source": [
    "def is_suppressed(df, colName):\n",
    "    nullNum = df[colName].count()\n",
    "    if nullNum > nullThreshold:\n",
    "        answer =  False\n",
    "    else:\n",
    "        answer =  True\n",
    "    return answer"
   ]
  },
  {
   "cell_type": "code",
   "execution_count": 229,
   "id": "5e9f8c81",
   "metadata": {},
   "outputs": [],
   "source": [
    "def has_more_than_one(df,col):\n",
    "    value = df[col].nunique()\n",
    "    if value > 1:\n",
    "        return True\n",
    "    else:\n",
    "        return False"
   ]
  },
  {
   "cell_type": "code",
   "execution_count": 230,
   "id": "2528621a",
   "metadata": {},
   "outputs": [],
   "source": [
    "def drop_column_threshold(df):\n",
    "    colSuppressed = []\n",
    "    dff = df.copy()\n",
    "    for col in df.columns:\n",
    "        if is_suppressed(df, col):\n",
    "            dff.drop(columns=col, inplace=True)\n",
    "            colSuppressed.append(col)\n",
    "            print(f\"col suppressed : {col}\")\n",
    "            \n",
    "    return dff, colSuppressed"
   ]
  },
  {
   "cell_type": "code",
   "execution_count": 231,
   "id": "013f0eca",
   "metadata": {},
   "outputs": [],
   "source": [
    "def clean_unique_value(df):\n",
    "    dff = df.copy()\n",
    "    colSuppressed = []\n",
    "    for col in df.columns:\n",
    "        if not has_more_than_one(df,col):\n",
    "            dff.drop(columns=col, inplace=True)\n",
    "            colSuppressed.append(col)\n",
    "            print(f\"col suppressed : {col}\")\n",
    "    return dff, colSuppressed"
   ]
  },
  {
   "cell_type": "code",
   "execution_count": 240,
   "id": "3995920c",
   "metadata": {},
   "outputs": [],
   "source": [
    "def has_only_different_value(df,col):\n",
    "    if len(df[col]) == len(df[col].value_counts()):\n",
    "        return True\n",
    "    else:\n",
    "        return False"
   ]
  },
  {
   "cell_type": "code",
   "execution_count": 268,
   "id": "7ae96e57",
   "metadata": {},
   "outputs": [],
   "source": [
    "def clean_only_diff_value(df):\n",
    "    dff = df.copy()\n",
    "    colSuppressed = []\n",
    "    for col in dff.columns:\n",
    "        if has_only_different_value(dff,col) and col != \"GeoJSON\":\n",
    "            dff.drop(columns=col, inplace=True)\n",
    "            colSuppressed.append(col)\n",
    "            print(f\"col suppressed : {col}\")\n",
    "            \n",
    "    return dff, colSuppressed      "
   ]
  },
  {
   "cell_type": "markdown",
   "id": "4e00dd75",
   "metadata": {},
   "source": [
    "#### Cleaning"
   ]
  },
  {
   "cell_type": "code",
   "execution_count": 269,
   "id": "a352f9fa",
   "metadata": {},
   "outputs": [],
   "source": [
    "df_clean = df.copy()"
   ]
  },
  {
   "cell_type": "code",
   "execution_count": 270,
   "id": "83113ec6",
   "metadata": {
    "scrolled": true
   },
   "outputs": [
    {
     "name": "stdout",
     "output_type": "stream",
     "text": [
      "-------------------------------------------------\n",
      "Columns suppressed => 0\n",
      "\n"
     ]
    }
   ],
   "source": [
    "df_clean, colSuppressed = drop_column_threshold(df)\n",
    "print(\"-------------------------------------------------\")\n",
    "print(f\"Columns suppressed => {len(colSuppressed)}\")\n",
    "print(\"\")"
   ]
  },
  {
   "cell_type": "code",
   "execution_count": 271,
   "id": "fdf20847",
   "metadata": {},
   "outputs": [
    {
     "name": "stdout",
     "output_type": "stream",
     "text": [
      "-------------------------------------------------\n",
      "Columns suppressed => 0\n",
      "\n"
     ]
    }
   ],
   "source": [
    "df_clean, colSuppressed = clean_unique_value(df_clean)\n",
    "print(\"-------------------------------------------------\")\n",
    "print(f\"Columns suppressed => {len(colSuppressed)}\")\n",
    "print(\"\")"
   ]
  },
  {
   "cell_type": "code",
   "execution_count": 272,
   "id": "f18b986d",
   "metadata": {},
   "outputs": [
    {
     "name": "stdout",
     "output_type": "stream",
     "text": [
      "col suppressed : ELEM_POINT_ID\n",
      "col suppressed : CODE\n",
      "col suppressed : NOM\n",
      "col suppressed : BIEN_REFERENCE\n",
      "-------------------------------------------------\n",
      "Columns suppressed => 4\n",
      "\n"
     ]
    }
   ],
   "source": [
    "df_clean, colSuppressed = clean_only_diff_value(df_clean)\n",
    "print(\"-------------------------------------------------\")\n",
    "print(f\"Columns suppressed => {len(colSuppressed)}\")\n",
    "print(\"\")"
   ]
  },
  {
   "cell_type": "code",
   "execution_count": 284,
   "id": "2996e2f1",
   "metadata": {},
   "outputs": [
    {
     "data": {
      "text/plain": [
       "Index(['SOUS_CATEGORIE', 'SOUS_CATEGORIE_DESC', 'CODE_PARENT',\n",
       "       'CODE_PARENT_DESC', 'ADR_SECTEUR', 'GENRE_BOTA', 'ESPECE',\n",
       "       'STADEDEDEVELOPPEMENT', 'ANNEEDEPLANTATION', 'COLLECTIVITE', 'GeoJSON'],\n",
       "      dtype='object')"
      ]
     },
     "execution_count": 284,
     "metadata": {},
     "output_type": "execute_result"
    }
   ],
   "source": [
    "df_clean.columns"
   ]
  },
  {
   "cell_type": "markdown",
   "id": "6627f95d",
   "metadata": {},
   "source": [
    "### Clean Tween columns"
   ]
  },
  {
   "cell_type": "code",
   "execution_count": 286,
   "id": "906803c1",
   "metadata": {},
   "outputs": [
    {
     "ename": "KeyError",
     "evalue": "\"['SOUS_CATEGORIE'] not found in axis\"",
     "output_type": "error",
     "traceback": [
      "\u001b[0;31m---------------------------------------------------------------------------\u001b[0m",
      "\u001b[0;31mKeyError\u001b[0m                                  Traceback (most recent call last)",
      "\u001b[0;32m/var/folders/vs/63szyqqn4dq91nzk275599p40000gn/T/ipykernel_79339/1664143274.py\u001b[0m in \u001b[0;36m<module>\u001b[0;34m\u001b[0m\n\u001b[0;32m----> 1\u001b[0;31m \u001b[0mdf_clean\u001b[0m\u001b[0;34m.\u001b[0m\u001b[0mdrop\u001b[0m\u001b[0;34m(\u001b[0m\u001b[0mcolumns\u001b[0m\u001b[0;34m=\u001b[0m\u001b[0;34m\"SOUS_CATEGORIE\"\u001b[0m\u001b[0;34m,\u001b[0m \u001b[0minplace\u001b[0m\u001b[0;34m=\u001b[0m\u001b[0;32mTrue\u001b[0m\u001b[0;34m)\u001b[0m\u001b[0;34m\u001b[0m\u001b[0;34m\u001b[0m\u001b[0m\n\u001b[0m\u001b[1;32m      2\u001b[0m \u001b[0mdf_clean\u001b[0m\u001b[0;34m.\u001b[0m\u001b[0mdrop\u001b[0m\u001b[0;34m(\u001b[0m\u001b[0mcolumns\u001b[0m\u001b[0;34m=\u001b[0m\u001b[0;34m\"CODE_PARENT\"\u001b[0m\u001b[0;34m,\u001b[0m \u001b[0minplace\u001b[0m\u001b[0;34m=\u001b[0m\u001b[0;32mTrue\u001b[0m\u001b[0;34m)\u001b[0m\u001b[0;34m\u001b[0m\u001b[0;34m\u001b[0m\u001b[0m\n",
      "\u001b[0;32m~/opt/anaconda3/lib/python3.9/site-packages/pandas/util/_decorators.py\u001b[0m in \u001b[0;36mwrapper\u001b[0;34m(*args, **kwargs)\u001b[0m\n\u001b[1;32m    309\u001b[0m                     \u001b[0mstacklevel\u001b[0m\u001b[0;34m=\u001b[0m\u001b[0mstacklevel\u001b[0m\u001b[0;34m,\u001b[0m\u001b[0;34m\u001b[0m\u001b[0;34m\u001b[0m\u001b[0m\n\u001b[1;32m    310\u001b[0m                 )\n\u001b[0;32m--> 311\u001b[0;31m             \u001b[0;32mreturn\u001b[0m \u001b[0mfunc\u001b[0m\u001b[0;34m(\u001b[0m\u001b[0;34m*\u001b[0m\u001b[0margs\u001b[0m\u001b[0;34m,\u001b[0m \u001b[0;34m**\u001b[0m\u001b[0mkwargs\u001b[0m\u001b[0;34m)\u001b[0m\u001b[0;34m\u001b[0m\u001b[0;34m\u001b[0m\u001b[0m\n\u001b[0m\u001b[1;32m    312\u001b[0m \u001b[0;34m\u001b[0m\u001b[0m\n\u001b[1;32m    313\u001b[0m         \u001b[0;32mreturn\u001b[0m \u001b[0mwrapper\u001b[0m\u001b[0;34m\u001b[0m\u001b[0;34m\u001b[0m\u001b[0m\n",
      "\u001b[0;32m~/opt/anaconda3/lib/python3.9/site-packages/pandas/core/frame.py\u001b[0m in \u001b[0;36mdrop\u001b[0;34m(self, labels, axis, index, columns, level, inplace, errors)\u001b[0m\n\u001b[1;32m   4904\u001b[0m                 \u001b[0mweight\u001b[0m  \u001b[0;36m1.0\u001b[0m     \u001b[0;36m0.8\u001b[0m\u001b[0;34m\u001b[0m\u001b[0;34m\u001b[0m\u001b[0m\n\u001b[1;32m   4905\u001b[0m         \"\"\"\n\u001b[0;32m-> 4906\u001b[0;31m         return super().drop(\n\u001b[0m\u001b[1;32m   4907\u001b[0m             \u001b[0mlabels\u001b[0m\u001b[0;34m=\u001b[0m\u001b[0mlabels\u001b[0m\u001b[0;34m,\u001b[0m\u001b[0;34m\u001b[0m\u001b[0;34m\u001b[0m\u001b[0m\n\u001b[1;32m   4908\u001b[0m             \u001b[0maxis\u001b[0m\u001b[0;34m=\u001b[0m\u001b[0maxis\u001b[0m\u001b[0;34m,\u001b[0m\u001b[0;34m\u001b[0m\u001b[0;34m\u001b[0m\u001b[0m\n",
      "\u001b[0;32m~/opt/anaconda3/lib/python3.9/site-packages/pandas/core/generic.py\u001b[0m in \u001b[0;36mdrop\u001b[0;34m(self, labels, axis, index, columns, level, inplace, errors)\u001b[0m\n\u001b[1;32m   4148\u001b[0m         \u001b[0;32mfor\u001b[0m \u001b[0maxis\u001b[0m\u001b[0;34m,\u001b[0m \u001b[0mlabels\u001b[0m \u001b[0;32min\u001b[0m \u001b[0maxes\u001b[0m\u001b[0;34m.\u001b[0m\u001b[0mitems\u001b[0m\u001b[0;34m(\u001b[0m\u001b[0;34m)\u001b[0m\u001b[0;34m:\u001b[0m\u001b[0;34m\u001b[0m\u001b[0;34m\u001b[0m\u001b[0m\n\u001b[1;32m   4149\u001b[0m             \u001b[0;32mif\u001b[0m \u001b[0mlabels\u001b[0m \u001b[0;32mis\u001b[0m \u001b[0;32mnot\u001b[0m \u001b[0;32mNone\u001b[0m\u001b[0;34m:\u001b[0m\u001b[0;34m\u001b[0m\u001b[0;34m\u001b[0m\u001b[0m\n\u001b[0;32m-> 4150\u001b[0;31m                 \u001b[0mobj\u001b[0m \u001b[0;34m=\u001b[0m \u001b[0mobj\u001b[0m\u001b[0;34m.\u001b[0m\u001b[0m_drop_axis\u001b[0m\u001b[0;34m(\u001b[0m\u001b[0mlabels\u001b[0m\u001b[0;34m,\u001b[0m \u001b[0maxis\u001b[0m\u001b[0;34m,\u001b[0m \u001b[0mlevel\u001b[0m\u001b[0;34m=\u001b[0m\u001b[0mlevel\u001b[0m\u001b[0;34m,\u001b[0m \u001b[0merrors\u001b[0m\u001b[0;34m=\u001b[0m\u001b[0merrors\u001b[0m\u001b[0;34m)\u001b[0m\u001b[0;34m\u001b[0m\u001b[0;34m\u001b[0m\u001b[0m\n\u001b[0m\u001b[1;32m   4151\u001b[0m \u001b[0;34m\u001b[0m\u001b[0m\n\u001b[1;32m   4152\u001b[0m         \u001b[0;32mif\u001b[0m \u001b[0minplace\u001b[0m\u001b[0;34m:\u001b[0m\u001b[0;34m\u001b[0m\u001b[0;34m\u001b[0m\u001b[0m\n",
      "\u001b[0;32m~/opt/anaconda3/lib/python3.9/site-packages/pandas/core/generic.py\u001b[0m in \u001b[0;36m_drop_axis\u001b[0;34m(self, labels, axis, level, errors)\u001b[0m\n\u001b[1;32m   4183\u001b[0m                 \u001b[0mnew_axis\u001b[0m \u001b[0;34m=\u001b[0m \u001b[0maxis\u001b[0m\u001b[0;34m.\u001b[0m\u001b[0mdrop\u001b[0m\u001b[0;34m(\u001b[0m\u001b[0mlabels\u001b[0m\u001b[0;34m,\u001b[0m \u001b[0mlevel\u001b[0m\u001b[0;34m=\u001b[0m\u001b[0mlevel\u001b[0m\u001b[0;34m,\u001b[0m \u001b[0merrors\u001b[0m\u001b[0;34m=\u001b[0m\u001b[0merrors\u001b[0m\u001b[0;34m)\u001b[0m\u001b[0;34m\u001b[0m\u001b[0;34m\u001b[0m\u001b[0m\n\u001b[1;32m   4184\u001b[0m             \u001b[0;32melse\u001b[0m\u001b[0;34m:\u001b[0m\u001b[0;34m\u001b[0m\u001b[0;34m\u001b[0m\u001b[0m\n\u001b[0;32m-> 4185\u001b[0;31m                 \u001b[0mnew_axis\u001b[0m \u001b[0;34m=\u001b[0m \u001b[0maxis\u001b[0m\u001b[0;34m.\u001b[0m\u001b[0mdrop\u001b[0m\u001b[0;34m(\u001b[0m\u001b[0mlabels\u001b[0m\u001b[0;34m,\u001b[0m \u001b[0merrors\u001b[0m\u001b[0;34m=\u001b[0m\u001b[0merrors\u001b[0m\u001b[0;34m)\u001b[0m\u001b[0;34m\u001b[0m\u001b[0;34m\u001b[0m\u001b[0m\n\u001b[0m\u001b[1;32m   4186\u001b[0m             \u001b[0mresult\u001b[0m \u001b[0;34m=\u001b[0m \u001b[0mself\u001b[0m\u001b[0;34m.\u001b[0m\u001b[0mreindex\u001b[0m\u001b[0;34m(\u001b[0m\u001b[0;34m**\u001b[0m\u001b[0;34m{\u001b[0m\u001b[0maxis_name\u001b[0m\u001b[0;34m:\u001b[0m \u001b[0mnew_axis\u001b[0m\u001b[0;34m}\u001b[0m\u001b[0;34m)\u001b[0m\u001b[0;34m\u001b[0m\u001b[0;34m\u001b[0m\u001b[0m\n\u001b[1;32m   4187\u001b[0m \u001b[0;34m\u001b[0m\u001b[0m\n",
      "\u001b[0;32m~/opt/anaconda3/lib/python3.9/site-packages/pandas/core/indexes/base.py\u001b[0m in \u001b[0;36mdrop\u001b[0;34m(self, labels, errors)\u001b[0m\n\u001b[1;32m   6015\u001b[0m         \u001b[0;32mif\u001b[0m \u001b[0mmask\u001b[0m\u001b[0;34m.\u001b[0m\u001b[0many\u001b[0m\u001b[0;34m(\u001b[0m\u001b[0;34m)\u001b[0m\u001b[0;34m:\u001b[0m\u001b[0;34m\u001b[0m\u001b[0;34m\u001b[0m\u001b[0m\n\u001b[1;32m   6016\u001b[0m             \u001b[0;32mif\u001b[0m \u001b[0merrors\u001b[0m \u001b[0;34m!=\u001b[0m \u001b[0;34m\"ignore\"\u001b[0m\u001b[0;34m:\u001b[0m\u001b[0;34m\u001b[0m\u001b[0;34m\u001b[0m\u001b[0m\n\u001b[0;32m-> 6017\u001b[0;31m                 \u001b[0;32mraise\u001b[0m \u001b[0mKeyError\u001b[0m\u001b[0;34m(\u001b[0m\u001b[0;34mf\"{labels[mask]} not found in axis\"\u001b[0m\u001b[0;34m)\u001b[0m\u001b[0;34m\u001b[0m\u001b[0;34m\u001b[0m\u001b[0m\n\u001b[0m\u001b[1;32m   6018\u001b[0m             \u001b[0mindexer\u001b[0m \u001b[0;34m=\u001b[0m \u001b[0mindexer\u001b[0m\u001b[0;34m[\u001b[0m\u001b[0;34m~\u001b[0m\u001b[0mmask\u001b[0m\u001b[0;34m]\u001b[0m\u001b[0;34m\u001b[0m\u001b[0;34m\u001b[0m\u001b[0m\n\u001b[1;32m   6019\u001b[0m         \u001b[0;32mreturn\u001b[0m \u001b[0mself\u001b[0m\u001b[0;34m.\u001b[0m\u001b[0mdelete\u001b[0m\u001b[0;34m(\u001b[0m\u001b[0mindexer\u001b[0m\u001b[0;34m)\u001b[0m\u001b[0;34m\u001b[0m\u001b[0;34m\u001b[0m\u001b[0m\n",
      "\u001b[0;31mKeyError\u001b[0m: \"['SOUS_CATEGORIE'] not found in axis\""
     ]
    }
   ],
   "source": [
    "df_clean.drop(columns=\"SOUS_CATEGORIE\", inplace=True)\n",
    "df_clean.drop(columns=\"CODE_PARENT\", inplace=True)"
   ]
  },
  {
   "cell_type": "markdown",
   "id": "8e0aff15",
   "metadata": {},
   "source": [
    "# First Analysis"
   ]
  },
  {
   "cell_type": "code",
   "execution_count": 258,
   "id": "5585a674",
   "metadata": {},
   "outputs": [],
   "source": [
    "df = df_clean.copy()"
   ]
  },
  {
   "cell_type": "code",
   "execution_count": 195,
   "id": "07455b19",
   "metadata": {},
   "outputs": [],
   "source": [
    "year = df[\"ANNEEDEPLANTATION\"]"
   ]
  },
  {
   "cell_type": "code",
   "execution_count": 209,
   "id": "ef130e7e",
   "metadata": {},
   "outputs": [
    {
     "data": {
      "text/plain": [
       "31618"
      ]
     },
     "execution_count": 209,
     "metadata": {},
     "output_type": "execute_result"
    }
   ],
   "source": [
    "len(df[\"CODE\"].value_counts())"
   ]
  },
  {
   "cell_type": "code",
   "execution_count": null,
   "id": "3eca60d7",
   "metadata": {},
   "outputs": [],
   "source": []
  }
 ],
 "metadata": {
  "kernelspec": {
   "display_name": "Python 3 (ipykernel)",
   "language": "python",
   "name": "python3"
  },
  "language_info": {
   "codemirror_mode": {
    "name": "ipython",
    "version": 3
   },
   "file_extension": ".py",
   "mimetype": "text/x-python",
   "name": "python",
   "nbconvert_exporter": "python",
   "pygments_lexer": "ipython3",
   "version": "3.9.7"
  }
 },
 "nbformat": 4,
 "nbformat_minor": 5
}
