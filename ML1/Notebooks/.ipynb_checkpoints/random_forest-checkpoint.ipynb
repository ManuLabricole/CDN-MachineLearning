{
 "cells": [
  {
   "cell_type": "code",
   "execution_count": 1,
   "id": "3469065e",
   "metadata": {},
   "outputs": [],
   "source": [
    "import pandas as pd\n",
    "import numpy as np\n",
    "import plotly as px\n",
    "import matplotlib.pyplot as plt\n",
    "import seaborn as sns\n",
    "import missingno as msno\n",
    "import pickle\n",
    "from colorama import Fore, Back, Style\n",
    "import json\n",
    "import os\n",
    "import matplotlib.colors as mcolors"
   ]
  },
  {
   "cell_type": "code",
   "execution_count": 2,
   "id": "9083c31d",
   "metadata": {},
   "outputs": [
    {
     "data": {
      "image/png": "[encoded data removed]",
      "text/plain": [
       "<Figure size 1152x72 with 1 Axes>"
      ]
     },
     "metadata": {
      "needs_background": "light"
     },
     "output_type": "display_data"
    }
   ],
   "source": [
    "colors = sns.color_palette(\"tab20_r\", 16)\n",
    "sns.palplot(colors)\n",
    "sns.set_style(\"darkgrid\")"
   ]
  },
  {
   "cell_type": "markdown",
   "id": "f5871337",
   "metadata": {},
   "source": [
    "# Utils"
   ]
  },
  {
   "cell_type": "code",
   "execution_count": 38,
   "id": "4ec8de79",
   "metadata": {},
   "outputs": [],
   "source": [
    "from sklearn.model_selection import cross_val_score, cross_val_predict, train_test_split, GridSearchCV, RandomizedSearchCV\n",
    "from sklearn.metrics import mean_absolute_error, mean_squared_error, r2_score, median_absolute_error"
   ]
  },
  {
   "cell_type": "code",
   "execution_count": 36,
   "id": "5990a2c5",
   "metadata": {},
   "outputs": [],
   "source": [
    "def  compute_indicator(true_values,predicted_values):\n",
    "    MSE = mean_squared_error(true_values, predicted_values)\n",
    "    MAE = mean_absolute_error(true_values, predicted_values)\n",
    "    RMSE = mean_squared_error(true_values, predicted_values, squared=False)\n",
    "    MEDAE = median_absolute_error(true_values, predicted_values)\n",
    "    R2 = r2_score(true_values, predicted_values)\n",
    "    print(\"°°°°°°°°°°°°°°°°°°°°°°°°°°°°°°°°°°°°°°°°°°°°°°°°°°°°°°°°\")\n",
    "    print(\"---- COMPARISON TRUE / PREDICTED ----\")\n",
    "    print(\"\")\n",
    "    print(f\"MSE ----> {MSE}\")\n",
    "    print(f\"RMSE ---> {RMSE}\")\n",
    "    print(f\"MAE ----> {MAE}\")\n",
    "    print(f\"MEDAE --> {MEDAE}\")\n",
    "    print(f\"R2 -----> {R2}\")\n",
    "    print(\"°°°°°°°°°°°°°°°°°°°°°°°°°°°°°°°°°°°°°°°°°°°°°°°°°°°°°°°°\")\n",
    "    return MSE, RMSE, MAE, MEDAE, R2"
   ]
  },
  {
   "cell_type": "code",
   "execution_count": 60,
   "id": "37d27e7a",
   "metadata": {},
   "outputs": [],
   "source": [
    "def compare_train_test(y_train, y_pred_train, y_test, y_pred_test):\n",
    "    print(\"°°°°°°°°°°°°°°°°°°°°°°°°°°°°°°°°°°°°°°°°°°°°°°°°°°°°°°°°°°°°°°°°°°°°°\")\n",
    "    print(\"Results for TRAIN data :\")\n",
    "    print(\"\")\n",
    "    compute_indicator(y_train, y_pred_train)\n",
    "    print(\"----------------------------------------------\")\n",
    "    print(\"Results for TEST data \")\n",
    "    print(\"\")\n",
    "    compute_indicator(y_test, y_pred_test)\n",
    "    print(\"°°°°°°°°°°°°°°°°°°°°°°°°°°°°°°°°°°°°°°°°°°°°°°°°°°°°°°°°°°°°°°°°°°°°°\")"
   ]
  },
  {
   "cell_type": "markdown",
   "id": "886f6d54",
   "metadata": {},
   "source": [
    "# Importation"
   ]
  },
  {
   "cell_type": "code",
   "execution_count": 3,
   "id": "a96686da",
   "metadata": {},
   "outputs": [],
   "source": [
    "df = pd.read_pickle('df_clean.pickle')"
   ]
  },
  {
   "cell_type": "markdown",
   "id": "07ff379d",
   "metadata": {},
   "source": [
    "### Généralités"
   ]
  },
  {
   "cell_type": "code",
   "execution_count": 4,
   "id": "3e448540",
   "metadata": {},
   "outputs": [
    {
     "data": {
      "text/html": [
       "<div>\n",
       "<style scoped>\n",
       "    .dataframe tbody tr th:only-of-type {\n",
       "        vertical-align: middle;\n",
       "    }\n",
       "\n",
       "    .dataframe tbody tr th {\n",
       "        vertical-align: top;\n",
       "    }\n",
       "\n",
       "    .dataframe thead th {\n",
       "        text-align: right;\n",
       "    }\n",
       "</style>\n",
       "<table border=\"1\" class=\"dataframe\">\n",
       "  <thead>\n",
       "    <tr style=\"text-align: right;\">\n",
       "      <th></th>\n",
       "      <th>SOUS_CATEGORIE_DESC</th>\n",
       "      <th>CODE_PARENT_DESC</th>\n",
       "      <th>ADR_SECTEUR</th>\n",
       "      <th>GENRE_BOTA</th>\n",
       "      <th>ESPECE</th>\n",
       "      <th>STADEDEDEVELOPPEMENT</th>\n",
       "      <th>ANNEEDEPLANTATION</th>\n",
       "      <th>COLLECTIVITE</th>\n",
       "      <th>LATITUDE</th>\n",
       "      <th>LONGITUDE</th>\n",
       "      <th>SUM_COORDINATE</th>\n",
       "    </tr>\n",
       "  </thead>\n",
       "  <tbody>\n",
       "    <tr>\n",
       "      <th>12</th>\n",
       "      <td>Arbre de voirie</td>\n",
       "      <td>Bd Esplan Autoroute A 48</td>\n",
       "      <td>2</td>\n",
       "      <td>Pinus</td>\n",
       "      <td>nigra</td>\n",
       "      <td>Arbre adulte</td>\n",
       "      <td>1970.0</td>\n",
       "      <td>Ville de Grenoble</td>\n",
       "      <td>45.194803</td>\n",
       "      <td>5.716918</td>\n",
       "      <td>50.911721</td>\n",
       "    </tr>\n",
       "    <tr>\n",
       "      <th>15</th>\n",
       "      <td>Arbre de voirie</td>\n",
       "      <td>Bd Esplan Autoroute A 48</td>\n",
       "      <td>2</td>\n",
       "      <td>Pinus</td>\n",
       "      <td>nigra</td>\n",
       "      <td>Arbre adulte</td>\n",
       "      <td>1970.0</td>\n",
       "      <td>Ville de Grenoble</td>\n",
       "      <td>45.195170</td>\n",
       "      <td>5.716655</td>\n",
       "      <td>50.911825</td>\n",
       "    </tr>\n",
       "    <tr>\n",
       "      <th>16</th>\n",
       "      <td>Arbre de voirie</td>\n",
       "      <td>Bd Esplan Autoroute A 48</td>\n",
       "      <td>2</td>\n",
       "      <td>Populus</td>\n",
       "      <td>alba</td>\n",
       "      <td>Arbre adulte</td>\n",
       "      <td>1970.0</td>\n",
       "      <td>Ville de Grenoble</td>\n",
       "      <td>45.195246</td>\n",
       "      <td>5.716624</td>\n",
       "      <td>50.911870</td>\n",
       "    </tr>\n",
       "    <tr>\n",
       "      <th>18</th>\n",
       "      <td>Arbre d'espaces ouverts</td>\n",
       "      <td>Ch Gordes Ouest conservatoire</td>\n",
       "      <td>4</td>\n",
       "      <td>Diospyros</td>\n",
       "      <td>kaki</td>\n",
       "      <td>Arbre jeune</td>\n",
       "      <td>2018.0</td>\n",
       "      <td>Ville de Grenoble</td>\n",
       "      <td>45.173315</td>\n",
       "      <td>5.734082</td>\n",
       "      <td>50.907397</td>\n",
       "    </tr>\n",
       "    <tr>\n",
       "      <th>22</th>\n",
       "      <td>Arbre de voirie</td>\n",
       "      <td>R Frederico Garcia Lorca park</td>\n",
       "      <td>5</td>\n",
       "      <td>NaN</td>\n",
       "      <td>NaN</td>\n",
       "      <td>NaN</td>\n",
       "      <td>2016.0</td>\n",
       "      <td>Grenoble Alpes Métropole</td>\n",
       "      <td>45.171728</td>\n",
       "      <td>5.734265</td>\n",
       "      <td>50.905994</td>\n",
       "    </tr>\n",
       "  </tbody>\n",
       "</table>\n",
       "</div>"
      ],
      "text/plain": [
       "        SOUS_CATEGORIE_DESC               CODE_PARENT_DESC  ADR_SECTEUR  \\\n",
       "12          Arbre de voirie      Bd Esplan Autoroute A 48             2   \n",
       "15          Arbre de voirie      Bd Esplan Autoroute A 48             2   \n",
       "16          Arbre de voirie      Bd Esplan Autoroute A 48             2   \n",
       "18  Arbre d'espaces ouverts  Ch Gordes Ouest conservatoire            4   \n",
       "22          Arbre de voirie  R Frederico Garcia Lorca park            5   \n",
       "\n",
       "   GENRE_BOTA ESPECE STADEDEDEVELOPPEMENT  ANNEEDEPLANTATION  \\\n",
       "12      Pinus  nigra         Arbre adulte             1970.0   \n",
       "15      Pinus  nigra         Arbre adulte             1970.0   \n",
       "16    Populus   alba         Arbre adulte             1970.0   \n",
       "18  Diospyros   kaki          Arbre jeune             2018.0   \n",
       "22        NaN    NaN                  NaN             2016.0   \n",
       "\n",
       "                COLLECTIVITE   LATITUDE  LONGITUDE  SUM_COORDINATE  \n",
       "12         Ville de Grenoble  45.194803   5.716918       50.911721  \n",
       "15         Ville de Grenoble  45.195170   5.716655       50.911825  \n",
       "16         Ville de Grenoble  45.195246   5.716624       50.911870  \n",
       "18         Ville de Grenoble  45.173315   5.734082       50.907397  \n",
       "22  Grenoble Alpes Métropole  45.171728   5.734265       50.905994  "
      ]
     },
     "execution_count": 4,
     "metadata": {},
     "output_type": "execute_result"
    }
   ],
   "source": [
    "df.head()"
   ]
  },
  {
   "cell_type": "code",
   "execution_count": 5,
   "id": "4f21235f",
   "metadata": {},
   "outputs": [
    {
     "data": {
      "text/plain": [
       "Index(['SOUS_CATEGORIE_DESC', 'CODE_PARENT_DESC', 'ADR_SECTEUR', 'GENRE_BOTA',\n",
       "       'ESPECE', 'STADEDEDEVELOPPEMENT', 'ANNEEDEPLANTATION', 'COLLECTIVITE',\n",
       "       'LATITUDE', 'LONGITUDE', 'SUM_COORDINATE'],\n",
       "      dtype='object')"
      ]
     },
     "execution_count": 5,
     "metadata": {},
     "output_type": "execute_result"
    }
   ],
   "source": [
    "df.columns"
   ]
  },
  {
   "cell_type": "code",
   "execution_count": 6,
   "id": "96268b68",
   "metadata": {},
   "outputs": [
    {
     "data": {
      "text/html": [
       "<div>\n",
       "<style scoped>\n",
       "    .dataframe tbody tr th:only-of-type {\n",
       "        vertical-align: middle;\n",
       "    }\n",
       "\n",
       "    .dataframe tbody tr th {\n",
       "        vertical-align: top;\n",
       "    }\n",
       "\n",
       "    .dataframe thead th {\n",
       "        text-align: right;\n",
       "    }\n",
       "</style>\n",
       "<table border=\"1\" class=\"dataframe\">\n",
       "  <thead>\n",
       "    <tr style=\"text-align: right;\">\n",
       "      <th></th>\n",
       "      <th>ADR_SECTEUR</th>\n",
       "      <th>ANNEEDEPLANTATION</th>\n",
       "      <th>LATITUDE</th>\n",
       "      <th>LONGITUDE</th>\n",
       "      <th>SUM_COORDINATE</th>\n",
       "    </tr>\n",
       "  </thead>\n",
       "  <tbody>\n",
       "    <tr>\n",
       "      <th>count</th>\n",
       "      <td>30180.000000</td>\n",
       "      <td>30180.000000</td>\n",
       "      <td>30180.000000</td>\n",
       "      <td>30180.000000</td>\n",
       "      <td>30180.000000</td>\n",
       "    </tr>\n",
       "    <tr>\n",
       "      <th>mean</th>\n",
       "      <td>3.852584</td>\n",
       "      <td>1989.384427</td>\n",
       "      <td>45.177150</td>\n",
       "      <td>5.727585</td>\n",
       "      <td>50.904734</td>\n",
       "    </tr>\n",
       "    <tr>\n",
       "      <th>std</th>\n",
       "      <td>1.702122</td>\n",
       "      <td>17.372641</td>\n",
       "      <td>0.011917</td>\n",
       "      <td>0.012762</td>\n",
       "      <td>0.017911</td>\n",
       "    </tr>\n",
       "    <tr>\n",
       "      <th>min</th>\n",
       "      <td>1.000000</td>\n",
       "      <td>1900.000000</td>\n",
       "      <td>45.151572</td>\n",
       "      <td>5.697915</td>\n",
       "      <td>50.863142</td>\n",
       "    </tr>\n",
       "    <tr>\n",
       "      <th>25%</th>\n",
       "      <td>2.000000</td>\n",
       "      <td>1975.000000</td>\n",
       "      <td>45.166272</td>\n",
       "      <td>5.717804</td>\n",
       "      <td>50.893043</td>\n",
       "    </tr>\n",
       "    <tr>\n",
       "      <th>50%</th>\n",
       "      <td>4.000000</td>\n",
       "      <td>1985.000000</td>\n",
       "      <td>45.175801</td>\n",
       "      <td>5.729950</td>\n",
       "      <td>50.903998</td>\n",
       "    </tr>\n",
       "    <tr>\n",
       "      <th>75%</th>\n",
       "      <td>5.000000</td>\n",
       "      <td>2004.000000</td>\n",
       "      <td>45.187076</td>\n",
       "      <td>5.737493</td>\n",
       "      <td>50.917701</td>\n",
       "    </tr>\n",
       "    <tr>\n",
       "      <th>max</th>\n",
       "      <td>6.000000</td>\n",
       "      <td>2021.000000</td>\n",
       "      <td>45.224825</td>\n",
       "      <td>5.798704</td>\n",
       "      <td>51.023187</td>\n",
       "    </tr>\n",
       "  </tbody>\n",
       "</table>\n",
       "</div>"
      ],
      "text/plain": [
       "        ADR_SECTEUR  ANNEEDEPLANTATION      LATITUDE     LONGITUDE  \\\n",
       "count  30180.000000       30180.000000  30180.000000  30180.000000   \n",
       "mean       3.852584        1989.384427     45.177150      5.727585   \n",
       "std        1.702122          17.372641      0.011917      0.012762   \n",
       "min        1.000000        1900.000000     45.151572      5.697915   \n",
       "25%        2.000000        1975.000000     45.166272      5.717804   \n",
       "50%        4.000000        1985.000000     45.175801      5.729950   \n",
       "75%        5.000000        2004.000000     45.187076      5.737493   \n",
       "max        6.000000        2021.000000     45.224825      5.798704   \n",
       "\n",
       "       SUM_COORDINATE  \n",
       "count    30180.000000  \n",
       "mean        50.904734  \n",
       "std          0.017911  \n",
       "min         50.863142  \n",
       "25%         50.893043  \n",
       "50%         50.903998  \n",
       "75%         50.917701  \n",
       "max         51.023187  "
      ]
     },
     "execution_count": 6,
     "metadata": {},
     "output_type": "execute_result"
    }
   ],
   "source": [
    "df.describe()"
   ]
  },
  {
   "cell_type": "markdown",
   "id": "d12e18d6",
   "metadata": {},
   "source": [
    "=> ADR_SECTEUR représente 6 secteurs. Mais n'a pas de continuité numérique logique"
   ]
  },
  {
   "cell_type": "markdown",
   "id": "8e93266e",
   "metadata": {},
   "source": [
    "### Analyse des colonnes avant Pipeline"
   ]
  },
  {
   "cell_type": "code",
   "execution_count": 7,
   "id": "1682618a",
   "metadata": {},
   "outputs": [
    {
     "data": {
      "text/plain": [
       "Arbre d'espaces ouverts      14979\n",
       "Arbre de voirie              11515\n",
       "Arbre d'enceintes fermées     2128\n",
       "Bois semi naturel             1558\n",
       "Name: SOUS_CATEGORIE_DESC, dtype: int64"
      ]
     },
     "execution_count": 7,
     "metadata": {},
     "output_type": "execute_result"
    }
   ],
   "source": [
    "df[\"SOUS_CATEGORIE_DESC\"].value_counts()"
   ]
  },
  {
   "cell_type": "markdown",
   "id": "e51e8709",
   "metadata": {},
   "source": [
    "=> Seulement 3 catégories, se prête bien au OneHot imputer"
   ]
  },
  {
   "cell_type": "code",
   "execution_count": 8,
   "id": "43f6bdc5",
   "metadata": {},
   "outputs": [
    {
     "data": {
      "text/plain": [
       "Prc Echangeurs Bastion St Roch    393\n",
       "Le Bastion zone boisée            338\n",
       "Cimetière St Roch                 305\n",
       "Grande pelouse butte des pins     273\n",
       "Prc Echangeurs Valmy Gallieni     268\n",
       "                                 ... \n",
       "R du Fer à Cheval                   1\n",
       "R Delacroix garage 1000 lacs        1\n",
       "R Vendres                           1\n",
       "Pl Claveyson                        1\n",
       "R Fourrier n 2bis                   1\n",
       "Name: CODE_PARENT_DESC, Length: 1451, dtype: int64"
      ]
     },
     "execution_count": 8,
     "metadata": {},
     "output_type": "execute_result"
    }
   ],
   "source": [
    "df[\"CODE_PARENT_DESC\"].value_counts()"
   ]
  },
  {
   "cell_type": "markdown",
   "id": "d46048ff",
   "metadata": {},
   "source": [
    "=> Description Géographique, pas forcément utile de l'ajouter aux latitudes, longitudes ou Secteur"
   ]
  },
  {
   "cell_type": "code",
   "execution_count": 9,
   "id": "688854b9",
   "metadata": {},
   "outputs": [
    {
     "data": {
      "text/plain": [
       "Acer           4984\n",
       "Platanus       4450\n",
       "Pinus          1932\n",
       "Tilia          1736\n",
       "Fraxinus       1446\n",
       "               ... \n",
       "Eucalyptus        1\n",
       "Sorbopyrus        1\n",
       "Sciadopitys       1\n",
       "Poncinos          1\n",
       "Castanea          1\n",
       "Name: GENRE_BOTA, Length: 118, dtype: int64"
      ]
     },
     "execution_count": 9,
     "metadata": {},
     "output_type": "execute_result"
    }
   ],
   "source": [
    "df[\"GENRE_BOTA\"].value_counts()"
   ]
  },
  {
   "cell_type": "markdown",
   "id": "d18186fc",
   "metadata": {},
   "source": [
    "=> 118 valeurs différentes. Pas évident à numériser, le OneHot donnera beaucoup de colonne et le Ordinal n'aurait pas de sens"
   ]
  },
  {
   "cell_type": "code",
   "execution_count": 10,
   "id": "9778e292",
   "metadata": {},
   "outputs": [
    {
     "data": {
      "text/plain": [
       "acerifolia        3778\n",
       "nigra             1825\n",
       "pseudoplatanus    1300\n",
       "betulus           1159\n",
       "platanoides       1017\n",
       "                  ... \n",
       "koreana              1\n",
       "heterophylla         1\n",
       "opalus               1\n",
       "pisifera             1\n",
       "strobus              1\n",
       "Name: ESPECE, Length: 274, dtype: int64"
      ]
     },
     "execution_count": 10,
     "metadata": {},
     "output_type": "execute_result"
    }
   ],
   "source": [
    "df[\"ESPECE\"].value_counts()"
   ]
  },
  {
   "cell_type": "markdown",
   "id": "24e4eb25",
   "metadata": {},
   "source": [
    "=> IDEM"
   ]
  },
  {
   "cell_type": "code",
   "execution_count": 11,
   "id": "8f097e2d",
   "metadata": {},
   "outputs": [
    {
     "data": {
      "text/plain": [
       "Ville de Grenoble           15718\n",
       "Grenoble Alpes Métropole    14462\n",
       "Name: COLLECTIVITE, dtype: int64"
      ]
     },
     "execution_count": 11,
     "metadata": {},
     "output_type": "execute_result"
    }
   ],
   "source": [
    "df[\"COLLECTIVITE\"].value_counts()"
   ]
  },
  {
   "cell_type": "markdown",
   "id": "2d5a3826",
   "metadata": {},
   "source": [
    "=> Binaire. Facile pour un OneHot\n",
    "\n",
    "=> Donne pas beaucoup d'infos"
   ]
  },
  {
   "cell_type": "markdown",
   "id": "6ed6ac77",
   "metadata": {},
   "source": [
    "### Nouveau dataframe filtré"
   ]
  },
  {
   "cell_type": "code",
   "execution_count": 12,
   "id": "c1fee3e6",
   "metadata": {},
   "outputs": [],
   "source": [
    "colToKeep = ['SOUS_CATEGORIE_DESC', 'ADR_SECTEUR', 'STADEDEDEVELOPPEMENT', 'ANNEEDEPLANTATION','LATITUDE', 'LONGITUDE', 'SUM_COORDINATE']"
   ]
  },
  {
   "cell_type": "code",
   "execution_count": 13,
   "id": "be0f666e",
   "metadata": {},
   "outputs": [],
   "source": [
    "df_filtered = df[colToKeep]"
   ]
  },
  {
   "cell_type": "code",
   "execution_count": 14,
   "id": "f4f0b513",
   "metadata": {},
   "outputs": [
    {
     "data": {
      "text/plain": [
       "<bound method DataFrame.info of            SOUS_CATEGORIE_DESC  ADR_SECTEUR STADEDEDEVELOPPEMENT  \\\n",
       "12             Arbre de voirie            2         Arbre adulte   \n",
       "15             Arbre de voirie            2         Arbre adulte   \n",
       "16             Arbre de voirie            2         Arbre adulte   \n",
       "18     Arbre d'espaces ouverts            4          Arbre jeune   \n",
       "22             Arbre de voirie            5                  NaN   \n",
       "...                        ...          ...                  ...   \n",
       "31613  Arbre d'espaces ouverts            5          Arbre jeune   \n",
       "31614  Arbre d'espaces ouverts            5         Arbre adulte   \n",
       "31615          Arbre de voirie            5         Arbre adulte   \n",
       "31616          Arbre de voirie            5          Arbre jeune   \n",
       "31617          Arbre de voirie            5          Arbre jeune   \n",
       "\n",
       "       ANNEEDEPLANTATION   LATITUDE  LONGITUDE  SUM_COORDINATE  \n",
       "12                1970.0  45.194803   5.716918       50.911721  \n",
       "15                1970.0  45.195170   5.716655       50.911825  \n",
       "16                1970.0  45.195246   5.716624       50.911870  \n",
       "18                2018.0  45.173315   5.734082       50.907397  \n",
       "22                2016.0  45.171728   5.734265       50.905994  \n",
       "...                  ...        ...        ...             ...  \n",
       "31613             2011.0  45.175206   5.745005       50.920210  \n",
       "31614             1992.0  45.177531   5.748964       50.926494  \n",
       "31615             1976.0  45.171506   5.743514       50.915020  \n",
       "31616             2001.0  45.173542   5.743294       50.916836  \n",
       "31617             1973.0  45.170811   5.733855       50.904666  \n",
       "\n",
       "[30180 rows x 7 columns]>"
      ]
     },
     "execution_count": 14,
     "metadata": {},
     "output_type": "execute_result"
    }
   ],
   "source": [
    "df_filtered.info"
   ]
  },
  {
   "cell_type": "code",
   "execution_count": 15,
   "id": "0f353672",
   "metadata": {},
   "outputs": [],
   "source": [
    "df_filtered.to_pickle('data_filtered.pickle')"
   ]
  },
  {
   "cell_type": "markdown",
   "id": "51f47fa7",
   "metadata": {},
   "source": [
    "### Split Train / Test dataset"
   ]
  },
  {
   "cell_type": "code",
   "execution_count": 16,
   "id": "36d139c2",
   "metadata": {},
   "outputs": [],
   "source": [
    "from sklearn.model_selection import train_test_split"
   ]
  },
  {
   "cell_type": "code",
   "execution_count": 17,
   "id": "7ffc96bb",
   "metadata": {},
   "outputs": [],
   "source": [
    "raw_data = pd.read_pickle('data_filtered.pickle')\n",
    "annees = raw_data[\"ANNEEDEPLANTATION\"]\n",
    "data = raw_data.drop(columns=\"ANNEEDEPLANTATION\")"
   ]
  },
  {
   "cell_type": "markdown",
   "id": "9cb5f28d",
   "metadata": {},
   "source": [
    "# Preprocessing"
   ]
  },
  {
   "cell_type": "code",
   "execution_count": 18,
   "id": "c2d67906",
   "metadata": {},
   "outputs": [],
   "source": [
    "from sklearn.impute import SimpleImputer\n",
    "from sklearn.preprocessing import StandardScaler\n",
    "from sklearn.preprocessing import OrdinalEncoder\n",
    "from sklearn.preprocessing import OneHotEncoder\n",
    "\n",
    "from sklearn.pipeline import Pipeline\n",
    "from sklearn.compose import ColumnTransformer"
   ]
  },
  {
   "cell_type": "code",
   "execution_count": 19,
   "id": "2cfecc00",
   "metadata": {},
   "outputs": [
    {
     "data": {
      "text/plain": [
       "Index(['SOUS_CATEGORIE_DESC', 'ADR_SECTEUR', 'STADEDEDEVELOPPEMENT',\n",
       "       'LATITUDE', 'LONGITUDE', 'SUM_COORDINATE'],\n",
       "      dtype='object')"
      ]
     },
     "execution_count": 19,
     "metadata": {},
     "output_type": "execute_result"
    }
   ],
   "source": [
    "data.columns"
   ]
  },
  {
   "cell_type": "markdown",
   "id": "4d4c58fc",
   "metadata": {},
   "source": [
    "### --> SOUS_CATEGORIE_DESC && ADR_SECTEUR"
   ]
  },
  {
   "cell_type": "code",
   "execution_count": 20,
   "id": "6b1131fc",
   "metadata": {},
   "outputs": [
    {
     "name": "stdout",
     "output_type": "stream",
     "text": [
      "------- SOUS CATEGORIE DESC --------\n"
     ]
    },
    {
     "data": {
      "text/plain": [
       "Arbre d'espaces ouverts      14979\n",
       "Arbre de voirie              11515\n",
       "Arbre d'enceintes fermées     2128\n",
       "Bois semi naturel             1558\n",
       "Name: SOUS_CATEGORIE_DESC, dtype: int64"
      ]
     },
     "metadata": {},
     "output_type": "display_data"
    },
    {
     "name": "stdout",
     "output_type": "stream",
     "text": [
      "\n",
      "------------ ADR_SECTEUR -----------\n"
     ]
    },
    {
     "data": {
      "text/plain": [
       "6    6836\n",
       "5    6635\n",
       "2    5936\n",
       "3    4142\n",
       "4    3717\n",
       "1    2914\n",
       "Name: ADR_SECTEUR, dtype: int64"
      ]
     },
     "metadata": {},
     "output_type": "display_data"
    },
    {
     "name": "stdout",
     "output_type": "stream",
     "text": [
      "------------ Nan -------------\n"
     ]
    },
    {
     "data": {
      "text/plain": [
       "False    30180\n",
       "Name: SOUS_CATEGORIE_DESC, dtype: int64"
      ]
     },
     "metadata": {},
     "output_type": "display_data"
    },
    {
     "data": {
      "text/plain": [
       "False    30180\n",
       "Name: ADR_SECTEUR, dtype: int64"
      ]
     },
     "metadata": {},
     "output_type": "display_data"
    }
   ],
   "source": [
    "print(\"------- SOUS CATEGORIE DESC --------\")\n",
    "display(data[\"SOUS_CATEGORIE_DESC\"].value_counts())\n",
    "print(\"\")\n",
    "print(\"------------ ADR_SECTEUR -----------\")\n",
    "display(data[\"ADR_SECTEUR\"].value_counts())\n",
    "\n",
    "print(\"------------ Nan -------------\")\n",
    "display(data[\"SOUS_CATEGORIE_DESC\"].isna().value_counts())\n",
    "display(data[\"ADR_SECTEUR\"].isna().value_counts())"
   ]
  },
  {
   "cell_type": "markdown",
   "id": "2a365402",
   "metadata": {},
   "source": [
    "=> Pas de nan donc pas besoin d'Imputer"
   ]
  },
  {
   "cell_type": "code",
   "execution_count": 21,
   "id": "2441f0e0",
   "metadata": {},
   "outputs": [],
   "source": [
    "oneHotColumns = [\"SOUS_CATEGORIE_DESC\", \"ADR_SECTEUR\"]"
   ]
  },
  {
   "cell_type": "markdown",
   "id": "f30d414a",
   "metadata": {},
   "source": [
    "-----"
   ]
  },
  {
   "cell_type": "code",
   "execution_count": 22,
   "id": "1e2e4b7d",
   "metadata": {},
   "outputs": [],
   "source": [
    "pipeline_1 = Pipeline([\n",
    "     ('onehotencoder', OneHotEncoder(sparse=False))\n",
    "     ])"
   ]
  },
  {
   "cell_type": "markdown",
   "id": "86014549",
   "metadata": {},
   "source": [
    "------"
   ]
  },
  {
   "cell_type": "raw",
   "id": "ee22161e",
   "metadata": {},
   "source": [
    "--> On va créer 4 + 5 nouvelles colonnes\n",
    "--> On pourrait supprimer chaque dernière colonne car répète les infos des précédentes ~7 nouvelles colonnes"
   ]
  },
  {
   "cell_type": "markdown",
   "id": "950de769",
   "metadata": {},
   "source": [
    "### --> STADEDEDEVELOPPEMENT"
   ]
  },
  {
   "cell_type": "code",
   "execution_count": 23,
   "id": "de382431",
   "metadata": {},
   "outputs": [
    {
     "name": "stdout",
     "output_type": "stream",
     "text": [
      "------- STADEDEDEVELOPPEMENT --------\n"
     ]
    },
    {
     "data": {
      "text/plain": [
       "Arbre adulte          21565\n",
       "Arbre jeune            6577\n",
       "Arbre vieillissant      249\n",
       "Name: STADEDEDEVELOPPEMENT, dtype: int64"
      ]
     },
     "metadata": {},
     "output_type": "display_data"
    },
    {
     "data": {
      "text/plain": [
       "False    28391\n",
       "True      1789\n",
       "Name: STADEDEDEVELOPPEMENT, dtype: int64"
      ]
     },
     "execution_count": 23,
     "metadata": {},
     "output_type": "execute_result"
    }
   ],
   "source": [
    "print(\"------- STADEDEDEVELOPPEMENT --------\")\n",
    "display(data[\"STADEDEDEVELOPPEMENT\"].value_counts())\n",
    "data[\"STADEDEDEVELOPPEMENT\"].isna().value_counts()"
   ]
  },
  {
   "cell_type": "raw",
   "id": "20b331cc",
   "metadata": {},
   "source": [
    "--> On peut la numériser avec Oridnal car 1-2-3 fait sens vis à vis de Jeune-Adulte-Vieillissant\n",
    "--> 1789 NULL donc pas besoin d'imputer"
   ]
  },
  {
   "cell_type": "code",
   "execution_count": 24,
   "id": "037a848b",
   "metadata": {},
   "outputs": [],
   "source": [
    "mapping = {'Arbre jeune': 1, 'Arbre adulte': 2, 'Arbre vieillissant': 3}"
   ]
  },
  {
   "cell_type": "code",
   "execution_count": 25,
   "id": "386edb7b",
   "metadata": {},
   "outputs": [
    {
     "data": {
      "text/plain": [
       "12       2.0\n",
       "15       2.0\n",
       "16       2.0\n",
       "18       1.0\n",
       "22       NaN\n",
       "        ... \n",
       "31613    1.0\n",
       "31614    2.0\n",
       "31615    2.0\n",
       "31616    1.0\n",
       "31617    1.0\n",
       "Name: STADEDEDEVELOPPEMENT, Length: 30180, dtype: float64"
      ]
     },
     "execution_count": 25,
     "metadata": {},
     "output_type": "execute_result"
    }
   ],
   "source": [
    "data['STADEDEDEVELOPPEMENT'] = df['STADEDEDEVELOPPEMENT'].map(mapping)\n",
    "data['STADEDEDEVELOPPEMENT']"
   ]
  },
  {
   "cell_type": "markdown",
   "id": "453f1007",
   "metadata": {},
   "source": [
    "------"
   ]
  },
  {
   "cell_type": "code",
   "execution_count": 26,
   "id": "39d6d200",
   "metadata": {},
   "outputs": [],
   "source": [
    "pipeline_2 = Pipeline([\n",
    "    ('imputerStadeDev', SimpleImputer(strategy='constant', fill_value=0)),\n",
    "    (\"standartScaler\", StandardScaler())\n",
    "     ])"
   ]
  },
  {
   "cell_type": "markdown",
   "id": "5c34086a",
   "metadata": {},
   "source": [
    "------"
   ]
  },
  {
   "cell_type": "markdown",
   "id": "0a1e201a",
   "metadata": {},
   "source": [
    "### Numerical value"
   ]
  },
  {
   "cell_type": "code",
   "execution_count": 27,
   "id": "3ec35596",
   "metadata": {},
   "outputs": [
    {
     "data": {
      "text/plain": [
       "False    30180\n",
       "Name: LATITUDE, dtype: int64"
      ]
     },
     "execution_count": 27,
     "metadata": {},
     "output_type": "execute_result"
    }
   ],
   "source": [
    "data[\"LATITUDE\"].isna().value_counts()"
   ]
  },
  {
   "cell_type": "code",
   "execution_count": 28,
   "id": "e24fd71e",
   "metadata": {},
   "outputs": [],
   "source": [
    "pipeline_3 = Pipeline([\n",
    "     ('std_scaler', StandardScaler())\n",
    "     ])"
   ]
  },
  {
   "cell_type": "markdown",
   "id": "76fa8e95",
   "metadata": {},
   "source": [
    "## FULL PIPE"
   ]
  },
  {
   "cell_type": "code",
   "execution_count": 45,
   "id": "21f80464",
   "metadata": {},
   "outputs": [],
   "source": [
    "X_train, X_test, y_train, y_test = train_test_split(data, annees, test_size=0.25, random_state=42, stratify=annees)"
   ]
  },
  {
   "cell_type": "code",
   "execution_count": 46,
   "id": "ab55e32e",
   "metadata": {},
   "outputs": [],
   "source": [
    "full_pipeline = ColumnTransformer([\n",
    "    (\"onehotencoder\", pipeline_1, [\"SOUS_CATEGORIE_DESC\", \"ADR_SECTEUR\"]),\n",
    "    (\"imputerStadDev\", pipeline_2, [\"STADEDEDEVELOPPEMENT\"]),\n",
    "    (\"standartScaler\", pipeline_3, [\"LATITUDE\", \"LONGITUDE\", \"SUM_COORDINATE\"])\n",
    " ])"
   ]
  },
  {
   "cell_type": "code",
   "execution_count": 47,
   "id": "39e860cb",
   "metadata": {},
   "outputs": [],
   "source": [
    "col = [\n",
    "    \"espaces ouverts\", \n",
    "    \"voirie\", \n",
    "    \"enceintes fermées\", \n",
    "    \"Bois semi naturel\",\n",
    "    \"sec-1\", \n",
    "    \"sec-2\", \n",
    "    \"sec-3\", \n",
    "    \"sec-4\", \n",
    "    \"sec-5\", \n",
    "    \"sec-6\", \n",
    "    \"STADEDEDEVELOPPEMENT\", \n",
    "    \"LATITUDE\", \n",
    "    \"LONGITUDE\", \n",
    "    \"SUM_COORDINATE\"\n",
    "]"
   ]
  },
  {
   "cell_type": "code",
   "execution_count": 48,
   "id": "c1fd7af1",
   "metadata": {},
   "outputs": [],
   "source": [
    "X_train = full_pipeline.fit_transform(X_train)\n",
    "X_test = full_pipeline.transform(X_test)\n",
    "\n",
    "X_train=pd.DataFrame(X_train, columns=col)\n",
    "X_test=pd.DataFrame(X_test, columns=col)"
   ]
  },
  {
   "cell_type": "code",
   "execution_count": 49,
   "id": "20f4ab7e",
   "metadata": {},
   "outputs": [
    {
     "data": {
      "text/html": [
       "<div>\n",
       "<style scoped>\n",
       "    .dataframe tbody tr th:only-of-type {\n",
       "        vertical-align: middle;\n",
       "    }\n",
       "\n",
       "    .dataframe tbody tr th {\n",
       "        vertical-align: top;\n",
       "    }\n",
       "\n",
       "    .dataframe thead th {\n",
       "        text-align: right;\n",
       "    }\n",
       "</style>\n",
       "<table border=\"1\" class=\"dataframe\">\n",
       "  <thead>\n",
       "    <tr style=\"text-align: right;\">\n",
       "      <th></th>\n",
       "      <th>espaces ouverts</th>\n",
       "      <th>voirie</th>\n",
       "      <th>enceintes fermées</th>\n",
       "      <th>Bois semi naturel</th>\n",
       "      <th>sec-1</th>\n",
       "      <th>sec-2</th>\n",
       "      <th>sec-3</th>\n",
       "      <th>sec-4</th>\n",
       "      <th>sec-5</th>\n",
       "      <th>sec-6</th>\n",
       "      <th>STADEDEDEVELOPPEMENT</th>\n",
       "      <th>LATITUDE</th>\n",
       "      <th>LONGITUDE</th>\n",
       "      <th>SUM_COORDINATE</th>\n",
       "    </tr>\n",
       "  </thead>\n",
       "  <tbody>\n",
       "    <tr>\n",
       "      <th>0</th>\n",
       "      <td>0.0</td>\n",
       "      <td>1.0</td>\n",
       "      <td>0.0</td>\n",
       "      <td>0.0</td>\n",
       "      <td>0.0</td>\n",
       "      <td>0.0</td>\n",
       "      <td>1.0</td>\n",
       "      <td>0.0</td>\n",
       "      <td>0.0</td>\n",
       "      <td>0.0</td>\n",
       "      <td>-2.799727</td>\n",
       "      <td>-1.134141</td>\n",
       "      <td>-1.728452</td>\n",
       "      <td>-1.989685</td>\n",
       "    </tr>\n",
       "    <tr>\n",
       "      <th>1</th>\n",
       "      <td>0.0</td>\n",
       "      <td>1.0</td>\n",
       "      <td>0.0</td>\n",
       "      <td>0.0</td>\n",
       "      <td>0.0</td>\n",
       "      <td>0.0</td>\n",
       "      <td>0.0</td>\n",
       "      <td>0.0</td>\n",
       "      <td>1.0</td>\n",
       "      <td>0.0</td>\n",
       "      <td>0.550797</td>\n",
       "      <td>-0.666504</td>\n",
       "      <td>0.378874</td>\n",
       "      <td>-0.175064</td>\n",
       "    </tr>\n",
       "    <tr>\n",
       "      <th>2</th>\n",
       "      <td>0.0</td>\n",
       "      <td>1.0</td>\n",
       "      <td>0.0</td>\n",
       "      <td>0.0</td>\n",
       "      <td>0.0</td>\n",
       "      <td>0.0</td>\n",
       "      <td>0.0</td>\n",
       "      <td>0.0</td>\n",
       "      <td>0.0</td>\n",
       "      <td>1.0</td>\n",
       "      <td>0.550797</td>\n",
       "      <td>-0.998473</td>\n",
       "      <td>0.404888</td>\n",
       "      <td>-0.378242</td>\n",
       "    </tr>\n",
       "    <tr>\n",
       "      <th>3</th>\n",
       "      <td>0.0</td>\n",
       "      <td>1.0</td>\n",
       "      <td>0.0</td>\n",
       "      <td>0.0</td>\n",
       "      <td>0.0</td>\n",
       "      <td>0.0</td>\n",
       "      <td>1.0</td>\n",
       "      <td>0.0</td>\n",
       "      <td>0.0</td>\n",
       "      <td>0.0</td>\n",
       "      <td>-1.124465</td>\n",
       "      <td>-0.037467</td>\n",
       "      <td>-1.689753</td>\n",
       "      <td>-1.229627</td>\n",
       "    </tr>\n",
       "    <tr>\n",
       "      <th>4</th>\n",
       "      <td>0.0</td>\n",
       "      <td>0.0</td>\n",
       "      <td>1.0</td>\n",
       "      <td>0.0</td>\n",
       "      <td>1.0</td>\n",
       "      <td>0.0</td>\n",
       "      <td>0.0</td>\n",
       "      <td>0.0</td>\n",
       "      <td>0.0</td>\n",
       "      <td>0.0</td>\n",
       "      <td>0.550797</td>\n",
       "      <td>0.484574</td>\n",
       "      <td>-1.145869</td>\n",
       "      <td>-0.493228</td>\n",
       "    </tr>\n",
       "    <tr>\n",
       "      <th>...</th>\n",
       "      <td>...</td>\n",
       "      <td>...</td>\n",
       "      <td>...</td>\n",
       "      <td>...</td>\n",
       "      <td>...</td>\n",
       "      <td>...</td>\n",
       "      <td>...</td>\n",
       "      <td>...</td>\n",
       "      <td>...</td>\n",
       "      <td>...</td>\n",
       "      <td>...</td>\n",
       "      <td>...</td>\n",
       "      <td>...</td>\n",
       "      <td>...</td>\n",
       "    </tr>\n",
       "    <tr>\n",
       "      <th>22630</th>\n",
       "      <td>0.0</td>\n",
       "      <td>1.0</td>\n",
       "      <td>0.0</td>\n",
       "      <td>0.0</td>\n",
       "      <td>0.0</td>\n",
       "      <td>0.0</td>\n",
       "      <td>0.0</td>\n",
       "      <td>0.0</td>\n",
       "      <td>1.0</td>\n",
       "      <td>0.0</td>\n",
       "      <td>0.550797</td>\n",
       "      <td>-0.177281</td>\n",
       "      <td>1.473818</td>\n",
       "      <td>0.932260</td>\n",
       "    </tr>\n",
       "    <tr>\n",
       "      <th>22631</th>\n",
       "      <td>0.0</td>\n",
       "      <td>1.0</td>\n",
       "      <td>0.0</td>\n",
       "      <td>0.0</td>\n",
       "      <td>0.0</td>\n",
       "      <td>0.0</td>\n",
       "      <td>0.0</td>\n",
       "      <td>1.0</td>\n",
       "      <td>0.0</td>\n",
       "      <td>0.0</td>\n",
       "      <td>0.550797</td>\n",
       "      <td>-0.295936</td>\n",
       "      <td>-0.304620</td>\n",
       "      <td>-0.414815</td>\n",
       "    </tr>\n",
       "    <tr>\n",
       "      <th>22632</th>\n",
       "      <td>0.0</td>\n",
       "      <td>0.0</td>\n",
       "      <td>1.0</td>\n",
       "      <td>0.0</td>\n",
       "      <td>0.0</td>\n",
       "      <td>0.0</td>\n",
       "      <td>0.0</td>\n",
       "      <td>0.0</td>\n",
       "      <td>1.0</td>\n",
       "      <td>0.0</td>\n",
       "      <td>-1.124465</td>\n",
       "      <td>0.436364</td>\n",
       "      <td>0.606493</td>\n",
       "      <td>0.723809</td>\n",
       "    </tr>\n",
       "    <tr>\n",
       "      <th>22633</th>\n",
       "      <td>0.0</td>\n",
       "      <td>1.0</td>\n",
       "      <td>0.0</td>\n",
       "      <td>0.0</td>\n",
       "      <td>0.0</td>\n",
       "      <td>1.0</td>\n",
       "      <td>0.0</td>\n",
       "      <td>0.0</td>\n",
       "      <td>0.0</td>\n",
       "      <td>0.0</td>\n",
       "      <td>-1.124465</td>\n",
       "      <td>1.545534</td>\n",
       "      <td>0.172494</td>\n",
       "      <td>1.155232</td>\n",
       "    </tr>\n",
       "    <tr>\n",
       "      <th>22634</th>\n",
       "      <td>0.0</td>\n",
       "      <td>0.0</td>\n",
       "      <td>0.0</td>\n",
       "      <td>1.0</td>\n",
       "      <td>0.0</td>\n",
       "      <td>0.0</td>\n",
       "      <td>0.0</td>\n",
       "      <td>1.0</td>\n",
       "      <td>0.0</td>\n",
       "      <td>0.0</td>\n",
       "      <td>0.550797</td>\n",
       "      <td>-0.024714</td>\n",
       "      <td>-0.413722</td>\n",
       "      <td>-0.311444</td>\n",
       "    </tr>\n",
       "  </tbody>\n",
       "</table>\n",
       "<p>22635 rows × 14 columns</p>\n",
       "</div>"
      ],
      "text/plain": [
       "       espaces ouverts  voirie  enceintes fermées  Bois semi naturel  sec-1  \\\n",
       "0                  0.0     1.0                0.0                0.0    0.0   \n",
       "1                  0.0     1.0                0.0                0.0    0.0   \n",
       "2                  0.0     1.0                0.0                0.0    0.0   \n",
       "3                  0.0     1.0                0.0                0.0    0.0   \n",
       "4                  0.0     0.0                1.0                0.0    1.0   \n",
       "...                ...     ...                ...                ...    ...   \n",
       "22630              0.0     1.0                0.0                0.0    0.0   \n",
       "22631              0.0     1.0                0.0                0.0    0.0   \n",
       "22632              0.0     0.0                1.0                0.0    0.0   \n",
       "22633              0.0     1.0                0.0                0.0    0.0   \n",
       "22634              0.0     0.0                0.0                1.0    0.0   \n",
       "\n",
       "       sec-2  sec-3  sec-4  sec-5  sec-6  STADEDEDEVELOPPEMENT  LATITUDE  \\\n",
       "0        0.0    1.0    0.0    0.0    0.0             -2.799727 -1.134141   \n",
       "1        0.0    0.0    0.0    1.0    0.0              0.550797 -0.666504   \n",
       "2        0.0    0.0    0.0    0.0    1.0              0.550797 -0.998473   \n",
       "3        0.0    1.0    0.0    0.0    0.0             -1.124465 -0.037467   \n",
       "4        0.0    0.0    0.0    0.0    0.0              0.550797  0.484574   \n",
       "...      ...    ...    ...    ...    ...                   ...       ...   \n",
       "22630    0.0    0.0    0.0    1.0    0.0              0.550797 -0.177281   \n",
       "22631    0.0    0.0    1.0    0.0    0.0              0.550797 -0.295936   \n",
       "22632    0.0    0.0    0.0    1.0    0.0             -1.124465  0.436364   \n",
       "22633    1.0    0.0    0.0    0.0    0.0             -1.124465  1.545534   \n",
       "22634    0.0    0.0    1.0    0.0    0.0              0.550797 -0.024714   \n",
       "\n",
       "       LONGITUDE  SUM_COORDINATE  \n",
       "0      -1.728452       -1.989685  \n",
       "1       0.378874       -0.175064  \n",
       "2       0.404888       -0.378242  \n",
       "3      -1.689753       -1.229627  \n",
       "4      -1.145869       -0.493228  \n",
       "...          ...             ...  \n",
       "22630   1.473818        0.932260  \n",
       "22631  -0.304620       -0.414815  \n",
       "22632   0.606493        0.723809  \n",
       "22633   0.172494        1.155232  \n",
       "22634  -0.413722       -0.311444  \n",
       "\n",
       "[22635 rows x 14 columns]"
      ]
     },
     "execution_count": 49,
     "metadata": {},
     "output_type": "execute_result"
    }
   ],
   "source": [
    "X_train"
   ]
  },
  {
   "cell_type": "markdown",
   "id": "653aeab4",
   "metadata": {},
   "source": [
    "# Dummy Model"
   ]
  },
  {
   "cell_type": "code",
   "execution_count": 50,
   "id": "6d600689",
   "metadata": {},
   "outputs": [],
   "source": [
    "from sklearn.dummy import DummyRegressor"
   ]
  },
  {
   "cell_type": "code",
   "execution_count": 51,
   "id": "45382d9b",
   "metadata": {},
   "outputs": [
    {
     "name": "stdout",
     "output_type": "stream",
     "text": [
      "°°°°°°°°°°°°°°°°°°°°°°°°°°°°°°°°°°°°°°°°°°°°°°°°°°°°°°°°\n",
      "---- COMPARISON TRUE / PREDICTED ----\n",
      "\n",
      "MSE ----> 301.74468198344965\n",
      "RMSE ---> 17.37079969326253\n",
      "MAE ----> 15.206135629099037\n",
      "MEDAE --> 14.386834548266052\n",
      "R2 -----> 0.0\n",
      "°°°°°°°°°°°°°°°°°°°°°°°°°°°°°°°°°°°°°°°°°°°°°°°°°°°°°°°°\n"
     ]
    }
   ],
   "source": [
    "dummy_reg = DummyRegressor(strategy=\"mean\")\n",
    "dummy_reg.fit(X_train, y_train)\n",
    "y_dummy_predicted = dummy_reg.predict(X_train)\n",
    "MSE, RMSE, MAE, MEDAE, R2 = compute_indicator(y_train, y_dummy_predicted)"
   ]
  },
  {
   "cell_type": "markdown",
   "id": "17b41b6c",
   "metadata": {},
   "source": [
    "# Random Forest"
   ]
  },
  {
   "cell_type": "code",
   "execution_count": 136,
   "id": "75cf00ea",
   "metadata": {},
   "outputs": [],
   "source": [
    "from sklearn.ensemble import RandomForestRegressor\n",
    "from sklearn.model_selection import GridSearchCV"
   ]
  },
  {
   "cell_type": "code",
   "execution_count": 137,
   "id": "c1f0c726",
   "metadata": {},
   "outputs": [],
   "source": [
    "X_train_sansSum = X_train.drop(columns=\"SUM_COORDINATE\")\n",
    "X_test_sansSum = X_test.drop(columns=\"SUM_COORDINATE\")"
   ]
  },
  {
   "cell_type": "markdown",
   "id": "7fc10ff1",
   "metadata": {},
   "source": [
    "## First shot"
   ]
  },
  {
   "cell_type": "code",
   "execution_count": 138,
   "id": "1a526a67",
   "metadata": {},
   "outputs": [],
   "source": [
    "rfr = RandomForestRegressor()\n",
    "rfr_fit = rfr.fit(X_train_sansSum, y_train)\n",
    "y_pred_train = rfr_fit.predict(X_train_sansSum)\n",
    "y_pred_test = rfr_fit.predict(X_test_sansSum)"
   ]
  },
  {
   "cell_type": "code",
   "execution_count": 139,
   "id": "cc61cb7e",
   "metadata": {},
   "outputs": [
    {
     "name": "stdout",
     "output_type": "stream",
     "text": [
      "°°°°°°°°°°°°°°°°°°°°°°°°°°°°°°°°°°°°°°°°°°°°°°°°°°°°°°°°°°°°°°°°°°°°°\n",
      "Results for TRAIN data :\n",
      "\n",
      "°°°°°°°°°°°°°°°°°°°°°°°°°°°°°°°°°°°°°°°°°°°°°°°°°°°°°°°°\n",
      "---- COMPARISON TRUE / PREDICTED ----\n",
      "\n",
      "MSE ----> 6.742420296001766\n",
      "RMSE ---> 2.5966170869039904\n",
      "MAE ----> 1.0753867903688945\n",
      "MEDAE --> 0.10999999999989996\n",
      "R2 -----> 0.9776552141642332\n",
      "°°°°°°°°°°°°°°°°°°°°°°°°°°°°°°°°°°°°°°°°°°°°°°°°°°°°°°°°\n",
      "----------------------------------------------\n",
      "Results for TEST data \n",
      "\n",
      "°°°°°°°°°°°°°°°°°°°°°°°°°°°°°°°°°°°°°°°°°°°°°°°°°°°°°°°°\n",
      "---- COMPARISON TRUE / PREDICTED ----\n",
      "\n",
      "MSE ----> 47.99601399602387\n",
      "RMSE ---> 6.927915559244632\n",
      "MAE ----> 2.908667992047711\n",
      "MEDAE --> 0.33999999999991815\n",
      "R2 -----> 0.8410520471190307\n",
      "°°°°°°°°°°°°°°°°°°°°°°°°°°°°°°°°°°°°°°°°°°°°°°°°°°°°°°°°\n",
      "°°°°°°°°°°°°°°°°°°°°°°°°°°°°°°°°°°°°°°°°°°°°°°°°°°°°°°°°°°°°°°°°°°°°°\n"
     ]
    }
   ],
   "source": [
    "compare_train_test(y_train, y_pred_train, y_test, y_pred_test)"
   ]
  },
  {
   "cell_type": "code",
   "execution_count": 140,
   "id": "df6bca78",
   "metadata": {},
   "outputs": [],
   "source": [
    "rfr_scores = cross_val_score(rfr, X_train_sansSum, y_train, cv = 5, scoring='neg_root_mean_squared_error')"
   ]
  },
  {
   "cell_type": "code",
   "execution_count": 142,
   "id": "91c65aec",
   "metadata": {},
   "outputs": [
    {
     "data": {
      "text/plain": [
       "array([7.08745323, 7.11259576, 7.43174102, 7.03635466, 7.00921816])"
      ]
     },
     "execution_count": 142,
     "metadata": {},
     "output_type": "execute_result"
    }
   ],
   "source": [
    "-rfr_scores"
   ]
  },
  {
   "cell_type": "markdown",
   "id": "57c10f83",
   "metadata": {},
   "source": [
    "### GridSearch - General"
   ]
  },
  {
   "cell_type": "markdown",
   "id": "c733dc14",
   "metadata": {},
   "source": [
    "#### Research"
   ]
  },
  {
   "cell_type": "code",
   "execution_count": 166,
   "id": "1054f031",
   "metadata": {},
   "outputs": [
    {
     "name": "stdout",
     "output_type": "stream",
     "text": [
      "Fitting 5 folds for each of 162 candidates, totalling 810 fits\n",
      "{'max_depth': 15, 'max_features': 'sqrt', 'min_samples_leaf': 1, 'min_samples_split': 2, 'n_estimators': 300}\n"
     ]
    }
   ],
   "source": [
    "rfr_grid = RandomForestRegressor()\n",
    "\n",
    "param_grid = {\n",
    "    'n_estimators': [100, 200, 300],\n",
    "    'max_depth': [5, 10, 15],\n",
    "    'min_samples_split': [2, 5, 10],\n",
    "    'min_samples_leaf': [1, 2, 4],\n",
    "    'max_features': ['sqrt', 'log2']\n",
    "}\n",
    "\n",
    "grid_search = GridSearchCV(estimator=rfr_grid, param_grid=param_grid, cv=5, n_jobs=-1, verbose=10, scoring='neg_root_mean_squared_error')\n",
    "grid_search.fit(X_train_sansSum, y_train)\n",
    "\n",
    "print(grid_search.best_params_)"
   ]
  },
  {
   "cell_type": "markdown",
   "id": "168dbaa1",
   "metadata": {},
   "source": [
    "#### Results --> Visualisation"
   ]
  },
  {
   "cell_type": "code",
   "execution_count": 167,
   "id": "284afbdf",
   "metadata": {},
   "outputs": [],
   "source": [
    "results = grid_search.cv_results_\n",
    "results = pd.DataFrame.from_dict(results)"
   ]
  },
  {
   "cell_type": "code",
   "execution_count": 168,
   "id": "f02be8d7",
   "metadata": {},
   "outputs": [],
   "source": [
    "results;"
   ]
  },
  {
   "cell_type": "code",
   "execution_count": 169,
   "id": "a55566ac",
   "metadata": {},
   "outputs": [
    {
     "data": {
      "text/plain": [
       "<AxesSubplot:xlabel='rank_test_score', ylabel='param_n_estimators'>"
      ]
     },
     "execution_count": 169,
     "metadata": {},
     "output_type": "execute_result"
    },
    {
     "data": {
      "image/png": "[encoded data removed]",
      "text/plain": [
       "<Figure size 1296x648 with 4 Axes>"
      ]
     },
     "metadata": {},
     "output_type": "display_data"
    }
   ],
   "source": [
    "fig, ax = plt.subplots(nrows=4, ncols=1,figsize=(18,9))\n",
    "fig.suptitle(\"Decision Tree - Study each year\", fontsize=20)\n",
    "\n",
    "rank = results[results.index == \"rank_test_score\"].index\n",
    "depth = results[results.index == \"param_max_depth\"].index\n",
    "\n",
    "\n",
    "sns.scatterplot(\n",
    "    ax=ax[0],\n",
    "    x=results[\"rank_test_score\"], \n",
    "    y=results[\"param_max_depth\"], \n",
    "    s=70,\n",
    "    alpha=0.7,\n",
    "    color=colors[0],\n",
    "    label=\"depth\"\n",
    ")\n",
    "\n",
    "sns.scatterplot(\n",
    "    ax=ax[1],\n",
    "    x=results[\"rank_test_score\"], \n",
    "    y=results[\"param_min_samples_leaf\"], \n",
    "    s=70,\n",
    "    alpha=0.7,\n",
    "    color=colors[2],\n",
    "    label=\"min_leaf\"\n",
    ")\n",
    "sns.scatterplot(\n",
    "    ax=ax[2],\n",
    "    x=results[\"rank_test_score\"], \n",
    "    y=results[\"param_min_samples_split\"], \n",
    "    s=70,\n",
    "    alpha=0.7,\n",
    "    color=colors[4],\n",
    "    label=\"min_split\"\n",
    ")\n",
    "sns.scatterplot(\n",
    "    ax=ax[3],\n",
    "    x=results[\"rank_test_score\"], \n",
    "    y=results[\"param_n_estimators\"], \n",
    "    s=70,\n",
    "    alpha=0.7,\n",
    "    color=colors[6],\n",
    "    label=\"n_estimator\"\n",
    ")\n"
   ]
  },
  {
   "cell_type": "markdown",
   "id": "adf4eb8c",
   "metadata": {},
   "source": [
    "## Best Model (Sans nouvelle feature)"
   ]
  },
  {
   "cell_type": "code",
   "execution_count": 194,
   "id": "3a7ee88f",
   "metadata": {},
   "outputs": [
    {
     "data": {
      "text/plain": [
       "{'max_depth': 15,\n",
       " 'max_features': 'sqrt',\n",
       " 'min_samples_leaf': 1,\n",
       " 'min_samples_split': 2,\n",
       " 'n_estimators': 300}"
      ]
     },
     "execution_count": 194,
     "metadata": {},
     "output_type": "execute_result"
    }
   ],
   "source": [
    "best_parm = grid_search.best_params_\n",
    "best_parm"
   ]
  },
  {
   "cell_type": "code",
   "execution_count": 201,
   "id": "f9b17d32",
   "metadata": {},
   "outputs": [],
   "source": [
    "rfr_opti = RandomForestRegressor(\n",
    "    max_depth=10, \n",
    "    max_features=\"sqrt\", \n",
    "    min_samples_leaf=1, \n",
    "    min_samples_split=2, \n",
    "    n_estimators=200\n",
    ")"
   ]
  },
  {
   "cell_type": "code",
   "execution_count": 196,
   "id": "c319518d",
   "metadata": {},
   "outputs": [],
   "source": [
    "rfr_opti = rfr_opti.fit(X_train_sansSum, y_train)\n",
    "y_pred_train = rfr_opti.predict(X_train_sansSum)\n",
    "y_pred_test = rfr_opti.predict(X_test_sansSum)"
   ]
  },
  {
   "cell_type": "code",
   "execution_count": 197,
   "id": "a821cd9a",
   "metadata": {},
   "outputs": [
    {
     "name": "stdout",
     "output_type": "stream",
     "text": [
      "°°°°°°°°°°°°°°°°°°°°°°°°°°°°°°°°°°°°°°°°°°°°°°°°°°°°°°°°°°°°°°°°°°°°°\n",
      "Results for TRAIN data :\n",
      "\n",
      "°°°°°°°°°°°°°°°°°°°°°°°°°°°°°°°°°°°°°°°°°°°°°°°°°°°°°°°°\n",
      "---- COMPARISON TRUE / PREDICTED ----\n",
      "\n",
      "MSE ----> 86.60851837402323\n",
      "RMSE ---> 9.306369774193547\n",
      "MAE ----> 6.689351421518811\n",
      "MEDAE --> 4.718949167766368\n",
      "R2 -----> 0.7129741680790463\n",
      "°°°°°°°°°°°°°°°°°°°°°°°°°°°°°°°°°°°°°°°°°°°°°°°°°°°°°°°°\n",
      "----------------------------------------------\n",
      "Results for TEST data \n",
      "\n",
      "°°°°°°°°°°°°°°°°°°°°°°°°°°°°°°°°°°°°°°°°°°°°°°°°°°°°°°°°\n",
      "---- COMPARISON TRUE / PREDICTED ----\n",
      "\n",
      "MSE ----> 97.45895904453862\n",
      "RMSE ---> 9.872130420762208\n",
      "MAE ----> 7.019902746266763\n",
      "MEDAE --> 4.864069279174373\n",
      "R2 -----> 0.677246072323361\n",
      "°°°°°°°°°°°°°°°°°°°°°°°°°°°°°°°°°°°°°°°°°°°°°°°°°°°°°°°°\n",
      "°°°°°°°°°°°°°°°°°°°°°°°°°°°°°°°°°°°°°°°°°°°°°°°°°°°°°°°°°°°°°°°°°°°°°\n"
     ]
    }
   ],
   "source": [
    "compare_train_test(y_train, y_pred_train, y_test, y_pred_test)"
   ]
  },
  {
   "cell_type": "markdown",
   "id": "795b3865",
   "metadata": {},
   "source": [
    "### Feature importance"
   ]
  },
  {
   "cell_type": "code",
   "execution_count": 198,
   "id": "0763614a",
   "metadata": {},
   "outputs": [],
   "source": [
    "importances = rfr_opti.feature_importances_\n",
    "sorted_indices = np.argsort(importances)[::-1]"
   ]
  },
  {
   "cell_type": "code",
   "execution_count": 199,
   "id": "81f8c5eb",
   "metadata": {},
   "outputs": [
    {
     "data": {
      "text/plain": [
       "<AxesSubplot:>"
      ]
     },
     "execution_count": 199,
     "metadata": {},
     "output_type": "execute_result"
    },
    {
     "data": {
      "image/png": "[encoded data removed]",
      "text/plain": [
       "<Figure size 1296x648 with 1 Axes>"
      ]
     },
     "metadata": {},
     "output_type": "display_data"
    }
   ],
   "source": [
    "fig, ax = plt.subplots(nrows=1, ncols=1,figsize=(18,9))\n",
    "fig.suptitle(\"Study of the importance of the parameters\", fontsize=20)\n",
    "\n",
    "sns.barplot(\n",
    "    ax=ax,\n",
    "    x=importances[sorted_indices], \n",
    "    y=X_train_sansSum.columns[sorted_indices],\n",
    ")"
   ]
  },
  {
   "cell_type": "markdown",
   "id": "2f694b8a",
   "metadata": {},
   "source": [
    "### Conclusion"
   ]
  },
  {
   "cell_type": "raw",
   "id": "53955f92",
   "metadata": {},
   "source": [
    "--> En prenant les paramètre du Grid idéaux\n",
    "--> Toujours STADEDEDEVELOPPEMENT principal acteur de la classification\n",
    "--> Suivi par les paramètre géoraphique\n",
    "--> On pourrait d'ailleur tenter avec juste STADEDEDEVELOPPEMENT et SUM_COORDINATE et "
   ]
  },
  {
   "cell_type": "markdown",
   "id": "dee1bc86",
   "metadata": {},
   "source": [
    "## Best Model avec Sum Coordinate feature"
   ]
  },
  {
   "cell_type": "code",
   "execution_count": 202,
   "id": "9d082b20",
   "metadata": {},
   "outputs": [],
   "source": [
    "rfr_opti_coordinate = RandomForestRegressor(\n",
    "    max_depth=10, \n",
    "    max_features=\"sqrt\", \n",
    "    min_samples_leaf=1, \n",
    "    min_samples_split=2, \n",
    "    n_estimators=2000\n",
    ")"
   ]
  },
  {
   "cell_type": "code",
   "execution_count": 203,
   "id": "7b1c4157",
   "metadata": {},
   "outputs": [
    {
     "data": {
      "text/html": [
       "<div>\n",
       "<style scoped>\n",
       "    .dataframe tbody tr th:only-of-type {\n",
       "        vertical-align: middle;\n",
       "    }\n",
       "\n",
       "    .dataframe tbody tr th {\n",
       "        vertical-align: top;\n",
       "    }\n",
       "\n",
       "    .dataframe thead th {\n",
       "        text-align: right;\n",
       "    }\n",
       "</style>\n",
       "<table border=\"1\" class=\"dataframe\">\n",
       "  <thead>\n",
       "    <tr style=\"text-align: right;\">\n",
       "      <th></th>\n",
       "      <th>espaces ouverts</th>\n",
       "      <th>voirie</th>\n",
       "      <th>enceintes fermées</th>\n",
       "      <th>Bois semi naturel</th>\n",
       "      <th>sec-1</th>\n",
       "      <th>sec-2</th>\n",
       "      <th>sec-3</th>\n",
       "      <th>sec-4</th>\n",
       "      <th>sec-5</th>\n",
       "      <th>sec-6</th>\n",
       "      <th>STADEDEDEVELOPPEMENT</th>\n",
       "      <th>SUM_COORDINATE</th>\n",
       "    </tr>\n",
       "  </thead>\n",
       "  <tbody>\n",
       "    <tr>\n",
       "      <th>0</th>\n",
       "      <td>0.0</td>\n",
       "      <td>1.0</td>\n",
       "      <td>0.0</td>\n",
       "      <td>0.0</td>\n",
       "      <td>0.0</td>\n",
       "      <td>0.0</td>\n",
       "      <td>1.0</td>\n",
       "      <td>0.0</td>\n",
       "      <td>0.0</td>\n",
       "      <td>0.0</td>\n",
       "      <td>-2.799727</td>\n",
       "      <td>-1.989685</td>\n",
       "    </tr>\n",
       "    <tr>\n",
       "      <th>1</th>\n",
       "      <td>0.0</td>\n",
       "      <td>1.0</td>\n",
       "      <td>0.0</td>\n",
       "      <td>0.0</td>\n",
       "      <td>0.0</td>\n",
       "      <td>0.0</td>\n",
       "      <td>0.0</td>\n",
       "      <td>0.0</td>\n",
       "      <td>1.0</td>\n",
       "      <td>0.0</td>\n",
       "      <td>0.550797</td>\n",
       "      <td>-0.175064</td>\n",
       "    </tr>\n",
       "    <tr>\n",
       "      <th>2</th>\n",
       "      <td>0.0</td>\n",
       "      <td>1.0</td>\n",
       "      <td>0.0</td>\n",
       "      <td>0.0</td>\n",
       "      <td>0.0</td>\n",
       "      <td>0.0</td>\n",
       "      <td>0.0</td>\n",
       "      <td>0.0</td>\n",
       "      <td>0.0</td>\n",
       "      <td>1.0</td>\n",
       "      <td>0.550797</td>\n",
       "      <td>-0.378242</td>\n",
       "    </tr>\n",
       "    <tr>\n",
       "      <th>3</th>\n",
       "      <td>0.0</td>\n",
       "      <td>1.0</td>\n",
       "      <td>0.0</td>\n",
       "      <td>0.0</td>\n",
       "      <td>0.0</td>\n",
       "      <td>0.0</td>\n",
       "      <td>1.0</td>\n",
       "      <td>0.0</td>\n",
       "      <td>0.0</td>\n",
       "      <td>0.0</td>\n",
       "      <td>-1.124465</td>\n",
       "      <td>-1.229627</td>\n",
       "    </tr>\n",
       "    <tr>\n",
       "      <th>4</th>\n",
       "      <td>0.0</td>\n",
       "      <td>0.0</td>\n",
       "      <td>1.0</td>\n",
       "      <td>0.0</td>\n",
       "      <td>1.0</td>\n",
       "      <td>0.0</td>\n",
       "      <td>0.0</td>\n",
       "      <td>0.0</td>\n",
       "      <td>0.0</td>\n",
       "      <td>0.0</td>\n",
       "      <td>0.550797</td>\n",
       "      <td>-0.493228</td>\n",
       "    </tr>\n",
       "  </tbody>\n",
       "</table>\n",
       "</div>"
      ],
      "text/plain": [
       "   espaces ouverts  voirie  enceintes fermées  Bois semi naturel  sec-1  \\\n",
       "0              0.0     1.0                0.0                0.0    0.0   \n",
       "1              0.0     1.0                0.0                0.0    0.0   \n",
       "2              0.0     1.0                0.0                0.0    0.0   \n",
       "3              0.0     1.0                0.0                0.0    0.0   \n",
       "4              0.0     0.0                1.0                0.0    1.0   \n",
       "\n",
       "   sec-2  sec-3  sec-4  sec-5  sec-6  STADEDEDEVELOPPEMENT  SUM_COORDINATE  \n",
       "0    0.0    1.0    0.0    0.0    0.0             -2.799727       -1.989685  \n",
       "1    0.0    0.0    0.0    1.0    0.0              0.550797       -0.175064  \n",
       "2    0.0    0.0    0.0    0.0    1.0              0.550797       -0.378242  \n",
       "3    0.0    1.0    0.0    0.0    0.0             -1.124465       -1.229627  \n",
       "4    0.0    0.0    0.0    0.0    0.0              0.550797       -0.493228  "
      ]
     },
     "metadata": {},
     "output_type": "display_data"
    }
   ],
   "source": [
    "X_train_sum = X_train.drop(columns=\"LATITUDE\")\n",
    "X_train_sum = X_train_sum.drop(columns=\"LONGITUDE\")\n",
    "\n",
    "X_test_sum = X_test.drop(columns=\"LATITUDE\")\n",
    "X_test_sum = X_test_sum.drop(columns=\"LONGITUDE\")\n",
    "\n",
    "display(X_train_sum.head())"
   ]
  },
  {
   "cell_type": "code",
   "execution_count": 204,
   "id": "2057c8fc",
   "metadata": {},
   "outputs": [],
   "source": [
    "rfr_opti_coordinate = rfr_opti_coordinate.fit(X_train_sum, y_train)\n",
    "y_pred_train = rfr_opti_coordinate.predict(X_train_sum)\n",
    "y_pred_test = rfr_opti_coordinate.predict(X_test_sum)"
   ]
  },
  {
   "cell_type": "code",
   "execution_count": 205,
   "id": "389ff774",
   "metadata": {},
   "outputs": [
    {
     "name": "stdout",
     "output_type": "stream",
     "text": [
      "°°°°°°°°°°°°°°°°°°°°°°°°°°°°°°°°°°°°°°°°°°°°°°°°°°°°°°°°°°°°°°°°°°°°°\n",
      "Results for TRAIN data :\n",
      "\n",
      "°°°°°°°°°°°°°°°°°°°°°°°°°°°°°°°°°°°°°°°°°°°°°°°°°°°°°°°°\n",
      "---- COMPARISON TRUE / PREDICTED ----\n",
      "\n",
      "MSE ----> 107.04027890679345\n",
      "RMSE ---> 10.34602720404279\n",
      "MAE ----> 7.40997601748951\n",
      "MEDAE --> 5.239472800675003\n",
      "R2 -----> 0.6452620864659862\n",
      "°°°°°°°°°°°°°°°°°°°°°°°°°°°°°°°°°°°°°°°°°°°°°°°°°°°°°°°°\n",
      "----------------------------------------------\n",
      "Results for TEST data \n",
      "\n",
      "°°°°°°°°°°°°°°°°°°°°°°°°°°°°°°°°°°°°°°°°°°°°°°°°°°°°°°°°\n",
      "---- COMPARISON TRUE / PREDICTED ----\n",
      "\n",
      "MSE ----> 121.7917441491826\n",
      "RMSE ---> 11.035929691203302\n",
      "MAE ----> 7.820519665684195\n",
      "MEDAE --> 5.409033563603089\n",
      "R2 -----> 0.5966634143427189\n",
      "°°°°°°°°°°°°°°°°°°°°°°°°°°°°°°°°°°°°°°°°°°°°°°°°°°°°°°°°\n",
      "°°°°°°°°°°°°°°°°°°°°°°°°°°°°°°°°°°°°°°°°°°°°°°°°°°°°°°°°°°°°°°°°°°°°°\n"
     ]
    }
   ],
   "source": [
    "compare_train_test(y_train, y_pred_train, y_test, y_pred_test)"
   ]
  },
  {
   "cell_type": "code",
   "execution_count": 206,
   "id": "03d9dcd7",
   "metadata": {
    "scrolled": true
   },
   "outputs": [
    {
     "data": {
      "text/plain": [
       "<AxesSubplot:>"
      ]
     },
     "execution_count": 206,
     "metadata": {},
     "output_type": "execute_result"
    },
    {
     "data": {
      "image/png": "[encoded data removed]",
      "text/plain": [
       "<Figure size 1296x648 with 1 Axes>"
      ]
     },
     "metadata": {},
     "output_type": "display_data"
    }
   ],
   "source": [
    "importances = rfr_opti_coordinate.feature_importances_\n",
    "sorted_indices = np.argsort(importances)[::-1]\n",
    "\n",
    "fig, ax = plt.subplots(nrows=1, ncols=1,figsize=(18,9))\n",
    "fig.suptitle(\"Study of the importance of the parameters\", fontsize=20)\n",
    "\n",
    "sns.barplot(\n",
    "    ax=ax,\n",
    "    x=importances[sorted_indices], \n",
    "    y=X_train_sum.columns[sorted_indices],\n",
    ")"
   ]
  },
  {
   "cell_type": "code",
   "execution_count": null,
   "id": "e43b398d",
   "metadata": {},
   "outputs": [],
   "source": []
  },
  {
   "cell_type": "code",
   "execution_count": null,
   "id": "3ef718f1",
   "metadata": {},
   "outputs": [],
   "source": []
  }
 ],
 "metadata": {
  "kernelspec": {
   "display_name": "Python 3 (ipykernel)",
   "language": "python",
   "name": "python3"
  },
  "language_info": {
   "codemirror_mode": {
    "name": "ipython",
    "version": 3
   },
   "file_extension": ".py",
   "mimetype": "text/x-python",
   "name": "python",
   "nbconvert_exporter": "python",
   "pygments_lexer": "ipython3",
   "version": "3.9.7"
  }
 },
 "nbformat": 4,
 "nbformat_minor": 5
}
