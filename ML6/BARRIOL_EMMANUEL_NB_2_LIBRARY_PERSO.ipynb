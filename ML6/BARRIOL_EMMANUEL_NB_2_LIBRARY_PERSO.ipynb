{
 "cells": [
  {
   "cell_type": "markdown",
   "id": "4f2acef9",
   "metadata": {},
   "source": [
    "# ARIMA PREDICTION WITH PERSONAL LIBRARY"
   ]
  },
  {
   "cell_type": "markdown",
   "id": "c4193511",
   "metadata": {},
   "source": [
    "------"
   ]
  },
  {
   "cell_type": "markdown",
   "id": "19c7a52c",
   "metadata": {},
   "source": [
    "This notebook is based on the ArimaPredictor personnal library\n",
    "\n",
    "The ArimaPredictor Object is able to : \n",
    "\n",
    "- load data series\n",
    "- Assess stationarity based on kpss or ADF test\n",
    "- Plot the PACF | ACF curve\n",
    "- Study the AIC and BIC\n",
    "- plot tools and summary of data\n",
    "- fit an ARIMA or SARIMA model depending\n",
    "- predict and plot the data\n",
    "- make gridsearch"
   ]
  },
  {
   "cell_type": "markdown",
   "id": "b4be12df",
   "metadata": {},
   "source": [
    "------"
   ]
  },
  {
   "cell_type": "markdown",
   "id": "7d39e4ce",
   "metadata": {},
   "source": [
    "# Import and data load"
   ]
  },
  {
   "cell_type": "markdown",
   "id": "46e68379",
   "metadata": {},
   "source": [
    "### Import"
   ]
  },
  {
   "cell_type": "code",
   "execution_count": 1,
   "id": "0c888f05",
   "metadata": {},
   "outputs": [],
   "source": [
    "import os\n",
    "import pandas as pd\n",
    "from arima_predictor import ArimaPredictor"
   ]
  },
  {
   "cell_type": "code",
   "execution_count": 2,
   "id": "38498e43",
   "metadata": {},
   "outputs": [
    {
     "data": {
      "text/plain": [
       "'/Users/manulabricole/Documents/CDN/MachineLearning/ML6'"
      ]
     },
     "execution_count": 2,
     "metadata": {},
     "output_type": "execute_result"
    }
   ],
   "source": [
    "cwd = os.getcwd()\n",
    "cwd"
   ]
  },
  {
   "cell_type": "markdown",
   "id": "632c2d29",
   "metadata": {},
   "source": [
    "### data "
   ]
  },
  {
   "cell_type": "code",
   "execution_count": 3,
   "id": "cacbf46a",
   "metadata": {},
   "outputs": [],
   "source": [
    "data_path = os.path.join(cwd, \"data/AirPassengers.csv\")"
   ]
  },
  {
   "cell_type": "code",
   "execution_count": 4,
   "id": "2c466d56",
   "metadata": {},
   "outputs": [],
   "source": [
    "df = pd.read_csv(data_path)\n",
    "df.set_index(\"Month\", inplace=True)\n",
    "df = df.rename(columns={'#Passengers': 'Passengers'})"
   ]
  },
  {
   "cell_type": "code",
   "execution_count": 5,
   "id": "1d0288e8",
   "metadata": {},
   "outputs": [
    {
     "name": "stdout",
     "output_type": "stream",
     "text": [
      "[ArimaPredictor] Created\n",
      "[ArimaPredictor] DataFrame loaded...\n"
     ]
    }
   ],
   "source": [
    "predictor = ArimaPredictor()\n",
    "predictor.load_data(df)"
   ]
  },
  {
   "cell_type": "code",
   "execution_count": 6,
   "id": "11fe4f64",
   "metadata": {},
   "outputs": [
    {
     "name": "stdout",
     "output_type": "stream",
     "text": [
      "[ArimaPredictor] Checking data stationarity...\n",
      "°°°°°°°°°°°°°°°°°°°°°°°°°°°°°°°°°°°°°°°°°°°°°°°°°°°°°°°°°°°°°°°°°°°°°°°°°°°°°°°°°°°°°°°°°°°°°°°°°°°°°°°°\n",
      "ADF Statistic: 0.815369\n",
      "p-value: 0.991880\n",
      "Critical Values:\n",
      "\t1%: -3.482\n",
      "\t5%: -2.884\n",
      "\t10%: -2.579\n",
      "Data is not stationary\n",
      "°°°°°°°°°°°°°°°°°°°°°°°°°°°°°°°°°°°°°°°°°°°°°°°°°°°°°°°°°°°°°°°°°°°°°°°°°°°°°°°°°°°°°°°°°°°°°°°°°°°°°°°°\n",
      "\n",
      "°°°°°°°°°°°°°°°°°°°°°°°°°°°°°°°°°°°°°°°°°°°°°°°°°°°°°°°°°°°°°°°°°°°°°°°°°°°°°°°°°°°°°°°°°°°°°°°°°°°°°°°°\n",
      "KPSS Statistic: 1.6513122354165206\n",
      "p-value: 0.01\n",
      "num lags: 8\n",
      "Critical values:\n",
      "\t10% : 0.347\n",
      "\t5% : 0.463\n",
      "\t2.5% : 0.574\n",
      "\t1% : 0.739\n",
      "Data is not stationary\n",
      "°°°°°°°°°°°°°°°°°°°°°°°°°°°°°°°°°°°°°°°°°°°°°°°°°°°°°°°°°°°°°°°°°°°°°°°°°°°°°°°°°°°°°°°°°°°°°°°°°°°°°°°°\n",
      "\n"
     ]
    },
    {
     "name": "stderr",
     "output_type": "stream",
     "text": [
      "/Users/manulabricole/Documents/CDN/MachineLearning/ML6/arima_predictor.py:63: InterpolationWarning: The test statistic is outside of the range of p-values available in the\n",
      "look-up table. The actual p-value is smaller than the p-value returned.\n",
      "\n",
      "  statistic, p_value, n_lags, critical_values = kpss(data, regression='c')\n"
     ]
    }
   ],
   "source": [
    "predictor.check_data_stationarity(me)"
   ]
  },
  {
   "cell_type": "code",
   "execution_count": null,
   "id": "bc2ee59e",
   "metadata": {},
   "outputs": [],
   "source": []
  },
  {
   "cell_type": "code",
   "execution_count": null,
   "id": "10cddd35",
   "metadata": {},
   "outputs": [],
   "source": []
  }
 ],
 "metadata": {
  "kernelspec": {
   "display_name": "Python 3 (ipykernel)",
   "language": "python",
   "name": "python3"
  },
  "language_info": {
   "codemirror_mode": {
    "name": "ipython",
    "version": 3
   },
   "file_extension": ".py",
   "mimetype": "text/x-python",
   "name": "python",
   "nbconvert_exporter": "python",
   "pygments_lexer": "ipython3",
   "version": "3.10.0"
  }
 },
 "nbformat": 4,
 "nbformat_minor": 5
}
