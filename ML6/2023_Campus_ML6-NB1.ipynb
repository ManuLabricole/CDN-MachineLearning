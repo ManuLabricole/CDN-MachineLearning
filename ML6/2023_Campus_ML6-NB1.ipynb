{
 "cells": [
  {
   "cell_type": "markdown",
   "id": "e2dd3c2c",
   "metadata": {},
   "source": [
    "# Time series prediction (Part 1 - 1 day)"
   ]
  },
  {
   "cell_type": "markdown",
   "id": "399da4c9",
   "metadata": {},
   "source": [
    "**NB objective**\n",
    "- [ ] Get to know the theory behind time series\n",
    "- [ ] Discover main time series analysis challenges"
   ]
  },
  {
   "cell_type": "markdown",
   "id": "3445fd01",
   "metadata": {},
   "source": [
    "**Required librairies**\n",
    "- [ ] matplotlib\n",
    "- [ ] numpy\n",
    "- [ ] pandas\n",
    "- [ ] seaborn\n",
    "- [ ] pmdarima"
   ]
  },
  {
   "cell_type": "markdown",
   "id": "651f1513",
   "metadata": {},
   "source": [
    "## How to deal with Time series ?"
   ]
  },
  {
   "cell_type": "markdown",
   "id": "fb876e11",
   "metadata": {},
   "source": [
    "To be brief, when dealing with time series, few checks are required and for your greatest pleasure... a bit of theory helps... \n",
    "😁"
   ]
  },
  {
   "cell_type": "markdown",
   "id": "c517d49e",
   "metadata": {},
   "source": [
    "### Theory"
   ]
  },
  {
   "cell_type": "markdown",
   "id": "7d2f9c7a",
   "metadata": {},
   "source": [
    "#### Tendancy"
   ]
  },
  {
   "cell_type": "raw",
   "id": "80601e60",
   "metadata": {},
   "source": [
    "Also called Trend : The linear increasing or decreasing behavior of the series over time.\n",
    "\n",
    "→ We check out data for repeated behavior in its graphical representation\n",
    "→ If continuously increasing or decreasing , easy\n",
    "→ If the time series data contains some kind of considerable error, then the first step in the process of trend identification is smoothing."
   ]
  },
  {
   "cell_type": "markdown",
   "id": "b6c17856",
   "metadata": {},
   "source": [
    "#### Seasonality"
   ]
  },
  {
   "cell_type": "raw",
   "id": "2fcd5f60",
   "metadata": {},
   "source": [
    "→ Seasonality is the repetition of data at a certain period of time interval. \n",
    "→ For example, every year we notice that people tend to go on vacation during the December — January time, this is seasonality. \n",
    "→ It is one other most important characteristics of time series analysis. \n",
    "→ It is generally measured by autocorrelation after subtracting the trend from the data."
   ]
  },
  {
   "cell_type": "markdown",
   "id": "46a429d5",
   "metadata": {},
   "source": [
    "#### Autocorrelation partial or not"
   ]
  },
  {
   "cell_type": "markdown",
   "id": "ca13ad6c",
   "metadata": {},
   "source": [
    "We can calculate the correlation for time-series observations with observations from previous time steps\n",
    "\n",
    "→ Also called *lags\n",
    "→ T*his is called a serial correlation, or an autocorrelation cause it is based on the same data but at a previous time\n",
    "\n",
    "---\n",
    "\n",
    "**ACF** : plot of the autocorrelation of a dataset of a time series by lag is called the **A**uto**C**orrelation **F**unction\n",
    "The ACF measures the correlation between a data point in a series and its lagged values, which are previous values in the series. It tells us how related a data point is to its past values. The ACF considers both direct and indirect relationships between the data point and its lagged values.\n",
    "\n",
    "---\n",
    "\n",
    "**PACF** : **P**artial **A**uto**C**orrelation **F**unction\n",
    "An intuitive description can be \"the amount of correlation with each lag that is not accounted for by more recent lags\".\n",
    "\n",
    "Autocorrelation satisfies a property that we could call *dampened transitivity*. \n",
    "If 𝑥_t is correlated with 𝑥_(𝑡−1) by some amount 𝜌<0\n",
    "then 𝑥𝑡−(t-1) is correlated with 𝑥_(𝑡−2) by 𝜌. \n",
    "This implies that 𝑥_t is correlated with 𝑥_(t-2), although by some amount smaller than 𝜌\n",
    "\n",
    "On the other hand, the PACF measures the correlation between a data point and its lagged values while removing the effects of intervening time points. In other words, it only measures the direct relationship between the data point and its lagged values, without considering any indirect relationships.\n",
    "\n",
    "To put it simply, the ACF tells us how a data point is related to all of its past values, while the PACF tells us how a data point is directly related to its immediate lagged values, without considering any other intermediate values.\n",
    "\n",
    "---\n",
    "\n",
    "Partial autocorrelation computes the \"pure\" correlation between\n",
    "\n",
    "𝑥_t and 𝑥_(𝑡−2) by removing the \"transitive\" correlation"
   ]
  },
  {
   "cell_type": "markdown",
   "id": "8c390099",
   "metadata": {},
   "source": [
    "$ p(h) = corr(Y_t, Y_t-_h) $"
   ]
  },
  {
   "cell_type": "markdown",
   "id": "747f774a",
   "metadata": {},
   "source": [
    "#### Stationarity"
   ]
  },
  {
   "cell_type": "raw",
   "id": "d26cb0b1",
   "metadata": {},
   "source": [
    "→ A stationary time series is one whose properties do not depend on the time at which the series is observed\n",
    "→ Thus, time series with trends, orwith seasonality, are not stationary — the trend and seasonality will affect the value of the time series at different times. \n",
    "→ On the other hand, a white noise series is stationary — it does not matter when you observe it, it should look much the same at any point in time."
   ]
  },
  {
   "cell_type": "markdown",
   "id": "3e3f0563",
   "metadata": {},
   "source": [
    "#### Heteroskedasticity"
   ]
  },
  {
   "cell_type": "raw",
   "id": "e61ffb70",
   "metadata": {},
   "source": [
    "A time series is heteroskedastic if its variance changes over time. \n",
    "This condition violates one of the assumptions of classical linear regression models, which assume homoskedasticity (constant variance of errors)\n",
    "\n",
    "We can use graphic analysis but it's not the best method\n",
    "We can run some tests :\n",
    "\n",
    "- [White test]\n",
    "- [Breusch-Pagan test]\n",
    "- [Goldfeld–Quandt test]\n",
    "\n",
    "Any regression analysis assume the distribution of residuals as homskedastic. If not the case, not point to make a Linear Regression"
   ]
  },
  {
   "cell_type": "code",
   "execution_count": 4,
   "id": "fbc3bbcd",
   "metadata": {},
   "outputs": [],
   "source": [
    "# Explain and resume conditions for a time series to be heteroskedastic\n",
    "# Why is it important to test heteroskedasticity before any regression analysis?"
   ]
  },
  {
   "cell_type": "markdown",
   "id": "9a191146",
   "metadata": {},
   "source": [
    "# Time series analysis"
   ]
  },
  {
   "cell_type": "markdown",
   "id": "83b4deb8",
   "metadata": {},
   "source": [
    "**Data analysis**"
   ]
  },
  {
   "cell_type": "code",
   "execution_count": 5,
   "id": "c6d47719",
   "metadata": {},
   "outputs": [],
   "source": [
    "# Load data\n",
    "from pmdarima.datasets import load_airpassengers\n",
    "# Write definitions to visualize, describe and eventually clean data\n",
    "# Write definition to assess autocorrelation and stationarity \n",
    "# Write definition to test the heteroskedasticity\n",
    "# Write definition to change sampling (D/M/Y)"
   ]
  },
  {
   "cell_type": "code",
   "execution_count": 6,
   "id": "bd5f8ab1",
   "metadata": {},
   "outputs": [],
   "source": [
    "import os\n",
    "import pandas as pd\n",
    "import matplotlib.pyplot as plt"
   ]
  },
  {
   "cell_type": "markdown",
   "id": "1bccd89f",
   "metadata": {},
   "source": [
    "### Import data"
   ]
  },
  {
   "cell_type": "code",
   "execution_count": 7,
   "id": "eb1ab6b0",
   "metadata": {},
   "outputs": [],
   "source": [
    "cwd = os.getcwd()"
   ]
  },
  {
   "cell_type": "code",
   "execution_count": 8,
   "id": "b598dba5",
   "metadata": {},
   "outputs": [],
   "source": [
    "data_path = os.path.join(cwd, \"data/AirPassengers.csv\")"
   ]
  },
  {
   "cell_type": "code",
   "execution_count": 9,
   "id": "aa97206c",
   "metadata": {},
   "outputs": [],
   "source": [
    "df = pd.read_csv(data_path)"
   ]
  },
  {
   "cell_type": "code",
   "execution_count": 10,
   "id": "b098f940",
   "metadata": {},
   "outputs": [
    {
     "data": {
      "text/html": [
       "<div>\n",
       "<style scoped>\n",
       "    .dataframe tbody tr th:only-of-type {\n",
       "        vertical-align: middle;\n",
       "    }\n",
       "\n",
       "    .dataframe tbody tr th {\n",
       "        vertical-align: top;\n",
       "    }\n",
       "\n",
       "    .dataframe thead th {\n",
       "        text-align: right;\n",
       "    }\n",
       "</style>\n",
       "<table border=\"1\" class=\"dataframe\">\n",
       "  <thead>\n",
       "    <tr style=\"text-align: right;\">\n",
       "      <th></th>\n",
       "      <th>Month</th>\n",
       "      <th>#Passengers</th>\n",
       "    </tr>\n",
       "  </thead>\n",
       "  <tbody>\n",
       "    <tr>\n",
       "      <th>0</th>\n",
       "      <td>1949-01</td>\n",
       "      <td>112</td>\n",
       "    </tr>\n",
       "    <tr>\n",
       "      <th>1</th>\n",
       "      <td>1949-02</td>\n",
       "      <td>118</td>\n",
       "    </tr>\n",
       "    <tr>\n",
       "      <th>2</th>\n",
       "      <td>1949-03</td>\n",
       "      <td>132</td>\n",
       "    </tr>\n",
       "    <tr>\n",
       "      <th>3</th>\n",
       "      <td>1949-04</td>\n",
       "      <td>129</td>\n",
       "    </tr>\n",
       "    <tr>\n",
       "      <th>4</th>\n",
       "      <td>1949-05</td>\n",
       "      <td>121</td>\n",
       "    </tr>\n",
       "    <tr>\n",
       "      <th>...</th>\n",
       "      <td>...</td>\n",
       "      <td>...</td>\n",
       "    </tr>\n",
       "    <tr>\n",
       "      <th>139</th>\n",
       "      <td>1960-08</td>\n",
       "      <td>606</td>\n",
       "    </tr>\n",
       "    <tr>\n",
       "      <th>140</th>\n",
       "      <td>1960-09</td>\n",
       "      <td>508</td>\n",
       "    </tr>\n",
       "    <tr>\n",
       "      <th>141</th>\n",
       "      <td>1960-10</td>\n",
       "      <td>461</td>\n",
       "    </tr>\n",
       "    <tr>\n",
       "      <th>142</th>\n",
       "      <td>1960-11</td>\n",
       "      <td>390</td>\n",
       "    </tr>\n",
       "    <tr>\n",
       "      <th>143</th>\n",
       "      <td>1960-12</td>\n",
       "      <td>432</td>\n",
       "    </tr>\n",
       "  </tbody>\n",
       "</table>\n",
       "<p>144 rows × 2 columns</p>\n",
       "</div>"
      ],
      "text/plain": [
       "       Month  #Passengers\n",
       "0    1949-01          112\n",
       "1    1949-02          118\n",
       "2    1949-03          132\n",
       "3    1949-04          129\n",
       "4    1949-05          121\n",
       "..       ...          ...\n",
       "139  1960-08          606\n",
       "140  1960-09          508\n",
       "141  1960-10          461\n",
       "142  1960-11          390\n",
       "143  1960-12          432\n",
       "\n",
       "[144 rows x 2 columns]"
      ]
     },
     "execution_count": 10,
     "metadata": {},
     "output_type": "execute_result"
    }
   ],
   "source": [
    "df"
   ]
  },
  {
   "cell_type": "markdown",
   "id": "b9dca41b",
   "metadata": {},
   "source": [
    "### Rework dataframe "
   ]
  },
  {
   "cell_type": "code",
   "execution_count": 11,
   "id": "16500782",
   "metadata": {},
   "outputs": [],
   "source": [
    "# Assuming your DataFrame is called df\n",
    "# Convert the \"Month\" column to datetime format\n",
    "df[\"Month\"] = pd.to_datetime(df[\"Month\"])\n",
    "\n",
    "# Set the \"Month\" column as the index\n",
    "df.set_index(\"Month\", inplace=True)"
   ]
  },
  {
   "cell_type": "code",
   "execution_count": 12,
   "id": "5315a305",
   "metadata": {},
   "outputs": [
    {
     "data": {
      "text/html": [
       "<div>\n",
       "<style scoped>\n",
       "    .dataframe tbody tr th:only-of-type {\n",
       "        vertical-align: middle;\n",
       "    }\n",
       "\n",
       "    .dataframe tbody tr th {\n",
       "        vertical-align: top;\n",
       "    }\n",
       "\n",
       "    .dataframe thead th {\n",
       "        text-align: right;\n",
       "    }\n",
       "</style>\n",
       "<table border=\"1\" class=\"dataframe\">\n",
       "  <thead>\n",
       "    <tr style=\"text-align: right;\">\n",
       "      <th></th>\n",
       "      <th>#Passengers</th>\n",
       "    </tr>\n",
       "    <tr>\n",
       "      <th>Month</th>\n",
       "      <th></th>\n",
       "    </tr>\n",
       "  </thead>\n",
       "  <tbody>\n",
       "    <tr>\n",
       "      <th>1949-01-01</th>\n",
       "      <td>112</td>\n",
       "    </tr>\n",
       "    <tr>\n",
       "      <th>1949-02-01</th>\n",
       "      <td>118</td>\n",
       "    </tr>\n",
       "    <tr>\n",
       "      <th>1949-03-01</th>\n",
       "      <td>132</td>\n",
       "    </tr>\n",
       "    <tr>\n",
       "      <th>1949-04-01</th>\n",
       "      <td>129</td>\n",
       "    </tr>\n",
       "    <tr>\n",
       "      <th>1949-05-01</th>\n",
       "      <td>121</td>\n",
       "    </tr>\n",
       "  </tbody>\n",
       "</table>\n",
       "</div>"
      ],
      "text/plain": [
       "            #Passengers\n",
       "Month                  \n",
       "1949-01-01          112\n",
       "1949-02-01          118\n",
       "1949-03-01          132\n",
       "1949-04-01          129\n",
       "1949-05-01          121"
      ]
     },
     "execution_count": 12,
     "metadata": {},
     "output_type": "execute_result"
    }
   ],
   "source": [
    "df.head()"
   ]
  },
  {
   "cell_type": "markdown",
   "id": "648bbe34",
   "metadata": {},
   "source": [
    "## First Analysis"
   ]
  },
  {
   "cell_type": "markdown",
   "id": "3c86be50",
   "metadata": {},
   "source": [
    "### Graphical Analysis"
   ]
  },
  {
   "cell_type": "code",
   "execution_count": 18,
   "id": "a6612eb3",
   "metadata": {
    "scrolled": false
   },
   "outputs": [
    {
     "data": {
      "text/plain": [
       "[<matplotlib.lines.Line2D at 0x2843f6170>]"
      ]
     },
     "execution_count": 18,
     "metadata": {},
     "output_type": "execute_result"
    },
    {
     "data": {
      "image/png": "[encoded data removed]",
      "text/plain": [
       "<Figure size 2000x1000 with 1 Axes>"
      ]
     },
     "metadata": {},
     "output_type": "display_data"
    }
   ],
   "source": [
    "plt.figure(figsize=(20,10))\n",
    "plt.xlabel(\"Month\")\n",
    "plt.ylabel(\"Air Passengers Count\")\n",
    "plt.plot(df)"
   ]
  },
  {
   "cell_type": "raw",
   "id": "9da9f3ed",
   "metadata": {},
   "source": [
    "Apparently Variance is increasing over time. Peaks delta are getting bigger over time"
   ]
  },
  {
   "cell_type": "markdown",
   "id": "66dcec4c",
   "metadata": {},
   "source": [
    "### Variance Study"
   ]
  },
  {
   "cell_type": "code",
   "execution_count": null,
   "id": "75502d6d",
   "metadata": {},
   "outputs": [],
   "source": [
    "window_size = 12\n",
    "rolling_var = df.rolling(window=window_size).var()\n",
    "\n",
    "\n",
    "# Plot the rolling variance evolution\n",
    "plt.figure(figsize=(10, 6))\n",
    "plt.plot(rolling_var.index, rolling_var)\n",
    "plt.xlabel('Time')\n",
    "plt.ylabel('Variance')\n",
    "plt.title(f'Rolling Variance Evolution of Time Series (Window Size: {window_size})')\n",
    "plt.grid(True)\n",
    "plt.show()"
   ]
  },
  {
   "cell_type": "markdown",
   "id": "a842733d",
   "metadata": {},
   "source": [
    "-> Increasing variance over time suggesting heteroskatic datas"
   ]
  },
  {
   "cell_type": "markdown",
   "id": "26a595bf",
   "metadata": {},
   "source": [
    "### Study of Trend"
   ]
  },
  {
   "cell_type": "code",
   "execution_count": null,
   "id": "7a124cca",
   "metadata": {},
   "outputs": [],
   "source": [
    "trend = df['#Passengers'].rolling(window=12).mean()"
   ]
  },
  {
   "cell_type": "code",
   "execution_count": null,
   "id": "2f923f2f",
   "metadata": {},
   "outputs": [],
   "source": [
    "# Plot the trend\n",
    "plt.plot(trend)\n",
    "plt.xlabel('Month')\n",
    "plt.ylabel('Trend')\n",
    "plt.show()"
   ]
  },
  {
   "cell_type": "raw",
   "id": "0f7b022c",
   "metadata": {},
   "source": [
    "-> Increasing Trend over time"
   ]
  },
  {
   "cell_type": "markdown",
   "id": "6126ae56",
   "metadata": {},
   "source": [
    "### Seasonality"
   ]
  },
  {
   "cell_type": "code",
   "execution_count": 14,
   "id": "9b428d80",
   "metadata": {},
   "outputs": [
    {
     "ename": "NameError",
     "evalue": "name 'trend' is not defined",
     "output_type": "error",
     "traceback": [
      "\u001b[0;31m---------------------------------------------------------------------------\u001b[0m",
      "\u001b[0;31mNameError\u001b[0m                                 Traceback (most recent call last)",
      "Cell \u001b[0;32mIn[14], line 2\u001b[0m\n\u001b[1;32m      1\u001b[0m \u001b[38;5;66;03m# Calculate the seasonality\u001b[39;00m\n\u001b[0;32m----> 2\u001b[0m seasonality \u001b[38;5;241m=\u001b[39m df[\u001b[38;5;124m'\u001b[39m\u001b[38;5;124m#Passengers\u001b[39m\u001b[38;5;124m'\u001b[39m] \u001b[38;5;241m-\u001b[39m \u001b[43mtrend\u001b[49m\n\u001b[1;32m      3\u001b[0m seasonality \u001b[38;5;241m=\u001b[39m seasonality[seasonality\u001b[38;5;241m.\u001b[39mdatetime\u001b[38;5;241m.\u001b[39myear\u001b[38;5;241m==\u001b[39m\u001b[38;5;241m1954\u001b[39m]\n",
      "\u001b[0;31mNameError\u001b[0m: name 'trend' is not defined"
     ]
    }
   ],
   "source": [
    "# Calculate the seasonality\n",
    "seasonality = df['#Passengers'] - trend\n",
    "seasonality = seasonality[seasonality.datetime.year==1954]"
   ]
  },
  {
   "cell_type": "code",
   "execution_count": 15,
   "id": "5006b4ed",
   "metadata": {},
   "outputs": [
    {
     "ename": "NameError",
     "evalue": "name 'seasonality' is not defined",
     "output_type": "error",
     "traceback": [
      "\u001b[0;31m---------------------------------------------------------------------------\u001b[0m",
      "\u001b[0;31mNameError\u001b[0m                                 Traceback (most recent call last)",
      "Cell \u001b[0;32mIn[15], line 1\u001b[0m\n\u001b[0;32m----> 1\u001b[0m plt\u001b[38;5;241m.\u001b[39mplot(\u001b[43mseasonality\u001b[49m)\n\u001b[1;32m      2\u001b[0m plt\u001b[38;5;241m.\u001b[39mxlabel(\u001b[38;5;124m'\u001b[39m\u001b[38;5;124mMonth\u001b[39m\u001b[38;5;124m'\u001b[39m)\n\u001b[1;32m      3\u001b[0m plt\u001b[38;5;241m.\u001b[39mylabel(\u001b[38;5;124m'\u001b[39m\u001b[38;5;124mSeasonality\u001b[39m\u001b[38;5;124m'\u001b[39m)\n",
      "\u001b[0;31mNameError\u001b[0m: name 'seasonality' is not defined"
     ]
    }
   ],
   "source": [
    "plt.plot(seasonality)\n",
    "plt.xlabel('Month')\n",
    "plt.ylabel('Seasonality')\n",
    "plt.show()"
   ]
  },
  {
   "cell_type": "markdown",
   "id": "781f34c3",
   "metadata": {},
   "source": []
  },
  {
   "cell_type": "markdown",
   "id": "8b9ec16a",
   "metadata": {},
   "source": [
    "### Auto-Correlation"
   ]
  },
  {
   "cell_type": "code",
   "execution_count": 16,
   "id": "900f4b9e",
   "metadata": {},
   "outputs": [],
   "source": [
    "import statsmodels.tsa.stattools as stattools"
   ]
  },
  {
   "cell_type": "code",
   "execution_count": 17,
   "id": "96b7bb21",
   "metadata": {},
   "outputs": [
    {
     "data": {
      "image/png": "[encoded data removed]",
      "text/plain": [
       "<Figure size 640x480 with 1 Axes>"
      ]
     },
     "metadata": {},
     "output_type": "display_data"
    }
   ],
   "source": [
    "# Calculate the ACF\n",
    "acf = stattools.acf(df['#Passengers'], nlags=12)\n",
    "\n",
    "# Plot the ACF\n",
    "plt.plot(acf)\n",
    "plt.xlabel('Lag')\n",
    "plt.ylabel('ACF')\n",
    "plt.show()"
   ]
  },
  {
   "cell_type": "raw",
   "id": "4f95a75d",
   "metadata": {},
   "source": [
    "-> Very little correlation except from on month to the other\n",
    "-> After 2 months laisse than 0.2 values"
   ]
  },
  {
   "cell_type": "markdown",
   "id": "c46d1d4c",
   "metadata": {},
   "source": [
    "### Partial Auto-Correlation"
   ]
  },
  {
   "cell_type": "code",
   "execution_count": 93,
   "id": "e199b8be",
   "metadata": {},
   "outputs": [],
   "source": [
    "from statsmodels.tsa.arima.model import ARIMA\n",
    "from statsmodels.graphics.tsaplots import plot_pacf"
   ]
  },
  {
   "cell_type": "code",
   "execution_count": 95,
   "id": "0fcdda8f",
   "metadata": {},
   "outputs": [
    {
     "data": {
      "image/png": "[encoded data removed]",
      "text/plain": [
       "<Figure size 640x480 with 1 Axes>"
      ]
     },
     "metadata": {},
     "output_type": "display_data"
    }
   ],
   "source": [
    "plot_pacf(df['#Passengers'])\n",
    "plt.xlabel('Lag')\n",
    "plt.ylabel('PACF')\n",
    "plt.title('Partial Autocorrelation Function (PACF)')\n",
    "plt.show()"
   ]
  },
  {
   "cell_type": "markdown",
   "id": "6ea4f1c7",
   "metadata": {},
   "source": [
    "-> Seems that after 1 month lag, the correlation is within a standart range"
   ]
  },
  {
   "cell_type": "markdown",
   "id": "5ef31d4e",
   "metadata": {},
   "source": [
    "### Heteroskedasticity Tests"
   ]
  },
  {
   "cell_type": "code",
   "execution_count": 100,
   "id": "f1ade07b",
   "metadata": {},
   "outputs": [],
   "source": [
    "TEST_NAMES = ['White', 'Breusch-Pagan', 'Goldfeld-Quandt']\n",
    "FORMULA = 'value ~ time'"
   ]
  },
  {
   "cell_type": "code",
   "execution_count": 103,
   "id": "dbcac847",
   "metadata": {},
   "outputs": [],
   "source": [
    "import statsmodels.stats.api as sms\n",
    "from statsmodels.formula.api import ols"
   ]
  },
  {
   "cell_type": "code",
   "execution_count": 104,
   "id": "78f0ce65",
   "metadata": {},
   "outputs": [],
   "source": [
    "class Heteroskedasticity:\n",
    "\n",
    "    @staticmethod\n",
    "    def het_tests(series: pd.Series, test: str) -> float:\n",
    "        \"\"\"\n",
    "        Testing for heteroskedasticity\n",
    "\n",
    "        :param series: Univariate time series as pd.Series\n",
    "        :param test: String denoting the test. One of 'white','goldfeldquandt', or 'breuschpagan'\n",
    "\n",
    "        :return: p-value as a float.\n",
    "\n",
    "        If the p-value is high, we accept the null hypothesis that the data is homoskedastic\n",
    "        \"\"\"\n",
    "        assert test in TEST_NAMES, 'Unknown test'\n",
    "\n",
    "        series = series.reset_index(drop=True).reset_index()\n",
    "        series.columns = ['time', 'value']\n",
    "        series['time'] += 1\n",
    "\n",
    "        olsr = ols(FORMULA, series).fit()\n",
    "\n",
    "        if test == 'White':\n",
    "            _, p_value, _, _ = sms.het_white(olsr.resid, olsr.model.exog)\n",
    "        elif test == 'Goldfeld-Quandt':\n",
    "            _, p_value, _ = sms.het_goldfeldquandt(olsr.resid, olsr.model.exog, alternative='two-sided')\n",
    "        else:\n",
    "            _, p_value, _, _ = sms.het_breuschpagan(olsr.resid, olsr.model.exog)\n",
    "\n",
    "        return p_value\n",
    "\n",
    "    @classmethod\n",
    "    def run_all_tests(cls, series: pd.Series):\n",
    "\n",
    "        test_results = {k: cls.het_tests(series, k) for k in TEST_NAMES}\n",
    "\n",
    "        return test_results"
   ]
  },
  {
   "cell_type": "code",
   "execution_count": 106,
   "id": "489e1729",
   "metadata": {},
   "outputs": [
    {
     "data": {
      "text/plain": [
       "{'White': 4.345754466128766e-07,\n",
       " 'Breusch-Pagan': 4.559001856883369e-07,\n",
       " 'Goldfeld-Quandt': 8.812950329262266e-13}"
      ]
     },
     "execution_count": 106,
     "metadata": {},
     "output_type": "execute_result"
    }
   ],
   "source": [
    "test_results = Heteroskedasticity.run_all_tests(df[\"#Passengers\"])\n",
    "test_results"
   ]
  },
  {
   "cell_type": "raw",
   "id": "69ca8ca8",
   "metadata": {},
   "source": [
    "-> All the value are lower than 0.05 so we can reject the Null hypothesis\n",
    "\n",
    "-> The null hypothesis is that the residuals are distributed with equal variance."
   ]
  },
  {
   "cell_type": "code",
   "execution_count": 107,
   "id": "b19b96da",
   "metadata": {},
   "outputs": [
    {
     "data": {
      "text/html": [
       "<div>\n",
       "<style scoped>\n",
       "    .dataframe tbody tr th:only-of-type {\n",
       "        vertical-align: middle;\n",
       "    }\n",
       "\n",
       "    .dataframe tbody tr th {\n",
       "        vertical-align: top;\n",
       "    }\n",
       "\n",
       "    .dataframe thead th {\n",
       "        text-align: right;\n",
       "    }\n",
       "</style>\n",
       "<table border=\"1\" class=\"dataframe\">\n",
       "  <thead>\n",
       "    <tr style=\"text-align: right;\">\n",
       "      <th></th>\n",
       "      <th>#Passengers</th>\n",
       "    </tr>\n",
       "    <tr>\n",
       "      <th>Month</th>\n",
       "      <th></th>\n",
       "    </tr>\n",
       "  </thead>\n",
       "  <tbody>\n",
       "    <tr>\n",
       "      <th>1949-01-01</th>\n",
       "      <td>112</td>\n",
       "    </tr>\n",
       "    <tr>\n",
       "      <th>1949-02-01</th>\n",
       "      <td>118</td>\n",
       "    </tr>\n",
       "    <tr>\n",
       "      <th>1949-03-01</th>\n",
       "      <td>132</td>\n",
       "    </tr>\n",
       "    <tr>\n",
       "      <th>1949-04-01</th>\n",
       "      <td>129</td>\n",
       "    </tr>\n",
       "    <tr>\n",
       "      <th>1949-05-01</th>\n",
       "      <td>121</td>\n",
       "    </tr>\n",
       "    <tr>\n",
       "      <th>...</th>\n",
       "      <td>...</td>\n",
       "    </tr>\n",
       "    <tr>\n",
       "      <th>1960-08-01</th>\n",
       "      <td>606</td>\n",
       "    </tr>\n",
       "    <tr>\n",
       "      <th>1960-09-01</th>\n",
       "      <td>508</td>\n",
       "    </tr>\n",
       "    <tr>\n",
       "      <th>1960-10-01</th>\n",
       "      <td>461</td>\n",
       "    </tr>\n",
       "    <tr>\n",
       "      <th>1960-11-01</th>\n",
       "      <td>390</td>\n",
       "    </tr>\n",
       "    <tr>\n",
       "      <th>1960-12-01</th>\n",
       "      <td>432</td>\n",
       "    </tr>\n",
       "  </tbody>\n",
       "</table>\n",
       "<p>144 rows × 1 columns</p>\n",
       "</div>"
      ],
      "text/plain": [
       "            #Passengers\n",
       "Month                  \n",
       "1949-01-01          112\n",
       "1949-02-01          118\n",
       "1949-03-01          132\n",
       "1949-04-01          129\n",
       "1949-05-01          121\n",
       "...                 ...\n",
       "1960-08-01          606\n",
       "1960-09-01          508\n",
       "1960-10-01          461\n",
       "1960-11-01          390\n",
       "1960-12-01          432\n",
       "\n",
       "[144 rows x 1 columns]"
      ]
     },
     "execution_count": 107,
     "metadata": {},
     "output_type": "execute_result"
    }
   ],
   "source": []
  },
  {
   "cell_type": "code",
   "execution_count": null,
   "id": "82b185b7",
   "metadata": {},
   "outputs": [],
   "source": []
  }
 ],
 "metadata": {
  "kernelspec": {
   "display_name": "Python 3 (ipykernel)",
   "language": "python",
   "name": "python3"
  },
  "language_info": {
   "codemirror_mode": {
    "name": "ipython",
    "version": 3
   },
   "file_extension": ".py",
   "mimetype": "text/x-python",
   "name": "python",
   "nbconvert_exporter": "python",
   "pygments_lexer": "ipython3",
   "version": "3.10.0"
  },
  "toc": {
   "base_numbering": 1,
   "nav_menu": {},
   "number_sections": true,
   "sideBar": true,
   "skip_h1_title": false,
   "title_cell": "Table of Contents",
   "title_sidebar": "Contents",
   "toc_cell": false,
   "toc_position": {},
   "toc_section_display": true,
   "toc_window_display": false
  }
 },
 "nbformat": 4,
 "nbformat_minor": 5
}
