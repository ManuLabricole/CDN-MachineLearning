{
 "cells": [
  {
   "cell_type": "markdown",
   "id": "e2dd3c2c",
   "metadata": {},
   "source": [
    "# Time series prediction (Part 1 - 1 day)"
   ]
  },
  {
   "cell_type": "markdown",
   "id": "399da4c9",
   "metadata": {},
   "source": [
    "**NB objective**\n",
    "- [ ] Get to know the theory behind time series\n",
    "- [ ] Discover main time series analysis challenges"
   ]
  },
  {
   "cell_type": "markdown",
   "id": "3445fd01",
   "metadata": {},
   "source": [
    "**Required librairies**\n",
    "- [ ] matplotlib\n",
    "- [ ] numpy\n",
    "- [ ] pandas\n",
    "- [ ] seaborn\n",
    "- [ ] pmdarima"
   ]
  },
  {
   "cell_type": "markdown",
   "id": "651f1513",
   "metadata": {},
   "source": [
    "## How to deal with Time series ?"
   ]
  },
  {
   "cell_type": "markdown",
   "id": "fb876e11",
   "metadata": {},
   "source": [
    "To be brief, when dealing with time series, few checks are required and for your greatest pleasure... a bit of theory helps... \n",
    "😁"
   ]
  },
  {
   "cell_type": "markdown",
   "id": "c517d49e",
   "metadata": {},
   "source": [
    "### Theory"
   ]
  },
  {
   "cell_type": "markdown",
   "id": "7d2f9c7a",
   "metadata": {},
   "source": [
    "#### Tendancy"
   ]
  },
  {
   "cell_type": "raw",
   "id": "80601e60",
   "metadata": {},
   "source": [
    "Also called Trend : The linear increasing or decreasing behavior of the series over time.\n",
    "\n",
    "→ We check out data for repeated behavior in its graphical representation\n",
    "→ If continuously increasing or decreasing , easy\n",
    "→ If the time series data contains some kind of considerable error, then the first step in the process of trend identification is smoothing."
   ]
  },
  {
   "cell_type": "markdown",
   "id": "b6c17856",
   "metadata": {},
   "source": [
    "#### Seasonality"
   ]
  },
  {
   "cell_type": "raw",
   "id": "2fcd5f60",
   "metadata": {},
   "source": [
    "→ Seasonality is the repetition of data at a certain period of time interval. \n",
    "→ For example, every year we notice that people tend to go on vacation during the December — January time, this is seasonality. \n",
    "→ It is one other most important characteristics of time series analysis. \n",
    "→ It is generally measured by autocorrelation after subtracting the trend from the data."
   ]
  },
  {
   "cell_type": "markdown",
   "id": "46a429d5",
   "metadata": {},
   "source": [
    "#### Autocorrelation partial or not"
   ]
  },
  {
   "cell_type": "markdown",
   "id": "ca13ad6c",
   "metadata": {},
   "source": [
    "We can calculate the correlation for time-series observations with observations from previous time steps\n",
    "\n",
    "→ Also called *lags\n",
    "→ T*his is called a serial correlation, or an autocorrelation cause it is based on the same data but at a previous time\n",
    "\n",
    "---\n",
    "\n",
    "**ACF** : plot of the autocorrelation of a dataset of a time series by lag is called the **A**uto**C**orrelation **F**unction\n",
    "\n",
    "---\n",
    "\n",
    "**PACF** : **P**artial **A**uto**C**orrelation **F**unction\n",
    "An intuitive description can be \"the amount of correlation with each lag that is not accounted for by more recent lags\".\n",
    "\n",
    "Autocorrelation satisfies a property that we could call *dampened transitivity*. \n",
    "If 𝑥_t is correlated with 𝑥_(𝑡−1) by some amount 𝜌<0\n",
    "then 𝑥𝑡−(t-1) is correlated with 𝑥_(𝑡−2) by 𝜌. \n",
    "This implies that 𝑥_t is correlated with 𝑥_(t-2), although by some amount smaller than 𝜌\n",
    "\n",
    "---\n",
    "\n",
    "Partial autocorrelation computes the \"pure\" correlation between\n",
    "\n",
    "𝑥_t and 𝑥_(𝑡−2) by removing the \"transitive\" correlation"
   ]
  },
  {
   "cell_type": "markdown",
   "id": "8c390099",
   "metadata": {},
   "source": [
    "$ p(h) = corr(Y_t, Y_t-_h) $"
   ]
  },
  {
   "cell_type": "markdown",
   "id": "747f774a",
   "metadata": {},
   "source": [
    "#### Stationarity"
   ]
  },
  {
   "cell_type": "raw",
   "id": "d26cb0b1",
   "metadata": {},
   "source": [
    "→ A stationary time series is one whose properties do not depend on the time at which the series is observed\n",
    "→ Thus, time series with trends, orwith seasonality, are not stationary — the trend and seasonality will affect the value of the time series at different times. \n",
    "→ On the other hand, a white noise series is stationary — it does not matter when you observe it, it should look much the same at any point in time."
   ]
  },
  {
   "cell_type": "markdown",
   "id": "3e3f0563",
   "metadata": {},
   "source": [
    "#### Heteroskedasticity"
   ]
  },
  {
   "cell_type": "raw",
   "id": "e61ffb70",
   "metadata": {},
   "source": [
    "A time series is heteroskedastic if its variance changes over time. \n",
    "This condition violates one of the assumptions of classical linear regression models, which assume homoskedasticity (constant variance of errors)\n",
    "\n",
    "We can use graphic analysis but it's not the best method\n",
    "We can run some tests :\n",
    "- [White test]\n",
    "- [Breusch-Pagan test]\n",
    "- [Goldfeld–Quandt test]\n",
    "\n",
    "Any regression analysis assume the distribution of residuals as homskedastic. If not the case, not point to make a Linear Regression"
   ]
  },
  {
   "cell_type": "code",
   "execution_count": null,
   "id": "fbc3bbcd",
   "metadata": {},
   "outputs": [],
   "source": [
    "# Explain and resume conditions for a time series to be heteroskedastic\n",
    "# Why is it important to test heteroskedasticity before any regression analysis?"
   ]
  },
  {
   "cell_type": "markdown",
   "id": "9a191146",
   "metadata": {},
   "source": [
    "## Time series analysis"
   ]
  },
  {
   "cell_type": "markdown",
   "id": "83b4deb8",
   "metadata": {},
   "source": [
    "**Data analysis**"
   ]
  },
  {
   "cell_type": "code",
   "execution_count": 3,
   "id": "c6d47719",
   "metadata": {},
   "outputs": [],
   "source": [
    "# Load data\n",
    "from pmdarima.datasets import load_airpassengers\n",
    "# Write definitions to visualize, describe and eventually clean data\n",
    "# Write definition to assess autocorrelation and stationarity \n",
    "# Write definition to test the heteroskedasticity\n",
    "# Write definition to change sampling (D/M/Y)"
   ]
  },
  {
   "cell_type": "code",
   "execution_count": 4,
   "id": "bd5f8ab1",
   "metadata": {},
   "outputs": [],
   "source": [
    "data = load_airpassengers()"
   ]
  },
  {
   "cell_type": "code",
   "execution_count": 6,
   "id": "6375067c",
   "metadata": {},
   "outputs": [
    {
     "data": {
      "text/plain": [
       "144"
      ]
     },
     "execution_count": 6,
     "metadata": {},
     "output_type": "execute_result"
    }
   ],
   "source": [
    "len(data)"
   ]
  },
  {
   "cell_type": "code",
   "execution_count": 7,
   "id": "ac3d086d",
   "metadata": {},
   "outputs": [
    {
     "data": {
      "text/plain": [
       "array([112., 118., 132., 129., 121., 135., 148., 148., 136., 119., 104.,\n",
       "       118., 115., 126., 141., 135., 125., 149., 170., 170., 158., 133.,\n",
       "       114., 140., 145., 150., 178., 163., 172., 178., 199., 199., 184.,\n",
       "       162., 146., 166., 171., 180., 193., 181., 183., 218., 230., 242.,\n",
       "       209., 191., 172., 194., 196., 196., 236., 235., 229., 243., 264.,\n",
       "       272., 237., 211., 180., 201., 204., 188., 235., 227., 234., 264.,\n",
       "       302., 293., 259., 229., 203., 229., 242., 233., 267., 269., 270.,\n",
       "       315., 364., 347., 312., 274., 237., 278., 284., 277., 317., 313.,\n",
       "       318., 374., 413., 405., 355., 306., 271., 306., 315., 301., 356.,\n",
       "       348., 355., 422., 465., 467., 404., 347., 305., 336., 340., 318.,\n",
       "       362., 348., 363., 435., 491., 505., 404., 359., 310., 337., 360.,\n",
       "       342., 406., 396., 420., 472., 548., 559., 463., 407., 362., 405.,\n",
       "       417., 391., 419., 461., 472., 535., 622., 606., 508., 461., 390.,\n",
       "       432.])"
      ]
     },
     "execution_count": 7,
     "metadata": {},
     "output_type": "execute_result"
    }
   ],
   "source": [
    "data"
   ]
  },
  {
   "cell_type": "code",
   "execution_count": null,
   "id": "3f78be4e",
   "metadata": {},
   "outputs": [],
   "source": []
  }
 ],
 "metadata": {
  "kernelspec": {
   "display_name": "Python 3 (ipykernel)",
   "language": "python",
   "name": "python3"
  },
  "language_info": {
   "codemirror_mode": {
    "name": "ipython",
    "version": 3
   },
   "file_extension": ".py",
   "mimetype": "text/x-python",
   "name": "python",
   "nbconvert_exporter": "python",
   "pygments_lexer": "ipython3",
   "version": "3.10.0"
  },
  "toc": {
   "base_numbering": 1,
   "nav_menu": {},
   "number_sections": true,
   "sideBar": true,
   "skip_h1_title": false,
   "title_cell": "Table of Contents",
   "title_sidebar": "Contents",
   "toc_cell": false,
   "toc_position": {},
   "toc_section_display": true,
   "toc_window_display": false
  }
 },
 "nbformat": 4,
 "nbformat_minor": 5
}
