{
 "cells": [
  {
   "cell_type": "code",
   "execution_count": 100,
   "id": "c77cabc9",
   "metadata": {},
   "outputs": [],
   "source": [
    "import pandas as pd\n",
    "import numpy as np\n",
    "import plotly as px\n",
    "import matplotlib.pyplot as plt\n",
    "import seaborn as sns\n",
    "import missingno as msno\n",
    "import pickle\n",
    "from colorama import Fore, Back, Style\n",
    "import json\n",
    "import os\n",
    "import matplotlib.colors as mcolors"
   ]
  },
  {
   "cell_type": "code",
   "execution_count": 101,
   "id": "a0d56329",
   "metadata": {},
   "outputs": [
    {
     "data": {
      "image/png": "[encoded data removed]",
      "text/plain": [
       "<Figure size 1152x72 with 1 Axes>"
      ]
     },
     "metadata": {},
     "output_type": "display_data"
    }
   ],
   "source": [
    "colors = sns.color_palette(\"tab20_r\", 16)\n",
    "sns.palplot(colors)\n",
    "sns.set_style(\"darkgrid\")"
   ]
  },
  {
   "cell_type": "markdown",
   "id": "3df268a4",
   "metadata": {},
   "source": [
    "# Importation"
   ]
  },
  {
   "cell_type": "code",
   "execution_count": 102,
   "id": "6ae4c41a",
   "metadata": {},
   "outputs": [],
   "source": [
    "df = pd.read_pickle('df_clean.pickle')"
   ]
  },
  {
   "cell_type": "markdown",
   "id": "a8fd8b3a",
   "metadata": {},
   "source": [
    "### Généralités"
   ]
  },
  {
   "cell_type": "code",
   "execution_count": 103,
   "id": "f122c23b",
   "metadata": {},
   "outputs": [
    {
     "data": {
      "text/html": [
       "<div>\n",
       "<style scoped>\n",
       "    .dataframe tbody tr th:only-of-type {\n",
       "        vertical-align: middle;\n",
       "    }\n",
       "\n",
       "    .dataframe tbody tr th {\n",
       "        vertical-align: top;\n",
       "    }\n",
       "\n",
       "    .dataframe thead th {\n",
       "        text-align: right;\n",
       "    }\n",
       "</style>\n",
       "<table border=\"1\" class=\"dataframe\">\n",
       "  <thead>\n",
       "    <tr style=\"text-align: right;\">\n",
       "      <th></th>\n",
       "      <th>SOUS_CATEGORIE_DESC</th>\n",
       "      <th>CODE_PARENT_DESC</th>\n",
       "      <th>ADR_SECTEUR</th>\n",
       "      <th>GENRE_BOTA</th>\n",
       "      <th>ESPECE</th>\n",
       "      <th>STADEDEDEVELOPPEMENT</th>\n",
       "      <th>ANNEEDEPLANTATION</th>\n",
       "      <th>COLLECTIVITE</th>\n",
       "      <th>LATITUDE</th>\n",
       "      <th>LONGITUDE</th>\n",
       "      <th>SUM_COORDINATE</th>\n",
       "    </tr>\n",
       "  </thead>\n",
       "  <tbody>\n",
       "    <tr>\n",
       "      <th>12</th>\n",
       "      <td>Arbre de voirie</td>\n",
       "      <td>Bd Esplan Autoroute A 48</td>\n",
       "      <td>2</td>\n",
       "      <td>Pinus</td>\n",
       "      <td>nigra</td>\n",
       "      <td>Arbre adulte</td>\n",
       "      <td>1970.0</td>\n",
       "      <td>Ville de Grenoble</td>\n",
       "      <td>45.194803</td>\n",
       "      <td>5.716918</td>\n",
       "      <td>50.911721</td>\n",
       "    </tr>\n",
       "    <tr>\n",
       "      <th>15</th>\n",
       "      <td>Arbre de voirie</td>\n",
       "      <td>Bd Esplan Autoroute A 48</td>\n",
       "      <td>2</td>\n",
       "      <td>Pinus</td>\n",
       "      <td>nigra</td>\n",
       "      <td>Arbre adulte</td>\n",
       "      <td>1970.0</td>\n",
       "      <td>Ville de Grenoble</td>\n",
       "      <td>45.195170</td>\n",
       "      <td>5.716655</td>\n",
       "      <td>50.911825</td>\n",
       "    </tr>\n",
       "    <tr>\n",
       "      <th>16</th>\n",
       "      <td>Arbre de voirie</td>\n",
       "      <td>Bd Esplan Autoroute A 48</td>\n",
       "      <td>2</td>\n",
       "      <td>Populus</td>\n",
       "      <td>alba</td>\n",
       "      <td>Arbre adulte</td>\n",
       "      <td>1970.0</td>\n",
       "      <td>Ville de Grenoble</td>\n",
       "      <td>45.195246</td>\n",
       "      <td>5.716624</td>\n",
       "      <td>50.911870</td>\n",
       "    </tr>\n",
       "    <tr>\n",
       "      <th>18</th>\n",
       "      <td>Arbre d'espaces ouverts</td>\n",
       "      <td>Ch Gordes Ouest conservatoire</td>\n",
       "      <td>4</td>\n",
       "      <td>Diospyros</td>\n",
       "      <td>kaki</td>\n",
       "      <td>Arbre jeune</td>\n",
       "      <td>2018.0</td>\n",
       "      <td>Ville de Grenoble</td>\n",
       "      <td>45.173315</td>\n",
       "      <td>5.734082</td>\n",
       "      <td>50.907397</td>\n",
       "    </tr>\n",
       "    <tr>\n",
       "      <th>22</th>\n",
       "      <td>Arbre de voirie</td>\n",
       "      <td>R Frederico Garcia Lorca park</td>\n",
       "      <td>5</td>\n",
       "      <td>NaN</td>\n",
       "      <td>NaN</td>\n",
       "      <td>NaN</td>\n",
       "      <td>2016.0</td>\n",
       "      <td>Grenoble Alpes Métropole</td>\n",
       "      <td>45.171728</td>\n",
       "      <td>5.734265</td>\n",
       "      <td>50.905994</td>\n",
       "    </tr>\n",
       "  </tbody>\n",
       "</table>\n",
       "</div>"
      ],
      "text/plain": [
       "        SOUS_CATEGORIE_DESC               CODE_PARENT_DESC  ADR_SECTEUR  \\\n",
       "12          Arbre de voirie      Bd Esplan Autoroute A 48             2   \n",
       "15          Arbre de voirie      Bd Esplan Autoroute A 48             2   \n",
       "16          Arbre de voirie      Bd Esplan Autoroute A 48             2   \n",
       "18  Arbre d'espaces ouverts  Ch Gordes Ouest conservatoire            4   \n",
       "22          Arbre de voirie  R Frederico Garcia Lorca park            5   \n",
       "\n",
       "   GENRE_BOTA ESPECE STADEDEDEVELOPPEMENT  ANNEEDEPLANTATION  \\\n",
       "12      Pinus  nigra         Arbre adulte             1970.0   \n",
       "15      Pinus  nigra         Arbre adulte             1970.0   \n",
       "16    Populus   alba         Arbre adulte             1970.0   \n",
       "18  Diospyros   kaki          Arbre jeune             2018.0   \n",
       "22        NaN    NaN                  NaN             2016.0   \n",
       "\n",
       "                COLLECTIVITE   LATITUDE  LONGITUDE  SUM_COORDINATE  \n",
       "12         Ville de Grenoble  45.194803   5.716918       50.911721  \n",
       "15         Ville de Grenoble  45.195170   5.716655       50.911825  \n",
       "16         Ville de Grenoble  45.195246   5.716624       50.911870  \n",
       "18         Ville de Grenoble  45.173315   5.734082       50.907397  \n",
       "22  Grenoble Alpes Métropole  45.171728   5.734265       50.905994  "
      ]
     },
     "execution_count": 103,
     "metadata": {},
     "output_type": "execute_result"
    }
   ],
   "source": [
    "df.head()"
   ]
  },
  {
   "cell_type": "code",
   "execution_count": 104,
   "id": "7d32e625",
   "metadata": {},
   "outputs": [
    {
     "data": {
      "text/plain": [
       "Index(['SOUS_CATEGORIE_DESC', 'CODE_PARENT_DESC', 'ADR_SECTEUR', 'GENRE_BOTA',\n",
       "       'ESPECE', 'STADEDEDEVELOPPEMENT', 'ANNEEDEPLANTATION', 'COLLECTIVITE',\n",
       "       'LATITUDE', 'LONGITUDE', 'SUM_COORDINATE'],\n",
       "      dtype='object')"
      ]
     },
     "execution_count": 104,
     "metadata": {},
     "output_type": "execute_result"
    }
   ],
   "source": [
    "df.columns"
   ]
  },
  {
   "cell_type": "code",
   "execution_count": 105,
   "id": "2f398c2e",
   "metadata": {},
   "outputs": [
    {
     "data": {
      "text/html": [
       "<div>\n",
       "<style scoped>\n",
       "    .dataframe tbody tr th:only-of-type {\n",
       "        vertical-align: middle;\n",
       "    }\n",
       "\n",
       "    .dataframe tbody tr th {\n",
       "        vertical-align: top;\n",
       "    }\n",
       "\n",
       "    .dataframe thead th {\n",
       "        text-align: right;\n",
       "    }\n",
       "</style>\n",
       "<table border=\"1\" class=\"dataframe\">\n",
       "  <thead>\n",
       "    <tr style=\"text-align: right;\">\n",
       "      <th></th>\n",
       "      <th>ADR_SECTEUR</th>\n",
       "      <th>ANNEEDEPLANTATION</th>\n",
       "      <th>LATITUDE</th>\n",
       "      <th>LONGITUDE</th>\n",
       "      <th>SUM_COORDINATE</th>\n",
       "    </tr>\n",
       "  </thead>\n",
       "  <tbody>\n",
       "    <tr>\n",
       "      <th>count</th>\n",
       "      <td>30180.000000</td>\n",
       "      <td>30180.000000</td>\n",
       "      <td>30180.000000</td>\n",
       "      <td>30180.000000</td>\n",
       "      <td>30180.000000</td>\n",
       "    </tr>\n",
       "    <tr>\n",
       "      <th>mean</th>\n",
       "      <td>3.852584</td>\n",
       "      <td>1989.384427</td>\n",
       "      <td>45.177150</td>\n",
       "      <td>5.727585</td>\n",
       "      <td>50.904734</td>\n",
       "    </tr>\n",
       "    <tr>\n",
       "      <th>std</th>\n",
       "      <td>1.702122</td>\n",
       "      <td>17.372641</td>\n",
       "      <td>0.011917</td>\n",
       "      <td>0.012762</td>\n",
       "      <td>0.017911</td>\n",
       "    </tr>\n",
       "    <tr>\n",
       "      <th>min</th>\n",
       "      <td>1.000000</td>\n",
       "      <td>1900.000000</td>\n",
       "      <td>45.151572</td>\n",
       "      <td>5.697915</td>\n",
       "      <td>50.863142</td>\n",
       "    </tr>\n",
       "    <tr>\n",
       "      <th>25%</th>\n",
       "      <td>2.000000</td>\n",
       "      <td>1975.000000</td>\n",
       "      <td>45.166272</td>\n",
       "      <td>5.717804</td>\n",
       "      <td>50.893043</td>\n",
       "    </tr>\n",
       "    <tr>\n",
       "      <th>50%</th>\n",
       "      <td>4.000000</td>\n",
       "      <td>1985.000000</td>\n",
       "      <td>45.175801</td>\n",
       "      <td>5.729950</td>\n",
       "      <td>50.903998</td>\n",
       "    </tr>\n",
       "    <tr>\n",
       "      <th>75%</th>\n",
       "      <td>5.000000</td>\n",
       "      <td>2004.000000</td>\n",
       "      <td>45.187076</td>\n",
       "      <td>5.737493</td>\n",
       "      <td>50.917701</td>\n",
       "    </tr>\n",
       "    <tr>\n",
       "      <th>max</th>\n",
       "      <td>6.000000</td>\n",
       "      <td>2021.000000</td>\n",
       "      <td>45.224825</td>\n",
       "      <td>5.798704</td>\n",
       "      <td>51.023187</td>\n",
       "    </tr>\n",
       "  </tbody>\n",
       "</table>\n",
       "</div>"
      ],
      "text/plain": [
       "        ADR_SECTEUR  ANNEEDEPLANTATION      LATITUDE     LONGITUDE  \\\n",
       "count  30180.000000       30180.000000  30180.000000  30180.000000   \n",
       "mean       3.852584        1989.384427     45.177150      5.727585   \n",
       "std        1.702122          17.372641      0.011917      0.012762   \n",
       "min        1.000000        1900.000000     45.151572      5.697915   \n",
       "25%        2.000000        1975.000000     45.166272      5.717804   \n",
       "50%        4.000000        1985.000000     45.175801      5.729950   \n",
       "75%        5.000000        2004.000000     45.187076      5.737493   \n",
       "max        6.000000        2021.000000     45.224825      5.798704   \n",
       "\n",
       "       SUM_COORDINATE  \n",
       "count    30180.000000  \n",
       "mean        50.904734  \n",
       "std          0.017911  \n",
       "min         50.863142  \n",
       "25%         50.893043  \n",
       "50%         50.903998  \n",
       "75%         50.917701  \n",
       "max         51.023187  "
      ]
     },
     "execution_count": 105,
     "metadata": {},
     "output_type": "execute_result"
    }
   ],
   "source": [
    "df.describe()"
   ]
  },
  {
   "cell_type": "markdown",
   "id": "597562c6",
   "metadata": {},
   "source": [
    "=> ADR_SECTEUR représente 6 secteurs. Mais n'a pas de continuité numérique logique"
   ]
  },
  {
   "cell_type": "markdown",
   "id": "b8471ec8",
   "metadata": {},
   "source": [
    "### Analyse des colonnes avant Pipeline"
   ]
  },
  {
   "cell_type": "code",
   "execution_count": 106,
   "id": "da03d34a",
   "metadata": {},
   "outputs": [
    {
     "data": {
      "text/plain": [
       "Arbre d'espaces ouverts      14979\n",
       "Arbre de voirie              11515\n",
       "Arbre d'enceintes fermées     2128\n",
       "Bois semi naturel             1558\n",
       "Name: SOUS_CATEGORIE_DESC, dtype: int64"
      ]
     },
     "execution_count": 106,
     "metadata": {},
     "output_type": "execute_result"
    }
   ],
   "source": [
    "df[\"SOUS_CATEGORIE_DESC\"].value_counts()"
   ]
  },
  {
   "cell_type": "markdown",
   "id": "ff4be402",
   "metadata": {},
   "source": [
    "=> Seulement 3 catégories, se prête bien au OneHot imputer"
   ]
  },
  {
   "cell_type": "code",
   "execution_count": 107,
   "id": "58ed5504",
   "metadata": {},
   "outputs": [
    {
     "data": {
      "text/plain": [
       "Prc Echangeurs Bastion St Roch    393\n",
       "Le Bastion zone boisée            338\n",
       "Cimetière St Roch                 305\n",
       "Grande pelouse butte des pins     273\n",
       "Prc Echangeurs Valmy Gallieni     268\n",
       "                                 ... \n",
       "R du Fer à Cheval                   1\n",
       "R Delacroix garage 1000 lacs        1\n",
       "R Vendres                           1\n",
       "Pl Claveyson                        1\n",
       "R Fourrier n 2bis                   1\n",
       "Name: CODE_PARENT_DESC, Length: 1451, dtype: int64"
      ]
     },
     "execution_count": 107,
     "metadata": {},
     "output_type": "execute_result"
    }
   ],
   "source": [
    "df[\"CODE_PARENT_DESC\"].value_counts()"
   ]
  },
  {
   "cell_type": "markdown",
   "id": "c0291d12",
   "metadata": {},
   "source": [
    "=> Description Géographique, pas forcément utile de l'ajouter aux latitudes, longitudes ou Secteur"
   ]
  },
  {
   "cell_type": "code",
   "execution_count": 108,
   "id": "ad5ec770",
   "metadata": {},
   "outputs": [
    {
     "data": {
      "text/plain": [
       "Acer           4984\n",
       "Platanus       4450\n",
       "Pinus          1932\n",
       "Tilia          1736\n",
       "Fraxinus       1446\n",
       "               ... \n",
       "Eucalyptus        1\n",
       "Sorbopyrus        1\n",
       "Sciadopitys       1\n",
       "Poncinos          1\n",
       "Castanea          1\n",
       "Name: GENRE_BOTA, Length: 118, dtype: int64"
      ]
     },
     "execution_count": 108,
     "metadata": {},
     "output_type": "execute_result"
    }
   ],
   "source": [
    "df[\"GENRE_BOTA\"].value_counts()"
   ]
  },
  {
   "cell_type": "markdown",
   "id": "3c4c7105",
   "metadata": {},
   "source": [
    "=> 118 valeurs différentes. Pas évident à numériser, le OneHot donnera beaucoup de colonne et le Ordinal n'aurait pas de sens"
   ]
  },
  {
   "cell_type": "code",
   "execution_count": 109,
   "id": "d086380b",
   "metadata": {},
   "outputs": [
    {
     "data": {
      "text/plain": [
       "acerifolia        3778\n",
       "nigra             1825\n",
       "pseudoplatanus    1300\n",
       "betulus           1159\n",
       "platanoides       1017\n",
       "                  ... \n",
       "koreana              1\n",
       "heterophylla         1\n",
       "opalus               1\n",
       "pisifera             1\n",
       "strobus              1\n",
       "Name: ESPECE, Length: 274, dtype: int64"
      ]
     },
     "execution_count": 109,
     "metadata": {},
     "output_type": "execute_result"
    }
   ],
   "source": [
    "df[\"ESPECE\"].value_counts()"
   ]
  },
  {
   "cell_type": "markdown",
   "id": "93831a7c",
   "metadata": {},
   "source": [
    "=> IDEM"
   ]
  },
  {
   "cell_type": "code",
   "execution_count": 110,
   "id": "f065ff6a",
   "metadata": {},
   "outputs": [
    {
     "data": {
      "text/plain": [
       "Ville de Grenoble           15718\n",
       "Grenoble Alpes Métropole    14462\n",
       "Name: COLLECTIVITE, dtype: int64"
      ]
     },
     "execution_count": 110,
     "metadata": {},
     "output_type": "execute_result"
    }
   ],
   "source": [
    "df[\"COLLECTIVITE\"].value_counts()"
   ]
  },
  {
   "cell_type": "markdown",
   "id": "57bc4f0a",
   "metadata": {},
   "source": [
    "=> Binaire. Facile pour un OneHot\n",
    "\n",
    "=> Donne pas beaucoup d'infos"
   ]
  },
  {
   "cell_type": "markdown",
   "id": "04ad1351",
   "metadata": {},
   "source": [
    "### Nouveau dataframe filtré"
   ]
  },
  {
   "cell_type": "code",
   "execution_count": 111,
   "id": "b42c4332",
   "metadata": {},
   "outputs": [],
   "source": [
    "colToKeep = ['SOUS_CATEGORIE_DESC', 'ADR_SECTEUR', 'STADEDEDEVELOPPEMENT', 'ANNEEDEPLANTATION','LATITUDE', 'LONGITUDE', 'SUM_COORDINATE']"
   ]
  },
  {
   "cell_type": "code",
   "execution_count": 112,
   "id": "2b3cc995",
   "metadata": {},
   "outputs": [],
   "source": [
    "df_filtered = df[colToKeep]"
   ]
  },
  {
   "cell_type": "code",
   "execution_count": 113,
   "id": "61d4ffa8",
   "metadata": {},
   "outputs": [
    {
     "data": {
      "text/plain": [
       "<bound method DataFrame.info of            SOUS_CATEGORIE_DESC  ADR_SECTEUR STADEDEDEVELOPPEMENT  \\\n",
       "12             Arbre de voirie            2         Arbre adulte   \n",
       "15             Arbre de voirie            2         Arbre adulte   \n",
       "16             Arbre de voirie            2         Arbre adulte   \n",
       "18     Arbre d'espaces ouverts            4          Arbre jeune   \n",
       "22             Arbre de voirie            5                  NaN   \n",
       "...                        ...          ...                  ...   \n",
       "31613  Arbre d'espaces ouverts            5          Arbre jeune   \n",
       "31614  Arbre d'espaces ouverts            5         Arbre adulte   \n",
       "31615          Arbre de voirie            5         Arbre adulte   \n",
       "31616          Arbre de voirie            5          Arbre jeune   \n",
       "31617          Arbre de voirie            5          Arbre jeune   \n",
       "\n",
       "       ANNEEDEPLANTATION   LATITUDE  LONGITUDE  SUM_COORDINATE  \n",
       "12                1970.0  45.194803   5.716918       50.911721  \n",
       "15                1970.0  45.195170   5.716655       50.911825  \n",
       "16                1970.0  45.195246   5.716624       50.911870  \n",
       "18                2018.0  45.173315   5.734082       50.907397  \n",
       "22                2016.0  45.171728   5.734265       50.905994  \n",
       "...                  ...        ...        ...             ...  \n",
       "31613             2011.0  45.175206   5.745005       50.920210  \n",
       "31614             1992.0  45.177531   5.748964       50.926494  \n",
       "31615             1976.0  45.171506   5.743514       50.915020  \n",
       "31616             2001.0  45.173542   5.743294       50.916836  \n",
       "31617             1973.0  45.170811   5.733855       50.904666  \n",
       "\n",
       "[30180 rows x 7 columns]>"
      ]
     },
     "execution_count": 113,
     "metadata": {},
     "output_type": "execute_result"
    }
   ],
   "source": [
    "df_filtered.info"
   ]
  },
  {
   "cell_type": "code",
   "execution_count": 114,
   "id": "f0073273",
   "metadata": {},
   "outputs": [],
   "source": [
    "df_filtered.to_pickle('data_filtered.pickle')"
   ]
  },
  {
   "cell_type": "markdown",
   "id": "d2a24417",
   "metadata": {},
   "source": [
    "### Split Train / Test dataset"
   ]
  },
  {
   "cell_type": "code",
   "execution_count": 115,
   "id": "47b3a211",
   "metadata": {},
   "outputs": [],
   "source": [
    "from sklearn.model_selection import train_test_split"
   ]
  },
  {
   "cell_type": "code",
   "execution_count": 116,
   "id": "d8fb8125",
   "metadata": {},
   "outputs": [],
   "source": [
    "raw_data = pd.read_pickle('data_filtered.pickle')\n",
    "annees = raw_data[\"ANNEEDEPLANTATION\"]\n",
    "data = raw_data.drop(columns=\"ANNEEDEPLANTATION\")"
   ]
  },
  {
   "cell_type": "code",
   "execution_count": 117,
   "id": "c3b940c3",
   "metadata": {},
   "outputs": [],
   "source": [
    "X_train, X_test, y_train, y_test = train_test_split(data, annees, test_size=0.25, random_state=42, stratify=annees)"
   ]
  },
  {
   "cell_type": "markdown",
   "id": "f5842d56",
   "metadata": {},
   "source": [
    "# Preprocessing"
   ]
  },
  {
   "cell_type": "code",
   "execution_count": 118,
   "id": "79662a7a",
   "metadata": {},
   "outputs": [],
   "source": [
    "from sklearn.impute import SimpleImputer\n",
    "from sklearn.preprocessing import StandardScaler\n",
    "from sklearn.preprocessing import OrdinalEncoder\n",
    "from sklearn.preprocessing import OneHotEncoder\n",
    "\n",
    "from sklearn.pipeline import Pipeline\n",
    "from sklearn.compose import ColumnTransformer"
   ]
  },
  {
   "cell_type": "code",
   "execution_count": 119,
   "id": "be64f191",
   "metadata": {},
   "outputs": [
    {
     "data": {
      "text/plain": [
       "Index(['SOUS_CATEGORIE_DESC', 'ADR_SECTEUR', 'STADEDEDEVELOPPEMENT',\n",
       "       'LATITUDE', 'LONGITUDE', 'SUM_COORDINATE'],\n",
       "      dtype='object')"
      ]
     },
     "execution_count": 119,
     "metadata": {},
     "output_type": "execute_result"
    }
   ],
   "source": [
    "data.columns"
   ]
  },
  {
   "cell_type": "markdown",
   "id": "7c85c858",
   "metadata": {},
   "source": [
    "### --> SOUS_CATEGORIE_DESC && ADR_SECTEUR"
   ]
  },
  {
   "cell_type": "code",
   "execution_count": 120,
   "id": "10877fa4",
   "metadata": {},
   "outputs": [
    {
     "name": "stdout",
     "output_type": "stream",
     "text": [
      "------- SOUS CATEGORIE DESC --------\n"
     ]
    },
    {
     "data": {
      "text/plain": [
       "Arbre d'espaces ouverts      14979\n",
       "Arbre de voirie              11515\n",
       "Arbre d'enceintes fermées     2128\n",
       "Bois semi naturel             1558\n",
       "Name: SOUS_CATEGORIE_DESC, dtype: int64"
      ]
     },
     "metadata": {},
     "output_type": "display_data"
    },
    {
     "name": "stdout",
     "output_type": "stream",
     "text": [
      "\n",
      "------------ ADR_SECTEUR -----------\n"
     ]
    },
    {
     "data": {
      "text/plain": [
       "6    6836\n",
       "5    6635\n",
       "2    5936\n",
       "3    4142\n",
       "4    3717\n",
       "1    2914\n",
       "Name: ADR_SECTEUR, dtype: int64"
      ]
     },
     "metadata": {},
     "output_type": "display_data"
    },
    {
     "name": "stdout",
     "output_type": "stream",
     "text": [
      "------------ Nan -------------\n"
     ]
    },
    {
     "data": {
      "text/plain": [
       "False    30180\n",
       "Name: SOUS_CATEGORIE_DESC, dtype: int64"
      ]
     },
     "metadata": {},
     "output_type": "display_data"
    },
    {
     "data": {
      "text/plain": [
       "False    30180\n",
       "Name: ADR_SECTEUR, dtype: int64"
      ]
     },
     "metadata": {},
     "output_type": "display_data"
    }
   ],
   "source": [
    "print(\"------- SOUS CATEGORIE DESC --------\")\n",
    "display(data[\"SOUS_CATEGORIE_DESC\"].value_counts())\n",
    "print(\"\")\n",
    "print(\"------------ ADR_SECTEUR -----------\")\n",
    "display(data[\"ADR_SECTEUR\"].value_counts())\n",
    "\n",
    "print(\"------------ Nan -------------\")\n",
    "display(data[\"SOUS_CATEGORIE_DESC\"].isna().value_counts())\n",
    "display(data[\"ADR_SECTEUR\"].isna().value_counts())"
   ]
  },
  {
   "cell_type": "markdown",
   "id": "9338d5a1",
   "metadata": {},
   "source": [
    "=> Pas de nan donc pas besoin d'Imputer"
   ]
  },
  {
   "cell_type": "code",
   "execution_count": 121,
   "id": "35e2cc02",
   "metadata": {},
   "outputs": [],
   "source": [
    "oneHotColumns = [\"SOUS_CATEGORIE_DESC\", \"ADR_SECTEUR\"]"
   ]
  },
  {
   "cell_type": "markdown",
   "id": "3986539b",
   "metadata": {},
   "source": [
    "-----"
   ]
  },
  {
   "cell_type": "code",
   "execution_count": 143,
   "id": "440112cc",
   "metadata": {},
   "outputs": [],
   "source": [
    "pipeline_1 = Pipeline([\n",
    "     ('onehotencoder', OneHotEncoder(sparse=False))\n",
    "     ])"
   ]
  },
  {
   "cell_type": "markdown",
   "id": "909b3c20",
   "metadata": {},
   "source": [
    "------"
   ]
  },
  {
   "cell_type": "raw",
   "id": "e835f5e7",
   "metadata": {},
   "source": [
    "--> On va créer 4 + 5 nouvelles colonnes\n",
    "--> On pourrait supprimer chaque dernière colonne car répète les infos des précédentes ~7 nouvelles colonnes"
   ]
  },
  {
   "cell_type": "markdown",
   "id": "b190ca83",
   "metadata": {},
   "source": [
    "### --> STADEDEDEVELOPPEMENT"
   ]
  },
  {
   "cell_type": "code",
   "execution_count": 123,
   "id": "6ce1de61",
   "metadata": {},
   "outputs": [
    {
     "name": "stdout",
     "output_type": "stream",
     "text": [
      "------- STADEDEDEVELOPPEMENT --------\n"
     ]
    },
    {
     "data": {
      "text/plain": [
       "Arbre adulte          21565\n",
       "Arbre jeune            6577\n",
       "Arbre vieillissant      249\n",
       "Name: STADEDEDEVELOPPEMENT, dtype: int64"
      ]
     },
     "metadata": {},
     "output_type": "display_data"
    },
    {
     "data": {
      "text/plain": [
       "False    28391\n",
       "True      1789\n",
       "Name: STADEDEDEVELOPPEMENT, dtype: int64"
      ]
     },
     "execution_count": 123,
     "metadata": {},
     "output_type": "execute_result"
    }
   ],
   "source": [
    "print(\"------- STADEDEDEVELOPPEMENT --------\")\n",
    "display(data[\"STADEDEDEVELOPPEMENT\"].value_counts())\n",
    "data[\"STADEDEDEVELOPPEMENT\"].isna().value_counts()"
   ]
  },
  {
   "cell_type": "raw",
   "id": "59c482c0",
   "metadata": {},
   "source": [
    "--> On peut la numériser avec Oridnal car 1-2-3 fait sens vis à vis de Jeune-Adulte-Vieillissant\n",
    "--> 1789 NULL donc pas besoin d'imputer"
   ]
  },
  {
   "cell_type": "code",
   "execution_count": 124,
   "id": "e0293912",
   "metadata": {},
   "outputs": [],
   "source": [
    "mapping = {'Arbre jeune': 1, 'Arbre adulte': 2, 'Arbre vieillissant': 3}"
   ]
  },
  {
   "cell_type": "code",
   "execution_count": 125,
   "id": "93f2f280",
   "metadata": {},
   "outputs": [
    {
     "data": {
      "text/plain": [
       "12       2.0\n",
       "15       2.0\n",
       "16       2.0\n",
       "18       1.0\n",
       "22       NaN\n",
       "        ... \n",
       "31613    1.0\n",
       "31614    2.0\n",
       "31615    2.0\n",
       "31616    1.0\n",
       "31617    1.0\n",
       "Name: STADEDEDEVELOPPEMENT, Length: 30180, dtype: float64"
      ]
     },
     "execution_count": 125,
     "metadata": {},
     "output_type": "execute_result"
    }
   ],
   "source": [
    "data['STADEDEDEVELOPPEMENT'] = df['STADEDEDEVELOPPEMENT'].map(mapping)\n",
    "data['STADEDEDEVELOPPEMENT']"
   ]
  },
  {
   "cell_type": "markdown",
   "id": "1c97ce4e",
   "metadata": {},
   "source": [
    "------"
   ]
  },
  {
   "cell_type": "code",
   "execution_count": 186,
   "id": "92356385",
   "metadata": {},
   "outputs": [],
   "source": [
    "pipeline_2 = Pipeline([\n",
    "    ('imputerStadeDev', SimpleImputer(strategy='constant', fill_value=0)),\n",
    "    (\"standartScaler\", pipeline_3, [\"STADEDEDEVELOPPEMENT\"])\n",
    "     ])"
   ]
  },
  {
   "cell_type": "markdown",
   "id": "fdba21c2",
   "metadata": {},
   "source": [
    "------"
   ]
  },
  {
   "cell_type": "markdown",
   "id": "0f90bc3c",
   "metadata": {},
   "source": [
    "### Numerical value"
   ]
  },
  {
   "cell_type": "code",
   "execution_count": 187,
   "id": "af84c97e",
   "metadata": {},
   "outputs": [
    {
     "data": {
      "text/plain": [
       "False    30180\n",
       "Name: LATITUDE, dtype: int64"
      ]
     },
     "execution_count": 187,
     "metadata": {},
     "output_type": "execute_result"
    }
   ],
   "source": [
    "data[\"LATITUDE\"].isna().value_counts()"
   ]
  },
  {
   "cell_type": "code",
   "execution_count": 188,
   "id": "2ce6ac21",
   "metadata": {},
   "outputs": [],
   "source": [
    "pipeline_3 = Pipeline([\n",
    "     ('std_scaler', StandardScaler())\n",
    "     ])"
   ]
  },
  {
   "cell_type": "markdown",
   "id": "24251441",
   "metadata": {},
   "source": [
    "## FULL PIPE"
   ]
  },
  {
   "cell_type": "code",
   "execution_count": 189,
   "id": "1060c388",
   "metadata": {},
   "outputs": [
    {
     "data": {
      "text/plain": [
       "Index(['SOUS_CATEGORIE_DESC', 'ADR_SECTEUR', 'STADEDEDEVELOPPEMENT',\n",
       "       'LATITUDE', 'LONGITUDE', 'SUM_COORDINATE'],\n",
       "      dtype='object')"
      ]
     },
     "execution_count": 189,
     "metadata": {},
     "output_type": "execute_result"
    }
   ],
   "source": [
    "allColumns = data.columns\n",
    "allColumns"
   ]
  },
  {
   "cell_type": "code",
   "execution_count": 193,
   "id": "1d6260bb",
   "metadata": {},
   "outputs": [],
   "source": [
    "full_pipeline = ColumnTransformer([\n",
    "    (\"onehotencoder\", pipeline_1, [\"SOUS_CATEGORIE_DESC\", \"ADR_SECTEUR\"]),\n",
    "    (\"imputerStadDev\", pipeline_2, [\"STADEDEDEVELOPPEMENT\"]),\n",
    "    (\"standartScaler\", pipeline_3, [\"LATITUDE\", \"LONGITUDE\", \"SUM_COORDINATE\"])\n",
    " ])"
   ]
  },
  {
   "cell_type": "code",
   "execution_count": 194,
   "id": "11a6419e",
   "metadata": {},
   "outputs": [],
   "source": [
    "X_train = full_pipeline.fit_transform(X_train)\n"
   ]
  },
  {
   "cell_type": "code",
   "execution_count": 195,
   "id": "22703d9a",
   "metadata": {},
   "outputs": [
    {
     "data": {
      "text/plain": [
       "0      1      2      3      4      5      6      7      8      9      10     11     12     13   \n",
       "False  False  False  False  False  False  False  False  False  False  False  False  False  False    30180\n",
       "dtype: int64"
      ]
     },
     "execution_count": 195,
     "metadata": {},
     "output_type": "execute_result"
    }
   ],
   "source": [
    "df_pipeline.isna().value_counts()"
   ]
  },
  {
   "cell_type": "code",
   "execution_count": null,
   "id": "54704de6",
   "metadata": {},
   "outputs": [],
   "source": []
  },
  {
   "cell_type": "code",
   "execution_count": null,
   "id": "cbc73105",
   "metadata": {},
   "outputs": [],
   "source": []
  },
  {
   "cell_type": "code",
   "execution_count": null,
   "id": "32b74ac6",
   "metadata": {},
   "outputs": [],
   "source": []
  }
 ],
 "metadata": {
  "kernelspec": {
   "display_name": "Python 3 (ipykernel)",
   "language": "python",
   "name": "python3"
  },
  "language_info": {
   "codemirror_mode": {
    "name": "ipython",
    "version": 3
   },
   "file_extension": ".py",
   "mimetype": "text/x-python",
   "name": "python",
   "nbconvert_exporter": "python",
   "pygments_lexer": "ipython3",
   "version": "3.9.7"
  }
 },
 "nbformat": 4,
 "nbformat_minor": 5
}
