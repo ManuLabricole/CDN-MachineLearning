{
 "cells": [
  {
   "cell_type": "code",
   "execution_count": 1,
   "id": "2aa02438",
   "metadata": {},
   "outputs": [],
   "source": [
    "import pandas as pd\n",
    "import numpy as np\n",
    "import plotly as px\n",
    "import matplotlib.pyplot as plt\n",
    "import seaborn as sns\n",
    "import missingno as msno\n",
    "import pickle\n",
    "from colorama import Fore, Back, Style\n",
    "import json\n",
    "import os\n",
    "import matplotlib.colors as mcolors"
   ]
  },
  {
   "cell_type": "code",
   "execution_count": 2,
   "id": "04b43544",
   "metadata": {},
   "outputs": [
    {
     "data": {
      "image/png": "[encoded data removed]",
      "text/plain": [
       "<Figure size 1152x72 with 1 Axes>"
      ]
     },
     "metadata": {
      "needs_background": "light"
     },
     "output_type": "display_data"
    }
   ],
   "source": [
    "colors = sns.color_palette(\"tab20_r\", 16)\n",
    "sns.palplot(colors)\n",
    "sns.set_style(\"darkgrid\")"
   ]
  },
  {
   "cell_type": "markdown",
   "id": "6db9cb05",
   "metadata": {},
   "source": [
    "# Importation"
   ]
  },
  {
   "cell_type": "code",
   "execution_count": 3,
   "id": "398f93d7",
   "metadata": {},
   "outputs": [],
   "source": [
    "df = pd.read_pickle('df_clean.pickle')"
   ]
  },
  {
   "cell_type": "markdown",
   "id": "dc6eb9be",
   "metadata": {},
   "source": [
    "### Généralités"
   ]
  },
  {
   "cell_type": "code",
   "execution_count": 4,
   "id": "42de823b",
   "metadata": {},
   "outputs": [
    {
     "data": {
      "text/html": [
       "<div>\n",
       "<style scoped>\n",
       "    .dataframe tbody tr th:only-of-type {\n",
       "        vertical-align: middle;\n",
       "    }\n",
       "\n",
       "    .dataframe tbody tr th {\n",
       "        vertical-align: top;\n",
       "    }\n",
       "\n",
       "    .dataframe thead th {\n",
       "        text-align: right;\n",
       "    }\n",
       "</style>\n",
       "<table border=\"1\" class=\"dataframe\">\n",
       "  <thead>\n",
       "    <tr style=\"text-align: right;\">\n",
       "      <th></th>\n",
       "      <th>SOUS_CATEGORIE_DESC</th>\n",
       "      <th>CODE_PARENT_DESC</th>\n",
       "      <th>ADR_SECTEUR</th>\n",
       "      <th>GENRE_BOTA</th>\n",
       "      <th>ESPECE</th>\n",
       "      <th>STADEDEDEVELOPPEMENT</th>\n",
       "      <th>ANNEEDEPLANTATION</th>\n",
       "      <th>COLLECTIVITE</th>\n",
       "      <th>LATITUDE</th>\n",
       "      <th>LONGITUDE</th>\n",
       "      <th>SUM_COORDINATE</th>\n",
       "    </tr>\n",
       "  </thead>\n",
       "  <tbody>\n",
       "    <tr>\n",
       "      <th>12</th>\n",
       "      <td>Arbre de voirie</td>\n",
       "      <td>Bd Esplan Autoroute A 48</td>\n",
       "      <td>2</td>\n",
       "      <td>Pinus</td>\n",
       "      <td>nigra</td>\n",
       "      <td>Arbre adulte</td>\n",
       "      <td>1970.0</td>\n",
       "      <td>Ville de Grenoble</td>\n",
       "      <td>45.194803</td>\n",
       "      <td>5.716918</td>\n",
       "      <td>50.911721</td>\n",
       "    </tr>\n",
       "    <tr>\n",
       "      <th>15</th>\n",
       "      <td>Arbre de voirie</td>\n",
       "      <td>Bd Esplan Autoroute A 48</td>\n",
       "      <td>2</td>\n",
       "      <td>Pinus</td>\n",
       "      <td>nigra</td>\n",
       "      <td>Arbre adulte</td>\n",
       "      <td>1970.0</td>\n",
       "      <td>Ville de Grenoble</td>\n",
       "      <td>45.195170</td>\n",
       "      <td>5.716655</td>\n",
       "      <td>50.911825</td>\n",
       "    </tr>\n",
       "    <tr>\n",
       "      <th>16</th>\n",
       "      <td>Arbre de voirie</td>\n",
       "      <td>Bd Esplan Autoroute A 48</td>\n",
       "      <td>2</td>\n",
       "      <td>Populus</td>\n",
       "      <td>alba</td>\n",
       "      <td>Arbre adulte</td>\n",
       "      <td>1970.0</td>\n",
       "      <td>Ville de Grenoble</td>\n",
       "      <td>45.195246</td>\n",
       "      <td>5.716624</td>\n",
       "      <td>50.911870</td>\n",
       "    </tr>\n",
       "    <tr>\n",
       "      <th>18</th>\n",
       "      <td>Arbre d'espaces ouverts</td>\n",
       "      <td>Ch Gordes Ouest conservatoire</td>\n",
       "      <td>4</td>\n",
       "      <td>Diospyros</td>\n",
       "      <td>kaki</td>\n",
       "      <td>Arbre jeune</td>\n",
       "      <td>2018.0</td>\n",
       "      <td>Ville de Grenoble</td>\n",
       "      <td>45.173315</td>\n",
       "      <td>5.734082</td>\n",
       "      <td>50.907397</td>\n",
       "    </tr>\n",
       "    <tr>\n",
       "      <th>22</th>\n",
       "      <td>Arbre de voirie</td>\n",
       "      <td>R Frederico Garcia Lorca park</td>\n",
       "      <td>5</td>\n",
       "      <td>NaN</td>\n",
       "      <td>NaN</td>\n",
       "      <td>NaN</td>\n",
       "      <td>2016.0</td>\n",
       "      <td>Grenoble Alpes Métropole</td>\n",
       "      <td>45.171728</td>\n",
       "      <td>5.734265</td>\n",
       "      <td>50.905994</td>\n",
       "    </tr>\n",
       "  </tbody>\n",
       "</table>\n",
       "</div>"
      ],
      "text/plain": [
       "        SOUS_CATEGORIE_DESC               CODE_PARENT_DESC  ADR_SECTEUR  \\\n",
       "12          Arbre de voirie      Bd Esplan Autoroute A 48             2   \n",
       "15          Arbre de voirie      Bd Esplan Autoroute A 48             2   \n",
       "16          Arbre de voirie      Bd Esplan Autoroute A 48             2   \n",
       "18  Arbre d'espaces ouverts  Ch Gordes Ouest conservatoire            4   \n",
       "22          Arbre de voirie  R Frederico Garcia Lorca park            5   \n",
       "\n",
       "   GENRE_BOTA ESPECE STADEDEDEVELOPPEMENT  ANNEEDEPLANTATION  \\\n",
       "12      Pinus  nigra         Arbre adulte             1970.0   \n",
       "15      Pinus  nigra         Arbre adulte             1970.0   \n",
       "16    Populus   alba         Arbre adulte             1970.0   \n",
       "18  Diospyros   kaki          Arbre jeune             2018.0   \n",
       "22        NaN    NaN                  NaN             2016.0   \n",
       "\n",
       "                COLLECTIVITE   LATITUDE  LONGITUDE  SUM_COORDINATE  \n",
       "12         Ville de Grenoble  45.194803   5.716918       50.911721  \n",
       "15         Ville de Grenoble  45.195170   5.716655       50.911825  \n",
       "16         Ville de Grenoble  45.195246   5.716624       50.911870  \n",
       "18         Ville de Grenoble  45.173315   5.734082       50.907397  \n",
       "22  Grenoble Alpes Métropole  45.171728   5.734265       50.905994  "
      ]
     },
     "execution_count": 4,
     "metadata": {},
     "output_type": "execute_result"
    }
   ],
   "source": [
    "df.head()"
   ]
  },
  {
   "cell_type": "code",
   "execution_count": 5,
   "id": "07628881",
   "metadata": {},
   "outputs": [
    {
     "data": {
      "text/plain": [
       "Index(['SOUS_CATEGORIE_DESC', 'CODE_PARENT_DESC', 'ADR_SECTEUR', 'GENRE_BOTA',\n",
       "       'ESPECE', 'STADEDEDEVELOPPEMENT', 'ANNEEDEPLANTATION', 'COLLECTIVITE',\n",
       "       'LATITUDE', 'LONGITUDE', 'SUM_COORDINATE'],\n",
       "      dtype='object')"
      ]
     },
     "execution_count": 5,
     "metadata": {},
     "output_type": "execute_result"
    }
   ],
   "source": [
    "df.columns"
   ]
  },
  {
   "cell_type": "code",
   "execution_count": 6,
   "id": "30499e87",
   "metadata": {},
   "outputs": [
    {
     "data": {
      "text/html": [
       "<div>\n",
       "<style scoped>\n",
       "    .dataframe tbody tr th:only-of-type {\n",
       "        vertical-align: middle;\n",
       "    }\n",
       "\n",
       "    .dataframe tbody tr th {\n",
       "        vertical-align: top;\n",
       "    }\n",
       "\n",
       "    .dataframe thead th {\n",
       "        text-align: right;\n",
       "    }\n",
       "</style>\n",
       "<table border=\"1\" class=\"dataframe\">\n",
       "  <thead>\n",
       "    <tr style=\"text-align: right;\">\n",
       "      <th></th>\n",
       "      <th>ADR_SECTEUR</th>\n",
       "      <th>ANNEEDEPLANTATION</th>\n",
       "      <th>LATITUDE</th>\n",
       "      <th>LONGITUDE</th>\n",
       "      <th>SUM_COORDINATE</th>\n",
       "    </tr>\n",
       "  </thead>\n",
       "  <tbody>\n",
       "    <tr>\n",
       "      <th>count</th>\n",
       "      <td>30180.000000</td>\n",
       "      <td>30180.000000</td>\n",
       "      <td>30180.000000</td>\n",
       "      <td>30180.000000</td>\n",
       "      <td>30180.000000</td>\n",
       "    </tr>\n",
       "    <tr>\n",
       "      <th>mean</th>\n",
       "      <td>3.852584</td>\n",
       "      <td>1989.384427</td>\n",
       "      <td>45.177150</td>\n",
       "      <td>5.727585</td>\n",
       "      <td>50.904734</td>\n",
       "    </tr>\n",
       "    <tr>\n",
       "      <th>std</th>\n",
       "      <td>1.702122</td>\n",
       "      <td>17.372641</td>\n",
       "      <td>0.011917</td>\n",
       "      <td>0.012762</td>\n",
       "      <td>0.017911</td>\n",
       "    </tr>\n",
       "    <tr>\n",
       "      <th>min</th>\n",
       "      <td>1.000000</td>\n",
       "      <td>1900.000000</td>\n",
       "      <td>45.151572</td>\n",
       "      <td>5.697915</td>\n",
       "      <td>50.863142</td>\n",
       "    </tr>\n",
       "    <tr>\n",
       "      <th>25%</th>\n",
       "      <td>2.000000</td>\n",
       "      <td>1975.000000</td>\n",
       "      <td>45.166272</td>\n",
       "      <td>5.717804</td>\n",
       "      <td>50.893043</td>\n",
       "    </tr>\n",
       "    <tr>\n",
       "      <th>50%</th>\n",
       "      <td>4.000000</td>\n",
       "      <td>1985.000000</td>\n",
       "      <td>45.175801</td>\n",
       "      <td>5.729950</td>\n",
       "      <td>50.903998</td>\n",
       "    </tr>\n",
       "    <tr>\n",
       "      <th>75%</th>\n",
       "      <td>5.000000</td>\n",
       "      <td>2004.000000</td>\n",
       "      <td>45.187076</td>\n",
       "      <td>5.737493</td>\n",
       "      <td>50.917701</td>\n",
       "    </tr>\n",
       "    <tr>\n",
       "      <th>max</th>\n",
       "      <td>6.000000</td>\n",
       "      <td>2021.000000</td>\n",
       "      <td>45.224825</td>\n",
       "      <td>5.798704</td>\n",
       "      <td>51.023187</td>\n",
       "    </tr>\n",
       "  </tbody>\n",
       "</table>\n",
       "</div>"
      ],
      "text/plain": [
       "        ADR_SECTEUR  ANNEEDEPLANTATION      LATITUDE     LONGITUDE  \\\n",
       "count  30180.000000       30180.000000  30180.000000  30180.000000   \n",
       "mean       3.852584        1989.384427     45.177150      5.727585   \n",
       "std        1.702122          17.372641      0.011917      0.012762   \n",
       "min        1.000000        1900.000000     45.151572      5.697915   \n",
       "25%        2.000000        1975.000000     45.166272      5.717804   \n",
       "50%        4.000000        1985.000000     45.175801      5.729950   \n",
       "75%        5.000000        2004.000000     45.187076      5.737493   \n",
       "max        6.000000        2021.000000     45.224825      5.798704   \n",
       "\n",
       "       SUM_COORDINATE  \n",
       "count    30180.000000  \n",
       "mean        50.904734  \n",
       "std          0.017911  \n",
       "min         50.863142  \n",
       "25%         50.893043  \n",
       "50%         50.903998  \n",
       "75%         50.917701  \n",
       "max         51.023187  "
      ]
     },
     "execution_count": 6,
     "metadata": {},
     "output_type": "execute_result"
    }
   ],
   "source": [
    "df.describe()"
   ]
  },
  {
   "cell_type": "markdown",
   "id": "f1890f6b",
   "metadata": {},
   "source": [
    "=> ADR_SECTEUR représente 6 secteurs. Mais n'a pas de continuité numérique logique"
   ]
  },
  {
   "cell_type": "markdown",
   "id": "62a5e5e8",
   "metadata": {},
   "source": [
    "### Analyse des colonnes avant Pipeline"
   ]
  },
  {
   "cell_type": "code",
   "execution_count": 7,
   "id": "826f2d59",
   "metadata": {},
   "outputs": [
    {
     "data": {
      "text/plain": [
       "Arbre d'espaces ouverts      14979\n",
       "Arbre de voirie              11515\n",
       "Arbre d'enceintes fermées     2128\n",
       "Bois semi naturel             1558\n",
       "Name: SOUS_CATEGORIE_DESC, dtype: int64"
      ]
     },
     "execution_count": 7,
     "metadata": {},
     "output_type": "execute_result"
    }
   ],
   "source": [
    "df[\"SOUS_CATEGORIE_DESC\"].value_counts()"
   ]
  },
  {
   "cell_type": "markdown",
   "id": "72bdf2e2",
   "metadata": {},
   "source": [
    "=> Seulement 3 catégories, se prête bien au OneHot imputer"
   ]
  },
  {
   "cell_type": "code",
   "execution_count": 8,
   "id": "e2f7288d",
   "metadata": {},
   "outputs": [
    {
     "data": {
      "text/plain": [
       "Prc Echangeurs Bastion St Roch    393\n",
       "Le Bastion zone boisée            338\n",
       "Cimetière St Roch                 305\n",
       "Grande pelouse butte des pins     273\n",
       "Prc Echangeurs Valmy Gallieni     268\n",
       "                                 ... \n",
       "R du Fer à Cheval                   1\n",
       "R Delacroix garage 1000 lacs        1\n",
       "R Vendres                           1\n",
       "Pl Claveyson                        1\n",
       "R Fourrier n 2bis                   1\n",
       "Name: CODE_PARENT_DESC, Length: 1451, dtype: int64"
      ]
     },
     "execution_count": 8,
     "metadata": {},
     "output_type": "execute_result"
    }
   ],
   "source": [
    "df[\"CODE_PARENT_DESC\"].value_counts()"
   ]
  },
  {
   "cell_type": "markdown",
   "id": "657444ee",
   "metadata": {},
   "source": [
    "=> Description Géographique, pas forcément utile de l'ajouter aux latitudes, longitudes ou Secteur"
   ]
  },
  {
   "cell_type": "code",
   "execution_count": 9,
   "id": "b3c1c618",
   "metadata": {},
   "outputs": [
    {
     "data": {
      "text/plain": [
       "Acer           4984\n",
       "Platanus       4450\n",
       "Pinus          1932\n",
       "Tilia          1736\n",
       "Fraxinus       1446\n",
       "               ... \n",
       "Eucalyptus        1\n",
       "Sorbopyrus        1\n",
       "Sciadopitys       1\n",
       "Poncinos          1\n",
       "Castanea          1\n",
       "Name: GENRE_BOTA, Length: 118, dtype: int64"
      ]
     },
     "execution_count": 9,
     "metadata": {},
     "output_type": "execute_result"
    }
   ],
   "source": [
    "df[\"GENRE_BOTA\"].value_counts()"
   ]
  },
  {
   "cell_type": "markdown",
   "id": "130850ff",
   "metadata": {},
   "source": [
    "=> 118 valeurs différentes. Pas évident à numériser, le OneHot donnera beaucoup de colonne et le Ordinal n'aurait pas de sens"
   ]
  },
  {
   "cell_type": "code",
   "execution_count": 10,
   "id": "b95f6802",
   "metadata": {},
   "outputs": [
    {
     "data": {
      "text/plain": [
       "acerifolia        3778\n",
       "nigra             1825\n",
       "pseudoplatanus    1300\n",
       "betulus           1159\n",
       "platanoides       1017\n",
       "                  ... \n",
       "koreana              1\n",
       "heterophylla         1\n",
       "opalus               1\n",
       "pisifera             1\n",
       "strobus              1\n",
       "Name: ESPECE, Length: 274, dtype: int64"
      ]
     },
     "execution_count": 10,
     "metadata": {},
     "output_type": "execute_result"
    }
   ],
   "source": [
    "df[\"ESPECE\"].value_counts()"
   ]
  },
  {
   "cell_type": "markdown",
   "id": "1e31fb9d",
   "metadata": {},
   "source": [
    "=> IDEM"
   ]
  },
  {
   "cell_type": "code",
   "execution_count": 11,
   "id": "8959c704",
   "metadata": {},
   "outputs": [
    {
     "data": {
      "text/plain": [
       "Ville de Grenoble           15718\n",
       "Grenoble Alpes Métropole    14462\n",
       "Name: COLLECTIVITE, dtype: int64"
      ]
     },
     "execution_count": 11,
     "metadata": {},
     "output_type": "execute_result"
    }
   ],
   "source": [
    "df[\"COLLECTIVITE\"].value_counts()"
   ]
  },
  {
   "cell_type": "markdown",
   "id": "fcf26d21",
   "metadata": {},
   "source": [
    "=> Binaire. Facile pour un OneHot\n",
    "\n",
    "=> Donne pas beaucoup d'infos"
   ]
  },
  {
   "cell_type": "markdown",
   "id": "cc4890eb",
   "metadata": {},
   "source": [
    "### Nouveau dataframe filtré"
   ]
  },
  {
   "cell_type": "code",
   "execution_count": 12,
   "id": "5a1d476f",
   "metadata": {},
   "outputs": [],
   "source": [
    "colToKeep = ['SOUS_CATEGORIE_DESC', 'ADR_SECTEUR', 'STADEDEDEVELOPPEMENT', 'ANNEEDEPLANTATION','LATITUDE', 'LONGITUDE', 'SUM_COORDINATE']"
   ]
  },
  {
   "cell_type": "code",
   "execution_count": 13,
   "id": "be470bb7",
   "metadata": {},
   "outputs": [],
   "source": [
    "df_filtered = df[colToKeep]"
   ]
  },
  {
   "cell_type": "code",
   "execution_count": 14,
   "id": "22335e5c",
   "metadata": {},
   "outputs": [
    {
     "data": {
      "text/plain": [
       "<bound method DataFrame.info of            SOUS_CATEGORIE_DESC  ADR_SECTEUR STADEDEDEVELOPPEMENT  \\\n",
       "12             Arbre de voirie            2         Arbre adulte   \n",
       "15             Arbre de voirie            2         Arbre adulte   \n",
       "16             Arbre de voirie            2         Arbre adulte   \n",
       "18     Arbre d'espaces ouverts            4          Arbre jeune   \n",
       "22             Arbre de voirie            5                  NaN   \n",
       "...                        ...          ...                  ...   \n",
       "31613  Arbre d'espaces ouverts            5          Arbre jeune   \n",
       "31614  Arbre d'espaces ouverts            5         Arbre adulte   \n",
       "31615          Arbre de voirie            5         Arbre adulte   \n",
       "31616          Arbre de voirie            5          Arbre jeune   \n",
       "31617          Arbre de voirie            5          Arbre jeune   \n",
       "\n",
       "       ANNEEDEPLANTATION   LATITUDE  LONGITUDE  SUM_COORDINATE  \n",
       "12                1970.0  45.194803   5.716918       50.911721  \n",
       "15                1970.0  45.195170   5.716655       50.911825  \n",
       "16                1970.0  45.195246   5.716624       50.911870  \n",
       "18                2018.0  45.173315   5.734082       50.907397  \n",
       "22                2016.0  45.171728   5.734265       50.905994  \n",
       "...                  ...        ...        ...             ...  \n",
       "31613             2011.0  45.175206   5.745005       50.920210  \n",
       "31614             1992.0  45.177531   5.748964       50.926494  \n",
       "31615             1976.0  45.171506   5.743514       50.915020  \n",
       "31616             2001.0  45.173542   5.743294       50.916836  \n",
       "31617             1973.0  45.170811   5.733855       50.904666  \n",
       "\n",
       "[30180 rows x 7 columns]>"
      ]
     },
     "execution_count": 14,
     "metadata": {},
     "output_type": "execute_result"
    }
   ],
   "source": [
    "df_filtered.info"
   ]
  },
  {
   "cell_type": "code",
   "execution_count": 15,
   "id": "7b471f08",
   "metadata": {},
   "outputs": [],
   "source": [
    "df_filtered.to_pickle('data_filtered.pickle')"
   ]
  },
  {
   "cell_type": "markdown",
   "id": "13f874fb",
   "metadata": {},
   "source": [
    "### Split Train / Test dataset"
   ]
  },
  {
   "cell_type": "code",
   "execution_count": 16,
   "id": "96a5a6b2",
   "metadata": {},
   "outputs": [],
   "source": [
    "from sklearn.model_selection import train_test_split"
   ]
  },
  {
   "cell_type": "code",
   "execution_count": 17,
   "id": "e807ca4c",
   "metadata": {},
   "outputs": [],
   "source": [
    "raw_data = pd.read_pickle('data_filtered.pickle')\n",
    "annees = raw_data[\"ANNEEDEPLANTATION\"]\n",
    "data = raw_data.drop(columns=\"ANNEEDEPLANTATION\")"
   ]
  },
  {
   "cell_type": "markdown",
   "id": "5d37aa7b",
   "metadata": {},
   "source": [
    "# Preprocessing"
   ]
  },
  {
   "cell_type": "code",
   "execution_count": 18,
   "id": "eec17b4a",
   "metadata": {},
   "outputs": [],
   "source": [
    "from sklearn.impute import SimpleImputer\n",
    "from sklearn.preprocessing import StandardScaler\n",
    "from sklearn.preprocessing import OrdinalEncoder\n",
    "from sklearn.preprocessing import OneHotEncoder\n",
    "\n",
    "from sklearn.pipeline import Pipeline\n",
    "from sklearn.compose import ColumnTransformer"
   ]
  },
  {
   "cell_type": "code",
   "execution_count": 19,
   "id": "090bb9ec",
   "metadata": {},
   "outputs": [
    {
     "data": {
      "text/plain": [
       "Index(['SOUS_CATEGORIE_DESC', 'ADR_SECTEUR', 'STADEDEDEVELOPPEMENT',\n",
       "       'LATITUDE', 'LONGITUDE', 'SUM_COORDINATE'],\n",
       "      dtype='object')"
      ]
     },
     "execution_count": 19,
     "metadata": {},
     "output_type": "execute_result"
    }
   ],
   "source": [
    "data.columns"
   ]
  },
  {
   "cell_type": "markdown",
   "id": "7c0acc25",
   "metadata": {},
   "source": [
    "### --> SOUS_CATEGORIE_DESC && ADR_SECTEUR"
   ]
  },
  {
   "cell_type": "code",
   "execution_count": 20,
   "id": "781ef0ae",
   "metadata": {},
   "outputs": [
    {
     "name": "stdout",
     "output_type": "stream",
     "text": [
      "------- SOUS CATEGORIE DESC --------\n"
     ]
    },
    {
     "data": {
      "text/plain": [
       "Arbre d'espaces ouverts      14979\n",
       "Arbre de voirie              11515\n",
       "Arbre d'enceintes fermées     2128\n",
       "Bois semi naturel             1558\n",
       "Name: SOUS_CATEGORIE_DESC, dtype: int64"
      ]
     },
     "metadata": {},
     "output_type": "display_data"
    },
    {
     "name": "stdout",
     "output_type": "stream",
     "text": [
      "\n",
      "------------ ADR_SECTEUR -----------\n"
     ]
    },
    {
     "data": {
      "text/plain": [
       "6    6836\n",
       "5    6635\n",
       "2    5936\n",
       "3    4142\n",
       "4    3717\n",
       "1    2914\n",
       "Name: ADR_SECTEUR, dtype: int64"
      ]
     },
     "metadata": {},
     "output_type": "display_data"
    },
    {
     "name": "stdout",
     "output_type": "stream",
     "text": [
      "------------ Nan -------------\n"
     ]
    },
    {
     "data": {
      "text/plain": [
       "False    30180\n",
       "Name: SOUS_CATEGORIE_DESC, dtype: int64"
      ]
     },
     "metadata": {},
     "output_type": "display_data"
    },
    {
     "data": {
      "text/plain": [
       "False    30180\n",
       "Name: ADR_SECTEUR, dtype: int64"
      ]
     },
     "metadata": {},
     "output_type": "display_data"
    }
   ],
   "source": [
    "print(\"------- SOUS CATEGORIE DESC --------\")\n",
    "display(data[\"SOUS_CATEGORIE_DESC\"].value_counts())\n",
    "print(\"\")\n",
    "print(\"------------ ADR_SECTEUR -----------\")\n",
    "display(data[\"ADR_SECTEUR\"].value_counts())\n",
    "\n",
    "print(\"------------ Nan -------------\")\n",
    "display(data[\"SOUS_CATEGORIE_DESC\"].isna().value_counts())\n",
    "display(data[\"ADR_SECTEUR\"].isna().value_counts())"
   ]
  },
  {
   "cell_type": "markdown",
   "id": "59da251c",
   "metadata": {},
   "source": [
    "=> Pas de nan donc pas besoin d'Imputer"
   ]
  },
  {
   "cell_type": "code",
   "execution_count": 21,
   "id": "0b804882",
   "metadata": {},
   "outputs": [],
   "source": [
    "oneHotColumns = [\"SOUS_CATEGORIE_DESC\", \"ADR_SECTEUR\"]"
   ]
  },
  {
   "cell_type": "markdown",
   "id": "5841d469",
   "metadata": {},
   "source": [
    "-----"
   ]
  },
  {
   "cell_type": "code",
   "execution_count": 22,
   "id": "5067119c",
   "metadata": {},
   "outputs": [],
   "source": [
    "pipeline_1 = Pipeline([\n",
    "     ('onehotencoder', OneHotEncoder(sparse=False))\n",
    "     ])"
   ]
  },
  {
   "cell_type": "markdown",
   "id": "649ae538",
   "metadata": {},
   "source": [
    "------"
   ]
  },
  {
   "cell_type": "raw",
   "id": "91e605d3",
   "metadata": {},
   "source": [
    "--> On va créer 4 + 5 nouvelles colonnes\n",
    "--> On pourrait supprimer chaque dernière colonne car répète les infos des précédentes ~7 nouvelles colonnes"
   ]
  },
  {
   "cell_type": "markdown",
   "id": "30970c71",
   "metadata": {},
   "source": [
    "### --> STADEDEDEVELOPPEMENT"
   ]
  },
  {
   "cell_type": "code",
   "execution_count": 23,
   "id": "4da4f2df",
   "metadata": {},
   "outputs": [
    {
     "name": "stdout",
     "output_type": "stream",
     "text": [
      "------- STADEDEDEVELOPPEMENT --------\n"
     ]
    },
    {
     "data": {
      "text/plain": [
       "Arbre adulte          21565\n",
       "Arbre jeune            6577\n",
       "Arbre vieillissant      249\n",
       "Name: STADEDEDEVELOPPEMENT, dtype: int64"
      ]
     },
     "metadata": {},
     "output_type": "display_data"
    },
    {
     "data": {
      "text/plain": [
       "False    28391\n",
       "True      1789\n",
       "Name: STADEDEDEVELOPPEMENT, dtype: int64"
      ]
     },
     "execution_count": 23,
     "metadata": {},
     "output_type": "execute_result"
    }
   ],
   "source": [
    "print(\"------- STADEDEDEVELOPPEMENT --------\")\n",
    "display(data[\"STADEDEDEVELOPPEMENT\"].value_counts())\n",
    "data[\"STADEDEDEVELOPPEMENT\"].isna().value_counts()"
   ]
  },
  {
   "cell_type": "raw",
   "id": "f2a70bfc",
   "metadata": {},
   "source": [
    "--> On peut la numériser avec Oridnal car 1-2-3 fait sens vis à vis de Jeune-Adulte-Vieillissant\n",
    "--> 1789 NULL donc pas besoin d'imputer"
   ]
  },
  {
   "cell_type": "code",
   "execution_count": 24,
   "id": "a668d982",
   "metadata": {},
   "outputs": [],
   "source": [
    "mapping = {'Arbre jeune': 1, 'Arbre adulte': 2, 'Arbre vieillissant': 3}"
   ]
  },
  {
   "cell_type": "code",
   "execution_count": 25,
   "id": "defb84e7",
   "metadata": {},
   "outputs": [
    {
     "data": {
      "text/plain": [
       "12       2.0\n",
       "15       2.0\n",
       "16       2.0\n",
       "18       1.0\n",
       "22       NaN\n",
       "        ... \n",
       "31613    1.0\n",
       "31614    2.0\n",
       "31615    2.0\n",
       "31616    1.0\n",
       "31617    1.0\n",
       "Name: STADEDEDEVELOPPEMENT, Length: 30180, dtype: float64"
      ]
     },
     "execution_count": 25,
     "metadata": {},
     "output_type": "execute_result"
    }
   ],
   "source": [
    "data['STADEDEDEVELOPPEMENT'] = df['STADEDEDEVELOPPEMENT'].map(mapping)\n",
    "data['STADEDEDEVELOPPEMENT']"
   ]
  },
  {
   "cell_type": "markdown",
   "id": "f14ae796",
   "metadata": {},
   "source": [
    "------"
   ]
  },
  {
   "cell_type": "code",
   "execution_count": 26,
   "id": "80a366bd",
   "metadata": {},
   "outputs": [],
   "source": [
    "pipeline_2 = Pipeline([\n",
    "    ('imputerStadeDev', SimpleImputer(strategy='constant', fill_value=0)),\n",
    "    (\"standartScaler\", StandardScaler())\n",
    "     ])"
   ]
  },
  {
   "cell_type": "markdown",
   "id": "23c086d1",
   "metadata": {},
   "source": [
    "------"
   ]
  },
  {
   "cell_type": "markdown",
   "id": "9050efe4",
   "metadata": {},
   "source": [
    "### Numerical value"
   ]
  },
  {
   "cell_type": "code",
   "execution_count": 27,
   "id": "be6069bf",
   "metadata": {},
   "outputs": [
    {
     "data": {
      "text/plain": [
       "False    30180\n",
       "Name: LATITUDE, dtype: int64"
      ]
     },
     "execution_count": 27,
     "metadata": {},
     "output_type": "execute_result"
    }
   ],
   "source": [
    "data[\"LATITUDE\"].isna().value_counts()"
   ]
  },
  {
   "cell_type": "code",
   "execution_count": 28,
   "id": "97bed730",
   "metadata": {},
   "outputs": [],
   "source": [
    "pipeline_3 = Pipeline([\n",
    "     ('std_scaler', StandardScaler())\n",
    "     ])"
   ]
  },
  {
   "cell_type": "markdown",
   "id": "90fd6623",
   "metadata": {},
   "source": [
    "## FULL PIPE"
   ]
  },
  {
   "cell_type": "code",
   "execution_count": 29,
   "id": "e556639f",
   "metadata": {},
   "outputs": [],
   "source": [
    "X_train, X_test, y_train, y_test = train_test_split(data, annees, test_size=0.25, random_state=42, stratify=annees)"
   ]
  },
  {
   "cell_type": "code",
   "execution_count": 30,
   "id": "9bf097d6",
   "metadata": {},
   "outputs": [],
   "source": [
    "full_pipeline = ColumnTransformer([\n",
    "    (\"onehotencoder\", pipeline_1, [\"SOUS_CATEGORIE_DESC\", \"ADR_SECTEUR\"]),\n",
    "    (\"imputerStadDev\", pipeline_2, [\"STADEDEDEVELOPPEMENT\"]),\n",
    "    (\"standartScaler\", pipeline_3, [\"LATITUDE\", \"LONGITUDE\", \"SUM_COORDINATE\"])\n",
    " ])"
   ]
  },
  {
   "cell_type": "code",
   "execution_count": 31,
   "id": "f2e405ad",
   "metadata": {},
   "outputs": [],
   "source": [
    "col = [\n",
    "    \"espaces ouverts\", \n",
    "    \"voirie\", \n",
    "    \"enceintes fermées\", \n",
    "    \"Bois semi naturel\",\n",
    "    \"sec-1\", \n",
    "    \"sec-2\", \n",
    "    \"sec-3\", \n",
    "    \"sec-4\", \n",
    "    \"sec-5\", \n",
    "    \"sec-6\", \n",
    "    \"STADEDEDEVELOPPEMENT\", \n",
    "    \"LATITUDE\", \n",
    "    \"LONGITUDE\", \n",
    "    \"SUM_COORDINATE\"\n",
    "]"
   ]
  },
  {
   "cell_type": "code",
   "execution_count": 32,
   "id": "8dc39a9d",
   "metadata": {},
   "outputs": [],
   "source": [
    "X_train = full_pipeline.fit_transform(X_train)\n",
    "X_train=pd.DataFrame(X_train, columns=col)"
   ]
  },
  {
   "cell_type": "code",
   "execution_count": 33,
   "id": "b732c7ca",
   "metadata": {},
   "outputs": [
    {
     "data": {
      "text/html": [
       "<div>\n",
       "<style scoped>\n",
       "    .dataframe tbody tr th:only-of-type {\n",
       "        vertical-align: middle;\n",
       "    }\n",
       "\n",
       "    .dataframe tbody tr th {\n",
       "        vertical-align: top;\n",
       "    }\n",
       "\n",
       "    .dataframe thead th {\n",
       "        text-align: right;\n",
       "    }\n",
       "</style>\n",
       "<table border=\"1\" class=\"dataframe\">\n",
       "  <thead>\n",
       "    <tr style=\"text-align: right;\">\n",
       "      <th></th>\n",
       "      <th>espaces ouverts</th>\n",
       "      <th>voirie</th>\n",
       "      <th>enceintes fermées</th>\n",
       "      <th>Bois semi naturel</th>\n",
       "      <th>sec-1</th>\n",
       "      <th>sec-2</th>\n",
       "      <th>sec-3</th>\n",
       "      <th>sec-4</th>\n",
       "      <th>sec-5</th>\n",
       "      <th>sec-6</th>\n",
       "      <th>STADEDEDEVELOPPEMENT</th>\n",
       "      <th>LATITUDE</th>\n",
       "      <th>LONGITUDE</th>\n",
       "      <th>SUM_COORDINATE</th>\n",
       "    </tr>\n",
       "  </thead>\n",
       "  <tbody>\n",
       "    <tr>\n",
       "      <th>0</th>\n",
       "      <td>0.0</td>\n",
       "      <td>1.0</td>\n",
       "      <td>0.0</td>\n",
       "      <td>0.0</td>\n",
       "      <td>0.0</td>\n",
       "      <td>0.0</td>\n",
       "      <td>1.0</td>\n",
       "      <td>0.0</td>\n",
       "      <td>0.0</td>\n",
       "      <td>0.0</td>\n",
       "      <td>-2.799727</td>\n",
       "      <td>-1.134141</td>\n",
       "      <td>-1.728452</td>\n",
       "      <td>-1.989685</td>\n",
       "    </tr>\n",
       "    <tr>\n",
       "      <th>1</th>\n",
       "      <td>0.0</td>\n",
       "      <td>1.0</td>\n",
       "      <td>0.0</td>\n",
       "      <td>0.0</td>\n",
       "      <td>0.0</td>\n",
       "      <td>0.0</td>\n",
       "      <td>0.0</td>\n",
       "      <td>0.0</td>\n",
       "      <td>1.0</td>\n",
       "      <td>0.0</td>\n",
       "      <td>0.550797</td>\n",
       "      <td>-0.666504</td>\n",
       "      <td>0.378874</td>\n",
       "      <td>-0.175064</td>\n",
       "    </tr>\n",
       "    <tr>\n",
       "      <th>2</th>\n",
       "      <td>0.0</td>\n",
       "      <td>1.0</td>\n",
       "      <td>0.0</td>\n",
       "      <td>0.0</td>\n",
       "      <td>0.0</td>\n",
       "      <td>0.0</td>\n",
       "      <td>0.0</td>\n",
       "      <td>0.0</td>\n",
       "      <td>0.0</td>\n",
       "      <td>1.0</td>\n",
       "      <td>0.550797</td>\n",
       "      <td>-0.998473</td>\n",
       "      <td>0.404888</td>\n",
       "      <td>-0.378242</td>\n",
       "    </tr>\n",
       "    <tr>\n",
       "      <th>3</th>\n",
       "      <td>0.0</td>\n",
       "      <td>1.0</td>\n",
       "      <td>0.0</td>\n",
       "      <td>0.0</td>\n",
       "      <td>0.0</td>\n",
       "      <td>0.0</td>\n",
       "      <td>1.0</td>\n",
       "      <td>0.0</td>\n",
       "      <td>0.0</td>\n",
       "      <td>0.0</td>\n",
       "      <td>-1.124465</td>\n",
       "      <td>-0.037467</td>\n",
       "      <td>-1.689753</td>\n",
       "      <td>-1.229627</td>\n",
       "    </tr>\n",
       "    <tr>\n",
       "      <th>4</th>\n",
       "      <td>0.0</td>\n",
       "      <td>0.0</td>\n",
       "      <td>1.0</td>\n",
       "      <td>0.0</td>\n",
       "      <td>1.0</td>\n",
       "      <td>0.0</td>\n",
       "      <td>0.0</td>\n",
       "      <td>0.0</td>\n",
       "      <td>0.0</td>\n",
       "      <td>0.0</td>\n",
       "      <td>0.550797</td>\n",
       "      <td>0.484574</td>\n",
       "      <td>-1.145869</td>\n",
       "      <td>-0.493228</td>\n",
       "    </tr>\n",
       "    <tr>\n",
       "      <th>...</th>\n",
       "      <td>...</td>\n",
       "      <td>...</td>\n",
       "      <td>...</td>\n",
       "      <td>...</td>\n",
       "      <td>...</td>\n",
       "      <td>...</td>\n",
       "      <td>...</td>\n",
       "      <td>...</td>\n",
       "      <td>...</td>\n",
       "      <td>...</td>\n",
       "      <td>...</td>\n",
       "      <td>...</td>\n",
       "      <td>...</td>\n",
       "      <td>...</td>\n",
       "    </tr>\n",
       "    <tr>\n",
       "      <th>22630</th>\n",
       "      <td>0.0</td>\n",
       "      <td>1.0</td>\n",
       "      <td>0.0</td>\n",
       "      <td>0.0</td>\n",
       "      <td>0.0</td>\n",
       "      <td>0.0</td>\n",
       "      <td>0.0</td>\n",
       "      <td>0.0</td>\n",
       "      <td>1.0</td>\n",
       "      <td>0.0</td>\n",
       "      <td>0.550797</td>\n",
       "      <td>-0.177281</td>\n",
       "      <td>1.473818</td>\n",
       "      <td>0.932260</td>\n",
       "    </tr>\n",
       "    <tr>\n",
       "      <th>22631</th>\n",
       "      <td>0.0</td>\n",
       "      <td>1.0</td>\n",
       "      <td>0.0</td>\n",
       "      <td>0.0</td>\n",
       "      <td>0.0</td>\n",
       "      <td>0.0</td>\n",
       "      <td>0.0</td>\n",
       "      <td>1.0</td>\n",
       "      <td>0.0</td>\n",
       "      <td>0.0</td>\n",
       "      <td>0.550797</td>\n",
       "      <td>-0.295936</td>\n",
       "      <td>-0.304620</td>\n",
       "      <td>-0.414815</td>\n",
       "    </tr>\n",
       "    <tr>\n",
       "      <th>22632</th>\n",
       "      <td>0.0</td>\n",
       "      <td>0.0</td>\n",
       "      <td>1.0</td>\n",
       "      <td>0.0</td>\n",
       "      <td>0.0</td>\n",
       "      <td>0.0</td>\n",
       "      <td>0.0</td>\n",
       "      <td>0.0</td>\n",
       "      <td>1.0</td>\n",
       "      <td>0.0</td>\n",
       "      <td>-1.124465</td>\n",
       "      <td>0.436364</td>\n",
       "      <td>0.606493</td>\n",
       "      <td>0.723809</td>\n",
       "    </tr>\n",
       "    <tr>\n",
       "      <th>22633</th>\n",
       "      <td>0.0</td>\n",
       "      <td>1.0</td>\n",
       "      <td>0.0</td>\n",
       "      <td>0.0</td>\n",
       "      <td>0.0</td>\n",
       "      <td>1.0</td>\n",
       "      <td>0.0</td>\n",
       "      <td>0.0</td>\n",
       "      <td>0.0</td>\n",
       "      <td>0.0</td>\n",
       "      <td>-1.124465</td>\n",
       "      <td>1.545534</td>\n",
       "      <td>0.172494</td>\n",
       "      <td>1.155232</td>\n",
       "    </tr>\n",
       "    <tr>\n",
       "      <th>22634</th>\n",
       "      <td>0.0</td>\n",
       "      <td>0.0</td>\n",
       "      <td>0.0</td>\n",
       "      <td>1.0</td>\n",
       "      <td>0.0</td>\n",
       "      <td>0.0</td>\n",
       "      <td>0.0</td>\n",
       "      <td>1.0</td>\n",
       "      <td>0.0</td>\n",
       "      <td>0.0</td>\n",
       "      <td>0.550797</td>\n",
       "      <td>-0.024714</td>\n",
       "      <td>-0.413722</td>\n",
       "      <td>-0.311444</td>\n",
       "    </tr>\n",
       "  </tbody>\n",
       "</table>\n",
       "<p>22635 rows × 14 columns</p>\n",
       "</div>"
      ],
      "text/plain": [
       "       espaces ouverts  voirie  enceintes fermées  Bois semi naturel  sec-1  \\\n",
       "0                  0.0     1.0                0.0                0.0    0.0   \n",
       "1                  0.0     1.0                0.0                0.0    0.0   \n",
       "2                  0.0     1.0                0.0                0.0    0.0   \n",
       "3                  0.0     1.0                0.0                0.0    0.0   \n",
       "4                  0.0     0.0                1.0                0.0    1.0   \n",
       "...                ...     ...                ...                ...    ...   \n",
       "22630              0.0     1.0                0.0                0.0    0.0   \n",
       "22631              0.0     1.0                0.0                0.0    0.0   \n",
       "22632              0.0     0.0                1.0                0.0    0.0   \n",
       "22633              0.0     1.0                0.0                0.0    0.0   \n",
       "22634              0.0     0.0                0.0                1.0    0.0   \n",
       "\n",
       "       sec-2  sec-3  sec-4  sec-5  sec-6  STADEDEDEVELOPPEMENT  LATITUDE  \\\n",
       "0        0.0    1.0    0.0    0.0    0.0             -2.799727 -1.134141   \n",
       "1        0.0    0.0    0.0    1.0    0.0              0.550797 -0.666504   \n",
       "2        0.0    0.0    0.0    0.0    1.0              0.550797 -0.998473   \n",
       "3        0.0    1.0    0.0    0.0    0.0             -1.124465 -0.037467   \n",
       "4        0.0    0.0    0.0    0.0    0.0              0.550797  0.484574   \n",
       "...      ...    ...    ...    ...    ...                   ...       ...   \n",
       "22630    0.0    0.0    0.0    1.0    0.0              0.550797 -0.177281   \n",
       "22631    0.0    0.0    1.0    0.0    0.0              0.550797 -0.295936   \n",
       "22632    0.0    0.0    0.0    1.0    0.0             -1.124465  0.436364   \n",
       "22633    1.0    0.0    0.0    0.0    0.0             -1.124465  1.545534   \n",
       "22634    0.0    0.0    1.0    0.0    0.0              0.550797 -0.024714   \n",
       "\n",
       "       LONGITUDE  SUM_COORDINATE  \n",
       "0      -1.728452       -1.989685  \n",
       "1       0.378874       -0.175064  \n",
       "2       0.404888       -0.378242  \n",
       "3      -1.689753       -1.229627  \n",
       "4      -1.145869       -0.493228  \n",
       "...          ...             ...  \n",
       "22630   1.473818        0.932260  \n",
       "22631  -0.304620       -0.414815  \n",
       "22632   0.606493        0.723809  \n",
       "22633   0.172494        1.155232  \n",
       "22634  -0.413722       -0.311444  \n",
       "\n",
       "[22635 rows x 14 columns]"
      ]
     },
     "execution_count": 33,
     "metadata": {},
     "output_type": "execute_result"
    }
   ],
   "source": [
    "X_train"
   ]
  },
  {
   "cell_type": "code",
   "execution_count": null,
   "id": "a53a0640",
   "metadata": {},
   "outputs": [],
   "source": []
  },
  {
   "cell_type": "markdown",
   "id": "88f167a4",
   "metadata": {},
   "source": [
    "# Random Forest"
   ]
  },
  {
   "cell_type": "code",
   "execution_count": null,
   "id": "8bdb82c8",
   "metadata": {},
   "outputs": [],
   "source": []
  },
  {
   "cell_type": "code",
   "execution_count": null,
   "id": "54852224",
   "metadata": {},
   "outputs": [],
   "source": []
  }
 ],
 "metadata": {
  "kernelspec": {
   "display_name": "Python 3 (ipykernel)",
   "language": "python",
   "name": "python3"
  },
  "language_info": {
   "codemirror_mode": {
    "name": "ipython",
    "version": 3
   },
   "file_extension": ".py",
   "mimetype": "text/x-python",
   "name": "python",
   "nbconvert_exporter": "python",
   "pygments_lexer": "ipython3",
   "version": "3.9.7"
  }
 },
 "nbformat": 4,
 "nbformat_minor": 5
}
