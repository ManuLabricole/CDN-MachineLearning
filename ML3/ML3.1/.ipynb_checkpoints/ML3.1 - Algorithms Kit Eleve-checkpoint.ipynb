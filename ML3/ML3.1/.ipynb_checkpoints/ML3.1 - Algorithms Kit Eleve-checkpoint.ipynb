{
 "cells": [
  {
   "cell_type": "markdown",
   "metadata": {},
   "source": [
    "## Packages"
   ]
  },
  {
   "cell_type": "code",
   "execution_count": 1,
   "metadata": {},
   "outputs": [],
   "source": [
    "import numpy as np\n",
    "import pandas as pd\n",
    "import matplotlib.pyplot as plt\n",
    "%matplotlib inline\n",
    "import os"
   ]
  },
  {
   "cell_type": "code",
   "execution_count": 2,
   "metadata": {},
   "outputs": [],
   "source": [
    "cwd = os.getcwd()"
   ]
  },
  {
   "cell_type": "code",
   "execution_count": 3,
   "metadata": {},
   "outputs": [],
   "source": [
    "def image_path(name):\n",
    "    path = cwd + name\n",
    "    return path"
   ]
  },
  {
   "cell_type": "markdown",
   "metadata": {},
   "source": [
    "## Resources\n",
    "General: \n",
    "1. Hands on Machine Learning with scikit-learn and tensorflow, chapter 5, 6, 7\n",
    "\n",
    "2. Machine Learnia : https://www.youtube.com/watch?v=w_bLGK4Pteo\n",
    "\n",
    "Extra ressources fo algorithms:\n",
    "- Arbres de décision: \n",
    "1. https://scikit-learn.org/stable/modules/tree.html\n",
    "2. https://www.lovelyanalytics.com/2016/08/16/decision-tree-comment-ca-marche/\n",
    "- Random forest:\n",
    "1. https://scikit-learn.org/stable/modules/generated/sklearn.ensemble.RandomForestClassifier.html\n",
    "2. https://towardsdatascience.com/random-forest-in-python-24d0893d51c0\n",
    "- SVM: \n",
    "1. https://scikit-learn.org/stable/modules/svm.html\n",
    "\n",
    "\n",
    "Courbes d'apprentissage: \n",
    "1. https://scikit-learn.org/stable/auto_examples/model_selection/plot_learning_curve.html#sphx-glr-auto-examples-model-selection-plot-learning-curve-py\n",
    "2. https://towardsdatascience.com/why-you-should-be-plotting-learning-curves-in-your-next-machine-learning-project-221bae60c53\n",
    "\n",
    "Courbes de validation: \n",
    "1. https://scikit-learn.org/stable/modules/learning_curve.html"
   ]
  },
  {
   "cell_type": "markdown",
   "metadata": {},
   "source": [
    "- Take some time to read book sections for decision tree, random forest and SVM algorithms.\n",
    "- Import these algorithms from scikit-learn and find the hyperparameter options that are available when they are instantiated.\n"
   ]
  },
  {
   "cell_type": "markdown",
   "metadata": {},
   "source": [
    "## Decision trees"
   ]
  },
  {
   "cell_type": "markdown",
   "metadata": {},
   "source": [
    "Cet algorithme va classer "
   ]
  },
  {
   "cell_type": "markdown",
   "metadata": {},
   "source": [
    " "
   ]
  },
  {
   "cell_type": "code",
   "execution_count": 4,
   "metadata": {},
   "outputs": [],
   "source": [
    "from sklearn.datasets import load_iris\n",
    "from sklearn.tree import DecisionTreeClassifier"
   ]
  },
  {
   "cell_type": "code",
   "execution_count": 5,
   "metadata": {},
   "outputs": [],
   "source": [
    "# Load dataset\n",
    "iris = load_iris()\n",
    "X = iris.data[:, 2:] # petal length and width\n",
    "y = iris.target"
   ]
  },
  {
   "cell_type": "code",
   "execution_count": 6,
   "metadata": {},
   "outputs": [
    {
     "data": {
      "text/html": [
       "<style>#sk-container-id-1 {color: black;background-color: white;}#sk-container-id-1 pre{padding: 0;}#sk-container-id-1 div.sk-toggleable {background-color: white;}#sk-container-id-1 label.sk-toggleable__label {cursor: pointer;display: block;width: 100%;margin-bottom: 0;padding: 0.3em;box-sizing: border-box;text-align: center;}#sk-container-id-1 label.sk-toggleable__label-arrow:before {content: \"▸\";float: left;margin-right: 0.25em;color: #696969;}#sk-container-id-1 label.sk-toggleable__label-arrow:hover:before {color: black;}#sk-container-id-1 div.sk-estimator:hover label.sk-toggleable__label-arrow:before {color: black;}#sk-container-id-1 div.sk-toggleable__content {max-height: 0;max-width: 0;overflow: hidden;text-align: left;background-color: #f0f8ff;}#sk-container-id-1 div.sk-toggleable__content pre {margin: 0.2em;color: black;border-radius: 0.25em;background-color: #f0f8ff;}#sk-container-id-1 input.sk-toggleable__control:checked~div.sk-toggleable__content {max-height: 200px;max-width: 100%;overflow: auto;}#sk-container-id-1 input.sk-toggleable__control:checked~label.sk-toggleable__label-arrow:before {content: \"▾\";}#sk-container-id-1 div.sk-estimator input.sk-toggleable__control:checked~label.sk-toggleable__label {background-color: #d4ebff;}#sk-container-id-1 div.sk-label input.sk-toggleable__control:checked~label.sk-toggleable__label {background-color: #d4ebff;}#sk-container-id-1 input.sk-hidden--visually {border: 0;clip: rect(1px 1px 1px 1px);clip: rect(1px, 1px, 1px, 1px);height: 1px;margin: -1px;overflow: hidden;padding: 0;position: absolute;width: 1px;}#sk-container-id-1 div.sk-estimator {font-family: monospace;background-color: #f0f8ff;border: 1px dotted black;border-radius: 0.25em;box-sizing: border-box;margin-bottom: 0.5em;}#sk-container-id-1 div.sk-estimator:hover {background-color: #d4ebff;}#sk-container-id-1 div.sk-parallel-item::after {content: \"\";width: 100%;border-bottom: 1px solid gray;flex-grow: 1;}#sk-container-id-1 div.sk-label:hover label.sk-toggleable__label {background-color: #d4ebff;}#sk-container-id-1 div.sk-serial::before {content: \"\";position: absolute;border-left: 1px solid gray;box-sizing: border-box;top: 0;bottom: 0;left: 50%;z-index: 0;}#sk-container-id-1 div.sk-serial {display: flex;flex-direction: column;align-items: center;background-color: white;padding-right: 0.2em;padding-left: 0.2em;position: relative;}#sk-container-id-1 div.sk-item {position: relative;z-index: 1;}#sk-container-id-1 div.sk-parallel {display: flex;align-items: stretch;justify-content: center;background-color: white;position: relative;}#sk-container-id-1 div.sk-item::before, #sk-container-id-1 div.sk-parallel-item::before {content: \"\";position: absolute;border-left: 1px solid gray;box-sizing: border-box;top: 0;bottom: 0;left: 50%;z-index: -1;}#sk-container-id-1 div.sk-parallel-item {display: flex;flex-direction: column;z-index: 1;position: relative;background-color: white;}#sk-container-id-1 div.sk-parallel-item:first-child::after {align-self: flex-end;width: 50%;}#sk-container-id-1 div.sk-parallel-item:last-child::after {align-self: flex-start;width: 50%;}#sk-container-id-1 div.sk-parallel-item:only-child::after {width: 0;}#sk-container-id-1 div.sk-dashed-wrapped {border: 1px dashed gray;margin: 0 0.4em 0.5em 0.4em;box-sizing: border-box;padding-bottom: 0.4em;background-color: white;}#sk-container-id-1 div.sk-label label {font-family: monospace;font-weight: bold;display: inline-block;line-height: 1.2em;}#sk-container-id-1 div.sk-label-container {text-align: center;}#sk-container-id-1 div.sk-container {/* jupyter's `normalize.less` sets `[hidden] { display: none; }` but bootstrap.min.css set `[hidden] { display: none !important; }` so we also need the `!important` here to be able to override the default hidden behavior on the sphinx rendered scikit-learn.org. See: https://github.com/scikit-learn/scikit-learn/issues/21755 */display: inline-block !important;position: relative;}#sk-container-id-1 div.sk-text-repr-fallback {display: none;}</style><div id=\"sk-container-id-1\" class=\"sk-top-container\"><div class=\"sk-text-repr-fallback\"><pre>DecisionTreeClassifier(max_depth=2)</pre><b>In a Jupyter environment, please rerun this cell to show the HTML representation or trust the notebook. <br />On GitHub, the HTML representation is unable to render, please try loading this page with nbviewer.org.</b></div><div class=\"sk-container\" hidden><div class=\"sk-item\"><div class=\"sk-estimator sk-toggleable\"><input class=\"sk-toggleable__control sk-hidden--visually\" id=\"sk-estimator-id-1\" type=\"checkbox\" checked><label for=\"sk-estimator-id-1\" class=\"sk-toggleable__label sk-toggleable__label-arrow\">DecisionTreeClassifier</label><div class=\"sk-toggleable__content\"><pre>DecisionTreeClassifier(max_depth=2)</pre></div></div></div></div></div>"
      ],
      "text/plain": [
       "DecisionTreeClassifier(max_depth=2)"
      ]
     },
     "execution_count": 6,
     "metadata": {},
     "output_type": "execute_result"
    }
   ],
   "source": [
    "tree_clf = DecisionTreeClassifier(max_depth=2)\n",
    "tree_clf.fit(X, y)"
   ]
  },
  {
   "cell_type": "markdown",
   "metadata": {},
   "source": [
    "### Visualization: export_graphviz"
   ]
  },
  {
   "cell_type": "code",
   "execution_count": 7,
   "metadata": {},
   "outputs": [],
   "source": [
    "from sklearn.tree import export_graphviz\n",
    "import graphviz"
   ]
  },
  {
   "cell_type": "code",
   "execution_count": 8,
   "metadata": {},
   "outputs": [],
   "source": [
    "def convert_png(file, output_name):\n",
    "    with open(file) as f:\n",
    "        dot_graph = f.read()\n",
    "\n",
    "    # Convert the .dot file to a .png file\n",
    "    graphviz.Source(dot_graph).render(filename=output_name, format=\"png\")"
   ]
  },
  {
   "cell_type": "code",
   "execution_count": 9,
   "metadata": {},
   "outputs": [],
   "source": [
    "out_file = image_path(\"iris_tree.dot\")\n",
    "\n",
    "export_graphviz(\n",
    "       tree_clf,\n",
    "       out_file=out_file,\n",
    "       feature_names=iris.feature_names[2:],\n",
    "       class_names=iris.target_names,\n",
    "       rounded=True,\n",
    "       filled=True\n",
    "   )"
   ]
  },
  {
   "cell_type": "code",
   "execution_count": 10,
   "metadata": {},
   "outputs": [],
   "source": [
    "# open image with PIL\n",
    "#from PIL import Image\n",
    "#image = Image.open(\"/Users/manulabricole/Documents/CDN/MachineLearning/ML3/iris_tree.png\")\n",
    "#image.show()"
   ]
  },
  {
   "cell_type": "code",
   "execution_count": 11,
   "metadata": {},
   "outputs": [
    {
     "data": {
      "image/png": "[encoded data removed]",
      "text/plain": [
       "<Figure size 432x288 with 1 Axes>"
      ]
     },
     "metadata": {
      "needs_background": "light"
     },
     "output_type": "display_data"
    }
   ],
   "source": [
    "# open image with matplotlib\n",
    "import matplotlib.pyplot as plt\n",
    "import matplotlib.image as mpimg\n",
    "\n",
    "img=mpimg.imread('/Users/manulabricole/Documents/CDN/MachineLearning/ML3/iris_tree.png')\n",
    "imgplot = plt.imshow(img)\n"
   ]
  },
  {
   "cell_type": "markdown",
   "metadata": {},
   "source": [
    "### Visualization: plot_tree"
   ]
  },
  {
   "cell_type": "code",
   "execution_count": 12,
   "metadata": {},
   "outputs": [
    {
     "data": {
      "image/png": "[encoded data removed]",
      "text/plain": [
       "<Figure size 432x288 with 1 Axes>"
      ]
     },
     "metadata": {
      "needs_background": "light"
     },
     "output_type": "display_data"
    }
   ],
   "source": [
    "from sklearn.tree import plot_tree\n",
    "plot = plot_tree(tree_clf, feature_names = iris.feature_names[:2], class_names = iris.target_names)"
   ]
  },
  {
   "cell_type": "markdown",
   "metadata": {},
   "source": [
    "Compute the predictions of a decision tree classifier on a test set and calculate all the classification metrics you know:\n"
   ]
  },
  {
   "cell_type": "code",
   "execution_count": 13,
   "metadata": {},
   "outputs": [],
   "source": [
    "from sklearn.model_selection import train_test_split\n",
    "from sklearn.preprocessing import StandardScaler"
   ]
  },
  {
   "cell_type": "code",
   "execution_count": 118,
   "metadata": {},
   "outputs": [],
   "source": [
    "iris_df = pd.DataFrame(data=iris.data, columns=iris.feature_names)\n",
    "iris_df['target'] = iris.target\n",
    "y= iris_df.pop('target')\n",
    "X=iris_df"
   ]
  },
  {
   "cell_type": "code",
   "execution_count": 119,
   "metadata": {},
   "outputs": [],
   "source": [
    "X_train, X_test, y_train, y_test = train_test_split(X, y, test_size=0.3, random_state=42)\n",
    "\n",
    "std = StandardScaler()\n",
    "\n",
    "X_train_scale = std.fit_transform(X_train)\n",
    "X_test_scale = std.transform(X_test)\n",
    "\n",
    "tree_clf = DecisionTreeClassifier(max_depth=2, random_state=42)\n",
    "tree_clf.fit(X_train_scale, y_train)\n",
    "\n",
    "y_train_predict = tree_clf.predict(X_train_scale)\n",
    "y_test_predict = tree_clf.predict(X_test_scale)"
   ]
  },
  {
   "cell_type": "markdown",
   "metadata": {},
   "source": [
    " For example, suppose you have found a flower whose petals are 5 cm long and 1.5 cm wide. The corre‐ sponding leaf node is the depth-2 left node, so the Decision Tree should output the following probabilities: 0% for Iris-Setosa (0/54), 90.7% for Iris-Versicolor (49/54), and 9.3% for Iris-Virginica (5/54)."
   ]
  },
  {
   "cell_type": "code",
   "execution_count": 120,
   "metadata": {},
   "outputs": [],
   "source": [
    "# tree_clf.predict_proba([[5, 1.5]])"
   ]
  },
  {
   "cell_type": "code",
   "execution_count": 121,
   "metadata": {},
   "outputs": [],
   "source": [
    "from sklearn.metrics import confusion_matrix, precision_score, recall_score, accuracy_score, f1_score, make_scorer, roc_auc_score, log_loss"
   ]
  },
  {
   "cell_type": "code",
   "execution_count": 70,
   "metadata": {},
   "outputs": [],
   "source": [
    "def print_score_method(y_train, y_train_predict, y_test, y_test_predict, method):\n",
    "    \n",
    "    print(f\"---------------- {method} ------------------\")\n",
    "    print(\"\")\n",
    "    print(\"Accuracy Test --> \",accuracy_score(y_test, y_test_predict))\n",
    "    print(\"Accuracy Train --> \",accuracy_score(y_train, y_train_predict))\n",
    "    print(\"\")    \n",
    "    print(\"Precision Test --> \",precision_score(y_test, y_test_predict, average=method))\n",
    "    print(\"Precision Train --> \",precision_score(y_train, y_train_predict, average=method))\n",
    "    print(\"\")\n",
    "    print(\"Recall Test --> \",recall_score(y_test, y_test_predict, average=method))\n",
    "    print(\"Recall Train --> \",recall_score(y_train, y_train_predict, average=method))\n",
    "    print(\"\")\n",
    "    print(\"f1 Test --> \",f1_score(y_test, y_test_predict, average=method))\n",
    "    print(\"f1 Train --> \",f1_score(y_train, y_train_predict, average=method))\n",
    "    print(\"------------------------------------------\")"
   ]
  },
  {
   "cell_type": "code",
   "execution_count": 123,
   "metadata": {},
   "outputs": [
    {
     "name": "stderr",
     "output_type": "stream",
     "text": [
      "/var/folders/vs/63szyqqn4dq91nzk275599p40000gn/T/ipykernel_26208/3388077521.py:11: UserWarning: Matplotlib is currently using module://matplotlib_inline.backend_inline, which is a non-GUI backend, so cannot show the figure.\n",
      "  fig.show()\n"
     ]
    },
    {
     "data": {
      "image/png": "[encoded data removed]",
      "text/plain": [
       "<Figure size 864x864 with 2 Axes>"
      ]
     },
     "metadata": {
      "needs_background": "light"
     },
     "output_type": "display_data"
    }
   ],
   "source": [
    "from sklearn.metrics import confusion_matrix\n",
    "from sklearn.metrics import ConfusionMatrixDisplay\n",
    "\n",
    "cm = confusion_matrix(y_test, y_test_predict)\n",
    "cm_display = ConfusionMatrixDisplay(cm)\n",
    "\n",
    "fig, ax = plt.subplots(figsize=(12, 12))\n",
    "cm_display.plot(ax=ax)\n",
    "plt.xticks(rotation=0, fontsize=40)\n",
    "plt.yticks(fontsize=40)\n",
    "fig.show()"
   ]
  },
  {
   "cell_type": "code",
   "execution_count": 69,
   "metadata": {},
   "outputs": [
    {
     "name": "stdout",
     "output_type": "stream",
     "text": [
      "------------- micro ---------------\n",
      "\n",
      "Accuracy Test -->  0.9777777777777777\n",
      "Accuracy Train -->  0.9428571428571428\n",
      "\n",
      "Precision Test -->  0.9777777777777777\n",
      "Precision Train -->  0.9428571428571428\n",
      "\n",
      "Recall Test -->  0.9777777777777777\n",
      "Recall Train -->  0.9428571428571428\n",
      "\n",
      "f1 Test -->  0.9777777777777777\n",
      "f1 Train -->  0.9428571428571428\n",
      "------------------------------------------\n",
      "------------- macro ---------------\n",
      "\n",
      "Accuracy Test -->  0.9777777777777777\n",
      "Accuracy Train -->  0.9428571428571428\n",
      "\n",
      "Precision Test -->  0.9761904761904763\n",
      "Precision Train -->  0.9492485833949248\n",
      "\n",
      "Recall Test -->  0.9743589743589745\n",
      "Recall Train -->  0.9459459459459459\n",
      "\n",
      "f1 Test -->  0.974320987654321\n",
      "f1 Train -->  0.9457875457875456\n",
      "------------------------------------------\n",
      "------------- weighted ---------------\n",
      "\n",
      "Accuracy Test -->  0.9777777777777777\n",
      "Accuracy Train -->  0.9428571428571428\n",
      "\n",
      "Precision Test -->  0.9793650793650793\n",
      "Precision Train -->  0.9463485024460634\n",
      "\n",
      "Recall Test -->  0.9777777777777777\n",
      "Recall Train -->  0.9428571428571428\n",
      "\n",
      "f1 Test -->  0.9777448559670783\n",
      "f1 Train -->  0.9426896912611198\n",
      "------------------------------------------\n"
     ]
    }
   ],
   "source": [
    "methods = ['micro', 'macro', 'weighted']\n",
    "\n",
    "for method in methods:\n",
    "    print_score_method(y_train, y_train_predict, y_test, y_test_predict, method)"
   ]
  },
  {
   "cell_type": "markdown",
   "metadata": {},
   "source": [
    "## Random forests"
   ]
  },
  {
   "cell_type": "markdown",
   "metadata": {},
   "source": [
    "Explain here how they work in your own words:"
   ]
  },
  {
   "cell_type": "markdown",
   "metadata": {},
   "source": [
    " "
   ]
  },
  {
   "cell_type": "code",
   "execution_count": 88,
   "metadata": {},
   "outputs": [],
   "source": [
    "from sklearn.ensemble import RandomForestClassifier\n",
    "from sklearn.model_selection import GridSearchCV"
   ]
  },
  {
   "cell_type": "code",
   "execution_count": 106,
   "metadata": {},
   "outputs": [],
   "source": [
    "rfc = RandomForestClassifier(max_depth=2, n_estimators=1000, random_state=42)"
   ]
  },
  {
   "cell_type": "code",
   "execution_count": 116,
   "metadata": {},
   "outputs": [],
   "source": [
    "rfc.fit(X_train_scale, y_train)\n",
    "\n",
    "y_train_predict_rfc = tree_clf.predict(X_train_scale)\n",
    "y_test_predict_rfc = tree_clf.predict(X_test_scale)"
   ]
  },
  {
   "cell_type": "code",
   "execution_count": 127,
   "metadata": {},
   "outputs": [
    {
     "name": "stdout",
     "output_type": "stream",
     "text": [
      "---------------- weighted ------------------\n",
      "\n",
      "Accuracy Test -->  0.9777777777777777\n",
      "Accuracy Train -->  0.9428571428571428\n",
      "\n",
      "Precision Test -->  0.9793650793650793\n",
      "Precision Train -->  0.9463485024460634\n",
      "\n",
      "Recall Test -->  0.9777777777777777\n",
      "Recall Train -->  0.9428571428571428\n",
      "\n",
      "f1 Test -->  0.9777448559670783\n",
      "f1 Train -->  0.9426896912611198\n",
      "------------------------------------------\n"
     ]
    }
   ],
   "source": [
    "print(f\"---------------- {method} ------------------\")\n",
    "print(\"\")\n",
    "print(\"Accuracy Test --> \",accuracy_score(y_test, y_test_predict_rfc))\n",
    "print(\"Accuracy Train --> \",accuracy_score(y_train, y_train_predict_rfc))\n",
    "print(\"\")    \n",
    "print(\"Precision Test --> \",precision_score(y_test, y_test_predict_rfc, average=\"weighted\"))\n",
    "print(\"Precision Train --> \",precision_score(y_train, y_train_predict_rfc, average=\"weighted\"))\n",
    "print(\"\")\n",
    "print(\"Recall Test --> \",recall_score(y_test, y_test_predict_rfc, average=\"weighted\"))\n",
    "print(\"Recall Train --> \",recall_score(y_train, y_train_predict_rfc, average=\"weighted\"))\n",
    "print(\"\")\n",
    "print(\"f1 Test --> \",f1_score(y_test, y_test_predict_rfc, average=\"weighted\"))\n",
    "print(\"f1 Train --> \",f1_score(y_train, y_train_predict_rfc, average=\"weighted\"))\n",
    "print(\"------------------------------------------\")"
   ]
  },
  {
   "cell_type": "markdown",
   "metadata": {},
   "source": [
    "## SVM"
   ]
  },
  {
   "cell_type": "markdown",
   "metadata": {},
   "source": [
    "Explain here how they work in your own words:"
   ]
  },
  {
   "cell_type": "markdown",
   "metadata": {},
   "source": [
    "### SVC - Poly kernel"
   ]
  },
  {
   "cell_type": "code",
   "execution_count": 137,
   "metadata": {},
   "outputs": [],
   "source": [
    "import numpy as np\n",
    "from sklearn import datasets\n",
    "from sklearn.pipeline import Pipeline\n",
    "from sklearn.preprocessing import StandardScaler \n",
    "from sklearn.svm import LinearSVC"
   ]
  },
  {
   "cell_type": "code",
   "execution_count": 152,
   "metadata": {},
   "outputs": [],
   "source": [
    "svc_clf = SVC(kernel=\"poly\", degree=3, coef0=1, C=1)"
   ]
  },
  {
   "cell_type": "code",
   "execution_count": 153,
   "metadata": {},
   "outputs": [
    {
     "data": {
      "text/html": [
       "<style>#sk-container-id-6 {color: black;background-color: white;}#sk-container-id-6 pre{padding: 0;}#sk-container-id-6 div.sk-toggleable {background-color: white;}#sk-container-id-6 label.sk-toggleable__label {cursor: pointer;display: block;width: 100%;margin-bottom: 0;padding: 0.3em;box-sizing: border-box;text-align: center;}#sk-container-id-6 label.sk-toggleable__label-arrow:before {content: \"▸\";float: left;margin-right: 0.25em;color: #696969;}#sk-container-id-6 label.sk-toggleable__label-arrow:hover:before {color: black;}#sk-container-id-6 div.sk-estimator:hover label.sk-toggleable__label-arrow:before {color: black;}#sk-container-id-6 div.sk-toggleable__content {max-height: 0;max-width: 0;overflow: hidden;text-align: left;background-color: #f0f8ff;}#sk-container-id-6 div.sk-toggleable__content pre {margin: 0.2em;color: black;border-radius: 0.25em;background-color: #f0f8ff;}#sk-container-id-6 input.sk-toggleable__control:checked~div.sk-toggleable__content {max-height: 200px;max-width: 100%;overflow: auto;}#sk-container-id-6 input.sk-toggleable__control:checked~label.sk-toggleable__label-arrow:before {content: \"▾\";}#sk-container-id-6 div.sk-estimator input.sk-toggleable__control:checked~label.sk-toggleable__label {background-color: #d4ebff;}#sk-container-id-6 div.sk-label input.sk-toggleable__control:checked~label.sk-toggleable__label {background-color: #d4ebff;}#sk-container-id-6 input.sk-hidden--visually {border: 0;clip: rect(1px 1px 1px 1px);clip: rect(1px, 1px, 1px, 1px);height: 1px;margin: -1px;overflow: hidden;padding: 0;position: absolute;width: 1px;}#sk-container-id-6 div.sk-estimator {font-family: monospace;background-color: #f0f8ff;border: 1px dotted black;border-radius: 0.25em;box-sizing: border-box;margin-bottom: 0.5em;}#sk-container-id-6 div.sk-estimator:hover {background-color: #d4ebff;}#sk-container-id-6 div.sk-parallel-item::after {content: \"\";width: 100%;border-bottom: 1px solid gray;flex-grow: 1;}#sk-container-id-6 div.sk-label:hover label.sk-toggleable__label {background-color: #d4ebff;}#sk-container-id-6 div.sk-serial::before {content: \"\";position: absolute;border-left: 1px solid gray;box-sizing: border-box;top: 0;bottom: 0;left: 50%;z-index: 0;}#sk-container-id-6 div.sk-serial {display: flex;flex-direction: column;align-items: center;background-color: white;padding-right: 0.2em;padding-left: 0.2em;position: relative;}#sk-container-id-6 div.sk-item {position: relative;z-index: 1;}#sk-container-id-6 div.sk-parallel {display: flex;align-items: stretch;justify-content: center;background-color: white;position: relative;}#sk-container-id-6 div.sk-item::before, #sk-container-id-6 div.sk-parallel-item::before {content: \"\";position: absolute;border-left: 1px solid gray;box-sizing: border-box;top: 0;bottom: 0;left: 50%;z-index: -1;}#sk-container-id-6 div.sk-parallel-item {display: flex;flex-direction: column;z-index: 1;position: relative;background-color: white;}#sk-container-id-6 div.sk-parallel-item:first-child::after {align-self: flex-end;width: 50%;}#sk-container-id-6 div.sk-parallel-item:last-child::after {align-self: flex-start;width: 50%;}#sk-container-id-6 div.sk-parallel-item:only-child::after {width: 0;}#sk-container-id-6 div.sk-dashed-wrapped {border: 1px dashed gray;margin: 0 0.4em 0.5em 0.4em;box-sizing: border-box;padding-bottom: 0.4em;background-color: white;}#sk-container-id-6 div.sk-label label {font-family: monospace;font-weight: bold;display: inline-block;line-height: 1.2em;}#sk-container-id-6 div.sk-label-container {text-align: center;}#sk-container-id-6 div.sk-container {/* jupyter's `normalize.less` sets `[hidden] { display: none; }` but bootstrap.min.css set `[hidden] { display: none !important; }` so we also need the `!important` here to be able to override the default hidden behavior on the sphinx rendered scikit-learn.org. See: https://github.com/scikit-learn/scikit-learn/issues/21755 */display: inline-block !important;position: relative;}#sk-container-id-6 div.sk-text-repr-fallback {display: none;}</style><div id=\"sk-container-id-6\" class=\"sk-top-container\"><div class=\"sk-text-repr-fallback\"><pre>SVC(C=1, coef0=1, kernel=&#x27;poly&#x27;)</pre><b>In a Jupyter environment, please rerun this cell to show the HTML representation or trust the notebook. <br />On GitHub, the HTML representation is unable to render, please try loading this page with nbviewer.org.</b></div><div class=\"sk-container\" hidden><div class=\"sk-item\"><div class=\"sk-estimator sk-toggleable\"><input class=\"sk-toggleable__control sk-hidden--visually\" id=\"sk-estimator-id-8\" type=\"checkbox\" checked><label for=\"sk-estimator-id-8\" class=\"sk-toggleable__label sk-toggleable__label-arrow\">SVC</label><div class=\"sk-toggleable__content\"><pre>SVC(C=1, coef0=1, kernel=&#x27;poly&#x27;)</pre></div></div></div></div></div>"
      ],
      "text/plain": [
       "SVC(C=1, coef0=1, kernel='poly')"
      ]
     },
     "execution_count": 153,
     "metadata": {},
     "output_type": "execute_result"
    }
   ],
   "source": [
    "svc_clf.fit(X_train_scale, y_train)"
   ]
  },
  {
   "cell_type": "code",
   "execution_count": 154,
   "metadata": {},
   "outputs": [],
   "source": [
    "y_svm_train_predict = svc_clf.predict(X_train_scale)\n",
    "y_svm_test_predict = svc_clf.predict(X_test_scale)"
   ]
  },
  {
   "cell_type": "code",
   "execution_count": 156,
   "metadata": {},
   "outputs": [
    {
     "name": "stdout",
     "output_type": "stream",
     "text": [
      "---------------- weighted ------------------\n",
      "\n",
      "Accuracy Test -->  1.0\n",
      "Accuracy Train -->  0.9809523809523809\n",
      "\n",
      "Precision Test -->  1.0\n",
      "Precision Train -->  0.9819291819291819\n",
      "\n",
      "Recall Test -->  1.0\n",
      "Recall Train -->  0.9809523809523809\n",
      "\n",
      "f1 Test -->  1.0\n",
      "f1 Train -->  0.9809384572542468\n",
      "-------------------------------------------\n"
     ]
    }
   ],
   "source": [
    "print(f\"---------------- {method} ------------------\")\n",
    "print(\"\")\n",
    "print(\"Accuracy Test --> \",accuracy_score(y_test, y_svm_test_predict))\n",
    "print(\"Accuracy Train --> \",accuracy_score(y_train, y_svm_train_predict))\n",
    "print(\"\")    \n",
    "print(\"Precision Test --> \",precision_score(y_test, y_svm_test_predict, average=\"weighted\"))\n",
    "print(\"Precision Train --> \",precision_score(y_train, y_svm_train_predict, average=\"weighted\"))\n",
    "print(\"\")\n",
    "print(\"Recall Test --> \",recall_score(y_test, y_svm_test_predict, average=\"weighted\"))\n",
    "print(\"Recall Train --> \",recall_score(y_train, y_svm_train_predict, average=\"weighted\"))\n",
    "print(\"\")\n",
    "print(\"f1 Test --> \",f1_score(y_test, y_svm_test_predict, average=\"weighted\"))\n",
    "print(\"f1 Train --> \",f1_score(y_train, y_svm_train_predict, average=\"weighted\"))\n",
    "print(\"-------------------------------------------\")"
   ]
  },
  {
   "cell_type": "markdown",
   "metadata": {},
   "source": [
    "### SVC - rbf kernel"
   ]
  },
  {
   "cell_type": "code",
   "execution_count": 166,
   "metadata": {},
   "outputs": [
    {
     "name": "stdout",
     "output_type": "stream",
     "text": [
      "---------------- weighted ------------------\n",
      "\n",
      "Accuracy Test -->  1.0\n",
      "Accuracy Train -->  0.9809523809523809\n",
      "\n",
      "Precision Test -->  1.0\n",
      "Precision Train -->  0.9819291819291819\n",
      "\n",
      "Recall Test -->  1.0\n",
      "Recall Train -->  0.9809523809523809\n",
      "\n",
      "f1 Test -->  1.0\n",
      "f1 Train -->  0.9809384572542468\n",
      "-------------------------------------------\n"
     ]
    }
   ],
   "source": [
    "svc_rbf = SVC(kernel=\"rbf\", gamma=2, C=1)\n",
    "svc_rbf.fit(X_train_scale, y_train)\n",
    "\n",
    "y_svm_train_predict = svc_rbf.predict(X_train_scale)\n",
    "y_svm_test_predict = svc_rbf.predict(X_test_scale)\n",
    "\n",
    "print(f\"---------------- {method} ------------------\")\n",
    "print(\"\")\n",
    "print(\"Accuracy Test --> \",accuracy_score(y_test, y_svm_test_predict))\n",
    "print(\"Accuracy Train --> \",accuracy_score(y_train, y_svm_train_predict))\n",
    "print(\"\")    \n",
    "print(\"Precision Test --> \",precision_score(y_test, y_svm_test_predict, average=\"weighted\"))\n",
    "print(\"Precision Train --> \",precision_score(y_train, y_svm_train_predict, average=\"weighted\"))\n",
    "print(\"\")\n",
    "print(\"Recall Test --> \",recall_score(y_test, y_svm_test_predict, average=\"weighted\"))\n",
    "print(\"Recall Train --> \",recall_score(y_train, y_svm_train_predict, average=\"weighted\"))\n",
    "print(\"\")\n",
    "print(\"f1 Test --> \",f1_score(y_test, y_svm_test_predict, average=\"weighted\"))\n",
    "print(\"f1 Train --> \",f1_score(y_train, y_svm_train_predict, average=\"weighted\"))\n",
    "print(\"-------------------------------------------\")"
   ]
  },
  {
   "cell_type": "markdown",
   "metadata": {},
   "source": [
    "## Learning curves"
   ]
  },
  {
   "cell_type": "markdown",
   "metadata": {},
   "source": [
    "### Book example"
   ]
  },
  {
   "cell_type": "code",
   "execution_count": null,
   "metadata": {},
   "outputs": [],
   "source": [
    "# Book Dataset\n"
   ]
  },
  {
   "cell_type": "code",
   "execution_count": null,
   "metadata": {},
   "outputs": [],
   "source": [
    "# Implement the book’s code on learning curves on the data he has used.\n"
   ]
  },
  {
   "cell_type": "markdown",
   "metadata": {},
   "source": [
    "Change the method so that instead of having an incremental training set size going from 1 to the size of X_train, you have a fixed set of training sizes.\n",
    "For example: \n",
    "\n",
    "training_set_sizes = np.linspace(2, len(X_train), len(X_train), dtype='int')\n",
    "\n",
    "or \n",
    "\n",
    "training_set_sizes = [1, 10, 20, 30, 40, 50, 60, 70, 80]"
   ]
  },
  {
   "cell_type": "code",
   "execution_count": null,
   "metadata": {},
   "outputs": [],
   "source": [
    "# Method that plots learning curves for a given estimator and training_set_sizes\n",
    "def your_method_name_for_plotting_learning_curves():\n",
    "   "
   ]
  },
  {
   "cell_type": "code",
   "execution_count": null,
   "metadata": {},
   "outputs": [],
   "source": [
    "X_train, X_val, y_train, y_val = train_test_split(X, y, test_size=0.2)"
   ]
  },
  {
   "cell_type": "markdown",
   "metadata": {},
   "source": [
    "## Learning curves for classifiers"
   ]
  },
  {
   "cell_type": "markdown",
   "metadata": {},
   "source": [
    "Implement a ML problem on a dataset you have already seen in the course. \n",
    "\n",
    "Produce a plot of a model which shows signs of underfitting, and one that shows signs of overfitting."
   ]
  },
  {
   "cell_type": "code",
   "execution_count": null,
   "metadata": {},
   "outputs": [],
   "source": [
    "def plot_learning_curve(estimator, title, X, y, axes=None, ylim=None, cv=None,\n",
    "                        n_jobs=None, train_sizes=np.linspace(.1, 1.0, 5)):\n",
    "# create your method to plot your learning curves using the sklearn method learning_curve()\n",
    "    "
   ]
  },
  {
   "cell_type": "markdown",
   "metadata": {},
   "source": [
    "## Decision trees learning curves"
   ]
  },
  {
   "cell_type": "code",
   "execution_count": null,
   "metadata": {},
   "outputs": [],
   "source": [
    "# import the dataset you want"
   ]
  },
  {
   "cell_type": "code",
   "execution_count": null,
   "metadata": {},
   "outputs": [],
   "source": [
    "# do all the pre-rpocessing that is needed"
   ]
  },
  {
   "cell_type": "code",
   "execution_count": null,
   "metadata": {},
   "outputs": [],
   "source": [
    "# Underfit model\n",
    "# Train a decision tree with max_depth=2"
   ]
  },
  {
   "cell_type": "code",
   "execution_count": null,
   "metadata": {},
   "outputs": [],
   "source": [
    "# Overfit model\n",
    "# Train a decision tree with max_depth=10"
   ]
  },
  {
   "cell_type": "markdown",
   "metadata": {},
   "source": [
    "## Random forests classifier learning curves"
   ]
  },
  {
   "cell_type": "code",
   "execution_count": null,
   "metadata": {},
   "outputs": [],
   "source": [
    "# Underfit model"
   ]
  },
  {
   "cell_type": "code",
   "execution_count": null,
   "metadata": {},
   "outputs": [],
   "source": [
    "# Overfit model"
   ]
  },
  {
   "cell_type": "markdown",
   "metadata": {},
   "source": [
    "## SVM"
   ]
  },
  {
   "cell_type": "code",
   "execution_count": null,
   "metadata": {},
   "outputs": [],
   "source": [
    "# Underfit model?\n"
   ]
  },
  {
   "cell_type": "code",
   "execution_count": null,
   "metadata": {},
   "outputs": [],
   "source": [
    "# Overfit model?\n"
   ]
  },
  {
   "cell_type": "markdown",
   "metadata": {},
   "source": [
    "https://towardsdatascience.com/a-brief-introduction-to-support-vector-machine-adf0f103a80f\n",
    "\n",
    "\n",
    "SVM Advantages:\n",
    "\n",
    "- SVM’s are very good when we have no idea on the data.\n",
    "- Works well with even unstructured and semi structured data like text, Images and trees.\n",
    "- The kernel trick is real strength of SVM. With an appropriate kernel function, we can solve any complex problem.\n",
    "- Unlike in neural networks, SVM is not solved for local optima.\n",
    "- It scales relatively well to high dimensional data.\n",
    "- SVM models have good generalization in practice, the risk of over-fitting is less in SVM.\n",
    "\n",
    "SVM Disadvantages:\n",
    "\n",
    "- Choosing a “good” kernel function is not easy.\n",
    "- Long training time for large datasets.\n",
    "- Difficult to understand and interpret the final model, variable weights and individual impact.\n",
    "- The SVM hyper parameters are Cost -C and gamma. It is not that easy to fine-tune these hyper-parameters. It is hard to visualize their impact"
   ]
  },
  {
   "cell_type": "markdown",
   "metadata": {},
   "source": [
    "## Validation curves"
   ]
  },
  {
   "cell_type": "markdown",
   "metadata": {},
   "source": [
    "Validation curves are a useful tool for improving the performance of a model by addressing issues such as overfitting or underfitting. Validation curves are related to learning curves, but instead of plotting the training and test accuracies as functions of the sample size, we vary the values of the model parameters. They are complementaru of GridSearch and make for a very nice visual tool for ypur algorithm optimization. \n"
   ]
  },
  {
   "cell_type": "code",
   "execution_count": null,
   "metadata": {},
   "outputs": [],
   "source": [
    "from sklearn.model_selection import validation_curve\n",
    "def plot_validation_curve(estimator, title, X, y, axes=None, ylim=None, cv=None, n_jobs=None, param_range=None, paran_name=None):\n",
    "\n",
    "    # create your method to plot your learning curves using the sklearn method validation_curve()\n",
    "\n",
    "    "
   ]
  },
  {
   "cell_type": "markdown",
   "metadata": {},
   "source": [
    "Plot the validation curves for a chosen algorithm and vary 1 or 2 parameters of your choice."
   ]
  },
  {
   "cell_type": "code",
   "execution_count": null,
   "metadata": {},
   "outputs": [],
   "source": []
  },
  {
   "cell_type": "markdown",
   "metadata": {},
   "source": [
    "Do a GridSearch and see if the most optimal parameter is coherent with what you see on your validation curves"
   ]
  },
  {
   "cell_type": "code",
   "execution_count": null,
   "metadata": {},
   "outputs": [],
   "source": []
  }
 ],
 "metadata": {
  "kernelspec": {
   "display_name": "Python 3 (ipykernel)",
   "language": "python",
   "name": "python3"
  },
  "language_info": {
   "codemirror_mode": {
    "name": "ipython",
    "version": 3
   },
   "file_extension": ".py",
   "mimetype": "text/x-python",
   "name": "python",
   "nbconvert_exporter": "python",
   "pygments_lexer": "ipython3",
   "version": "3.9.7"
  },
  "toc": {
   "base_numbering": 1,
   "nav_menu": {},
   "number_sections": true,
   "sideBar": true,
   "skip_h1_title": false,
   "title_cell": "Table of Contents",
   "title_sidebar": "Contents",
   "toc_cell": false,
   "toc_position": {},
   "toc_section_display": true,
   "toc_window_display": false
  },
  "varInspector": {
   "cols": {
    "lenName": 16,
    "lenType": 16,
    "lenVar": 40
   },
   "kernels_config": {
    "python": {
     "delete_cmd_postfix": "",
     "delete_cmd_prefix": "del ",
     "library": "var_list.py",
     "varRefreshCmd": "print(var_dic_list())"
    },
    "r": {
     "delete_cmd_postfix": ") ",
     "delete_cmd_prefix": "rm(",
     "library": "var_list.r",
     "varRefreshCmd": "cat(var_dic_list()) "
    }
   },
   "types_to_exclude": [
    "module",
    "function",
    "builtin_function_or_method",
    "instance",
    "_Feature"
   ],
   "window_display": false
  }
 },
 "nbformat": 4,
 "nbformat_minor": 4
}
