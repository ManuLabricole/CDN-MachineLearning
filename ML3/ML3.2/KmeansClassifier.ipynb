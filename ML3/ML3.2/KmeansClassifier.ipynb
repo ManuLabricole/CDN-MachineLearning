{
 "cells": [
  {
   "cell_type": "code",
   "execution_count": 26,
   "id": "1f9906ec",
   "metadata": {},
   "outputs": [],
   "source": [
    "\n",
    "import pandas as pd\n",
    "import numpy as np\n",
    "\n",
    "from sklearn.datasets import load_iris\n"
   ]
  },
  {
   "cell_type": "code",
   "execution_count": 27,
   "id": "c499b59c",
   "metadata": {},
   "outputs": [
    {
     "name": "stdout",
     "output_type": "stream",
     "text": [
      "/Users/manulabricole/Documents/CDN/MachineLearning/ML3/ML3.2\n"
     ]
    }
   ],
   "source": [
    "cwd = os.getcwd()\n",
    "print(cwd)"
   ]
  },
  {
   "cell_type": "code",
   "execution_count": null,
   "id": "bab199ca",
   "metadata": {},
   "outputs": [],
   "source": [
    "iris = load_iris()"
   ]
  },
  {
   "cell_type": "code",
   "execution_count": 41,
   "id": "82686e26",
   "metadata": {},
   "outputs": [],
   "source": [
    "from KmeansClassifier import KmeansClassifier\n",
    "clf = KmeansClassifier()\n",
    "clf.load_data(iris)"
   ]
  },
  {
   "cell_type": "code",
   "execution_count": 37,
   "id": "4633de70",
   "metadata": {},
   "outputs": [
    {
     "name": "stdout",
     "output_type": "stream",
     "text": [
      "None\n"
     ]
    }
   ],
   "source": [
    "print(centroids)"
   ]
  },
  {
   "cell_type": "code",
   "execution_count": null,
   "id": "196e6c49",
   "metadata": {},
   "outputs": [],
   "source": []
  },
  {
   "cell_type": "code",
   "execution_count": 43,
   "id": "fb3cf4d9",
   "metadata": {},
   "outputs": [
    {
     "name": "stdout",
     "output_type": "stream",
     "text": [
      "[[0.24637979 0.44019505 0.81032447 0.74253811 0.37989977]\n",
      " [0.89122212 0.53918869 0.78956042 0.94699731 0.693532  ]\n",
      " [0.60487726 0.68317617 0.28070094 0.48526339 0.17005861]]\n"
     ]
    }
   ],
   "source": [
    "import numpy as np\n",
    "\n",
    "# Create an example array of points with 1000 rows and 5 columns\n",
    "points = np.random.rand(1000, 5)\n",
    "\n",
    "# Set the number of random points to select\n",
    "k = 3\n",
    "\n",
    "# Use np.random.choice to select k random points from the array\n",
    "random_points = points[np.random.choice(points.shape[0], k, replace=False)]\n",
    "\n",
    "# Print the selected random points\n",
    "print(random_points)\n"
   ]
  },
  {
   "cell_type": "code",
   "execution_count": null,
   "id": "742a65c9",
   "metadata": {},
   "outputs": [],
   "source": []
  }
 ],
 "metadata": {
  "kernelspec": {
   "display_name": "Python 3 (ipykernel)",
   "language": "python",
   "name": "python3"
  },
  "language_info": {
   "codemirror_mode": {
    "name": "ipython",
    "version": 3
   },
   "file_extension": ".py",
   "mimetype": "text/x-python",
   "name": "python",
   "nbconvert_exporter": "python",
   "pygments_lexer": "ipython3",
   "version": "3.9.7"
  }
 },
 "nbformat": 4,
 "nbformat_minor": 5
}
