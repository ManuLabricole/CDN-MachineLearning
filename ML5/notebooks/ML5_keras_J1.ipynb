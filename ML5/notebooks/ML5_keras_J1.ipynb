{
 "cells": [
  {
   "cell_type": "markdown",
   "metadata": {},
   "source": [
    "# First Deep Learning Project in Python with Keras"
   ]
  },
  {
   "cell_type": "markdown",
   "metadata": {},
   "source": [
    "The steps we are going to cover:\n",
    "1. Load Data.\n",
    "2. Define Keras Model.\n",
    "3. Compile Keras Model.\n",
    "4. Fit Keras Model.\n",
    "5. Evaluate Keras Model.\n",
    "6. Put It All Together.\n",
    "7. Make Predictions"
   ]
  },
  {
   "cell_type": "markdown",
   "metadata": {},
   "source": [
    "## Load Data\n",
    "    "
   ]
  },
  {
   "cell_type": "markdown",
   "metadata": {},
   "source": [
    "Download the dataset and place it in your local working directory, the same location as your python file. Take a look at the dataset:"
   ]
  },
  {
   "cell_type": "code",
   "execution_count": 102,
   "metadata": {},
   "outputs": [],
   "source": [
    "import pandas as pd\n",
    "import seaborn as sns\n",
    "import numpy as np\n",
    "import matplotlib.pyplot as plt\n",
    "import seaborn as sns\n",
    "df = pd.read_csv('../data/housepricedata.csv')"
   ]
  },
  {
   "cell_type": "code",
   "execution_count": 123,
   "metadata": {},
   "outputs": [
    {
     "data": {
      "image/png": "[encoded data removed]",
      "text/plain": [
       "<Figure size 1600x100 with 1 Axes>"
      ]
     },
     "metadata": {},
     "output_type": "display_data"
    }
   ],
   "source": [
    "colors = sns.color_palette(\"tab20_r\", 16)\n",
    "sns.palplot(colors)\n",
    "sns.set_style(\"darkgrid\")"
   ]
  },
  {
   "cell_type": "markdown",
   "metadata": {},
   "source": [
    "Here, you can explore the data a little. We have our input features in the first ten columns:\n",
    "\n",
    "- Lot Area (in sq ft)\n",
    "- Overall Quality (scale from 1 to 10)\n",
    "- Overall Condition (scale from 1 to 10)\n",
    "- Total Basement Area (in sq ft)\n",
    "- Number of Full Bathrooms\n",
    "- Number of Half Bathrooms\n",
    "- Number of Bedrooms above ground\n",
    "- Total Number of Rooms above ground\n",
    "- Number of Fireplaces\n",
    "- Garage Area (in sq ft)\n",
    "\n",
    "In our last column, we have the feature that we would like to predict:\n",
    "- Is the house price above the median or not? (1 for yes and 0 for no)"
   ]
  },
  {
   "cell_type": "code",
   "execution_count": 2,
   "metadata": {},
   "outputs": [
    {
     "data": {
      "text/html": [
       "<div>\n",
       "<style scoped>\n",
       "    .dataframe tbody tr th:only-of-type {\n",
       "        vertical-align: middle;\n",
       "    }\n",
       "\n",
       "    .dataframe tbody tr th {\n",
       "        vertical-align: top;\n",
       "    }\n",
       "\n",
       "    .dataframe thead th {\n",
       "        text-align: right;\n",
       "    }\n",
       "</style>\n",
       "<table border=\"1\" class=\"dataframe\">\n",
       "  <thead>\n",
       "    <tr style=\"text-align: right;\">\n",
       "      <th></th>\n",
       "      <th>LotArea</th>\n",
       "      <th>OverallQual</th>\n",
       "      <th>OverallCond</th>\n",
       "      <th>TotalBsmtSF</th>\n",
       "      <th>FullBath</th>\n",
       "      <th>HalfBath</th>\n",
       "      <th>BedroomAbvGr</th>\n",
       "      <th>TotRmsAbvGrd</th>\n",
       "      <th>Fireplaces</th>\n",
       "      <th>GarageArea</th>\n",
       "      <th>AboveMedianPrice</th>\n",
       "    </tr>\n",
       "  </thead>\n",
       "  <tbody>\n",
       "    <tr>\n",
       "      <th>count</th>\n",
       "      <td>1460.000000</td>\n",
       "      <td>1460.000000</td>\n",
       "      <td>1460.000000</td>\n",
       "      <td>1460.000000</td>\n",
       "      <td>1460.000000</td>\n",
       "      <td>1460.000000</td>\n",
       "      <td>1460.000000</td>\n",
       "      <td>1460.000000</td>\n",
       "      <td>1460.000000</td>\n",
       "      <td>1460.000000</td>\n",
       "      <td>1460.000000</td>\n",
       "    </tr>\n",
       "    <tr>\n",
       "      <th>mean</th>\n",
       "      <td>10516.828082</td>\n",
       "      <td>6.099315</td>\n",
       "      <td>5.575342</td>\n",
       "      <td>1057.429452</td>\n",
       "      <td>1.565068</td>\n",
       "      <td>0.382877</td>\n",
       "      <td>2.866438</td>\n",
       "      <td>6.517808</td>\n",
       "      <td>0.613014</td>\n",
       "      <td>472.980137</td>\n",
       "      <td>0.498630</td>\n",
       "    </tr>\n",
       "    <tr>\n",
       "      <th>std</th>\n",
       "      <td>9981.264932</td>\n",
       "      <td>1.382997</td>\n",
       "      <td>1.112799</td>\n",
       "      <td>438.705324</td>\n",
       "      <td>0.550916</td>\n",
       "      <td>0.502885</td>\n",
       "      <td>0.815778</td>\n",
       "      <td>1.625393</td>\n",
       "      <td>0.644666</td>\n",
       "      <td>213.804841</td>\n",
       "      <td>0.500169</td>\n",
       "    </tr>\n",
       "    <tr>\n",
       "      <th>min</th>\n",
       "      <td>1300.000000</td>\n",
       "      <td>1.000000</td>\n",
       "      <td>1.000000</td>\n",
       "      <td>0.000000</td>\n",
       "      <td>0.000000</td>\n",
       "      <td>0.000000</td>\n",
       "      <td>0.000000</td>\n",
       "      <td>2.000000</td>\n",
       "      <td>0.000000</td>\n",
       "      <td>0.000000</td>\n",
       "      <td>0.000000</td>\n",
       "    </tr>\n",
       "    <tr>\n",
       "      <th>25%</th>\n",
       "      <td>7553.500000</td>\n",
       "      <td>5.000000</td>\n",
       "      <td>5.000000</td>\n",
       "      <td>795.750000</td>\n",
       "      <td>1.000000</td>\n",
       "      <td>0.000000</td>\n",
       "      <td>2.000000</td>\n",
       "      <td>5.000000</td>\n",
       "      <td>0.000000</td>\n",
       "      <td>334.500000</td>\n",
       "      <td>0.000000</td>\n",
       "    </tr>\n",
       "    <tr>\n",
       "      <th>50%</th>\n",
       "      <td>9478.500000</td>\n",
       "      <td>6.000000</td>\n",
       "      <td>5.000000</td>\n",
       "      <td>991.500000</td>\n",
       "      <td>2.000000</td>\n",
       "      <td>0.000000</td>\n",
       "      <td>3.000000</td>\n",
       "      <td>6.000000</td>\n",
       "      <td>1.000000</td>\n",
       "      <td>480.000000</td>\n",
       "      <td>0.000000</td>\n",
       "    </tr>\n",
       "    <tr>\n",
       "      <th>75%</th>\n",
       "      <td>11601.500000</td>\n",
       "      <td>7.000000</td>\n",
       "      <td>6.000000</td>\n",
       "      <td>1298.250000</td>\n",
       "      <td>2.000000</td>\n",
       "      <td>1.000000</td>\n",
       "      <td>3.000000</td>\n",
       "      <td>7.000000</td>\n",
       "      <td>1.000000</td>\n",
       "      <td>576.000000</td>\n",
       "      <td>1.000000</td>\n",
       "    </tr>\n",
       "    <tr>\n",
       "      <th>max</th>\n",
       "      <td>215245.000000</td>\n",
       "      <td>10.000000</td>\n",
       "      <td>9.000000</td>\n",
       "      <td>6110.000000</td>\n",
       "      <td>3.000000</td>\n",
       "      <td>2.000000</td>\n",
       "      <td>8.000000</td>\n",
       "      <td>14.000000</td>\n",
       "      <td>3.000000</td>\n",
       "      <td>1418.000000</td>\n",
       "      <td>1.000000</td>\n",
       "    </tr>\n",
       "  </tbody>\n",
       "</table>\n",
       "</div>"
      ],
      "text/plain": [
       "             LotArea  OverallQual  OverallCond  TotalBsmtSF     FullBath   \n",
       "count    1460.000000  1460.000000  1460.000000  1460.000000  1460.000000  \\\n",
       "mean    10516.828082     6.099315     5.575342  1057.429452     1.565068   \n",
       "std      9981.264932     1.382997     1.112799   438.705324     0.550916   \n",
       "min      1300.000000     1.000000     1.000000     0.000000     0.000000   \n",
       "25%      7553.500000     5.000000     5.000000   795.750000     1.000000   \n",
       "50%      9478.500000     6.000000     5.000000   991.500000     2.000000   \n",
       "75%     11601.500000     7.000000     6.000000  1298.250000     2.000000   \n",
       "max    215245.000000    10.000000     9.000000  6110.000000     3.000000   \n",
       "\n",
       "          HalfBath  BedroomAbvGr  TotRmsAbvGrd   Fireplaces   GarageArea   \n",
       "count  1460.000000   1460.000000   1460.000000  1460.000000  1460.000000  \\\n",
       "mean      0.382877      2.866438      6.517808     0.613014   472.980137   \n",
       "std       0.502885      0.815778      1.625393     0.644666   213.804841   \n",
       "min       0.000000      0.000000      2.000000     0.000000     0.000000   \n",
       "25%       0.000000      2.000000      5.000000     0.000000   334.500000   \n",
       "50%       0.000000      3.000000      6.000000     1.000000   480.000000   \n",
       "75%       1.000000      3.000000      7.000000     1.000000   576.000000   \n",
       "max       2.000000      8.000000     14.000000     3.000000  1418.000000   \n",
       "\n",
       "       AboveMedianPrice  \n",
       "count       1460.000000  \n",
       "mean           0.498630  \n",
       "std            0.500169  \n",
       "min            0.000000  \n",
       "25%            0.000000  \n",
       "50%            0.000000  \n",
       "75%            1.000000  \n",
       "max            1.000000  "
      ]
     },
     "execution_count": 2,
     "metadata": {},
     "output_type": "execute_result"
    }
   ],
   "source": [
    "df.describe()"
   ]
  },
  {
   "cell_type": "code",
   "execution_count": 3,
   "metadata": {},
   "outputs": [
    {
     "data": {
      "text/html": [
       "<div>\n",
       "<style scoped>\n",
       "    .dataframe tbody tr th:only-of-type {\n",
       "        vertical-align: middle;\n",
       "    }\n",
       "\n",
       "    .dataframe tbody tr th {\n",
       "        vertical-align: top;\n",
       "    }\n",
       "\n",
       "    .dataframe thead th {\n",
       "        text-align: right;\n",
       "    }\n",
       "</style>\n",
       "<table border=\"1\" class=\"dataframe\">\n",
       "  <thead>\n",
       "    <tr style=\"text-align: right;\">\n",
       "      <th></th>\n",
       "      <th>LotArea</th>\n",
       "      <th>OverallQual</th>\n",
       "      <th>OverallCond</th>\n",
       "      <th>TotalBsmtSF</th>\n",
       "      <th>FullBath</th>\n",
       "      <th>HalfBath</th>\n",
       "      <th>BedroomAbvGr</th>\n",
       "      <th>TotRmsAbvGrd</th>\n",
       "      <th>Fireplaces</th>\n",
       "      <th>GarageArea</th>\n",
       "      <th>AboveMedianPrice</th>\n",
       "    </tr>\n",
       "  </thead>\n",
       "  <tbody>\n",
       "    <tr>\n",
       "      <th>0</th>\n",
       "      <td>8450</td>\n",
       "      <td>7</td>\n",
       "      <td>5</td>\n",
       "      <td>856</td>\n",
       "      <td>2</td>\n",
       "      <td>1</td>\n",
       "      <td>3</td>\n",
       "      <td>8</td>\n",
       "      <td>0</td>\n",
       "      <td>548</td>\n",
       "      <td>1</td>\n",
       "    </tr>\n",
       "    <tr>\n",
       "      <th>1</th>\n",
       "      <td>9600</td>\n",
       "      <td>6</td>\n",
       "      <td>8</td>\n",
       "      <td>1262</td>\n",
       "      <td>2</td>\n",
       "      <td>0</td>\n",
       "      <td>3</td>\n",
       "      <td>6</td>\n",
       "      <td>1</td>\n",
       "      <td>460</td>\n",
       "      <td>1</td>\n",
       "    </tr>\n",
       "    <tr>\n",
       "      <th>2</th>\n",
       "      <td>11250</td>\n",
       "      <td>7</td>\n",
       "      <td>5</td>\n",
       "      <td>920</td>\n",
       "      <td>2</td>\n",
       "      <td>1</td>\n",
       "      <td>3</td>\n",
       "      <td>6</td>\n",
       "      <td>1</td>\n",
       "      <td>608</td>\n",
       "      <td>1</td>\n",
       "    </tr>\n",
       "    <tr>\n",
       "      <th>3</th>\n",
       "      <td>9550</td>\n",
       "      <td>7</td>\n",
       "      <td>5</td>\n",
       "      <td>756</td>\n",
       "      <td>1</td>\n",
       "      <td>0</td>\n",
       "      <td>3</td>\n",
       "      <td>7</td>\n",
       "      <td>1</td>\n",
       "      <td>642</td>\n",
       "      <td>0</td>\n",
       "    </tr>\n",
       "    <tr>\n",
       "      <th>4</th>\n",
       "      <td>14260</td>\n",
       "      <td>8</td>\n",
       "      <td>5</td>\n",
       "      <td>1145</td>\n",
       "      <td>2</td>\n",
       "      <td>1</td>\n",
       "      <td>4</td>\n",
       "      <td>9</td>\n",
       "      <td>1</td>\n",
       "      <td>836</td>\n",
       "      <td>1</td>\n",
       "    </tr>\n",
       "  </tbody>\n",
       "</table>\n",
       "</div>"
      ],
      "text/plain": [
       "   LotArea  OverallQual  OverallCond  TotalBsmtSF  FullBath  HalfBath   \n",
       "0     8450            7            5          856         2         1  \\\n",
       "1     9600            6            8         1262         2         0   \n",
       "2    11250            7            5          920         2         1   \n",
       "3     9550            7            5          756         1         0   \n",
       "4    14260            8            5         1145         2         1   \n",
       "\n",
       "   BedroomAbvGr  TotRmsAbvGrd  Fireplaces  GarageArea  AboveMedianPrice  \n",
       "0             3             8           0         548                 1  \n",
       "1             3             6           1         460                 1  \n",
       "2             3             6           1         608                 1  \n",
       "3             3             7           1         642                 0  \n",
       "4             4             9           1         836                 1  "
      ]
     },
     "execution_count": 3,
     "metadata": {},
     "output_type": "execute_result"
    }
   ],
   "source": [
    "df.head()"
   ]
  },
  {
   "cell_type": "code",
   "execution_count": 4,
   "metadata": {},
   "outputs": [
    {
     "data": {
      "text/plain": [
       "(1460, 11)"
      ]
     },
     "execution_count": 4,
     "metadata": {},
     "output_type": "execute_result"
    }
   ],
   "source": [
    "df.shape"
   ]
  },
  {
   "cell_type": "raw",
   "metadata": {},
   "source": [
    "Which task are we going to train the neural network for (regression, classification, other...) ?\n",
    "\n",
    "--> Classification"
   ]
  },
  {
   "cell_type": "markdown",
   "metadata": {},
   "source": [
    "Now that we’ve seen what our data looks like, we want to convert it into arrays for our machine to process:"
   ]
  },
  {
   "cell_type": "code",
   "execution_count": 5,
   "metadata": {},
   "outputs": [],
   "source": [
    "dataset = df.values"
   ]
  },
  {
   "cell_type": "markdown",
   "metadata": {},
   "source": [
    "Split the dataset into input features (X) and the feature we wish to predict (Y). To do that split, assign the first 10 columns of our array to a variable called X and the last column of our array to a variable called Y"
   ]
  },
  {
   "cell_type": "code",
   "execution_count": 6,
   "metadata": {},
   "outputs": [],
   "source": [
    "X = dataset[:,0:10]\n",
    "y = dataset[:,10]"
   ]
  },
  {
   "cell_type": "markdown",
   "metadata": {},
   "source": [
    "Now, we want to split our dataset into a training set, a validation set and a test set. These are the dimensions you need to get for your train, validation and test datasets: (1022, 10) (219, 10) (219, 10) (1022,) (219,) (219,)\n",
    "\n",
    "We will use the code from scikit-learn called ‘train_test_split’, which as the name suggests, split our dataset into a training set and a test set. We first import the code we need:"
   ]
  },
  {
   "cell_type": "code",
   "execution_count": 7,
   "metadata": {},
   "outputs": [],
   "source": [
    "from sklearn.model_selection import train_test_split"
   ]
  },
  {
   "cell_type": "code",
   "execution_count": 8,
   "metadata": {},
   "outputs": [],
   "source": [
    "X_train, X_test, y_train, y_test = train_test_split(X, y, test_size=0.3, random_state=42)"
   ]
  },
  {
   "cell_type": "markdown",
   "metadata": {},
   "source": [
    "Unfortunately, this function only helps us split our dataset into two. Since we want a separate validation set and test set, we can use the same function to do the split again on val_and_test:"
   ]
  },
  {
   "cell_type": "code",
   "execution_count": 9,
   "metadata": {},
   "outputs": [],
   "source": [
    "X_test, X_val, y_test, y_val = train_test_split(X_test, y_test, test_size=0.5, random_state=42)"
   ]
  },
  {
   "cell_type": "code",
   "execution_count": 10,
   "metadata": {},
   "outputs": [
    {
     "name": "stdout",
     "output_type": "stream",
     "text": [
      "--------------------------------------------\n",
      "--> SHAPE OBTAINED <--\n",
      "X_train shape --> (1022, 10)\n",
      "X_test shape ---> (219, 10)\n",
      "X_val shape ----> (219, 10)\n",
      "--------------------------------------------\n"
     ]
    }
   ],
   "source": [
    "print(\"--------------------------------------------\")\n",
    "print(\"--> SHAPE OBTAINED <--\")\n",
    "print(f\"X_train shape --> {X_train.shape}\")\n",
    "print(f\"X_test shape ---> {X_test.shape}\")\n",
    "print(f\"X_val shape ----> {X_val.shape}\")\n",
    "print(\"--------------------------------------------\")"
   ]
  },
  {
   "cell_type": "markdown",
   "metadata": {},
   "source": [
    "Feature scaling will help us see all the variables from the same scale, it will also help our models learn faster"
   ]
  },
  {
   "cell_type": "code",
   "execution_count": 11,
   "metadata": {},
   "outputs": [],
   "source": [
    "from sklearn.preprocessing import StandardScaler\n",
    "\n",
    "scaler = StandardScaler()\n",
    "\n",
    "\n",
    "X_train = scaler.fit_transform(X_train)\n",
    "X_test = scaler.transform(X_test)\n",
    "X_val = scaler.transform(X_val)"
   ]
  },
  {
   "cell_type": "code",
   "execution_count": 12,
   "metadata": {},
   "outputs": [
    {
     "name": "stdout",
     "output_type": "stream",
     "text": [
      "--> AFTER SCALING <--\n",
      "-------------------------------------------\n",
      "X_train SCALED --> [[-0.03050433  0.63603069  0.39226602 ...  0.27923396  0.59424033\n",
      "   0.25381261]\n",
      " [-0.62436478 -0.82305655 -0.50862358 ... -0.94819445 -0.9432625\n",
      "   0.22981353]\n",
      " [-0.18592357  0.63603069 -0.50862358 ...  0.27923396 -0.9432625\n",
      "   0.65699721]\n",
      " ...\n",
      " [-0.22725096 -0.82305655  1.29315563 ... -0.94819445 -0.9432625\n",
      "   0.45540491]\n",
      " [-0.27405334  0.63603069  2.19404524 ...  0.27923396  0.59424033\n",
      "  -1.25332981]\n",
      " [-0.62357003  0.63603069 -0.50862358 ...  0.27923396  0.59424033\n",
      "   0.87778877]]\n",
      "-------------------------------------------\n",
      "X_test SCALED --> [[-0.00489547 -0.82305655  1.29315563 ... -0.33448024 -0.9432625\n",
      "  -0.04377602]\n",
      " [ 0.0030521  -0.82305655 -0.50862358 ... -0.33448024 -0.9432625\n",
      "   0.47460418]\n",
      " [ 0.13233265  1.36557431 -0.50862358 ...  2.12037656  2.13174316\n",
      "   1.30497245]\n",
      " ...\n",
      " [ 0.02504039 -0.09351293  1.29315563 ...  1.50666236  0.59424033\n",
      "   0.68099629]\n",
      " [-0.23140136  0.63603069  0.39226602 ...  0.27923396 -0.9432625\n",
      "   0.40740674]\n",
      " [ 0.25657974  0.63603069  0.39226602 ...  0.89294816  2.13174316\n",
      "   0.18661518]]\n"
     ]
    }
   ],
   "source": [
    "print(\"--> AFTER SCALING <--\")\n",
    "print(\"-------------------------------------------\")\n",
    "print(f\"X_train SCALED --> {X_train}\")\n",
    "print(\"-------------------------------------------\")\n",
    "print(f\"X_test SCALED --> {X_test}\")"
   ]
  },
  {
   "cell_type": "markdown",
   "metadata": {},
   "source": [
    "# Define Keras Model."
   ]
  },
  {
   "attachments": {
    "ex_rnn_keras.PNG": {
     "image/png": "[encoded data removed]"
    }
   },
   "cell_type": "markdown",
   "metadata": {},
   "source": [
    "The first thing we have to do is to set up the architecture. Let’s first think about what kind of neural network architecture we want. Suppose we want this neural network:\n",
    "![ex_rnn_keras.PNG](attachment:ex_rnn_keras.PNG)\n",
    "In words, we want to have these layers:\n",
    "\n",
    "- Hidden layer 1: 12 neurons, ReLU activation\n",
    "- Hidden layer 2: 16 neurons, ReLU activation\n",
    "- Output Layer: 1 neuron, Sigmoid activation\n",
    "    \n",
    "Now, we need to describe this architecture to Keras. We will be using the Sequential model, which means that we merely need to describe the layers above in sequence."
   ]
  },
  {
   "cell_type": "code",
   "execution_count": 87,
   "metadata": {},
   "outputs": [],
   "source": [
    "# Dependencies\n",
    "import keras\n",
    "import tensorflow as tf\n",
    "from keras.models import Sequential\n",
    "from keras.layers import Dense"
   ]
  },
  {
   "cell_type": "markdown",
   "metadata": {},
   "source": [
    "## Model n°1 -- MSE"
   ]
  },
  {
   "cell_type": "markdown",
   "metadata": {},
   "source": [
    "### --> Definition"
   ]
  },
  {
   "cell_type": "code",
   "execution_count": 89,
   "metadata": {},
   "outputs": [],
   "source": [
    "def init_model():\n",
    "    # Initialisation du modèle\n",
    "    model = Sequential()\n",
    "    # On ajoute des layers de neurones\n",
    "    # A dense layer is a type of layer in which each neuron or node is connected to every neuron in the previous layer, \n",
    "    # resulting in a fully connected network.\n",
    "    model.add(Dense(12, activation='relu', input_dim=10))\n",
    "    model.add(Dense(16, activation='relu'))\n",
    "    # La dernière layer est sensé nou\n",
    "    model.add(Dense(1, activation='sigmoid'))\n",
    "    \n",
    "    return model"
   ]
  },
  {
   "cell_type": "code",
   "execution_count": 90,
   "metadata": {},
   "outputs": [],
   "source": [
    "# Initialisation du modèle\n",
    "model = Sequential()\n",
    "# On ajoute des layers de neurones\n",
    "# A dense layer is a type of layer in which each neuron or node is connected to every neuron in the previous layer, \n",
    "# resulting in a fully connected network.\n",
    "model.add(Dense(12, activation='relu', input_dim=10))\n",
    "model.add(Dense(16, activation='relu'))\n",
    "# La dernière layer est sensé nou\n",
    "model.add(Dense(1, activation='sigmoid'))"
   ]
  },
  {
   "cell_type": "markdown",
   "metadata": {},
   "source": [
    "Now that the model is defined, we can compile it.\n",
    "\n",
    "Compiling the model uses TensorFlow that chooses the best way to represent the network for training and making predictions to run on your hardware, such as CPU or GPU or even distributed."
   ]
  },
  {
   "cell_type": "code",
   "execution_count": 104,
   "metadata": {},
   "outputs": [],
   "source": [
    "# compile model\n",
    "model = init_model()\n",
    "model.compile(loss='mean_squared_error', optimizer='sgd', metrics=['accuracy', 'mse'])"
   ]
  },
  {
   "cell_type": "markdown",
   "metadata": {},
   "source": [
    "### --> Specifications"
   ]
  },
  {
   "cell_type": "code",
   "execution_count": 105,
   "metadata": {},
   "outputs": [
    {
     "name": "stdout",
     "output_type": "stream",
     "text": [
      "Model: \"sequential_4\"\n",
      "_________________________________________________________________\n",
      " Layer (type)                Output Shape              Param #   \n",
      "=================================================================\n",
      " dense_12 (Dense)            (None, 12)                132       \n",
      "                                                                 \n",
      " dense_13 (Dense)            (None, 16)                208       \n",
      "                                                                 \n",
      " dense_14 (Dense)            (None, 1)                 17        \n",
      "                                                                 \n",
      "=================================================================\n",
      "Total params: 357\n",
      "Trainable params: 357\n",
      "Non-trainable params: 0\n",
      "_________________________________________________________________\n"
     ]
    }
   ],
   "source": [
    "model.summary()"
   ]
  },
  {
   "cell_type": "code",
   "execution_count": 106,
   "metadata": {},
   "outputs": [
    {
     "data": {
      "image/png": "[encoded data removed]",
      "text/plain": [
       "<IPython.core.display.Image object>"
      ]
     },
     "execution_count": 106,
     "metadata": {},
     "output_type": "execute_result"
    }
   ],
   "source": [
    "from keras import utils\n",
    "dot_img_file = '/tmp/model_1.png'\n",
    "utils.plot_model(model, to_file=dot_img_file, show_shapes=True, show_layer_names=True)"
   ]
  },
  {
   "cell_type": "markdown",
   "metadata": {},
   "source": [
    "### --> Prediction n°1"
   ]
  },
  {
   "cell_type": "markdown",
   "metadata": {},
   "source": [
    "We have defined our model and compiled it ready for efficient computation.\n",
    "\n",
    "Now it is time to execute the model on some data (use 100 iterations and 32 batch size)."
   ]
  },
  {
   "cell_type": "code",
   "execution_count": 107,
   "metadata": {},
   "outputs": [],
   "source": [
    "def evaluate(modelEval):\n",
    "    with tf.device('/CPU:0'):\n",
    "        history = modelEval.fit(X_train, y_train, epochs=100, batch_size=32, verbose=2, validation_data=(X_val, y_val))\n",
    "    return history"
   ]
  },
  {
   "cell_type": "code",
   "execution_count": 108,
   "metadata": {
    "scrolled": true
   },
   "outputs": [
    {
     "name": "stdout",
     "output_type": "stream",
     "text": [
      "Epoch 1/100\n"
     ]
    },
    {
     "name": "stderr",
     "output_type": "stream",
     "text": [
      "2023-05-24 09:58:27.906782: I tensorflow/core/grappler/optimizers/custom_graph_optimizer_registry.cc:114] Plugin optimizer for device_type GPU is enabled.\n"
     ]
    },
    {
     "name": "stdout",
     "output_type": "stream",
     "text": [
      "32/32 - 0s - loss: 0.3010 - accuracy: 0.3963 - mse: 0.3010 - val_loss: 0.2998 - val_accuracy: 0.3470 - val_mse: 0.2998 - 498ms/epoch - 16ms/step\n",
      "Epoch 2/100\n"
     ]
    },
    {
     "name": "stderr",
     "output_type": "stream",
     "text": [
      "2023-05-24 09:58:28.176747: I tensorflow/core/grappler/optimizers/custom_graph_optimizer_registry.cc:114] Plugin optimizer for device_type GPU is enabled.\n"
     ]
    },
    {
     "name": "stdout",
     "output_type": "stream",
     "text": [
      "32/32 - 0s - loss: 0.2841 - accuracy: 0.4315 - mse: 0.2841 - val_loss: 0.2814 - val_accuracy: 0.4110 - val_mse: 0.2814 - 191ms/epoch - 6ms/step\n",
      "Epoch 3/100\n",
      "32/32 - 0s - loss: 0.2690 - accuracy: 0.4746 - mse: 0.2690 - val_loss: 0.2660 - val_accuracy: 0.4658 - val_mse: 0.2660 - 191ms/epoch - 6ms/step\n",
      "Epoch 4/100\n",
      "32/32 - 0s - loss: 0.2556 - accuracy: 0.5176 - mse: 0.2556 - val_loss: 0.2524 - val_accuracy: 0.5297 - val_mse: 0.2524 - 189ms/epoch - 6ms/step\n",
      "Epoch 5/100\n",
      "32/32 - 0s - loss: 0.2440 - accuracy: 0.5607 - mse: 0.2440 - val_loss: 0.2403 - val_accuracy: 0.5936 - val_mse: 0.2403 - 189ms/epoch - 6ms/step\n",
      "Epoch 6/100\n",
      "32/32 - 0s - loss: 0.2338 - accuracy: 0.6018 - mse: 0.2338 - val_loss: 0.2295 - val_accuracy: 0.6438 - val_mse: 0.2295 - 194ms/epoch - 6ms/step\n",
      "Epoch 7/100\n",
      "32/32 - 0s - loss: 0.2248 - accuracy: 0.6262 - mse: 0.2248 - val_loss: 0.2197 - val_accuracy: 0.6667 - val_mse: 0.2197 - 186ms/epoch - 6ms/step\n",
      "Epoch 8/100\n",
      "32/32 - 0s - loss: 0.2165 - accuracy: 0.6536 - mse: 0.2165 - val_loss: 0.2110 - val_accuracy: 0.7078 - val_mse: 0.2110 - 187ms/epoch - 6ms/step\n",
      "Epoch 9/100\n",
      "32/32 - 0s - loss: 0.2090 - accuracy: 0.6849 - mse: 0.2090 - val_loss: 0.2031 - val_accuracy: 0.7443 - val_mse: 0.2031 - 186ms/epoch - 6ms/step\n",
      "Epoch 10/100\n",
      "32/32 - 0s - loss: 0.2021 - accuracy: 0.7055 - mse: 0.2021 - val_loss: 0.1959 - val_accuracy: 0.7717 - val_mse: 0.1959 - 191ms/epoch - 6ms/step\n",
      "Epoch 11/100\n",
      "32/32 - 0s - loss: 0.1958 - accuracy: 0.7290 - mse: 0.1958 - val_loss: 0.1892 - val_accuracy: 0.7763 - val_mse: 0.1892 - 186ms/epoch - 6ms/step\n",
      "Epoch 12/100\n",
      "32/32 - 0s - loss: 0.1898 - accuracy: 0.7495 - mse: 0.1898 - val_loss: 0.1830 - val_accuracy: 0.7854 - val_mse: 0.1830 - 184ms/epoch - 6ms/step\n",
      "Epoch 13/100\n",
      "32/32 - 0s - loss: 0.1842 - accuracy: 0.7652 - mse: 0.1842 - val_loss: 0.1772 - val_accuracy: 0.7991 - val_mse: 0.1772 - 188ms/epoch - 6ms/step\n",
      "Epoch 14/100\n",
      "32/32 - 0s - loss: 0.1789 - accuracy: 0.7798 - mse: 0.1789 - val_loss: 0.1718 - val_accuracy: 0.8128 - val_mse: 0.1718 - 184ms/epoch - 6ms/step\n",
      "Epoch 15/100\n",
      "32/32 - 0s - loss: 0.1739 - accuracy: 0.7896 - mse: 0.1739 - val_loss: 0.1667 - val_accuracy: 0.8265 - val_mse: 0.1667 - 181ms/epoch - 6ms/step\n",
      "Epoch 16/100\n",
      "32/32 - 0s - loss: 0.1692 - accuracy: 0.7984 - mse: 0.1692 - val_loss: 0.1619 - val_accuracy: 0.8311 - val_mse: 0.1619 - 180ms/epoch - 6ms/step\n",
      "Epoch 17/100\n",
      "32/32 - 0s - loss: 0.1648 - accuracy: 0.8102 - mse: 0.1648 - val_loss: 0.1573 - val_accuracy: 0.8402 - val_mse: 0.1573 - 180ms/epoch - 6ms/step\n",
      "Epoch 18/100\n",
      "32/32 - 0s - loss: 0.1607 - accuracy: 0.8190 - mse: 0.1607 - val_loss: 0.1530 - val_accuracy: 0.8447 - val_mse: 0.1530 - 189ms/epoch - 6ms/step\n",
      "Epoch 19/100\n",
      "32/32 - 0s - loss: 0.1568 - accuracy: 0.8258 - mse: 0.1568 - val_loss: 0.1489 - val_accuracy: 0.8447 - val_mse: 0.1489 - 185ms/epoch - 6ms/step\n",
      "Epoch 20/100\n",
      "32/32 - 0s - loss: 0.1530 - accuracy: 0.8278 - mse: 0.1530 - val_loss: 0.1450 - val_accuracy: 0.8447 - val_mse: 0.1450 - 183ms/epoch - 6ms/step\n",
      "Epoch 21/100\n",
      "32/32 - 0s - loss: 0.1494 - accuracy: 0.8297 - mse: 0.1494 - val_loss: 0.1413 - val_accuracy: 0.8447 - val_mse: 0.1413 - 186ms/epoch - 6ms/step\n",
      "Epoch 22/100\n",
      "32/32 - 0s - loss: 0.1461 - accuracy: 0.8337 - mse: 0.1461 - val_loss: 0.1378 - val_accuracy: 0.8447 - val_mse: 0.1378 - 186ms/epoch - 6ms/step\n",
      "Epoch 23/100\n",
      "32/32 - 0s - loss: 0.1429 - accuracy: 0.8395 - mse: 0.1429 - val_loss: 0.1345 - val_accuracy: 0.8402 - val_mse: 0.1345 - 180ms/epoch - 6ms/step\n",
      "Epoch 24/100\n",
      "32/32 - 0s - loss: 0.1399 - accuracy: 0.8425 - mse: 0.1399 - val_loss: 0.1314 - val_accuracy: 0.8447 - val_mse: 0.1314 - 184ms/epoch - 6ms/step\n",
      "Epoch 25/100\n",
      "32/32 - 0s - loss: 0.1370 - accuracy: 0.8434 - mse: 0.1370 - val_loss: 0.1284 - val_accuracy: 0.8493 - val_mse: 0.1284 - 184ms/epoch - 6ms/step\n",
      "Epoch 26/100\n",
      "32/32 - 0s - loss: 0.1343 - accuracy: 0.8464 - mse: 0.1343 - val_loss: 0.1256 - val_accuracy: 0.8493 - val_mse: 0.1256 - 186ms/epoch - 6ms/step\n",
      "Epoch 27/100\n",
      "32/32 - 0s - loss: 0.1317 - accuracy: 0.8513 - mse: 0.1317 - val_loss: 0.1229 - val_accuracy: 0.8493 - val_mse: 0.1229 - 212ms/epoch - 7ms/step\n",
      "Epoch 28/100\n",
      "32/32 - 0s - loss: 0.1292 - accuracy: 0.8532 - mse: 0.1292 - val_loss: 0.1204 - val_accuracy: 0.8493 - val_mse: 0.1204 - 182ms/epoch - 6ms/step\n",
      "Epoch 29/100\n",
      "32/32 - 0s - loss: 0.1269 - accuracy: 0.8591 - mse: 0.1269 - val_loss: 0.1180 - val_accuracy: 0.8493 - val_mse: 0.1180 - 189ms/epoch - 6ms/step\n",
      "Epoch 30/100\n",
      "32/32 - 0s - loss: 0.1246 - accuracy: 0.8581 - mse: 0.1246 - val_loss: 0.1157 - val_accuracy: 0.8493 - val_mse: 0.1157 - 180ms/epoch - 6ms/step\n",
      "Epoch 31/100\n",
      "32/32 - 0s - loss: 0.1225 - accuracy: 0.8591 - mse: 0.1225 - val_loss: 0.1135 - val_accuracy: 0.8493 - val_mse: 0.1135 - 185ms/epoch - 6ms/step\n",
      "Epoch 32/100\n",
      "32/32 - 0s - loss: 0.1205 - accuracy: 0.8581 - mse: 0.1205 - val_loss: 0.1114 - val_accuracy: 0.8539 - val_mse: 0.1114 - 184ms/epoch - 6ms/step\n",
      "Epoch 33/100\n",
      "32/32 - 0s - loss: 0.1185 - accuracy: 0.8601 - mse: 0.1185 - val_loss: 0.1095 - val_accuracy: 0.8539 - val_mse: 0.1095 - 182ms/epoch - 6ms/step\n",
      "Epoch 34/100\n",
      "32/32 - 0s - loss: 0.1166 - accuracy: 0.8562 - mse: 0.1166 - val_loss: 0.1075 - val_accuracy: 0.8539 - val_mse: 0.1075 - 184ms/epoch - 6ms/step\n",
      "Epoch 35/100\n",
      "32/32 - 0s - loss: 0.1148 - accuracy: 0.8601 - mse: 0.1148 - val_loss: 0.1057 - val_accuracy: 0.8630 - val_mse: 0.1057 - 185ms/epoch - 6ms/step\n",
      "Epoch 36/100\n",
      "32/32 - 0s - loss: 0.1131 - accuracy: 0.8650 - mse: 0.1131 - val_loss: 0.1040 - val_accuracy: 0.8721 - val_mse: 0.1040 - 187ms/epoch - 6ms/step\n",
      "Epoch 37/100\n",
      "32/32 - 0s - loss: 0.1115 - accuracy: 0.8650 - mse: 0.1115 - val_loss: 0.1024 - val_accuracy: 0.8721 - val_mse: 0.1024 - 185ms/epoch - 6ms/step\n",
      "Epoch 38/100\n",
      "32/32 - 0s - loss: 0.1100 - accuracy: 0.8659 - mse: 0.1100 - val_loss: 0.1008 - val_accuracy: 0.8721 - val_mse: 0.1008 - 185ms/epoch - 6ms/step\n",
      "Epoch 39/100\n",
      "32/32 - 0s - loss: 0.1085 - accuracy: 0.8689 - mse: 0.1085 - val_loss: 0.0994 - val_accuracy: 0.8721 - val_mse: 0.0994 - 183ms/epoch - 6ms/step\n",
      "Epoch 40/100\n",
      "32/32 - 0s - loss: 0.1071 - accuracy: 0.8718 - mse: 0.1071 - val_loss: 0.0980 - val_accuracy: 0.8721 - val_mse: 0.0980 - 199ms/epoch - 6ms/step\n",
      "Epoch 41/100\n",
      "32/32 - 0s - loss: 0.1058 - accuracy: 0.8718 - mse: 0.1058 - val_loss: 0.0967 - val_accuracy: 0.8721 - val_mse: 0.0967 - 180ms/epoch - 6ms/step\n",
      "Epoch 42/100\n",
      "32/32 - 0s - loss: 0.1046 - accuracy: 0.8728 - mse: 0.1046 - val_loss: 0.0955 - val_accuracy: 0.8721 - val_mse: 0.0955 - 182ms/epoch - 6ms/step\n",
      "Epoch 43/100\n",
      "32/32 - 0s - loss: 0.1034 - accuracy: 0.8748 - mse: 0.1034 - val_loss: 0.0944 - val_accuracy: 0.8676 - val_mse: 0.0944 - 182ms/epoch - 6ms/step\n",
      "Epoch 44/100\n",
      "32/32 - 0s - loss: 0.1023 - accuracy: 0.8738 - mse: 0.1023 - val_loss: 0.0933 - val_accuracy: 0.8767 - val_mse: 0.0933 - 185ms/epoch - 6ms/step\n",
      "Epoch 45/100\n",
      "32/32 - 0s - loss: 0.1013 - accuracy: 0.8738 - mse: 0.1013 - val_loss: 0.0923 - val_accuracy: 0.8767 - val_mse: 0.0923 - 184ms/epoch - 6ms/step\n",
      "Epoch 46/100\n",
      "32/32 - 0s - loss: 0.1003 - accuracy: 0.8738 - mse: 0.1003 - val_loss: 0.0913 - val_accuracy: 0.8767 - val_mse: 0.0913 - 187ms/epoch - 6ms/step\n",
      "Epoch 47/100\n",
      "32/32 - 0s - loss: 0.0993 - accuracy: 0.8728 - mse: 0.0993 - val_loss: 0.0904 - val_accuracy: 0.8767 - val_mse: 0.0904 - 181ms/epoch - 6ms/step\n",
      "Epoch 48/100\n",
      "32/32 - 0s - loss: 0.0984 - accuracy: 0.8708 - mse: 0.0984 - val_loss: 0.0895 - val_accuracy: 0.8767 - val_mse: 0.0895 - 187ms/epoch - 6ms/step\n",
      "Epoch 49/100\n",
      "32/32 - 0s - loss: 0.0976 - accuracy: 0.8718 - mse: 0.0976 - val_loss: 0.0887 - val_accuracy: 0.8767 - val_mse: 0.0887 - 190ms/epoch - 6ms/step\n",
      "Epoch 50/100\n",
      "32/32 - 0s - loss: 0.0968 - accuracy: 0.8738 - mse: 0.0968 - val_loss: 0.0880 - val_accuracy: 0.8813 - val_mse: 0.0880 - 185ms/epoch - 6ms/step\n",
      "Epoch 51/100\n",
      "32/32 - 0s - loss: 0.0960 - accuracy: 0.8708 - mse: 0.0960 - val_loss: 0.0872 - val_accuracy: 0.8813 - val_mse: 0.0872 - 185ms/epoch - 6ms/step\n",
      "Epoch 52/100\n",
      "32/32 - 0s - loss: 0.0952 - accuracy: 0.8728 - mse: 0.0952 - val_loss: 0.0865 - val_accuracy: 0.8813 - val_mse: 0.0865 - 187ms/epoch - 6ms/step\n",
      "Epoch 53/100\n",
      "32/32 - 0s - loss: 0.0945 - accuracy: 0.8728 - mse: 0.0945 - val_loss: 0.0859 - val_accuracy: 0.8858 - val_mse: 0.0859 - 183ms/epoch - 6ms/step\n",
      "Epoch 54/100\n",
      "32/32 - 0s - loss: 0.0938 - accuracy: 0.8738 - mse: 0.0938 - val_loss: 0.0852 - val_accuracy: 0.8858 - val_mse: 0.0852 - 186ms/epoch - 6ms/step\n"
     ]
    },
    {
     "name": "stdout",
     "output_type": "stream",
     "text": [
      "Epoch 55/100\n",
      "32/32 - 0s - loss: 0.0932 - accuracy: 0.8738 - mse: 0.0932 - val_loss: 0.0846 - val_accuracy: 0.8858 - val_mse: 0.0846 - 188ms/epoch - 6ms/step\n",
      "Epoch 56/100\n",
      "32/32 - 0s - loss: 0.0925 - accuracy: 0.8738 - mse: 0.0925 - val_loss: 0.0841 - val_accuracy: 0.8858 - val_mse: 0.0841 - 186ms/epoch - 6ms/step\n",
      "Epoch 57/100\n",
      "32/32 - 0s - loss: 0.0919 - accuracy: 0.8738 - mse: 0.0919 - val_loss: 0.0835 - val_accuracy: 0.8813 - val_mse: 0.0835 - 184ms/epoch - 6ms/step\n",
      "Epoch 58/100\n",
      "32/32 - 0s - loss: 0.0914 - accuracy: 0.8748 - mse: 0.0914 - val_loss: 0.0829 - val_accuracy: 0.8813 - val_mse: 0.0829 - 184ms/epoch - 6ms/step\n",
      "Epoch 59/100\n",
      "32/32 - 0s - loss: 0.0909 - accuracy: 0.8748 - mse: 0.0909 - val_loss: 0.0824 - val_accuracy: 0.8813 - val_mse: 0.0824 - 183ms/epoch - 6ms/step\n",
      "Epoch 60/100\n",
      "32/32 - 0s - loss: 0.0903 - accuracy: 0.8757 - mse: 0.0903 - val_loss: 0.0820 - val_accuracy: 0.8813 - val_mse: 0.0820 - 178ms/epoch - 6ms/step\n",
      "Epoch 61/100\n",
      "32/32 - 0s - loss: 0.0899 - accuracy: 0.8757 - mse: 0.0899 - val_loss: 0.0815 - val_accuracy: 0.8813 - val_mse: 0.0815 - 187ms/epoch - 6ms/step\n",
      "Epoch 62/100\n",
      "32/32 - 0s - loss: 0.0894 - accuracy: 0.8767 - mse: 0.0894 - val_loss: 0.0811 - val_accuracy: 0.8813 - val_mse: 0.0811 - 180ms/epoch - 6ms/step\n",
      "Epoch 63/100\n",
      "32/32 - 0s - loss: 0.0890 - accuracy: 0.8767 - mse: 0.0890 - val_loss: 0.0806 - val_accuracy: 0.8813 - val_mse: 0.0806 - 181ms/epoch - 6ms/step\n",
      "Epoch 64/100\n",
      "32/32 - 0s - loss: 0.0885 - accuracy: 0.8777 - mse: 0.0885 - val_loss: 0.0802 - val_accuracy: 0.8858 - val_mse: 0.0802 - 185ms/epoch - 6ms/step\n",
      "Epoch 65/100\n",
      "32/32 - 0s - loss: 0.0881 - accuracy: 0.8787 - mse: 0.0881 - val_loss: 0.0799 - val_accuracy: 0.8858 - val_mse: 0.0799 - 185ms/epoch - 6ms/step\n",
      "Epoch 66/100\n",
      "32/32 - 0s - loss: 0.0877 - accuracy: 0.8796 - mse: 0.0877 - val_loss: 0.0795 - val_accuracy: 0.8904 - val_mse: 0.0795 - 180ms/epoch - 6ms/step\n",
      "Epoch 67/100\n",
      "32/32 - 0s - loss: 0.0874 - accuracy: 0.8806 - mse: 0.0874 - val_loss: 0.0792 - val_accuracy: 0.8950 - val_mse: 0.0792 - 180ms/epoch - 6ms/step\n",
      "Epoch 68/100\n",
      "32/32 - 0s - loss: 0.0870 - accuracy: 0.8806 - mse: 0.0870 - val_loss: 0.0789 - val_accuracy: 0.8950 - val_mse: 0.0789 - 183ms/epoch - 6ms/step\n",
      "Epoch 69/100\n",
      "32/32 - 0s - loss: 0.0866 - accuracy: 0.8806 - mse: 0.0866 - val_loss: 0.0786 - val_accuracy: 0.8950 - val_mse: 0.0786 - 180ms/epoch - 6ms/step\n",
      "Epoch 70/100\n",
      "32/32 - 0s - loss: 0.0863 - accuracy: 0.8806 - mse: 0.0863 - val_loss: 0.0783 - val_accuracy: 0.8950 - val_mse: 0.0783 - 182ms/epoch - 6ms/step\n",
      "Epoch 71/100\n",
      "32/32 - 0s - loss: 0.0860 - accuracy: 0.8806 - mse: 0.0860 - val_loss: 0.0780 - val_accuracy: 0.8950 - val_mse: 0.0780 - 179ms/epoch - 6ms/step\n",
      "Epoch 72/100\n",
      "32/32 - 0s - loss: 0.0857 - accuracy: 0.8806 - mse: 0.0857 - val_loss: 0.0777 - val_accuracy: 0.8950 - val_mse: 0.0777 - 188ms/epoch - 6ms/step\n",
      "Epoch 73/100\n",
      "32/32 - 0s - loss: 0.0854 - accuracy: 0.8816 - mse: 0.0854 - val_loss: 0.0775 - val_accuracy: 0.8950 - val_mse: 0.0775 - 186ms/epoch - 6ms/step\n",
      "Epoch 74/100\n",
      "32/32 - 0s - loss: 0.0851 - accuracy: 0.8816 - mse: 0.0851 - val_loss: 0.0772 - val_accuracy: 0.8950 - val_mse: 0.0772 - 183ms/epoch - 6ms/step\n",
      "Epoch 75/100\n",
      "32/32 - 0s - loss: 0.0849 - accuracy: 0.8816 - mse: 0.0849 - val_loss: 0.0770 - val_accuracy: 0.8950 - val_mse: 0.0770 - 186ms/epoch - 6ms/step\n",
      "Epoch 76/100\n",
      "32/32 - 0s - loss: 0.0846 - accuracy: 0.8816 - mse: 0.0846 - val_loss: 0.0767 - val_accuracy: 0.8950 - val_mse: 0.0767 - 180ms/epoch - 6ms/step\n",
      "Epoch 77/100\n",
      "32/32 - 0s - loss: 0.0844 - accuracy: 0.8816 - mse: 0.0844 - val_loss: 0.0765 - val_accuracy: 0.8950 - val_mse: 0.0765 - 180ms/epoch - 6ms/step\n",
      "Epoch 78/100\n",
      "32/32 - 0s - loss: 0.0841 - accuracy: 0.8826 - mse: 0.0841 - val_loss: 0.0763 - val_accuracy: 0.8950 - val_mse: 0.0763 - 188ms/epoch - 6ms/step\n",
      "Epoch 79/100\n",
      "32/32 - 0s - loss: 0.0839 - accuracy: 0.8826 - mse: 0.0839 - val_loss: 0.0761 - val_accuracy: 0.8950 - val_mse: 0.0761 - 181ms/epoch - 6ms/step\n",
      "Epoch 80/100\n",
      "32/32 - 0s - loss: 0.0837 - accuracy: 0.8836 - mse: 0.0837 - val_loss: 0.0759 - val_accuracy: 0.8950 - val_mse: 0.0759 - 181ms/epoch - 6ms/step\n",
      "Epoch 81/100\n",
      "32/32 - 0s - loss: 0.0834 - accuracy: 0.8845 - mse: 0.0834 - val_loss: 0.0757 - val_accuracy: 0.8995 - val_mse: 0.0757 - 186ms/epoch - 6ms/step\n",
      "Epoch 82/100\n",
      "32/32 - 0s - loss: 0.0832 - accuracy: 0.8836 - mse: 0.0832 - val_loss: 0.0755 - val_accuracy: 0.8995 - val_mse: 0.0755 - 183ms/epoch - 6ms/step\n",
      "Epoch 83/100\n",
      "32/32 - 0s - loss: 0.0830 - accuracy: 0.8836 - mse: 0.0830 - val_loss: 0.0753 - val_accuracy: 0.8995 - val_mse: 0.0753 - 186ms/epoch - 6ms/step\n",
      "Epoch 84/100\n",
      "32/32 - 0s - loss: 0.0828 - accuracy: 0.8836 - mse: 0.0828 - val_loss: 0.0751 - val_accuracy: 0.8995 - val_mse: 0.0751 - 183ms/epoch - 6ms/step\n",
      "Epoch 85/100\n",
      "32/32 - 0s - loss: 0.0826 - accuracy: 0.8836 - mse: 0.0826 - val_loss: 0.0750 - val_accuracy: 0.8995 - val_mse: 0.0750 - 184ms/epoch - 6ms/step\n",
      "Epoch 86/100\n",
      "32/32 - 0s - loss: 0.0824 - accuracy: 0.8836 - mse: 0.0824 - val_loss: 0.0748 - val_accuracy: 0.8995 - val_mse: 0.0748 - 184ms/epoch - 6ms/step\n",
      "Epoch 87/100\n",
      "32/32 - 0s - loss: 0.0823 - accuracy: 0.8836 - mse: 0.0823 - val_loss: 0.0746 - val_accuracy: 0.8995 - val_mse: 0.0746 - 181ms/epoch - 6ms/step\n",
      "Epoch 88/100\n",
      "32/32 - 0s - loss: 0.0821 - accuracy: 0.8836 - mse: 0.0821 - val_loss: 0.0745 - val_accuracy: 0.8995 - val_mse: 0.0745 - 182ms/epoch - 6ms/step\n",
      "Epoch 89/100\n",
      "32/32 - 0s - loss: 0.0819 - accuracy: 0.8836 - mse: 0.0819 - val_loss: 0.0743 - val_accuracy: 0.8995 - val_mse: 0.0743 - 184ms/epoch - 6ms/step\n",
      "Epoch 90/100\n",
      "32/32 - 0s - loss: 0.0817 - accuracy: 0.8836 - mse: 0.0817 - val_loss: 0.0742 - val_accuracy: 0.8995 - val_mse: 0.0742 - 184ms/epoch - 6ms/step\n",
      "Epoch 91/100\n",
      "32/32 - 0s - loss: 0.0815 - accuracy: 0.8836 - mse: 0.0815 - val_loss: 0.0741 - val_accuracy: 0.8995 - val_mse: 0.0741 - 186ms/epoch - 6ms/step\n",
      "Epoch 92/100\n",
      "32/32 - 0s - loss: 0.0814 - accuracy: 0.8836 - mse: 0.0814 - val_loss: 0.0739 - val_accuracy: 0.8995 - val_mse: 0.0739 - 181ms/epoch - 6ms/step\n",
      "Epoch 93/100\n",
      "32/32 - 0s - loss: 0.0812 - accuracy: 0.8845 - mse: 0.0812 - val_loss: 0.0738 - val_accuracy: 0.8995 - val_mse: 0.0738 - 182ms/epoch - 6ms/step\n",
      "Epoch 94/100\n",
      "32/32 - 0s - loss: 0.0810 - accuracy: 0.8845 - mse: 0.0810 - val_loss: 0.0737 - val_accuracy: 0.8995 - val_mse: 0.0737 - 184ms/epoch - 6ms/step\n",
      "Epoch 95/100\n",
      "32/32 - 0s - loss: 0.0809 - accuracy: 0.8845 - mse: 0.0809 - val_loss: 0.0736 - val_accuracy: 0.8995 - val_mse: 0.0736 - 184ms/epoch - 6ms/step\n",
      "Epoch 96/100\n",
      "32/32 - 0s - loss: 0.0807 - accuracy: 0.8845 - mse: 0.0807 - val_loss: 0.0734 - val_accuracy: 0.8995 - val_mse: 0.0734 - 183ms/epoch - 6ms/step\n",
      "Epoch 97/100\n",
      "32/32 - 0s - loss: 0.0806 - accuracy: 0.8845 - mse: 0.0806 - val_loss: 0.0733 - val_accuracy: 0.8995 - val_mse: 0.0733 - 187ms/epoch - 6ms/step\n",
      "Epoch 98/100\n",
      "32/32 - 0s - loss: 0.0804 - accuracy: 0.8845 - mse: 0.0804 - val_loss: 0.0732 - val_accuracy: 0.8995 - val_mse: 0.0732 - 187ms/epoch - 6ms/step\n",
      "Epoch 99/100\n",
      "32/32 - 0s - loss: 0.0803 - accuracy: 0.8845 - mse: 0.0803 - val_loss: 0.0731 - val_accuracy: 0.8995 - val_mse: 0.0731 - 182ms/epoch - 6ms/step\n",
      "Epoch 100/100\n",
      "32/32 - 0s - loss: 0.0802 - accuracy: 0.8845 - mse: 0.0802 - val_loss: 0.0730 - val_accuracy: 0.8995 - val_mse: 0.0730 - 184ms/epoch - 6ms/step\n"
     ]
    }
   ],
   "source": [
    "history = evaluate(model)"
   ]
  },
  {
   "cell_type": "code",
   "execution_count": 109,
   "metadata": {},
   "outputs": [
    {
     "data": {
      "text/plain": [
       "array([0, 0, 0, 0, 0, 0, 0, 0, 0, 0, 0, 1, 0, 1, 0, 1, 1, 0, 0, 0, 0, 0,\n",
       "       0, 0, 1, 1, 0, 1, 1, 1, 1, 0, 0, 1, 0, 0, 1, 1, 0, 1, 0, 1, 1, 0,\n",
       "       0, 0, 0, 0, 1, 1, 1, 0, 0, 1, 0, 1, 1, 1, 1, 0, 0, 1, 0, 1, 1, 1,\n",
       "       0, 1, 0, 0, 0, 0, 1, 1, 0, 1, 1, 1, 0, 0, 0, 0, 0, 1, 0, 1, 0, 0,\n",
       "       1, 1, 1, 0, 0, 0, 0, 0, 1, 1, 0, 1, 0, 0, 0, 0, 1, 1, 0, 1, 0, 0,\n",
       "       1, 0, 0, 1, 0, 0, 0, 1, 0, 1, 1, 1, 1, 0, 0, 1, 0, 0, 0, 0, 1, 1,\n",
       "       0, 1, 0, 0, 1, 0, 1, 1, 0, 0, 1, 1, 0, 0, 0, 0, 0, 1, 1, 0, 0, 0,\n",
       "       1, 1, 0, 1, 0, 1, 1, 1, 0, 1, 1, 0, 1, 0, 1, 1, 1, 0, 0, 0, 0, 1,\n",
       "       0, 1, 1, 0, 0, 0, 1, 0, 1, 0, 0, 0, 0, 1, 1, 0, 0, 0, 1, 1, 0, 0,\n",
       "       0, 1, 1, 0, 0, 1, 1, 1, 0, 1, 0, 0, 0, 1, 0, 0, 0, 1, 0, 1, 0])"
      ]
     },
     "execution_count": 109,
     "metadata": {},
     "output_type": "execute_result"
    }
   ],
   "source": [
    "y_val"
   ]
  },
  {
   "cell_type": "code",
   "execution_count": 111,
   "metadata": {},
   "outputs": [
    {
     "name": "stdout",
     "output_type": "stream",
     "text": [
      "7/7 [==============================] - 0s 4ms/step\n"
     ]
    },
    {
     "data": {
      "text/plain": [
       "array([[0.],\n",
       "       [0.],\n",
       "       [1.],\n",
       "       [0.],\n",
       "       [0.],\n",
       "       [0.],\n",
       "       [0.],\n",
       "       [0.],\n",
       "       [0.],\n",
       "       [0.],\n",
       "       [0.],\n",
       "       [0.],\n",
       "       [0.],\n",
       "       [1.],\n",
       "       [0.],\n",
       "       [1.],\n",
       "       [1.],\n",
       "       [1.],\n",
       "       [0.],\n",
       "       [0.],\n",
       "       [0.],\n",
       "       [0.],\n",
       "       [0.],\n",
       "       [0.],\n",
       "       [1.],\n",
       "       [1.],\n",
       "       [0.],\n",
       "       [1.],\n",
       "       [1.],\n",
       "       [1.],\n",
       "       [1.],\n",
       "       [0.],\n",
       "       [0.],\n",
       "       [1.],\n",
       "       [0.],\n",
       "       [0.],\n",
       "       [1.],\n",
       "       [1.],\n",
       "       [0.],\n",
       "       [1.],\n",
       "       [0.],\n",
       "       [1.],\n",
       "       [1.],\n",
       "       [0.],\n",
       "       [0.],\n",
       "       [0.],\n",
       "       [0.],\n",
       "       [0.],\n",
       "       [1.],\n",
       "       [1.],\n",
       "       [0.],\n",
       "       [0.],\n",
       "       [0.],\n",
       "       [1.],\n",
       "       [0.],\n",
       "       [1.],\n",
       "       [1.],\n",
       "       [1.],\n",
       "       [1.],\n",
       "       [0.],\n",
       "       [0.],\n",
       "       [1.],\n",
       "       [0.],\n",
       "       [1.],\n",
       "       [1.],\n",
       "       [1.],\n",
       "       [1.],\n",
       "       [1.],\n",
       "       [0.],\n",
       "       [0.],\n",
       "       [0.],\n",
       "       [0.],\n",
       "       [1.],\n",
       "       [1.],\n",
       "       [0.],\n",
       "       [1.],\n",
       "       [1.],\n",
       "       [1.],\n",
       "       [0.],\n",
       "       [1.],\n",
       "       [0.],\n",
       "       [0.],\n",
       "       [0.],\n",
       "       [0.],\n",
       "       [0.],\n",
       "       [1.],\n",
       "       [0.],\n",
       "       [0.],\n",
       "       [1.],\n",
       "       [1.],\n",
       "       [1.],\n",
       "       [0.],\n",
       "       [0.],\n",
       "       [1.],\n",
       "       [0.],\n",
       "       [0.],\n",
       "       [1.],\n",
       "       [1.],\n",
       "       [0.],\n",
       "       [1.],\n",
       "       [0.],\n",
       "       [0.],\n",
       "       [0.],\n",
       "       [0.],\n",
       "       [1.],\n",
       "       [1.],\n",
       "       [0.],\n",
       "       [1.],\n",
       "       [0.],\n",
       "       [0.],\n",
       "       [1.],\n",
       "       [1.],\n",
       "       [0.],\n",
       "       [1.],\n",
       "       [0.],\n",
       "       [0.],\n",
       "       [0.],\n",
       "       [1.],\n",
       "       [0.],\n",
       "       [1.],\n",
       "       [1.],\n",
       "       [1.],\n",
       "       [1.],\n",
       "       [0.],\n",
       "       [0.],\n",
       "       [1.],\n",
       "       [1.],\n",
       "       [0.],\n",
       "       [0.],\n",
       "       [0.],\n",
       "       [1.],\n",
       "       [1.],\n",
       "       [0.],\n",
       "       [1.],\n",
       "       [0.],\n",
       "       [0.],\n",
       "       [1.],\n",
       "       [1.],\n",
       "       [1.],\n",
       "       [1.],\n",
       "       [0.],\n",
       "       [0.],\n",
       "       [1.],\n",
       "       [1.],\n",
       "       [0.],\n",
       "       [1.],\n",
       "       [0.],\n",
       "       [0.],\n",
       "       [0.],\n",
       "       [1.],\n",
       "       [1.],\n",
       "       [0.],\n",
       "       [1.],\n",
       "       [0.],\n",
       "       [1.],\n",
       "       [1.],\n",
       "       [1.],\n",
       "       [1.],\n",
       "       [0.],\n",
       "       [1.],\n",
       "       [0.],\n",
       "       [0.],\n",
       "       [0.],\n",
       "       [1.],\n",
       "       [1.],\n",
       "       [0.],\n",
       "       [1.],\n",
       "       [0.],\n",
       "       [1.],\n",
       "       [1.],\n",
       "       [1.],\n",
       "       [0.],\n",
       "       [0.],\n",
       "       [0.],\n",
       "       [0.],\n",
       "       [1.],\n",
       "       [1.],\n",
       "       [1.],\n",
       "       [1.],\n",
       "       [0.],\n",
       "       [0.],\n",
       "       [0.],\n",
       "       [1.],\n",
       "       [1.],\n",
       "       [1.],\n",
       "       [0.],\n",
       "       [0.],\n",
       "       [0.],\n",
       "       [0.],\n",
       "       [1.],\n",
       "       [1.],\n",
       "       [0.],\n",
       "       [0.],\n",
       "       [1.],\n",
       "       [1.],\n",
       "       [1.],\n",
       "       [1.],\n",
       "       [0.],\n",
       "       [0.],\n",
       "       [1.],\n",
       "       [1.],\n",
       "       [0.],\n",
       "       [0.],\n",
       "       [1.],\n",
       "       [1.],\n",
       "       [0.],\n",
       "       [0.],\n",
       "       [1.],\n",
       "       [1.],\n",
       "       [0.],\n",
       "       [0.],\n",
       "       [1.],\n",
       "       [0.],\n",
       "       [0.],\n",
       "       [0.],\n",
       "       [1.],\n",
       "       [0.],\n",
       "       [1.],\n",
       "       [0.]], dtype=float32)"
      ]
     },
     "execution_count": 111,
     "metadata": {},
     "output_type": "execute_result"
    }
   ],
   "source": [
    "y_val_predict = model.predict(X_val)\n",
    "y_val_predict = np.round(y_val_predict)\n",
    "#y_val_predict = y_val_predict.ravel()\n",
    "y_val_predict"
   ]
  },
  {
   "cell_type": "markdown",
   "metadata": {},
   "source": [
    "## Evalutation of Model n°1"
   ]
  },
  {
   "cell_type": "code",
   "execution_count": 118,
   "metadata": {},
   "outputs": [
    {
     "name": "stdout",
     "output_type": "stream",
     "text": [
      "Accuracy score: 0.8995433789954338\n",
      "Mean Squared Error (MSE): 0.1004566210045662\n"
     ]
    }
   ],
   "source": [
    "from sklearn.metrics import accuracy_score\n",
    "from sklearn.metrics import mean_squared_error\n",
    "\n",
    "accuracy = accuracy_score(y_val, y_val_predict)\n",
    "print(f\"Accuracy score: {accuracy}\")\n",
    "\n",
    "mse = mean_squared_error(y_val, y_val_predict)\n",
    "print(f\"Mean Squared Error (MSE): {mse}\")"
   ]
  },
  {
   "cell_type": "markdown",
   "metadata": {},
   "source": [
    "We have trained our model, which gives us a correct accuracy. But we haven't used our validation set properly, and our test set at all. Let's correct that."
   ]
  },
  {
   "cell_type": "code",
   "execution_count": 113,
   "metadata": {},
   "outputs": [],
   "source": [
    "# train model\n"
   ]
  },
  {
   "cell_type": "code",
   "execution_count": 114,
   "metadata": {},
   "outputs": [],
   "source": [
    "# predict on TEST set\n",
    "\n",
    "\n",
    "# calculate accuracy on test set\n"
   ]
  },
  {
   "cell_type": "markdown",
   "metadata": {},
   "source": [
    "Visualize training and validation losses and accuracies plots with the help of keras"
   ]
  },
  {
   "cell_type": "code",
   "execution_count": 115,
   "metadata": {},
   "outputs": [
    {
     "name": "stdout",
     "output_type": "stream",
     "text": [
      "loss\n",
      "accuracy\n",
      "mse\n",
      "val_loss\n",
      "val_accuracy\n",
      "val_mse\n"
     ]
    }
   ],
   "source": [
    "for key in history.history:\n",
    "    print(key)"
   ]
  },
  {
   "cell_type": "code",
   "execution_count": 127,
   "metadata": {},
   "outputs": [
    {
     "name": "stderr",
     "output_type": "stream",
     "text": [
      "/var/folders/vs/63szyqqn4dq91nzk275599p40000gn/T/ipykernel_6330/3777870042.py:18: UserWarning: Matplotlib is currently using module://matplotlib_inline.backend_inline, which is a non-GUI backend, so cannot show the figure.\n",
      "  fig.show()\n"
     ]
    },
    {
     "data": {
      "image/png": "[encoded data removed]",
      "text/plain": [
       "<Figure size 1800x1200 with 1 Axes>"
      ]
     },
     "metadata": {},
     "output_type": "display_data"
    }
   ],
   "source": [
    "#def plot_accuracy(hist, title):\n",
    "\n",
    "train_acc = history.history['accuracy']\n",
    "val_acc = history.history['val_accuracy']\n",
    "train_loss = history.history['loss']\n",
    "val_loss = history.history['val_loss']\n",
    "\n",
    "data = {'Epoch': range(1, len(train_acc) + 1),\n",
    "    'Training Accuracy': train_acc,\n",
    "    'Validation Accuracy': val_acc}\n",
    "df = pd.DataFrame(data)\n",
    "\n",
    "fig, ax = plt.subplots(figsize=(18,12))\n",
    "\n",
    "sns.lineplot(ax=ax,data=df, x='Epoch', y='Training Accuracy', label='Training Accuracy')\n",
    "sns.lineplot(ax=ax,data=df, x='Epoch', y='Validation Accuracy', label='Validation Accuracy')\n",
    "    \n",
    "fig.show()\n",
    "    \n",
    "#    return fig"
   ]
  },
  {
   "cell_type": "code",
   "execution_count": 125,
   "metadata": {},
   "outputs": [
    {
     "data": {
      "image/png": "[encoded data removed]",
      "text/plain": [
       "<Figure size 1000x600 with 1 Axes>"
      ]
     },
     "metadata": {},
     "output_type": "display_data"
    }
   ],
   "source": [
    "# Get the training and validation accuracies from the history object\n",
    "train_acc = history.history['accuracy']\n",
    "val_acc = history.history['val_accuracy']\n",
    "\n",
    "# Create a dataframe with epoch and accuracy values\n",
    "data = {'Epoch': range(1, len(train_acc) + 1),\n",
    "        'Training Accuracy': train_acc,\n",
    "        'Validation Accuracy': val_acc}\n",
    "df = pd.DataFrame(data)\n",
    "\n",
    "# Use Seaborn to plot the training and validation accuracies\n",
    "plt.figure(figsize=(10, 6))\n",
    "sns.lineplot(data=df, x='Epoch', y='Training Accuracy', label='Training Accuracy')\n",
    "sns.lineplot(data=df, x='Epoch', y='Validation Accuracy', label='Validation Accuracy')\n",
    "plt.xlabel('Epoch')\n",
    "plt.ylabel('Accuracy')\n",
    "plt.title('Training and Validation Accuracies')\n",
    "plt.legend()\n",
    "plt.show()"
   ]
  },
  {
   "cell_type": "code",
   "execution_count": null,
   "metadata": {},
   "outputs": [],
   "source": [
    "# visualize training and validation losses\n"
   ]
  },
  {
   "cell_type": "markdown",
   "metadata": {},
   "source": [
    "We have trained our neural network on the entire dataset and we can evaluate the performance of the network on the same dataset. A list of most hyperparameters available keras: "
   ]
  },
  {
   "cell_type": "markdown",
   "metadata": {},
   "source": [
    "https://keras.io/api/layers/initializers/\n",
    "\n",
    "https://keras.io/api/layers/activations/\n",
    "\n",
    "https://keras.io/api/losses/\n",
    "\n",
    "https://keras.io/api/optimizers/"
   ]
  },
  {
   "cell_type": "code",
   "execution_count": null,
   "metadata": {},
   "outputs": [],
   "source": []
  }
 ],
 "metadata": {
  "kernelspec": {
   "display_name": "Python 3 (ipykernel)",
   "language": "python",
   "name": "python3"
  },
  "language_info": {
   "codemirror_mode": {
    "name": "ipython",
    "version": 3
   },
   "file_extension": ".py",
   "mimetype": "text/x-python",
   "name": "python",
   "nbconvert_exporter": "python",
   "pygments_lexer": "ipython3",
   "version": "3.10.10"
  },
  "toc": {
   "base_numbering": 1,
   "nav_menu": {},
   "number_sections": true,
   "sideBar": true,
   "skip_h1_title": false,
   "title_cell": "Table of Contents",
   "title_sidebar": "Contents",
   "toc_cell": false,
   "toc_position": {},
   "toc_section_display": true,
   "toc_window_display": false
  },
  "varInspector": {
   "cols": {
    "lenName": 16,
    "lenType": 16,
    "lenVar": 40
   },
   "kernels_config": {
    "python": {
     "delete_cmd_postfix": "",
     "delete_cmd_prefix": "del ",
     "library": "var_list.py",
     "varRefreshCmd": "print(var_dic_list())"
    },
    "r": {
     "delete_cmd_postfix": ") ",
     "delete_cmd_prefix": "rm(",
     "library": "var_list.r",
     "varRefreshCmd": "cat(var_dic_list()) "
    }
   },
   "types_to_exclude": [
    "module",
    "function",
    "builtin_function_or_method",
    "instance",
    "_Feature"
   ],
   "window_display": false
  },
  "vscode": {
   "interpreter": {
    "hash": "705f4b53614202f864d07490114fec02abec4a76f5e3bfdf17788828300854a5"
   }
  }
 },
 "nbformat": 4,
 "nbformat_minor": 2
}
