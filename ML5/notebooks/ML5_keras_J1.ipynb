{
 "cells": [
  {
   "cell_type": "markdown",
   "metadata": {},
   "source": [
    "# First Deep Learning Project in Python with Keras"
   ]
  },
  {
   "cell_type": "markdown",
   "metadata": {},
   "source": [
    "The steps we are going to cover:\n",
    "1. Load Data.\n",
    "2. Define Keras Model.\n",
    "3. Compile Keras Model.\n",
    "4. Fit Keras Model.\n",
    "5. Evaluate Keras Model.\n",
    "6. Put It All Together.\n",
    "7. Make Predictions"
   ]
  },
  {
   "cell_type": "markdown",
   "metadata": {},
   "source": [
    "## Load Data\n",
    "    "
   ]
  },
  {
   "cell_type": "markdown",
   "metadata": {},
   "source": [
    "Download the dataset and place it in your local working directory, the same location as your python file. Take a look at the dataset:"
   ]
  },
  {
   "cell_type": "code",
   "execution_count": 1,
   "metadata": {},
   "outputs": [],
   "source": [
    "import pandas as pd\n",
    "import seaborn as sns\n",
    "import numpy as np\n",
    "import matplotlib.pyplot as plt\n",
    "import seaborn as sns\n",
    "df = pd.read_csv('../data/housepricedata.csv')"
   ]
  },
  {
   "cell_type": "code",
   "execution_count": 2,
   "metadata": {},
   "outputs": [
    {
     "data": {
      "image/png": "[encoded data removed]",
      "text/plain": [
       "<Figure size 1600x100 with 1 Axes>"
      ]
     },
     "metadata": {},
     "output_type": "display_data"
    }
   ],
   "source": [
    "colors = sns.color_palette(\"tab20_r\", 16)\n",
    "sns.palplot(colors)\n",
    "sns.set_style(\"darkgrid\")"
   ]
  },
  {
   "cell_type": "markdown",
   "metadata": {},
   "source": [
    "Here, you can explore the data a little. We have our input features in the first ten columns:\n",
    "\n",
    "- Lot Area (in sq ft)\n",
    "- Overall Quality (scale from 1 to 10)\n",
    "- Overall Condition (scale from 1 to 10)\n",
    "- Total Basement Area (in sq ft)\n",
    "- Number of Full Bathrooms\n",
    "- Number of Half Bathrooms\n",
    "- Number of Bedrooms above ground\n",
    "- Total Number of Rooms above ground\n",
    "- Number of Fireplaces\n",
    "- Garage Area (in sq ft)\n",
    "\n",
    "In our last column, we have the feature that we would like to predict:\n",
    "- Is the house price above the median or not? (1 for yes and 0 for no)"
   ]
  },
  {
   "cell_type": "code",
   "execution_count": 3,
   "metadata": {},
   "outputs": [
    {
     "data": {
      "text/html": [
       "<div>\n",
       "<style scoped>\n",
       "    .dataframe tbody tr th:only-of-type {\n",
       "        vertical-align: middle;\n",
       "    }\n",
       "\n",
       "    .dataframe tbody tr th {\n",
       "        vertical-align: top;\n",
       "    }\n",
       "\n",
       "    .dataframe thead th {\n",
       "        text-align: right;\n",
       "    }\n",
       "</style>\n",
       "<table border=\"1\" class=\"dataframe\">\n",
       "  <thead>\n",
       "    <tr style=\"text-align: right;\">\n",
       "      <th></th>\n",
       "      <th>LotArea</th>\n",
       "      <th>OverallQual</th>\n",
       "      <th>OverallCond</th>\n",
       "      <th>TotalBsmtSF</th>\n",
       "      <th>FullBath</th>\n",
       "      <th>HalfBath</th>\n",
       "      <th>BedroomAbvGr</th>\n",
       "      <th>TotRmsAbvGrd</th>\n",
       "      <th>Fireplaces</th>\n",
       "      <th>GarageArea</th>\n",
       "      <th>AboveMedianPrice</th>\n",
       "    </tr>\n",
       "  </thead>\n",
       "  <tbody>\n",
       "    <tr>\n",
       "      <th>count</th>\n",
       "      <td>1460.000000</td>\n",
       "      <td>1460.000000</td>\n",
       "      <td>1460.000000</td>\n",
       "      <td>1460.000000</td>\n",
       "      <td>1460.000000</td>\n",
       "      <td>1460.000000</td>\n",
       "      <td>1460.000000</td>\n",
       "      <td>1460.000000</td>\n",
       "      <td>1460.000000</td>\n",
       "      <td>1460.000000</td>\n",
       "      <td>1460.000000</td>\n",
       "    </tr>\n",
       "    <tr>\n",
       "      <th>mean</th>\n",
       "      <td>10516.828082</td>\n",
       "      <td>6.099315</td>\n",
       "      <td>5.575342</td>\n",
       "      <td>1057.429452</td>\n",
       "      <td>1.565068</td>\n",
       "      <td>0.382877</td>\n",
       "      <td>2.866438</td>\n",
       "      <td>6.517808</td>\n",
       "      <td>0.613014</td>\n",
       "      <td>472.980137</td>\n",
       "      <td>0.498630</td>\n",
       "    </tr>\n",
       "    <tr>\n",
       "      <th>std</th>\n",
       "      <td>9981.264932</td>\n",
       "      <td>1.382997</td>\n",
       "      <td>1.112799</td>\n",
       "      <td>438.705324</td>\n",
       "      <td>0.550916</td>\n",
       "      <td>0.502885</td>\n",
       "      <td>0.815778</td>\n",
       "      <td>1.625393</td>\n",
       "      <td>0.644666</td>\n",
       "      <td>213.804841</td>\n",
       "      <td>0.500169</td>\n",
       "    </tr>\n",
       "    <tr>\n",
       "      <th>min</th>\n",
       "      <td>1300.000000</td>\n",
       "      <td>1.000000</td>\n",
       "      <td>1.000000</td>\n",
       "      <td>0.000000</td>\n",
       "      <td>0.000000</td>\n",
       "      <td>0.000000</td>\n",
       "      <td>0.000000</td>\n",
       "      <td>2.000000</td>\n",
       "      <td>0.000000</td>\n",
       "      <td>0.000000</td>\n",
       "      <td>0.000000</td>\n",
       "    </tr>\n",
       "    <tr>\n",
       "      <th>25%</th>\n",
       "      <td>7553.500000</td>\n",
       "      <td>5.000000</td>\n",
       "      <td>5.000000</td>\n",
       "      <td>795.750000</td>\n",
       "      <td>1.000000</td>\n",
       "      <td>0.000000</td>\n",
       "      <td>2.000000</td>\n",
       "      <td>5.000000</td>\n",
       "      <td>0.000000</td>\n",
       "      <td>334.500000</td>\n",
       "      <td>0.000000</td>\n",
       "    </tr>\n",
       "    <tr>\n",
       "      <th>50%</th>\n",
       "      <td>9478.500000</td>\n",
       "      <td>6.000000</td>\n",
       "      <td>5.000000</td>\n",
       "      <td>991.500000</td>\n",
       "      <td>2.000000</td>\n",
       "      <td>0.000000</td>\n",
       "      <td>3.000000</td>\n",
       "      <td>6.000000</td>\n",
       "      <td>1.000000</td>\n",
       "      <td>480.000000</td>\n",
       "      <td>0.000000</td>\n",
       "    </tr>\n",
       "    <tr>\n",
       "      <th>75%</th>\n",
       "      <td>11601.500000</td>\n",
       "      <td>7.000000</td>\n",
       "      <td>6.000000</td>\n",
       "      <td>1298.250000</td>\n",
       "      <td>2.000000</td>\n",
       "      <td>1.000000</td>\n",
       "      <td>3.000000</td>\n",
       "      <td>7.000000</td>\n",
       "      <td>1.000000</td>\n",
       "      <td>576.000000</td>\n",
       "      <td>1.000000</td>\n",
       "    </tr>\n",
       "    <tr>\n",
       "      <th>max</th>\n",
       "      <td>215245.000000</td>\n",
       "      <td>10.000000</td>\n",
       "      <td>9.000000</td>\n",
       "      <td>6110.000000</td>\n",
       "      <td>3.000000</td>\n",
       "      <td>2.000000</td>\n",
       "      <td>8.000000</td>\n",
       "      <td>14.000000</td>\n",
       "      <td>3.000000</td>\n",
       "      <td>1418.000000</td>\n",
       "      <td>1.000000</td>\n",
       "    </tr>\n",
       "  </tbody>\n",
       "</table>\n",
       "</div>"
      ],
      "text/plain": [
       "             LotArea  OverallQual  OverallCond  TotalBsmtSF     FullBath   \n",
       "count    1460.000000  1460.000000  1460.000000  1460.000000  1460.000000  \\\n",
       "mean    10516.828082     6.099315     5.575342  1057.429452     1.565068   \n",
       "std      9981.264932     1.382997     1.112799   438.705324     0.550916   \n",
       "min      1300.000000     1.000000     1.000000     0.000000     0.000000   \n",
       "25%      7553.500000     5.000000     5.000000   795.750000     1.000000   \n",
       "50%      9478.500000     6.000000     5.000000   991.500000     2.000000   \n",
       "75%     11601.500000     7.000000     6.000000  1298.250000     2.000000   \n",
       "max    215245.000000    10.000000     9.000000  6110.000000     3.000000   \n",
       "\n",
       "          HalfBath  BedroomAbvGr  TotRmsAbvGrd   Fireplaces   GarageArea   \n",
       "count  1460.000000   1460.000000   1460.000000  1460.000000  1460.000000  \\\n",
       "mean      0.382877      2.866438      6.517808     0.613014   472.980137   \n",
       "std       0.502885      0.815778      1.625393     0.644666   213.804841   \n",
       "min       0.000000      0.000000      2.000000     0.000000     0.000000   \n",
       "25%       0.000000      2.000000      5.000000     0.000000   334.500000   \n",
       "50%       0.000000      3.000000      6.000000     1.000000   480.000000   \n",
       "75%       1.000000      3.000000      7.000000     1.000000   576.000000   \n",
       "max       2.000000      8.000000     14.000000     3.000000  1418.000000   \n",
       "\n",
       "       AboveMedianPrice  \n",
       "count       1460.000000  \n",
       "mean           0.498630  \n",
       "std            0.500169  \n",
       "min            0.000000  \n",
       "25%            0.000000  \n",
       "50%            0.000000  \n",
       "75%            1.000000  \n",
       "max            1.000000  "
      ]
     },
     "execution_count": 3,
     "metadata": {},
     "output_type": "execute_result"
    }
   ],
   "source": [
    "df.describe()"
   ]
  },
  {
   "cell_type": "code",
   "execution_count": 4,
   "metadata": {},
   "outputs": [
    {
     "data": {
      "text/html": [
       "<div>\n",
       "<style scoped>\n",
       "    .dataframe tbody tr th:only-of-type {\n",
       "        vertical-align: middle;\n",
       "    }\n",
       "\n",
       "    .dataframe tbody tr th {\n",
       "        vertical-align: top;\n",
       "    }\n",
       "\n",
       "    .dataframe thead th {\n",
       "        text-align: right;\n",
       "    }\n",
       "</style>\n",
       "<table border=\"1\" class=\"dataframe\">\n",
       "  <thead>\n",
       "    <tr style=\"text-align: right;\">\n",
       "      <th></th>\n",
       "      <th>LotArea</th>\n",
       "      <th>OverallQual</th>\n",
       "      <th>OverallCond</th>\n",
       "      <th>TotalBsmtSF</th>\n",
       "      <th>FullBath</th>\n",
       "      <th>HalfBath</th>\n",
       "      <th>BedroomAbvGr</th>\n",
       "      <th>TotRmsAbvGrd</th>\n",
       "      <th>Fireplaces</th>\n",
       "      <th>GarageArea</th>\n",
       "      <th>AboveMedianPrice</th>\n",
       "    </tr>\n",
       "  </thead>\n",
       "  <tbody>\n",
       "    <tr>\n",
       "      <th>0</th>\n",
       "      <td>8450</td>\n",
       "      <td>7</td>\n",
       "      <td>5</td>\n",
       "      <td>856</td>\n",
       "      <td>2</td>\n",
       "      <td>1</td>\n",
       "      <td>3</td>\n",
       "      <td>8</td>\n",
       "      <td>0</td>\n",
       "      <td>548</td>\n",
       "      <td>1</td>\n",
       "    </tr>\n",
       "    <tr>\n",
       "      <th>1</th>\n",
       "      <td>9600</td>\n",
       "      <td>6</td>\n",
       "      <td>8</td>\n",
       "      <td>1262</td>\n",
       "      <td>2</td>\n",
       "      <td>0</td>\n",
       "      <td>3</td>\n",
       "      <td>6</td>\n",
       "      <td>1</td>\n",
       "      <td>460</td>\n",
       "      <td>1</td>\n",
       "    </tr>\n",
       "    <tr>\n",
       "      <th>2</th>\n",
       "      <td>11250</td>\n",
       "      <td>7</td>\n",
       "      <td>5</td>\n",
       "      <td>920</td>\n",
       "      <td>2</td>\n",
       "      <td>1</td>\n",
       "      <td>3</td>\n",
       "      <td>6</td>\n",
       "      <td>1</td>\n",
       "      <td>608</td>\n",
       "      <td>1</td>\n",
       "    </tr>\n",
       "    <tr>\n",
       "      <th>3</th>\n",
       "      <td>9550</td>\n",
       "      <td>7</td>\n",
       "      <td>5</td>\n",
       "      <td>756</td>\n",
       "      <td>1</td>\n",
       "      <td>0</td>\n",
       "      <td>3</td>\n",
       "      <td>7</td>\n",
       "      <td>1</td>\n",
       "      <td>642</td>\n",
       "      <td>0</td>\n",
       "    </tr>\n",
       "    <tr>\n",
       "      <th>4</th>\n",
       "      <td>14260</td>\n",
       "      <td>8</td>\n",
       "      <td>5</td>\n",
       "      <td>1145</td>\n",
       "      <td>2</td>\n",
       "      <td>1</td>\n",
       "      <td>4</td>\n",
       "      <td>9</td>\n",
       "      <td>1</td>\n",
       "      <td>836</td>\n",
       "      <td>1</td>\n",
       "    </tr>\n",
       "  </tbody>\n",
       "</table>\n",
       "</div>"
      ],
      "text/plain": [
       "   LotArea  OverallQual  OverallCond  TotalBsmtSF  FullBath  HalfBath   \n",
       "0     8450            7            5          856         2         1  \\\n",
       "1     9600            6            8         1262         2         0   \n",
       "2    11250            7            5          920         2         1   \n",
       "3     9550            7            5          756         1         0   \n",
       "4    14260            8            5         1145         2         1   \n",
       "\n",
       "   BedroomAbvGr  TotRmsAbvGrd  Fireplaces  GarageArea  AboveMedianPrice  \n",
       "0             3             8           0         548                 1  \n",
       "1             3             6           1         460                 1  \n",
       "2             3             6           1         608                 1  \n",
       "3             3             7           1         642                 0  \n",
       "4             4             9           1         836                 1  "
      ]
     },
     "execution_count": 4,
     "metadata": {},
     "output_type": "execute_result"
    }
   ],
   "source": [
    "df.head()"
   ]
  },
  {
   "cell_type": "code",
   "execution_count": 5,
   "metadata": {},
   "outputs": [
    {
     "data": {
      "text/plain": [
       "(1460, 11)"
      ]
     },
     "execution_count": 5,
     "metadata": {},
     "output_type": "execute_result"
    }
   ],
   "source": [
    "df.shape"
   ]
  },
  {
   "cell_type": "raw",
   "metadata": {},
   "source": [
    "Which task are we going to train the neural network for (regression, classification, other...) ?\n",
    "\n",
    "--> Classification"
   ]
  },
  {
   "cell_type": "markdown",
   "metadata": {},
   "source": [
    "Now that we’ve seen what our data looks like, we want to convert it into arrays for our machine to process:"
   ]
  },
  {
   "cell_type": "code",
   "execution_count": 6,
   "metadata": {},
   "outputs": [],
   "source": [
    "dataset = df.values"
   ]
  },
  {
   "cell_type": "markdown",
   "metadata": {},
   "source": [
    "Split the dataset into input features (X) and the feature we wish to predict (Y). To do that split, assign the first 10 columns of our array to a variable called X and the last column of our array to a variable called Y"
   ]
  },
  {
   "cell_type": "code",
   "execution_count": 7,
   "metadata": {},
   "outputs": [],
   "source": [
    "X = dataset[:,0:10]\n",
    "y = dataset[:,10]"
   ]
  },
  {
   "cell_type": "markdown",
   "metadata": {},
   "source": [
    "Now, we want to split our dataset into a training set, a validation set and a test set. These are the dimensions you need to get for your train, validation and test datasets: (1022, 10) (219, 10) (219, 10) (1022,) (219,) (219,)\n",
    "\n",
    "We will use the code from scikit-learn called ‘train_test_split’, which as the name suggests, split our dataset into a training set and a test set. We first import the code we need:"
   ]
  },
  {
   "cell_type": "code",
   "execution_count": 72,
   "metadata": {},
   "outputs": [],
   "source": [
    "from sklearn.model_selection import train_test_split"
   ]
  },
  {
   "cell_type": "code",
   "execution_count": 73,
   "metadata": {},
   "outputs": [],
   "source": [
    "X_train, X_test, y_train, y_test = train_test_split(X, y, test_size=0.3, random_state=22)"
   ]
  },
  {
   "cell_type": "markdown",
   "metadata": {},
   "source": [
    "Unfortunately, this function only helps us split our dataset into two. Since we want a separate validation set and test set, we can use the same function to do the split again on val_and_test:"
   ]
  },
  {
   "cell_type": "code",
   "execution_count": 74,
   "metadata": {},
   "outputs": [],
   "source": [
    "X_test, X_val, y_test, y_val = train_test_split(X_test, y_test, test_size=0.5, random_state=22)"
   ]
  },
  {
   "cell_type": "code",
   "execution_count": 75,
   "metadata": {},
   "outputs": [
    {
     "name": "stdout",
     "output_type": "stream",
     "text": [
      "--------------------------------------------\n",
      "--> SHAPE OBTAINED <--\n",
      "X_train shape --> (1022, 10)\n",
      "X_test shape ---> (219, 10)\n",
      "X_val shape ----> (219, 10)\n",
      "--------------------------------------------\n"
     ]
    }
   ],
   "source": [
    "print(\"--------------------------------------------\")\n",
    "print(\"--> SHAPE OBTAINED <--\")\n",
    "print(f\"X_train shape --> {X_train.shape}\")\n",
    "print(f\"X_test shape ---> {X_test.shape}\")\n",
    "print(f\"X_val shape ----> {X_val.shape}\")\n",
    "print(\"--------------------------------------------\")"
   ]
  },
  {
   "cell_type": "markdown",
   "metadata": {},
   "source": [
    "Feature scaling will help us see all the variables from the same scale, it will also help our models learn faster"
   ]
  },
  {
   "cell_type": "code",
   "execution_count": 76,
   "metadata": {},
   "outputs": [],
   "source": [
    "from sklearn.preprocessing import StandardScaler\n",
    "\n",
    "scaler = StandardScaler()\n",
    "\n",
    "\n",
    "X_train = scaler.fit_transform(X_train)\n",
    "X_test = scaler.transform(X_test)\n",
    "X_val = scaler.transform(X_val)"
   ]
  },
  {
   "cell_type": "code",
   "execution_count": 77,
   "metadata": {},
   "outputs": [
    {
     "name": "stdout",
     "output_type": "stream",
     "text": [
      "--> AFTER SCALING <--\n",
      "-------------------------------------------\n",
      "X_train SCALED --> [[-0.16539782 -0.79493189 -0.53948372 ... -0.94661304 -0.97240656\n",
      "  -0.80278093]\n",
      " [-0.14553697 -0.06368041  0.35994917 ... -0.31347264  0.61007673\n",
      "   0.35608237]\n",
      " [-0.19849923  1.39882254  0.35994917 ... -0.31347264 -0.97240656\n",
      "   0.28040151]\n",
      " ...\n",
      " [-0.17095885 -0.79493189 -0.53948372 ... -1.57975343 -0.97240656\n",
      "   0.1668802 ]\n",
      " [-0.28782891 -0.79493189  0.35994917 ...  0.31966775 -0.97240656\n",
      "   0.73448672]\n",
      " [-0.48811454  2.13007401 -0.53948372 ... -0.94661304  0.61007673\n",
      "   0.17634031]]\n",
      "-------------------------------------------\n",
      "X_test SCALED --> [[-0.07845143 -0.06368041  0.35994917 ...  0.31966775 -0.97240656\n",
      "  -0.12638316]\n",
      " [-0.12346936 -0.79493189  1.25938207 ... -0.31347264 -0.97240656\n",
      "  -0.98725304]\n",
      " [-0.15445228  0.66757106 -0.53948372 ... -0.31347264 -0.97240656\n",
      "  -0.34396566]\n",
      " ...\n",
      " [-0.05364744  1.39882254 -0.53948372 ...  0.95280815  0.61007673\n",
      "   0.17634031]\n",
      " [ 0.11044731 -0.06368041 -0.53948372 ... -0.31347264  2.19256001\n",
      "  -0.05070229]\n",
      " [-0.47655111  1.39882254 -0.53948372 ...  0.95280815 -0.97240656\n",
      "  -2.21706716]]\n"
     ]
    }
   ],
   "source": [
    "print(\"--> AFTER SCALING <--\")\n",
    "print(\"-------------------------------------------\")\n",
    "print(f\"X_train SCALED --> {X_train}\")\n",
    "print(\"-------------------------------------------\")\n",
    "print(f\"X_test SCALED --> {X_test}\")"
   ]
  },
  {
   "cell_type": "markdown",
   "metadata": {},
   "source": [
    "# Define Keras Model."
   ]
  },
  {
   "attachments": {
    "ex_rnn_keras.PNG": {
     "image/png": "[encoded data removed]"
    }
   },
   "cell_type": "markdown",
   "metadata": {},
   "source": [
    "The first thing we have to do is to set up the architecture. Let’s first think about what kind of neural network architecture we want. Suppose we want this neural network:\n",
    "![ex_rnn_keras.PNG](attachment:ex_rnn_keras.PNG)\n",
    "In words, we want to have these layers:\n",
    "\n",
    "- Hidden layer 1: 12 neurons, ReLU activation\n",
    "- Hidden layer 2: 16 neurons, ReLU activation\n",
    "- Output Layer: 1 neuron, Sigmoid activation\n",
    "    \n",
    "Now, we need to describe this architecture to Keras. We will be using the Sequential model, which means that we merely need to describe the layers above in sequence."
   ]
  },
  {
   "cell_type": "code",
   "execution_count": 78,
   "metadata": {},
   "outputs": [],
   "source": [
    "# Dependencies\n",
    "import keras\n",
    "import tensorflow as tf\n",
    "from keras.models import Sequential\n",
    "from keras.layers import Dense"
   ]
  },
  {
   "cell_type": "markdown",
   "metadata": {},
   "source": [
    "## Model n°1 -- MSE"
   ]
  },
  {
   "cell_type": "markdown",
   "metadata": {},
   "source": [
    "### --> Definition"
   ]
  },
  {
   "cell_type": "code",
   "execution_count": 79,
   "metadata": {},
   "outputs": [],
   "source": [
    "def init_model():\n",
    "    # Initialisation du modèle\n",
    "    model = Sequential()\n",
    "    # On ajoute des layers de neurones\n",
    "    # A dense layer is a type of layer in which each neuron or node is connected to every neuron in the previous layer, \n",
    "    # resulting in a fully connected network.\n",
    "    model.add(Dense(12, activation='relu', input_dim=10))\n",
    "    model.add(Dense(16, activation='relu'))\n",
    "    # La dernière layer est sensé nou\n",
    "    model.add(Dense(1, activation='sigmoid'))\n",
    "    \n",
    "    return model"
   ]
  },
  {
   "cell_type": "code",
   "execution_count": 80,
   "metadata": {},
   "outputs": [],
   "source": [
    "# Initialisation du modèle\n",
    "model = Sequential()\n",
    "# On ajoute des layers de neurones\n",
    "# A dense layer is a type of layer in which each neuron or node is connected to every neuron in the previous layer, \n",
    "# resulting in a fully connected network.\n",
    "model.add(Dense(12, activation='relu', input_dim=10))\n",
    "model.add(Dense(16, activation='relu'))\n",
    "# La dernière layer est sensé nou\n",
    "model.add(Dense(1, activation='sigmoid'))"
   ]
  },
  {
   "cell_type": "markdown",
   "metadata": {},
   "source": [
    "Now that the model is defined, we can compile it.\n",
    "\n",
    "Compiling the model uses TensorFlow that chooses the best way to represent the network for training and making predictions to run on your hardware, such as CPU or GPU or even distributed."
   ]
  },
  {
   "cell_type": "code",
   "execution_count": 81,
   "metadata": {},
   "outputs": [],
   "source": [
    "# compile model\n",
    "model = init_model()\n",
    "model.compile(loss='mean_squared_error', optimizer='sgd', metrics=['accuracy', 'mse'])"
   ]
  },
  {
   "cell_type": "markdown",
   "metadata": {},
   "source": [
    "### --> Specifications"
   ]
  },
  {
   "cell_type": "code",
   "execution_count": 82,
   "metadata": {},
   "outputs": [
    {
     "name": "stdout",
     "output_type": "stream",
     "text": [
      "Model: \"sequential_5\"\n",
      "_________________________________________________________________\n",
      " Layer (type)                Output Shape              Param #   \n",
      "=================================================================\n",
      " dense_15 (Dense)            (None, 12)                132       \n",
      "                                                                 \n",
      " dense_16 (Dense)            (None, 16)                208       \n",
      "                                                                 \n",
      " dense_17 (Dense)            (None, 1)                 17        \n",
      "                                                                 \n",
      "=================================================================\n",
      "Total params: 357\n",
      "Trainable params: 357\n",
      "Non-trainable params: 0\n",
      "_________________________________________________________________\n"
     ]
    }
   ],
   "source": [
    "model.summary()"
   ]
  },
  {
   "cell_type": "code",
   "execution_count": 83,
   "metadata": {},
   "outputs": [
    {
     "data": {
      "image/png": "[encoded data removed]",
      "text/plain": [
       "<IPython.core.display.Image object>"
      ]
     },
     "execution_count": 83,
     "metadata": {},
     "output_type": "execute_result"
    }
   ],
   "source": [
    "from keras import utils\n",
    "dot_img_file = '/tmp/model_1.png'\n",
    "utils.plot_model(model, to_file=dot_img_file, show_shapes=True, show_layer_names=True)"
   ]
  },
  {
   "cell_type": "markdown",
   "metadata": {},
   "source": [
    "### --> Prediction n°1"
   ]
  },
  {
   "cell_type": "markdown",
   "metadata": {},
   "source": [
    "We have defined our model and compiled it ready for efficient computation.\n",
    "\n",
    "Now it is time to execute the model on some data (use 100 iterations and 32 batch size)."
   ]
  },
  {
   "cell_type": "code",
   "execution_count": 84,
   "metadata": {},
   "outputs": [],
   "source": [
    "def evaluate(modelEval, ):\n",
    "    with tf.device('/CPU:0'):\n",
    "        history = modelEval.fit(X_train, y_train, epochs=200, batch_size=32, verbose=2, validation_data=(X_val, y_val))\n",
    "    return history"
   ]
  },
  {
   "cell_type": "code",
   "execution_count": 85,
   "metadata": {
    "scrolled": true
   },
   "outputs": [
    {
     "name": "stdout",
     "output_type": "stream",
     "text": [
      "Epoch 1/200\n"
     ]
    },
    {
     "name": "stderr",
     "output_type": "stream",
     "text": [
      "2023-05-24 11:01:40.444022: I tensorflow/core/grappler/optimizers/custom_graph_optimizer_registry.cc:114] Plugin optimizer for device_type GPU is enabled.\n"
     ]
    },
    {
     "name": "stdout",
     "output_type": "stream",
     "text": [
      "32/32 - 1s - loss: 0.2243 - accuracy: 0.6507 - mse: 0.2243 - val_loss: 0.2101 - val_accuracy: 0.7215 - val_mse: 0.2101 - 503ms/epoch - 16ms/step\n",
      "Epoch 2/200\n"
     ]
    },
    {
     "name": "stderr",
     "output_type": "stream",
     "text": [
      "2023-05-24 11:01:40.718264: I tensorflow/core/grappler/optimizers/custom_graph_optimizer_registry.cc:114] Plugin optimizer for device_type GPU is enabled.\n"
     ]
    },
    {
     "name": "stdout",
     "output_type": "stream",
     "text": [
      "32/32 - 0s - loss: 0.2113 - accuracy: 0.6830 - mse: 0.2113 - val_loss: 0.1991 - val_accuracy: 0.7489 - val_mse: 0.1991 - 190ms/epoch - 6ms/step\n",
      "Epoch 3/200\n",
      "32/32 - 0s - loss: 0.2003 - accuracy: 0.7280 - mse: 0.2003 - val_loss: 0.1896 - val_accuracy: 0.7763 - val_mse: 0.1896 - 189ms/epoch - 6ms/step\n",
      "Epoch 4/200\n",
      "32/32 - 0s - loss: 0.1908 - accuracy: 0.7593 - mse: 0.1908 - val_loss: 0.1814 - val_accuracy: 0.7854 - val_mse: 0.1814 - 194ms/epoch - 6ms/step\n",
      "Epoch 5/200\n",
      "32/32 - 0s - loss: 0.1822 - accuracy: 0.7701 - mse: 0.1822 - val_loss: 0.1740 - val_accuracy: 0.7854 - val_mse: 0.1740 - 190ms/epoch - 6ms/step\n",
      "Epoch 6/200\n",
      "32/32 - 0s - loss: 0.1746 - accuracy: 0.7828 - mse: 0.1746 - val_loss: 0.1673 - val_accuracy: 0.8082 - val_mse: 0.1673 - 193ms/epoch - 6ms/step\n",
      "Epoch 7/200\n",
      "32/32 - 0s - loss: 0.1677 - accuracy: 0.7926 - mse: 0.1677 - val_loss: 0.1612 - val_accuracy: 0.8174 - val_mse: 0.1612 - 193ms/epoch - 6ms/step\n",
      "Epoch 8/200\n",
      "32/32 - 0s - loss: 0.1614 - accuracy: 0.8043 - mse: 0.1614 - val_loss: 0.1556 - val_accuracy: 0.8174 - val_mse: 0.1556 - 192ms/epoch - 6ms/step\n",
      "Epoch 9/200\n",
      "32/32 - 0s - loss: 0.1556 - accuracy: 0.8131 - mse: 0.1556 - val_loss: 0.1506 - val_accuracy: 0.8265 - val_mse: 0.1506 - 187ms/epoch - 6ms/step\n",
      "Epoch 10/200\n",
      "32/32 - 0s - loss: 0.1503 - accuracy: 0.8200 - mse: 0.1503 - val_loss: 0.1460 - val_accuracy: 0.8311 - val_mse: 0.1460 - 183ms/epoch - 6ms/step\n",
      "Epoch 11/200\n",
      "32/32 - 0s - loss: 0.1454 - accuracy: 0.8249 - mse: 0.1454 - val_loss: 0.1417 - val_accuracy: 0.8311 - val_mse: 0.1417 - 187ms/epoch - 6ms/step\n",
      "Epoch 12/200\n",
      "32/32 - 0s - loss: 0.1409 - accuracy: 0.8337 - mse: 0.1409 - val_loss: 0.1377 - val_accuracy: 0.8402 - val_mse: 0.1377 - 188ms/epoch - 6ms/step\n",
      "Epoch 13/200\n",
      "32/32 - 0s - loss: 0.1368 - accuracy: 0.8415 - mse: 0.1368 - val_loss: 0.1341 - val_accuracy: 0.8447 - val_mse: 0.1341 - 185ms/epoch - 6ms/step\n",
      "Epoch 14/200\n",
      "32/32 - 0s - loss: 0.1329 - accuracy: 0.8454 - mse: 0.1329 - val_loss: 0.1307 - val_accuracy: 0.8447 - val_mse: 0.1307 - 183ms/epoch - 6ms/step\n",
      "Epoch 15/200\n",
      "32/32 - 0s - loss: 0.1293 - accuracy: 0.8503 - mse: 0.1293 - val_loss: 0.1275 - val_accuracy: 0.8493 - val_mse: 0.1275 - 185ms/epoch - 6ms/step\n",
      "Epoch 16/200\n",
      "32/32 - 0s - loss: 0.1259 - accuracy: 0.8542 - mse: 0.1259 - val_loss: 0.1246 - val_accuracy: 0.8539 - val_mse: 0.1246 - 183ms/epoch - 6ms/step\n",
      "Epoch 17/200\n",
      "32/32 - 0s - loss: 0.1228 - accuracy: 0.8611 - mse: 0.1228 - val_loss: 0.1218 - val_accuracy: 0.8584 - val_mse: 0.1218 - 188ms/epoch - 6ms/step\n",
      "Epoch 18/200\n",
      "32/32 - 0s - loss: 0.1199 - accuracy: 0.8620 - mse: 0.1199 - val_loss: 0.1192 - val_accuracy: 0.8630 - val_mse: 0.1192 - 191ms/epoch - 6ms/step\n",
      "Epoch 19/200\n",
      "32/32 - 0s - loss: 0.1172 - accuracy: 0.8640 - mse: 0.1172 - val_loss: 0.1169 - val_accuracy: 0.8630 - val_mse: 0.1169 - 188ms/epoch - 6ms/step\n",
      "Epoch 20/200\n",
      "32/32 - 0s - loss: 0.1146 - accuracy: 0.8620 - mse: 0.1146 - val_loss: 0.1146 - val_accuracy: 0.8676 - val_mse: 0.1146 - 191ms/epoch - 6ms/step\n",
      "Epoch 21/200\n",
      "32/32 - 0s - loss: 0.1123 - accuracy: 0.8679 - mse: 0.1123 - val_loss: 0.1126 - val_accuracy: 0.8721 - val_mse: 0.1126 - 183ms/epoch - 6ms/step\n",
      "Epoch 22/200\n",
      "32/32 - 0s - loss: 0.1100 - accuracy: 0.8699 - mse: 0.1100 - val_loss: 0.1106 - val_accuracy: 0.8721 - val_mse: 0.1106 - 193ms/epoch - 6ms/step\n",
      "Epoch 23/200\n",
      "32/32 - 0s - loss: 0.1080 - accuracy: 0.8738 - mse: 0.1080 - val_loss: 0.1088 - val_accuracy: 0.8721 - val_mse: 0.1088 - 190ms/epoch - 6ms/step\n",
      "Epoch 24/200\n",
      "32/32 - 0s - loss: 0.1060 - accuracy: 0.8767 - mse: 0.1060 - val_loss: 0.1072 - val_accuracy: 0.8721 - val_mse: 0.1072 - 192ms/epoch - 6ms/step\n",
      "Epoch 25/200\n",
      "32/32 - 0s - loss: 0.1042 - accuracy: 0.8796 - mse: 0.1042 - val_loss: 0.1056 - val_accuracy: 0.8676 - val_mse: 0.1056 - 185ms/epoch - 6ms/step\n",
      "Epoch 26/200\n",
      "32/32 - 0s - loss: 0.1025 - accuracy: 0.8796 - mse: 0.1025 - val_loss: 0.1041 - val_accuracy: 0.8676 - val_mse: 0.1041 - 187ms/epoch - 6ms/step\n",
      "Epoch 27/200\n",
      "32/32 - 0s - loss: 0.1009 - accuracy: 0.8816 - mse: 0.1009 - val_loss: 0.1027 - val_accuracy: 0.8676 - val_mse: 0.1027 - 188ms/epoch - 6ms/step\n",
      "Epoch 28/200\n",
      "32/32 - 0s - loss: 0.0994 - accuracy: 0.8816 - mse: 0.0994 - val_loss: 0.1014 - val_accuracy: 0.8721 - val_mse: 0.1014 - 184ms/epoch - 6ms/step\n",
      "Epoch 29/200\n",
      "32/32 - 0s - loss: 0.0980 - accuracy: 0.8806 - mse: 0.0980 - val_loss: 0.1002 - val_accuracy: 0.8721 - val_mse: 0.1002 - 182ms/epoch - 6ms/step\n",
      "Epoch 30/200\n",
      "32/32 - 0s - loss: 0.0967 - accuracy: 0.8816 - mse: 0.0967 - val_loss: 0.0990 - val_accuracy: 0.8767 - val_mse: 0.0990 - 186ms/epoch - 6ms/step\n",
      "Epoch 31/200\n",
      "32/32 - 0s - loss: 0.0954 - accuracy: 0.8826 - mse: 0.0954 - val_loss: 0.0980 - val_accuracy: 0.8767 - val_mse: 0.0980 - 192ms/epoch - 6ms/step\n",
      "Epoch 32/200\n",
      "32/32 - 0s - loss: 0.0942 - accuracy: 0.8855 - mse: 0.0942 - val_loss: 0.0970 - val_accuracy: 0.8858 - val_mse: 0.0970 - 189ms/epoch - 6ms/step\n",
      "Epoch 33/200\n",
      "32/32 - 0s - loss: 0.0931 - accuracy: 0.8845 - mse: 0.0931 - val_loss: 0.0960 - val_accuracy: 0.8858 - val_mse: 0.0960 - 182ms/epoch - 6ms/step\n",
      "Epoch 34/200\n",
      "32/32 - 0s - loss: 0.0921 - accuracy: 0.8855 - mse: 0.0921 - val_loss: 0.0952 - val_accuracy: 0.8858 - val_mse: 0.0952 - 186ms/epoch - 6ms/step\n",
      "Epoch 35/200\n",
      "32/32 - 0s - loss: 0.0911 - accuracy: 0.8865 - mse: 0.0911 - val_loss: 0.0943 - val_accuracy: 0.8858 - val_mse: 0.0943 - 186ms/epoch - 6ms/step\n",
      "Epoch 36/200\n",
      "32/32 - 0s - loss: 0.0901 - accuracy: 0.8875 - mse: 0.0901 - val_loss: 0.0936 - val_accuracy: 0.8858 - val_mse: 0.0936 - 187ms/epoch - 6ms/step\n",
      "Epoch 37/200\n",
      "32/32 - 0s - loss: 0.0893 - accuracy: 0.8875 - mse: 0.0893 - val_loss: 0.0929 - val_accuracy: 0.8904 - val_mse: 0.0929 - 192ms/epoch - 6ms/step\n",
      "Epoch 38/200\n",
      "32/32 - 0s - loss: 0.0884 - accuracy: 0.8875 - mse: 0.0884 - val_loss: 0.0922 - val_accuracy: 0.8858 - val_mse: 0.0922 - 182ms/epoch - 6ms/step\n",
      "Epoch 39/200\n",
      "32/32 - 0s - loss: 0.0876 - accuracy: 0.8885 - mse: 0.0876 - val_loss: 0.0916 - val_accuracy: 0.8858 - val_mse: 0.0916 - 184ms/epoch - 6ms/step\n",
      "Epoch 40/200\n",
      "32/32 - 0s - loss: 0.0869 - accuracy: 0.8894 - mse: 0.0869 - val_loss: 0.0910 - val_accuracy: 0.8858 - val_mse: 0.0910 - 182ms/epoch - 6ms/step\n",
      "Epoch 41/200\n",
      "32/32 - 0s - loss: 0.0862 - accuracy: 0.8904 - mse: 0.0862 - val_loss: 0.0905 - val_accuracy: 0.8858 - val_mse: 0.0905 - 202ms/epoch - 6ms/step\n",
      "Epoch 42/200\n",
      "32/32 - 0s - loss: 0.0855 - accuracy: 0.8894 - mse: 0.0855 - val_loss: 0.0899 - val_accuracy: 0.8858 - val_mse: 0.0899 - 221ms/epoch - 7ms/step\n",
      "Epoch 43/200\n",
      "32/32 - 0s - loss: 0.0848 - accuracy: 0.8894 - mse: 0.0848 - val_loss: 0.0894 - val_accuracy: 0.8858 - val_mse: 0.0894 - 210ms/epoch - 7ms/step\n",
      "Epoch 44/200\n",
      "32/32 - 0s - loss: 0.0842 - accuracy: 0.8894 - mse: 0.0842 - val_loss: 0.0890 - val_accuracy: 0.8858 - val_mse: 0.0890 - 200ms/epoch - 6ms/step\n",
      "Epoch 45/200\n",
      "32/32 - 0s - loss: 0.0836 - accuracy: 0.8924 - mse: 0.0836 - val_loss: 0.0886 - val_accuracy: 0.8858 - val_mse: 0.0886 - 218ms/epoch - 7ms/step\n",
      "Epoch 46/200\n",
      "32/32 - 0s - loss: 0.0830 - accuracy: 0.8933 - mse: 0.0830 - val_loss: 0.0882 - val_accuracy: 0.8858 - val_mse: 0.0882 - 189ms/epoch - 6ms/step\n",
      "Epoch 47/200\n",
      "32/32 - 0s - loss: 0.0825 - accuracy: 0.8933 - mse: 0.0825 - val_loss: 0.0878 - val_accuracy: 0.8858 - val_mse: 0.0878 - 180ms/epoch - 6ms/step\n",
      "Epoch 48/200\n",
      "32/32 - 0s - loss: 0.0820 - accuracy: 0.8943 - mse: 0.0820 - val_loss: 0.0875 - val_accuracy: 0.8858 - val_mse: 0.0875 - 187ms/epoch - 6ms/step\n",
      "Epoch 49/200\n",
      "32/32 - 0s - loss: 0.0815 - accuracy: 0.8973 - mse: 0.0815 - val_loss: 0.0872 - val_accuracy: 0.8813 - val_mse: 0.0872 - 182ms/epoch - 6ms/step\n",
      "Epoch 50/200\n",
      "32/32 - 0s - loss: 0.0811 - accuracy: 0.8982 - mse: 0.0811 - val_loss: 0.0869 - val_accuracy: 0.8858 - val_mse: 0.0869 - 189ms/epoch - 6ms/step\n",
      "Epoch 51/200\n",
      "32/32 - 0s - loss: 0.0806 - accuracy: 0.8982 - mse: 0.0806 - val_loss: 0.0866 - val_accuracy: 0.8858 - val_mse: 0.0866 - 181ms/epoch - 6ms/step\n",
      "Epoch 52/200\n",
      "32/32 - 0s - loss: 0.0802 - accuracy: 0.8982 - mse: 0.0802 - val_loss: 0.0863 - val_accuracy: 0.8858 - val_mse: 0.0863 - 186ms/epoch - 6ms/step\n",
      "Epoch 53/200\n",
      "32/32 - 0s - loss: 0.0798 - accuracy: 0.8982 - mse: 0.0798 - val_loss: 0.0861 - val_accuracy: 0.8904 - val_mse: 0.0861 - 188ms/epoch - 6ms/step\n",
      "Epoch 54/200\n",
      "32/32 - 0s - loss: 0.0794 - accuracy: 0.8973 - mse: 0.0794 - val_loss: 0.0858 - val_accuracy: 0.8904 - val_mse: 0.0858 - 180ms/epoch - 6ms/step\n"
     ]
    },
    {
     "name": "stdout",
     "output_type": "stream",
     "text": [
      "Epoch 55/200\n",
      "32/32 - 0s - loss: 0.0790 - accuracy: 0.8973 - mse: 0.0790 - val_loss: 0.0856 - val_accuracy: 0.8904 - val_mse: 0.0856 - 183ms/epoch - 6ms/step\n",
      "Epoch 56/200\n",
      "32/32 - 0s - loss: 0.0786 - accuracy: 0.8973 - mse: 0.0786 - val_loss: 0.0854 - val_accuracy: 0.8950 - val_mse: 0.0854 - 183ms/epoch - 6ms/step\n",
      "Epoch 57/200\n",
      "32/32 - 0s - loss: 0.0783 - accuracy: 0.8992 - mse: 0.0783 - val_loss: 0.0852 - val_accuracy: 0.8950 - val_mse: 0.0852 - 180ms/epoch - 6ms/step\n",
      "Epoch 58/200\n",
      "32/32 - 0s - loss: 0.0779 - accuracy: 0.9002 - mse: 0.0779 - val_loss: 0.0851 - val_accuracy: 0.8950 - val_mse: 0.0851 - 180ms/epoch - 6ms/step\n",
      "Epoch 59/200\n",
      "32/32 - 0s - loss: 0.0776 - accuracy: 0.9002 - mse: 0.0776 - val_loss: 0.0849 - val_accuracy: 0.8950 - val_mse: 0.0849 - 181ms/epoch - 6ms/step\n",
      "Epoch 60/200\n",
      "32/32 - 0s - loss: 0.0773 - accuracy: 0.9012 - mse: 0.0773 - val_loss: 0.0848 - val_accuracy: 0.8950 - val_mse: 0.0848 - 182ms/epoch - 6ms/step\n",
      "Epoch 61/200\n",
      "32/32 - 0s - loss: 0.0770 - accuracy: 0.9012 - mse: 0.0770 - val_loss: 0.0846 - val_accuracy: 0.8950 - val_mse: 0.0846 - 182ms/epoch - 6ms/step\n",
      "Epoch 62/200\n",
      "32/32 - 0s - loss: 0.0767 - accuracy: 0.9012 - mse: 0.0767 - val_loss: 0.0845 - val_accuracy: 0.8950 - val_mse: 0.0845 - 185ms/epoch - 6ms/step\n",
      "Epoch 63/200\n",
      "32/32 - 0s - loss: 0.0764 - accuracy: 0.9022 - mse: 0.0764 - val_loss: 0.0844 - val_accuracy: 0.8950 - val_mse: 0.0844 - 181ms/epoch - 6ms/step\n",
      "Epoch 64/200\n",
      "32/32 - 0s - loss: 0.0761 - accuracy: 0.9031 - mse: 0.0761 - val_loss: 0.0842 - val_accuracy: 0.8950 - val_mse: 0.0842 - 182ms/epoch - 6ms/step\n",
      "Epoch 65/200\n",
      "32/32 - 0s - loss: 0.0758 - accuracy: 0.9022 - mse: 0.0758 - val_loss: 0.0841 - val_accuracy: 0.8950 - val_mse: 0.0841 - 182ms/epoch - 6ms/step\n",
      "Epoch 66/200\n",
      "32/32 - 0s - loss: 0.0755 - accuracy: 0.9022 - mse: 0.0755 - val_loss: 0.0840 - val_accuracy: 0.8950 - val_mse: 0.0840 - 181ms/epoch - 6ms/step\n",
      "Epoch 67/200\n",
      "32/32 - 0s - loss: 0.0753 - accuracy: 0.9022 - mse: 0.0753 - val_loss: 0.0839 - val_accuracy: 0.8995 - val_mse: 0.0839 - 181ms/epoch - 6ms/step\n",
      "Epoch 68/200\n",
      "32/32 - 0s - loss: 0.0751 - accuracy: 0.9022 - mse: 0.0751 - val_loss: 0.0838 - val_accuracy: 0.8995 - val_mse: 0.0838 - 181ms/epoch - 6ms/step\n",
      "Epoch 69/200\n",
      "32/32 - 0s - loss: 0.0748 - accuracy: 0.9022 - mse: 0.0748 - val_loss: 0.0837 - val_accuracy: 0.8995 - val_mse: 0.0837 - 178ms/epoch - 6ms/step\n",
      "Epoch 70/200\n",
      "32/32 - 0s - loss: 0.0746 - accuracy: 0.9022 - mse: 0.0746 - val_loss: 0.0836 - val_accuracy: 0.8995 - val_mse: 0.0836 - 186ms/epoch - 6ms/step\n",
      "Epoch 71/200\n",
      "32/32 - 0s - loss: 0.0744 - accuracy: 0.9022 - mse: 0.0744 - val_loss: 0.0835 - val_accuracy: 0.8995 - val_mse: 0.0835 - 185ms/epoch - 6ms/step\n",
      "Epoch 72/200\n",
      "32/32 - 0s - loss: 0.0741 - accuracy: 0.9031 - mse: 0.0741 - val_loss: 0.0834 - val_accuracy: 0.8995 - val_mse: 0.0834 - 182ms/epoch - 6ms/step\n",
      "Epoch 73/200\n",
      "32/32 - 0s - loss: 0.0739 - accuracy: 0.9031 - mse: 0.0739 - val_loss: 0.0834 - val_accuracy: 0.8995 - val_mse: 0.0834 - 186ms/epoch - 6ms/step\n",
      "Epoch 74/200\n",
      "32/32 - 0s - loss: 0.0737 - accuracy: 0.9031 - mse: 0.0737 - val_loss: 0.0833 - val_accuracy: 0.8995 - val_mse: 0.0833 - 185ms/epoch - 6ms/step\n",
      "Epoch 75/200\n",
      "32/32 - 0s - loss: 0.0735 - accuracy: 0.9031 - mse: 0.0735 - val_loss: 0.0832 - val_accuracy: 0.8995 - val_mse: 0.0832 - 193ms/epoch - 6ms/step\n",
      "Epoch 76/200\n",
      "32/32 - 0s - loss: 0.0734 - accuracy: 0.9041 - mse: 0.0734 - val_loss: 0.0831 - val_accuracy: 0.8995 - val_mse: 0.0831 - 182ms/epoch - 6ms/step\n",
      "Epoch 77/200\n",
      "32/32 - 0s - loss: 0.0731 - accuracy: 0.9051 - mse: 0.0731 - val_loss: 0.0831 - val_accuracy: 0.8995 - val_mse: 0.0831 - 187ms/epoch - 6ms/step\n",
      "Epoch 78/200\n",
      "32/32 - 0s - loss: 0.0730 - accuracy: 0.9041 - mse: 0.0730 - val_loss: 0.0830 - val_accuracy: 0.8995 - val_mse: 0.0830 - 180ms/epoch - 6ms/step\n",
      "Epoch 79/200\n",
      "32/32 - 0s - loss: 0.0728 - accuracy: 0.9041 - mse: 0.0728 - val_loss: 0.0829 - val_accuracy: 0.8995 - val_mse: 0.0829 - 180ms/epoch - 6ms/step\n",
      "Epoch 80/200\n",
      "32/32 - 0s - loss: 0.0726 - accuracy: 0.9041 - mse: 0.0726 - val_loss: 0.0828 - val_accuracy: 0.8995 - val_mse: 0.0828 - 182ms/epoch - 6ms/step\n",
      "Epoch 81/200\n",
      "32/32 - 0s - loss: 0.0724 - accuracy: 0.9041 - mse: 0.0724 - val_loss: 0.0828 - val_accuracy: 0.8995 - val_mse: 0.0828 - 186ms/epoch - 6ms/step\n",
      "Epoch 82/200\n",
      "32/32 - 0s - loss: 0.0723 - accuracy: 0.9041 - mse: 0.0723 - val_loss: 0.0828 - val_accuracy: 0.8995 - val_mse: 0.0828 - 182ms/epoch - 6ms/step\n",
      "Epoch 83/200\n",
      "32/32 - 0s - loss: 0.0721 - accuracy: 0.9041 - mse: 0.0721 - val_loss: 0.0827 - val_accuracy: 0.8995 - val_mse: 0.0827 - 184ms/epoch - 6ms/step\n",
      "Epoch 84/200\n",
      "32/32 - 0s - loss: 0.0719 - accuracy: 0.9041 - mse: 0.0719 - val_loss: 0.0827 - val_accuracy: 0.8995 - val_mse: 0.0827 - 183ms/epoch - 6ms/step\n",
      "Epoch 85/200\n",
      "32/32 - 0s - loss: 0.0718 - accuracy: 0.9031 - mse: 0.0718 - val_loss: 0.0826 - val_accuracy: 0.8995 - val_mse: 0.0826 - 186ms/epoch - 6ms/step\n",
      "Epoch 86/200\n",
      "32/32 - 0s - loss: 0.0716 - accuracy: 0.9041 - mse: 0.0716 - val_loss: 0.0825 - val_accuracy: 0.8995 - val_mse: 0.0825 - 190ms/epoch - 6ms/step\n",
      "Epoch 87/200\n",
      "32/32 - 0s - loss: 0.0714 - accuracy: 0.9041 - mse: 0.0714 - val_loss: 0.0825 - val_accuracy: 0.8995 - val_mse: 0.0825 - 182ms/epoch - 6ms/step\n",
      "Epoch 88/200\n",
      "32/32 - 0s - loss: 0.0713 - accuracy: 0.9051 - mse: 0.0713 - val_loss: 0.0824 - val_accuracy: 0.8995 - val_mse: 0.0824 - 186ms/epoch - 6ms/step\n",
      "Epoch 89/200\n",
      "32/32 - 0s - loss: 0.0711 - accuracy: 0.9051 - mse: 0.0711 - val_loss: 0.0824 - val_accuracy: 0.8995 - val_mse: 0.0824 - 190ms/epoch - 6ms/step\n",
      "Epoch 90/200\n",
      "32/32 - 0s - loss: 0.0710 - accuracy: 0.9051 - mse: 0.0710 - val_loss: 0.0823 - val_accuracy: 0.8995 - val_mse: 0.0823 - 184ms/epoch - 6ms/step\n",
      "Epoch 91/200\n",
      "32/32 - 0s - loss: 0.0708 - accuracy: 0.9051 - mse: 0.0708 - val_loss: 0.0823 - val_accuracy: 0.8995 - val_mse: 0.0823 - 182ms/epoch - 6ms/step\n",
      "Epoch 92/200\n",
      "32/32 - 0s - loss: 0.0707 - accuracy: 0.9061 - mse: 0.0707 - val_loss: 0.0822 - val_accuracy: 0.8995 - val_mse: 0.0822 - 187ms/epoch - 6ms/step\n",
      "Epoch 93/200\n",
      "32/32 - 0s - loss: 0.0705 - accuracy: 0.9051 - mse: 0.0705 - val_loss: 0.0822 - val_accuracy: 0.8995 - val_mse: 0.0822 - 182ms/epoch - 6ms/step\n",
      "Epoch 94/200\n",
      "32/32 - 0s - loss: 0.0704 - accuracy: 0.9051 - mse: 0.0704 - val_loss: 0.0822 - val_accuracy: 0.8995 - val_mse: 0.0822 - 180ms/epoch - 6ms/step\n",
      "Epoch 95/200\n",
      "32/32 - 0s - loss: 0.0703 - accuracy: 0.9061 - mse: 0.0703 - val_loss: 0.0822 - val_accuracy: 0.8995 - val_mse: 0.0822 - 187ms/epoch - 6ms/step\n",
      "Epoch 96/200\n",
      "32/32 - 0s - loss: 0.0701 - accuracy: 0.9061 - mse: 0.0701 - val_loss: 0.0821 - val_accuracy: 0.8995 - val_mse: 0.0821 - 183ms/epoch - 6ms/step\n",
      "Epoch 97/200\n",
      "32/32 - 0s - loss: 0.0700 - accuracy: 0.9051 - mse: 0.0700 - val_loss: 0.0821 - val_accuracy: 0.8995 - val_mse: 0.0821 - 190ms/epoch - 6ms/step\n",
      "Epoch 98/200\n",
      "32/32 - 0s - loss: 0.0699 - accuracy: 0.9051 - mse: 0.0699 - val_loss: 0.0821 - val_accuracy: 0.8995 - val_mse: 0.0821 - 186ms/epoch - 6ms/step\n",
      "Epoch 99/200\n",
      "32/32 - 0s - loss: 0.0697 - accuracy: 0.9051 - mse: 0.0697 - val_loss: 0.0820 - val_accuracy: 0.8995 - val_mse: 0.0820 - 190ms/epoch - 6ms/step\n",
      "Epoch 100/200\n",
      "32/32 - 0s - loss: 0.0696 - accuracy: 0.9061 - mse: 0.0696 - val_loss: 0.0820 - val_accuracy: 0.8995 - val_mse: 0.0820 - 192ms/epoch - 6ms/step\n",
      "Epoch 101/200\n",
      "32/32 - 0s - loss: 0.0695 - accuracy: 0.9051 - mse: 0.0695 - val_loss: 0.0820 - val_accuracy: 0.8995 - val_mse: 0.0820 - 185ms/epoch - 6ms/step\n",
      "Epoch 102/200\n",
      "32/32 - 0s - loss: 0.0693 - accuracy: 0.9051 - mse: 0.0693 - val_loss: 0.0819 - val_accuracy: 0.8995 - val_mse: 0.0819 - 210ms/epoch - 7ms/step\n",
      "Epoch 103/200\n",
      "32/32 - 0s - loss: 0.0692 - accuracy: 0.9051 - mse: 0.0692 - val_loss: 0.0819 - val_accuracy: 0.8995 - val_mse: 0.0819 - 201ms/epoch - 6ms/step\n",
      "Epoch 104/200\n",
      "32/32 - 0s - loss: 0.0691 - accuracy: 0.9051 - mse: 0.0691 - val_loss: 0.0819 - val_accuracy: 0.8995 - val_mse: 0.0819 - 211ms/epoch - 7ms/step\n",
      "Epoch 105/200\n",
      "32/32 - 0s - loss: 0.0690 - accuracy: 0.9061 - mse: 0.0690 - val_loss: 0.0818 - val_accuracy: 0.8995 - val_mse: 0.0818 - 204ms/epoch - 6ms/step\n",
      "Epoch 106/200\n",
      "32/32 - 0s - loss: 0.0689 - accuracy: 0.9061 - mse: 0.0689 - val_loss: 0.0818 - val_accuracy: 0.8995 - val_mse: 0.0818 - 211ms/epoch - 7ms/step\n",
      "Epoch 107/200\n",
      "32/32 - 0s - loss: 0.0687 - accuracy: 0.9061 - mse: 0.0687 - val_loss: 0.0818 - val_accuracy: 0.8995 - val_mse: 0.0818 - 196ms/epoch - 6ms/step\n"
     ]
    },
    {
     "name": "stdout",
     "output_type": "stream",
     "text": [
      "Epoch 108/200\n",
      "32/32 - 0s - loss: 0.0686 - accuracy: 0.9061 - mse: 0.0686 - val_loss: 0.0817 - val_accuracy: 0.8995 - val_mse: 0.0817 - 187ms/epoch - 6ms/step\n",
      "Epoch 109/200\n",
      "32/32 - 0s - loss: 0.0685 - accuracy: 0.9070 - mse: 0.0685 - val_loss: 0.0817 - val_accuracy: 0.8995 - val_mse: 0.0817 - 188ms/epoch - 6ms/step\n",
      "Epoch 110/200\n",
      "32/32 - 0s - loss: 0.0684 - accuracy: 0.9070 - mse: 0.0684 - val_loss: 0.0817 - val_accuracy: 0.8995 - val_mse: 0.0817 - 187ms/epoch - 6ms/step\n",
      "Epoch 111/200\n",
      "32/32 - 0s - loss: 0.0683 - accuracy: 0.9070 - mse: 0.0683 - val_loss: 0.0817 - val_accuracy: 0.8995 - val_mse: 0.0817 - 205ms/epoch - 6ms/step\n",
      "Epoch 112/200\n",
      "32/32 - 0s - loss: 0.0682 - accuracy: 0.9070 - mse: 0.0682 - val_loss: 0.0816 - val_accuracy: 0.8995 - val_mse: 0.0816 - 208ms/epoch - 6ms/step\n",
      "Epoch 113/200\n",
      "32/32 - 0s - loss: 0.0681 - accuracy: 0.9070 - mse: 0.0681 - val_loss: 0.0816 - val_accuracy: 0.8995 - val_mse: 0.0816 - 203ms/epoch - 6ms/step\n",
      "Epoch 114/200\n",
      "32/32 - 0s - loss: 0.0680 - accuracy: 0.9070 - mse: 0.0680 - val_loss: 0.0816 - val_accuracy: 0.8995 - val_mse: 0.0816 - 204ms/epoch - 6ms/step\n",
      "Epoch 115/200\n",
      "32/32 - 0s - loss: 0.0679 - accuracy: 0.9070 - mse: 0.0679 - val_loss: 0.0816 - val_accuracy: 0.8995 - val_mse: 0.0816 - 201ms/epoch - 6ms/step\n",
      "Epoch 116/200\n",
      "32/32 - 0s - loss: 0.0678 - accuracy: 0.9070 - mse: 0.0678 - val_loss: 0.0816 - val_accuracy: 0.8995 - val_mse: 0.0816 - 198ms/epoch - 6ms/step\n",
      "Epoch 117/200\n",
      "32/32 - 0s - loss: 0.0677 - accuracy: 0.9070 - mse: 0.0677 - val_loss: 0.0815 - val_accuracy: 0.8950 - val_mse: 0.0815 - 182ms/epoch - 6ms/step\n",
      "Epoch 118/200\n",
      "32/32 - 0s - loss: 0.0676 - accuracy: 0.9070 - mse: 0.0676 - val_loss: 0.0815 - val_accuracy: 0.8950 - val_mse: 0.0815 - 187ms/epoch - 6ms/step\n",
      "Epoch 119/200\n",
      "32/32 - 0s - loss: 0.0675 - accuracy: 0.9070 - mse: 0.0675 - val_loss: 0.0815 - val_accuracy: 0.8950 - val_mse: 0.0815 - 192ms/epoch - 6ms/step\n",
      "Epoch 120/200\n",
      "32/32 - 0s - loss: 0.0674 - accuracy: 0.9070 - mse: 0.0674 - val_loss: 0.0814 - val_accuracy: 0.8950 - val_mse: 0.0814 - 193ms/epoch - 6ms/step\n",
      "Epoch 121/200\n",
      "32/32 - 0s - loss: 0.0673 - accuracy: 0.9080 - mse: 0.0673 - val_loss: 0.0814 - val_accuracy: 0.8950 - val_mse: 0.0814 - 202ms/epoch - 6ms/step\n",
      "Epoch 122/200\n",
      "32/32 - 0s - loss: 0.0672 - accuracy: 0.9090 - mse: 0.0672 - val_loss: 0.0814 - val_accuracy: 0.8950 - val_mse: 0.0814 - 197ms/epoch - 6ms/step\n",
      "Epoch 123/200\n",
      "32/32 - 0s - loss: 0.0671 - accuracy: 0.9070 - mse: 0.0671 - val_loss: 0.0813 - val_accuracy: 0.8950 - val_mse: 0.0813 - 193ms/epoch - 6ms/step\n",
      "Epoch 124/200\n",
      "32/32 - 0s - loss: 0.0670 - accuracy: 0.9070 - mse: 0.0670 - val_loss: 0.0813 - val_accuracy: 0.8950 - val_mse: 0.0813 - 187ms/epoch - 6ms/step\n",
      "Epoch 125/200\n",
      "32/32 - 0s - loss: 0.0669 - accuracy: 0.9070 - mse: 0.0669 - val_loss: 0.0813 - val_accuracy: 0.8950 - val_mse: 0.0813 - 195ms/epoch - 6ms/step\n",
      "Epoch 126/200\n",
      "32/32 - 0s - loss: 0.0668 - accuracy: 0.9070 - mse: 0.0668 - val_loss: 0.0813 - val_accuracy: 0.8950 - val_mse: 0.0813 - 189ms/epoch - 6ms/step\n",
      "Epoch 127/200\n",
      "32/32 - 0s - loss: 0.0667 - accuracy: 0.9070 - mse: 0.0667 - val_loss: 0.0813 - val_accuracy: 0.8950 - val_mse: 0.0813 - 186ms/epoch - 6ms/step\n",
      "Epoch 128/200\n",
      "32/32 - 0s - loss: 0.0667 - accuracy: 0.9080 - mse: 0.0667 - val_loss: 0.0812 - val_accuracy: 0.8950 - val_mse: 0.0812 - 189ms/epoch - 6ms/step\n",
      "Epoch 129/200\n",
      "32/32 - 0s - loss: 0.0666 - accuracy: 0.9090 - mse: 0.0666 - val_loss: 0.0812 - val_accuracy: 0.8950 - val_mse: 0.0812 - 185ms/epoch - 6ms/step\n",
      "Epoch 130/200\n",
      "32/32 - 0s - loss: 0.0665 - accuracy: 0.9090 - mse: 0.0665 - val_loss: 0.0812 - val_accuracy: 0.8950 - val_mse: 0.0812 - 189ms/epoch - 6ms/step\n",
      "Epoch 131/200\n",
      "32/32 - 0s - loss: 0.0664 - accuracy: 0.9080 - mse: 0.0664 - val_loss: 0.0812 - val_accuracy: 0.8950 - val_mse: 0.0812 - 195ms/epoch - 6ms/step\n",
      "Epoch 132/200\n",
      "32/32 - 0s - loss: 0.0663 - accuracy: 0.9090 - mse: 0.0663 - val_loss: 0.0812 - val_accuracy: 0.8950 - val_mse: 0.0812 - 186ms/epoch - 6ms/step\n",
      "Epoch 133/200\n",
      "32/32 - 0s - loss: 0.0662 - accuracy: 0.9100 - mse: 0.0662 - val_loss: 0.0811 - val_accuracy: 0.8950 - val_mse: 0.0811 - 204ms/epoch - 6ms/step\n",
      "Epoch 134/200\n",
      "32/32 - 0s - loss: 0.0662 - accuracy: 0.9090 - mse: 0.0662 - val_loss: 0.0811 - val_accuracy: 0.8950 - val_mse: 0.0811 - 193ms/epoch - 6ms/step\n",
      "Epoch 135/200\n",
      "32/32 - 0s - loss: 0.0661 - accuracy: 0.9100 - mse: 0.0661 - val_loss: 0.0811 - val_accuracy: 0.8950 - val_mse: 0.0811 - 197ms/epoch - 6ms/step\n",
      "Epoch 136/200\n",
      "32/32 - 0s - loss: 0.0660 - accuracy: 0.9100 - mse: 0.0660 - val_loss: 0.0811 - val_accuracy: 0.8950 - val_mse: 0.0811 - 189ms/epoch - 6ms/step\n",
      "Epoch 137/200\n",
      "32/32 - 0s - loss: 0.0659 - accuracy: 0.9090 - mse: 0.0659 - val_loss: 0.0811 - val_accuracy: 0.8950 - val_mse: 0.0811 - 196ms/epoch - 6ms/step\n",
      "Epoch 138/200\n",
      "32/32 - 0s - loss: 0.0658 - accuracy: 0.9110 - mse: 0.0658 - val_loss: 0.0810 - val_accuracy: 0.8950 - val_mse: 0.0810 - 192ms/epoch - 6ms/step\n",
      "Epoch 139/200\n",
      "32/32 - 0s - loss: 0.0658 - accuracy: 0.9090 - mse: 0.0658 - val_loss: 0.0810 - val_accuracy: 0.8950 - val_mse: 0.0810 - 184ms/epoch - 6ms/step\n",
      "Epoch 140/200\n",
      "32/32 - 0s - loss: 0.0657 - accuracy: 0.9100 - mse: 0.0657 - val_loss: 0.0810 - val_accuracy: 0.8950 - val_mse: 0.0810 - 195ms/epoch - 6ms/step\n",
      "Epoch 141/200\n",
      "32/32 - 0s - loss: 0.0656 - accuracy: 0.9090 - mse: 0.0656 - val_loss: 0.0810 - val_accuracy: 0.8950 - val_mse: 0.0810 - 195ms/epoch - 6ms/step\n",
      "Epoch 142/200\n",
      "32/32 - 0s - loss: 0.0656 - accuracy: 0.9090 - mse: 0.0656 - val_loss: 0.0810 - val_accuracy: 0.8950 - val_mse: 0.0810 - 191ms/epoch - 6ms/step\n",
      "Epoch 143/200\n",
      "32/32 - 0s - loss: 0.0655 - accuracy: 0.9100 - mse: 0.0655 - val_loss: 0.0809 - val_accuracy: 0.8950 - val_mse: 0.0809 - 195ms/epoch - 6ms/step\n",
      "Epoch 144/200\n",
      "32/32 - 0s - loss: 0.0654 - accuracy: 0.9090 - mse: 0.0654 - val_loss: 0.0809 - val_accuracy: 0.8950 - val_mse: 0.0809 - 184ms/epoch - 6ms/step\n",
      "Epoch 145/200\n",
      "32/32 - 0s - loss: 0.0653 - accuracy: 0.9090 - mse: 0.0653 - val_loss: 0.0809 - val_accuracy: 0.8950 - val_mse: 0.0809 - 190ms/epoch - 6ms/step\n",
      "Epoch 146/200\n",
      "32/32 - 0s - loss: 0.0653 - accuracy: 0.9100 - mse: 0.0653 - val_loss: 0.0809 - val_accuracy: 0.8950 - val_mse: 0.0809 - 200ms/epoch - 6ms/step\n",
      "Epoch 147/200\n",
      "32/32 - 0s - loss: 0.0652 - accuracy: 0.9100 - mse: 0.0652 - val_loss: 0.0808 - val_accuracy: 0.8950 - val_mse: 0.0808 - 194ms/epoch - 6ms/step\n",
      "Epoch 148/200\n",
      "32/32 - 0s - loss: 0.0651 - accuracy: 0.9100 - mse: 0.0651 - val_loss: 0.0808 - val_accuracy: 0.8950 - val_mse: 0.0808 - 188ms/epoch - 6ms/step\n",
      "Epoch 149/200\n",
      "32/32 - 0s - loss: 0.0650 - accuracy: 0.9100 - mse: 0.0650 - val_loss: 0.0808 - val_accuracy: 0.8950 - val_mse: 0.0808 - 197ms/epoch - 6ms/step\n",
      "Epoch 150/200\n",
      "32/32 - 0s - loss: 0.0650 - accuracy: 0.9110 - mse: 0.0650 - val_loss: 0.0808 - val_accuracy: 0.8950 - val_mse: 0.0808 - 199ms/epoch - 6ms/step\n",
      "Epoch 151/200\n",
      "32/32 - 0s - loss: 0.0649 - accuracy: 0.9110 - mse: 0.0649 - val_loss: 0.0808 - val_accuracy: 0.8950 - val_mse: 0.0808 - 187ms/epoch - 6ms/step\n",
      "Epoch 152/200\n",
      "32/32 - 0s - loss: 0.0649 - accuracy: 0.9110 - mse: 0.0649 - val_loss: 0.0808 - val_accuracy: 0.8950 - val_mse: 0.0808 - 186ms/epoch - 6ms/step\n",
      "Epoch 153/200\n",
      "32/32 - 0s - loss: 0.0648 - accuracy: 0.9110 - mse: 0.0648 - val_loss: 0.0807 - val_accuracy: 0.8950 - val_mse: 0.0807 - 196ms/epoch - 6ms/step\n",
      "Epoch 154/200\n",
      "32/32 - 0s - loss: 0.0647 - accuracy: 0.9110 - mse: 0.0647 - val_loss: 0.0807 - val_accuracy: 0.8950 - val_mse: 0.0807 - 186ms/epoch - 6ms/step\n",
      "Epoch 155/200\n",
      "32/32 - 0s - loss: 0.0647 - accuracy: 0.9110 - mse: 0.0647 - val_loss: 0.0807 - val_accuracy: 0.8950 - val_mse: 0.0807 - 188ms/epoch - 6ms/step\n",
      "Epoch 156/200\n",
      "32/32 - 0s - loss: 0.0646 - accuracy: 0.9110 - mse: 0.0646 - val_loss: 0.0807 - val_accuracy: 0.8950 - val_mse: 0.0807 - 194ms/epoch - 6ms/step\n",
      "Epoch 157/200\n",
      "32/32 - 0s - loss: 0.0645 - accuracy: 0.9110 - mse: 0.0645 - val_loss: 0.0807 - val_accuracy: 0.8950 - val_mse: 0.0807 - 197ms/epoch - 6ms/step\n",
      "Epoch 158/200\n",
      "32/32 - 0s - loss: 0.0645 - accuracy: 0.9110 - mse: 0.0645 - val_loss: 0.0807 - val_accuracy: 0.8950 - val_mse: 0.0807 - 185ms/epoch - 6ms/step\n",
      "Epoch 159/200\n",
      "32/32 - 0s - loss: 0.0644 - accuracy: 0.9110 - mse: 0.0644 - val_loss: 0.0806 - val_accuracy: 0.8950 - val_mse: 0.0806 - 185ms/epoch - 6ms/step\n"
     ]
    },
    {
     "name": "stdout",
     "output_type": "stream",
     "text": [
      "Epoch 160/200\n",
      "32/32 - 0s - loss: 0.0644 - accuracy: 0.9110 - mse: 0.0644 - val_loss: 0.0806 - val_accuracy: 0.8950 - val_mse: 0.0806 - 179ms/epoch - 6ms/step\n",
      "Epoch 161/200\n",
      "32/32 - 0s - loss: 0.0643 - accuracy: 0.9110 - mse: 0.0643 - val_loss: 0.0806 - val_accuracy: 0.8950 - val_mse: 0.0806 - 186ms/epoch - 6ms/step\n",
      "Epoch 162/200\n",
      "32/32 - 0s - loss: 0.0643 - accuracy: 0.9110 - mse: 0.0643 - val_loss: 0.0806 - val_accuracy: 0.8950 - val_mse: 0.0806 - 193ms/epoch - 6ms/step\n",
      "Epoch 163/200\n",
      "32/32 - 0s - loss: 0.0642 - accuracy: 0.9110 - mse: 0.0642 - val_loss: 0.0806 - val_accuracy: 0.8950 - val_mse: 0.0806 - 192ms/epoch - 6ms/step\n",
      "Epoch 164/200\n",
      "32/32 - 0s - loss: 0.0641 - accuracy: 0.9110 - mse: 0.0641 - val_loss: 0.0806 - val_accuracy: 0.8950 - val_mse: 0.0806 - 192ms/epoch - 6ms/step\n",
      "Epoch 165/200\n",
      "32/32 - 0s - loss: 0.0641 - accuracy: 0.9110 - mse: 0.0641 - val_loss: 0.0805 - val_accuracy: 0.8950 - val_mse: 0.0805 - 188ms/epoch - 6ms/step\n",
      "Epoch 166/200\n",
      "32/32 - 0s - loss: 0.0640 - accuracy: 0.9110 - mse: 0.0640 - val_loss: 0.0805 - val_accuracy: 0.8950 - val_mse: 0.0805 - 193ms/epoch - 6ms/step\n",
      "Epoch 167/200\n",
      "32/32 - 0s - loss: 0.0640 - accuracy: 0.9110 - mse: 0.0640 - val_loss: 0.0805 - val_accuracy: 0.8950 - val_mse: 0.0805 - 188ms/epoch - 6ms/step\n",
      "Epoch 168/200\n",
      "32/32 - 0s - loss: 0.0639 - accuracy: 0.9110 - mse: 0.0639 - val_loss: 0.0805 - val_accuracy: 0.8950 - val_mse: 0.0805 - 191ms/epoch - 6ms/step\n",
      "Epoch 169/200\n",
      "32/32 - 0s - loss: 0.0639 - accuracy: 0.9110 - mse: 0.0639 - val_loss: 0.0805 - val_accuracy: 0.8950 - val_mse: 0.0805 - 194ms/epoch - 6ms/step\n",
      "Epoch 170/200\n",
      "32/32 - 0s - loss: 0.0638 - accuracy: 0.9110 - mse: 0.0638 - val_loss: 0.0805 - val_accuracy: 0.8950 - val_mse: 0.0805 - 194ms/epoch - 6ms/step\n",
      "Epoch 171/200\n",
      "32/32 - 0s - loss: 0.0638 - accuracy: 0.9110 - mse: 0.0638 - val_loss: 0.0804 - val_accuracy: 0.8950 - val_mse: 0.0804 - 189ms/epoch - 6ms/step\n",
      "Epoch 172/200\n",
      "32/32 - 0s - loss: 0.0637 - accuracy: 0.9110 - mse: 0.0637 - val_loss: 0.0804 - val_accuracy: 0.8950 - val_mse: 0.0804 - 192ms/epoch - 6ms/step\n",
      "Epoch 173/200\n",
      "32/32 - 0s - loss: 0.0637 - accuracy: 0.9110 - mse: 0.0637 - val_loss: 0.0804 - val_accuracy: 0.8950 - val_mse: 0.0804 - 207ms/epoch - 6ms/step\n",
      "Epoch 174/200\n",
      "32/32 - 0s - loss: 0.0636 - accuracy: 0.9110 - mse: 0.0636 - val_loss: 0.0804 - val_accuracy: 0.8950 - val_mse: 0.0804 - 214ms/epoch - 7ms/step\n",
      "Epoch 175/200\n",
      "32/32 - 0s - loss: 0.0636 - accuracy: 0.9110 - mse: 0.0636 - val_loss: 0.0804 - val_accuracy: 0.8950 - val_mse: 0.0804 - 212ms/epoch - 7ms/step\n",
      "Epoch 176/200\n",
      "32/32 - 0s - loss: 0.0635 - accuracy: 0.9119 - mse: 0.0635 - val_loss: 0.0804 - val_accuracy: 0.8950 - val_mse: 0.0804 - 199ms/epoch - 6ms/step\n",
      "Epoch 177/200\n",
      "32/32 - 0s - loss: 0.0635 - accuracy: 0.9110 - mse: 0.0635 - val_loss: 0.0803 - val_accuracy: 0.8950 - val_mse: 0.0803 - 191ms/epoch - 6ms/step\n",
      "Epoch 178/200\n",
      "32/32 - 0s - loss: 0.0634 - accuracy: 0.9119 - mse: 0.0634 - val_loss: 0.0803 - val_accuracy: 0.8950 - val_mse: 0.0803 - 193ms/epoch - 6ms/step\n",
      "Epoch 179/200\n",
      "32/32 - 0s - loss: 0.0634 - accuracy: 0.9119 - mse: 0.0634 - val_loss: 0.0803 - val_accuracy: 0.8950 - val_mse: 0.0803 - 215ms/epoch - 7ms/step\n",
      "Epoch 180/200\n",
      "32/32 - 0s - loss: 0.0633 - accuracy: 0.9119 - mse: 0.0633 - val_loss: 0.0803 - val_accuracy: 0.8950 - val_mse: 0.0803 - 195ms/epoch - 6ms/step\n",
      "Epoch 181/200\n",
      "32/32 - 0s - loss: 0.0633 - accuracy: 0.9119 - mse: 0.0633 - val_loss: 0.0802 - val_accuracy: 0.8950 - val_mse: 0.0802 - 185ms/epoch - 6ms/step\n",
      "Epoch 182/200\n",
      "32/32 - 0s - loss: 0.0632 - accuracy: 0.9119 - mse: 0.0632 - val_loss: 0.0802 - val_accuracy: 0.8950 - val_mse: 0.0802 - 183ms/epoch - 6ms/step\n",
      "Epoch 183/200\n",
      "32/32 - 0s - loss: 0.0632 - accuracy: 0.9119 - mse: 0.0632 - val_loss: 0.0802 - val_accuracy: 0.8950 - val_mse: 0.0802 - 205ms/epoch - 6ms/step\n",
      "Epoch 184/200\n",
      "32/32 - 0s - loss: 0.0631 - accuracy: 0.9119 - mse: 0.0631 - val_loss: 0.0802 - val_accuracy: 0.8950 - val_mse: 0.0802 - 188ms/epoch - 6ms/step\n",
      "Epoch 185/200\n",
      "32/32 - 0s - loss: 0.0631 - accuracy: 0.9129 - mse: 0.0631 - val_loss: 0.0802 - val_accuracy: 0.8950 - val_mse: 0.0802 - 185ms/epoch - 6ms/step\n",
      "Epoch 186/200\n",
      "32/32 - 0s - loss: 0.0631 - accuracy: 0.9119 - mse: 0.0631 - val_loss: 0.0802 - val_accuracy: 0.8950 - val_mse: 0.0802 - 185ms/epoch - 6ms/step\n",
      "Epoch 187/200\n",
      "32/32 - 0s - loss: 0.0630 - accuracy: 0.9129 - mse: 0.0630 - val_loss: 0.0802 - val_accuracy: 0.8950 - val_mse: 0.0802 - 191ms/epoch - 6ms/step\n",
      "Epoch 188/200\n",
      "32/32 - 0s - loss: 0.0630 - accuracy: 0.9129 - mse: 0.0630 - val_loss: 0.0802 - val_accuracy: 0.8950 - val_mse: 0.0802 - 190ms/epoch - 6ms/step\n",
      "Epoch 189/200\n",
      "32/32 - 0s - loss: 0.0629 - accuracy: 0.9139 - mse: 0.0629 - val_loss: 0.0801 - val_accuracy: 0.8950 - val_mse: 0.0801 - 215ms/epoch - 7ms/step\n",
      "Epoch 190/200\n",
      "32/32 - 0s - loss: 0.0629 - accuracy: 0.9129 - mse: 0.0629 - val_loss: 0.0801 - val_accuracy: 0.8950 - val_mse: 0.0801 - 196ms/epoch - 6ms/step\n",
      "Epoch 191/200\n",
      "32/32 - 0s - loss: 0.0629 - accuracy: 0.9139 - mse: 0.0629 - val_loss: 0.0801 - val_accuracy: 0.8950 - val_mse: 0.0801 - 188ms/epoch - 6ms/step\n",
      "Epoch 192/200\n",
      "32/32 - 0s - loss: 0.0628 - accuracy: 0.9139 - mse: 0.0628 - val_loss: 0.0801 - val_accuracy: 0.8950 - val_mse: 0.0801 - 185ms/epoch - 6ms/step\n",
      "Epoch 193/200\n",
      "32/32 - 0s - loss: 0.0628 - accuracy: 0.9139 - mse: 0.0628 - val_loss: 0.0801 - val_accuracy: 0.8950 - val_mse: 0.0801 - 210ms/epoch - 7ms/step\n",
      "Epoch 194/200\n",
      "32/32 - 0s - loss: 0.0627 - accuracy: 0.9139 - mse: 0.0627 - val_loss: 0.0801 - val_accuracy: 0.8950 - val_mse: 0.0801 - 190ms/epoch - 6ms/step\n",
      "Epoch 195/200\n",
      "32/32 - 0s - loss: 0.0627 - accuracy: 0.9129 - mse: 0.0627 - val_loss: 0.0800 - val_accuracy: 0.8950 - val_mse: 0.0800 - 214ms/epoch - 7ms/step\n",
      "Epoch 196/200\n",
      "32/32 - 0s - loss: 0.0626 - accuracy: 0.9139 - mse: 0.0626 - val_loss: 0.0800 - val_accuracy: 0.8950 - val_mse: 0.0800 - 189ms/epoch - 6ms/step\n",
      "Epoch 197/200\n",
      "32/32 - 0s - loss: 0.0626 - accuracy: 0.9139 - mse: 0.0626 - val_loss: 0.0800 - val_accuracy: 0.8950 - val_mse: 0.0800 - 199ms/epoch - 6ms/step\n",
      "Epoch 198/200\n",
      "32/32 - 0s - loss: 0.0626 - accuracy: 0.9139 - mse: 0.0626 - val_loss: 0.0800 - val_accuracy: 0.8950 - val_mse: 0.0800 - 188ms/epoch - 6ms/step\n",
      "Epoch 199/200\n",
      "32/32 - 0s - loss: 0.0625 - accuracy: 0.9139 - mse: 0.0625 - val_loss: 0.0800 - val_accuracy: 0.8950 - val_mse: 0.0800 - 185ms/epoch - 6ms/step\n",
      "Epoch 200/200\n",
      "32/32 - 0s - loss: 0.0625 - accuracy: 0.9139 - mse: 0.0625 - val_loss: 0.0799 - val_accuracy: 0.8950 - val_mse: 0.0799 - 191ms/epoch - 6ms/step\n"
     ]
    }
   ],
   "source": [
    "history = evaluate(model)"
   ]
  },
  {
   "cell_type": "code",
   "execution_count": 86,
   "metadata": {},
   "outputs": [
    {
     "data": {
      "text/plain": [
       "array([0, 1, 0, 0, 0, 0, 1, 1, 0, 0, 1, 1, 0, 0, 0, 0, 1, 1, 0, 0, 1, 0,\n",
       "       1, 0, 0, 1, 0, 0, 0, 0, 0, 1, 1, 1, 1, 1, 1, 0, 0, 1, 1, 0, 1, 0,\n",
       "       1, 0, 1, 0, 1, 1, 0, 1, 0, 1, 0, 1, 1, 1, 1, 1, 0, 1, 0, 0, 1, 0,\n",
       "       0, 1, 1, 0, 0, 0, 1, 1, 1, 0, 1, 1, 0, 1, 0, 1, 0, 0, 1, 0, 1, 1,\n",
       "       0, 0, 0, 1, 1, 0, 1, 0, 1, 1, 0, 0, 1, 0, 0, 0, 0, 1, 1, 1, 1, 1,\n",
       "       1, 0, 1, 0, 0, 0, 0, 1, 1, 1, 0, 0, 0, 1, 0, 0, 0, 0, 1, 0, 0, 1,\n",
       "       0, 1, 1, 1, 1, 1, 0, 0, 1, 1, 1, 1, 0, 0, 1, 0, 0, 1, 1, 1, 1, 0,\n",
       "       0, 1, 1, 1, 0, 1, 1, 1, 0, 1, 1, 0, 1, 0, 0, 1, 0, 1, 1, 1, 0, 1,\n",
       "       0, 1, 0, 1, 1, 1, 1, 1, 0, 0, 1, 0, 1, 0, 1, 1, 0, 1, 1, 1, 1, 1,\n",
       "       1, 1, 1, 1, 1, 0, 1, 0, 1, 0, 0, 0, 0, 0, 1, 1, 0, 1, 1, 0, 0])"
      ]
     },
     "execution_count": 86,
     "metadata": {},
     "output_type": "execute_result"
    }
   ],
   "source": [
    "y_val"
   ]
  },
  {
   "cell_type": "code",
   "execution_count": 87,
   "metadata": {},
   "outputs": [
    {
     "name": "stdout",
     "output_type": "stream",
     "text": [
      "7/7 [==============================] - 0s 6ms/step\n"
     ]
    },
    {
     "name": "stderr",
     "output_type": "stream",
     "text": [
      "2023-05-24 11:02:19.182083: I tensorflow/core/grappler/optimizers/custom_graph_optimizer_registry.cc:114] Plugin optimizer for device_type GPU is enabled.\n"
     ]
    },
    {
     "data": {
      "text/plain": [
       "array([[0.],\n",
       "       [1.],\n",
       "       [0.],\n",
       "       [0.],\n",
       "       [0.],\n",
       "       [0.],\n",
       "       [1.],\n",
       "       [1.],\n",
       "       [0.],\n",
       "       [0.],\n",
       "       [1.],\n",
       "       [1.],\n",
       "       [0.],\n",
       "       [0.],\n",
       "       [0.],\n",
       "       [0.],\n",
       "       [1.],\n",
       "       [1.],\n",
       "       [0.],\n",
       "       [0.],\n",
       "       [1.],\n",
       "       [0.],\n",
       "       [1.],\n",
       "       [0.],\n",
       "       [0.],\n",
       "       [1.],\n",
       "       [0.],\n",
       "       [0.],\n",
       "       [0.],\n",
       "       [0.],\n",
       "       [0.],\n",
       "       [1.],\n",
       "       [1.],\n",
       "       [1.],\n",
       "       [1.],\n",
       "       [1.],\n",
       "       [1.],\n",
       "       [0.],\n",
       "       [0.],\n",
       "       [1.],\n",
       "       [1.],\n",
       "       [0.],\n",
       "       [1.],\n",
       "       [0.],\n",
       "       [1.],\n",
       "       [1.],\n",
       "       [0.],\n",
       "       [0.],\n",
       "       [1.],\n",
       "       [1.],\n",
       "       [0.],\n",
       "       [1.],\n",
       "       [0.],\n",
       "       [1.],\n",
       "       [0.],\n",
       "       [1.],\n",
       "       [1.],\n",
       "       [1.],\n",
       "       [1.],\n",
       "       [1.],\n",
       "       [0.],\n",
       "       [1.],\n",
       "       [0.],\n",
       "       [0.],\n",
       "       [1.],\n",
       "       [1.],\n",
       "       [0.],\n",
       "       [1.],\n",
       "       [1.],\n",
       "       [0.],\n",
       "       [0.],\n",
       "       [0.],\n",
       "       [1.],\n",
       "       [1.],\n",
       "       [1.],\n",
       "       [0.],\n",
       "       [1.],\n",
       "       [1.],\n",
       "       [1.],\n",
       "       [1.],\n",
       "       [0.],\n",
       "       [1.],\n",
       "       [0.],\n",
       "       [0.],\n",
       "       [1.],\n",
       "       [0.],\n",
       "       [1.],\n",
       "       [1.],\n",
       "       [0.],\n",
       "       [0.],\n",
       "       [0.],\n",
       "       [1.],\n",
       "       [0.],\n",
       "       [0.],\n",
       "       [1.],\n",
       "       [0.],\n",
       "       [1.],\n",
       "       [0.],\n",
       "       [0.],\n",
       "       [0.],\n",
       "       [0.],\n",
       "       [0.],\n",
       "       [0.],\n",
       "       [0.],\n",
       "       [0.],\n",
       "       [1.],\n",
       "       [1.],\n",
       "       [1.],\n",
       "       [1.],\n",
       "       [1.],\n",
       "       [1.],\n",
       "       [1.],\n",
       "       [1.],\n",
       "       [0.],\n",
       "       [0.],\n",
       "       [0.],\n",
       "       [0.],\n",
       "       [1.],\n",
       "       [0.],\n",
       "       [1.],\n",
       "       [1.],\n",
       "       [0.],\n",
       "       [0.],\n",
       "       [1.],\n",
       "       [0.],\n",
       "       [0.],\n",
       "       [0.],\n",
       "       [0.],\n",
       "       [0.],\n",
       "       [1.],\n",
       "       [0.],\n",
       "       [1.],\n",
       "       [0.],\n",
       "       [1.],\n",
       "       [1.],\n",
       "       [1.],\n",
       "       [1.],\n",
       "       [0.],\n",
       "       [0.],\n",
       "       [0.],\n",
       "       [1.],\n",
       "       [1.],\n",
       "       [1.],\n",
       "       [0.],\n",
       "       [1.],\n",
       "       [0.],\n",
       "       [1.],\n",
       "       [0.],\n",
       "       [0.],\n",
       "       [1.],\n",
       "       [1.],\n",
       "       [1.],\n",
       "       [1.],\n",
       "       [0.],\n",
       "       [0.],\n",
       "       [0.],\n",
       "       [0.],\n",
       "       [1.],\n",
       "       [0.],\n",
       "       [1.],\n",
       "       [1.],\n",
       "       [1.],\n",
       "       [0.],\n",
       "       [1.],\n",
       "       [1.],\n",
       "       [0.],\n",
       "       [1.],\n",
       "       [0.],\n",
       "       [0.],\n",
       "       [1.],\n",
       "       [0.],\n",
       "       [1.],\n",
       "       [1.],\n",
       "       [1.],\n",
       "       [0.],\n",
       "       [1.],\n",
       "       [0.],\n",
       "       [1.],\n",
       "       [0.],\n",
       "       [1.],\n",
       "       [1.],\n",
       "       [0.],\n",
       "       [1.],\n",
       "       [1.],\n",
       "       [0.],\n",
       "       [0.],\n",
       "       [1.],\n",
       "       [0.],\n",
       "       [1.],\n",
       "       [1.],\n",
       "       [1.],\n",
       "       [1.],\n",
       "       [0.],\n",
       "       [1.],\n",
       "       [1.],\n",
       "       [1.],\n",
       "       [1.],\n",
       "       [1.],\n",
       "       [1.],\n",
       "       [0.],\n",
       "       [1.],\n",
       "       [1.],\n",
       "       [0.],\n",
       "       [0.],\n",
       "       [0.],\n",
       "       [0.],\n",
       "       [1.],\n",
       "       [0.],\n",
       "       [0.],\n",
       "       [0.],\n",
       "       [1.],\n",
       "       [0.],\n",
       "       [1.],\n",
       "       [1.],\n",
       "       [0.],\n",
       "       [1.],\n",
       "       [1.],\n",
       "       [0.],\n",
       "       [0.]], dtype=float32)"
      ]
     },
     "execution_count": 87,
     "metadata": {},
     "output_type": "execute_result"
    }
   ],
   "source": [
    "y_val_predict = model.predict(X_val)\n",
    "y_val_predict = np.round(y_val_predict)\n",
    "#y_val_predict = y_val_predict.ravel()\n",
    "y_val_predict"
   ]
  },
  {
   "cell_type": "markdown",
   "metadata": {},
   "source": [
    "## Evalutation of Model n°1"
   ]
  },
  {
   "cell_type": "code",
   "execution_count": 88,
   "metadata": {},
   "outputs": [
    {
     "name": "stdout",
     "output_type": "stream",
     "text": [
      "Accuracy score: 0.8949771689497716\n",
      "Mean Squared Error (MSE): 0.1050228310502283\n"
     ]
    }
   ],
   "source": [
    "from sklearn.metrics import accuracy_score\n",
    "from sklearn.metrics import mean_squared_error\n",
    "\n",
    "accuracy = accuracy_score(y_val, y_val_predict)\n",
    "print(f\"Accuracy score: {accuracy}\")\n",
    "\n",
    "mse = mean_squared_error(y_val, y_val_predict)\n",
    "print(f\"Mean Squared Error (MSE): {mse}\")"
   ]
  },
  {
   "cell_type": "markdown",
   "metadata": {},
   "source": [
    "We have trained our model, which gives us a correct accuracy. But we haven't used our validation set properly, and our test set at all. Let's correct that."
   ]
  },
  {
   "cell_type": "code",
   "execution_count": 89,
   "metadata": {},
   "outputs": [],
   "source": [
    "# train model\n"
   ]
  },
  {
   "cell_type": "code",
   "execution_count": 90,
   "metadata": {},
   "outputs": [],
   "source": [
    "# predict on TEST set\n",
    "\n",
    "\n",
    "# calculate accuracy on test set\n"
   ]
  },
  {
   "cell_type": "markdown",
   "metadata": {},
   "source": [
    "Visualize training and validation losses and accuracies plots with the help of keras"
   ]
  },
  {
   "cell_type": "code",
   "execution_count": 91,
   "metadata": {},
   "outputs": [
    {
     "name": "stdout",
     "output_type": "stream",
     "text": [
      "loss\n",
      "accuracy\n",
      "mse\n",
      "val_loss\n",
      "val_accuracy\n",
      "val_mse\n"
     ]
    }
   ],
   "source": [
    "for key in history.history:\n",
    "    print(key)"
   ]
  },
  {
   "cell_type": "code",
   "execution_count": 92,
   "metadata": {},
   "outputs": [],
   "source": [
    "def plot_loss(hist, title):\n",
    "\n",
    "    train_acc = hist.history['accuracy']\n",
    "    val_acc = hist.history['val_accuracy']\n",
    "    train_loss = hist.history['loss']\n",
    "    val_loss = hist.history['val_loss']\n",
    "    \n",
    "    data = {'Epoch': range(1, len(train_acc) + 1),\n",
    "        'Training Accuracy': train_acc,\n",
    "        'Validation Accuracy': val_acc,\n",
    "           'Training Loss':train_loss,\n",
    "           'Validation Loss':val_loss}\n",
    "    df = pd.DataFrame(data)\n",
    "    \n",
    "    fig, ax = plt.subplots(figsize=(18,12))\n",
    "    \n",
    "    fig.suptitle(title, fontsize=20)\n",
    "    \n",
    "    sns.lineplot(ax=ax,data=df, x='Epoch', y='Training Loss', label='Training Loss')\n",
    "    sns.lineplot(ax=ax,data=df, x='Epoch', y='Validation Loss', label='Validation Loss')\n",
    "    \n",
    "    ax.legend()\n",
    "    \n",
    "    \n",
    "    return fig"
   ]
  },
  {
   "cell_type": "code",
   "execution_count": 93,
   "metadata": {},
   "outputs": [],
   "source": [
    "def plot_accuracy(hist, title):\n",
    "\n",
    "    train_acc = hist.history['accuracy']\n",
    "    val_acc = hist.history['val_accuracy']\n",
    "    train_loss = hist.history['loss']\n",
    "    val_loss = hist.history['val_loss']\n",
    "    \n",
    "    data = {'Epoch': range(1, len(train_acc) + 1),\n",
    "        'Training Accuracy': train_acc,\n",
    "        'Validation Accuracy': val_acc}\n",
    "    df = pd.DataFrame(data)\n",
    "    \n",
    "    fig, ax = plt.subplots(figsize=(18,12))\n",
    "    \n",
    "    fig.suptitle(title, fontsize=20)\n",
    "    \n",
    "    sns.lineplot(ax=ax,data=df, x='Epoch', y='Training Accuracy', label='Training Accuracy')\n",
    "    sns.lineplot(ax=ax,data=df, x='Epoch', y='Validation Accuracy', label='Validation Accuracy')\n",
    "    \n",
    "    ax.legend()\n",
    "    \n",
    "    \n",
    "    return fig,df"
   ]
  },
  {
   "cell_type": "code",
   "execution_count": 94,
   "metadata": {},
   "outputs": [
    {
     "data": {
      "text/html": [
       "<div>\n",
       "<style scoped>\n",
       "    .dataframe tbody tr th:only-of-type {\n",
       "        vertical-align: middle;\n",
       "    }\n",
       "\n",
       "    .dataframe tbody tr th {\n",
       "        vertical-align: top;\n",
       "    }\n",
       "\n",
       "    .dataframe thead th {\n",
       "        text-align: right;\n",
       "    }\n",
       "</style>\n",
       "<table border=\"1\" class=\"dataframe\">\n",
       "  <thead>\n",
       "    <tr style=\"text-align: right;\">\n",
       "      <th></th>\n",
       "      <th>Epoch</th>\n",
       "      <th>Training Accuracy</th>\n",
       "      <th>Validation Accuracy</th>\n",
       "    </tr>\n",
       "  </thead>\n",
       "  <tbody>\n",
       "    <tr>\n",
       "      <th>0</th>\n",
       "      <td>1</td>\n",
       "      <td>0.650685</td>\n",
       "      <td>0.721461</td>\n",
       "    </tr>\n",
       "    <tr>\n",
       "      <th>1</th>\n",
       "      <td>2</td>\n",
       "      <td>0.682975</td>\n",
       "      <td>0.748858</td>\n",
       "    </tr>\n",
       "    <tr>\n",
       "      <th>2</th>\n",
       "      <td>3</td>\n",
       "      <td>0.727984</td>\n",
       "      <td>0.776256</td>\n",
       "    </tr>\n",
       "    <tr>\n",
       "      <th>3</th>\n",
       "      <td>4</td>\n",
       "      <td>0.759296</td>\n",
       "      <td>0.785388</td>\n",
       "    </tr>\n",
       "    <tr>\n",
       "      <th>4</th>\n",
       "      <td>5</td>\n",
       "      <td>0.770059</td>\n",
       "      <td>0.785388</td>\n",
       "    </tr>\n",
       "    <tr>\n",
       "      <th>...</th>\n",
       "      <td>...</td>\n",
       "      <td>...</td>\n",
       "      <td>...</td>\n",
       "    </tr>\n",
       "    <tr>\n",
       "      <th>195</th>\n",
       "      <td>196</td>\n",
       "      <td>0.913894</td>\n",
       "      <td>0.894977</td>\n",
       "    </tr>\n",
       "    <tr>\n",
       "      <th>196</th>\n",
       "      <td>197</td>\n",
       "      <td>0.913894</td>\n",
       "      <td>0.894977</td>\n",
       "    </tr>\n",
       "    <tr>\n",
       "      <th>197</th>\n",
       "      <td>198</td>\n",
       "      <td>0.913894</td>\n",
       "      <td>0.894977</td>\n",
       "    </tr>\n",
       "    <tr>\n",
       "      <th>198</th>\n",
       "      <td>199</td>\n",
       "      <td>0.913894</td>\n",
       "      <td>0.894977</td>\n",
       "    </tr>\n",
       "    <tr>\n",
       "      <th>199</th>\n",
       "      <td>200</td>\n",
       "      <td>0.913894</td>\n",
       "      <td>0.894977</td>\n",
       "    </tr>\n",
       "  </tbody>\n",
       "</table>\n",
       "<p>200 rows × 3 columns</p>\n",
       "</div>"
      ],
      "text/plain": [
       "     Epoch  Training Accuracy  Validation Accuracy\n",
       "0        1           0.650685             0.721461\n",
       "1        2           0.682975             0.748858\n",
       "2        3           0.727984             0.776256\n",
       "3        4           0.759296             0.785388\n",
       "4        5           0.770059             0.785388\n",
       "..     ...                ...                  ...\n",
       "195    196           0.913894             0.894977\n",
       "196    197           0.913894             0.894977\n",
       "197    198           0.913894             0.894977\n",
       "198    199           0.913894             0.894977\n",
       "199    200           0.913894             0.894977\n",
       "\n",
       "[200 rows x 3 columns]"
      ]
     },
     "execution_count": 94,
     "metadata": {},
     "output_type": "execute_result"
    },
    {
     "data": {
      "image/png": "[encoded data removed]",
      "text/plain": [
       "<Figure size 1800x1200 with 1 Axes>"
      ]
     },
     "metadata": {},
     "output_type": "display_data"
    }
   ],
   "source": [
    "fig, df = plot_accuracy(history, \"MSE Loss model - Accuracy Evolution\")\n",
    "df"
   ]
  },
  {
   "cell_type": "code",
   "execution_count": 95,
   "metadata": {},
   "outputs": [
    {
     "data": {
      "image/png": "[encoded data removed]",
      "text/plain": [
       "<Figure size 1800x1200 with 1 Axes>"
      ]
     },
     "metadata": {},
     "output_type": "display_data"
    }
   ],
   "source": [
    "fig = plot_loss(history, \"Loss Evolution\")"
   ]
  },
  {
   "cell_type": "markdown",
   "metadata": {},
   "source": [
    "We have trained our neural network on the entire dataset and we can evaluate the performance of the network on the same dataset. A list of most hyperparameters available keras: "
   ]
  },
  {
   "cell_type": "markdown",
   "metadata": {},
   "source": [
    "https://keras.io/api/layers/initializers/\n",
    "\n",
    "https://keras.io/api/layers/activations/\n",
    "\n",
    "https://keras.io/api/losses/\n",
    "\n",
    "https://keras.io/api/optimizers/"
   ]
  },
  {
   "cell_type": "markdown",
   "metadata": {},
   "source": [
    "## Validation on X_test"
   ]
  },
  {
   "cell_type": "markdown",
   "metadata": {},
   "source": [
    "### Training on X_test"
   ]
  },
  {
   "cell_type": "code",
   "execution_count": null,
   "metadata": {},
   "outputs": [],
   "source": [
    "model = init_model()\n",
    "model.compile(loss='mean_squared_error', optimizer='sgd', metrics=['accuracy'])"
   ]
  },
  {
   "cell_type": "code",
   "execution_count": null,
   "metadata": {
    "scrolled": true
   },
   "outputs": [],
   "source": [
    "with tf.device('/CPU:0'):\n",
    "        history = model.fit(X_train, y_train, epochs=100, batch_size=32, verbose=2, validation_data=(X_val, y_val))   "
   ]
  },
  {
   "cell_type": "code",
   "execution_count": null,
   "metadata": {},
   "outputs": [],
   "source": [
    "y_test_predict = model.predict(X_test)\n",
    "y_test_predict = np.round(y_test_predict)"
   ]
  },
  {
   "cell_type": "code",
   "execution_count": null,
   "metadata": {},
   "outputs": [],
   "source": [
    "accuracy = accuracy_score(y_test, y_test_predict)\n",
    "mse = mean_squared_error(y_test, y_test_predict)\n",
    "\n",
    "print(f\"Accuracy score: {accuracy}\")\n",
    "print(f\"Mean Squared Error (MSE): {mse}\")"
   ]
  },
  {
   "cell_type": "code",
   "execution_count": null,
   "metadata": {},
   "outputs": [],
   "source": [
    "fig = plot_accuracy(history, \"MSE Loss model - Accuracy Evolution\")\n",
    "fig = plot_loss(history, \"MSE Loss model - Loss Evolution\")"
   ]
  },
  {
   "cell_type": "code",
   "execution_count": null,
   "metadata": {},
   "outputs": [],
   "source": []
  },
  {
   "cell_type": "code",
   "execution_count": null,
   "metadata": {},
   "outputs": [],
   "source": []
  }
 ],
 "metadata": {
  "kernelspec": {
   "display_name": "Python 3 (ipykernel)",
   "language": "python",
   "name": "python3"
  },
  "language_info": {
   "codemirror_mode": {
    "name": "ipython",
    "version": 3
   },
   "file_extension": ".py",
   "mimetype": "text/x-python",
   "name": "python",
   "nbconvert_exporter": "python",
   "pygments_lexer": "ipython3",
   "version": "3.10.10"
  },
  "toc": {
   "base_numbering": 1,
   "nav_menu": {},
   "number_sections": true,
   "sideBar": true,
   "skip_h1_title": false,
   "title_cell": "Table of Contents",
   "title_sidebar": "Contents",
   "toc_cell": false,
   "toc_position": {},
   "toc_section_display": true,
   "toc_window_display": false
  },
  "varInspector": {
   "cols": {
    "lenName": 16,
    "lenType": 16,
    "lenVar": 40
   },
   "kernels_config": {
    "python": {
     "delete_cmd_postfix": "",
     "delete_cmd_prefix": "del ",
     "library": "var_list.py",
     "varRefreshCmd": "print(var_dic_list())"
    },
    "r": {
     "delete_cmd_postfix": ") ",
     "delete_cmd_prefix": "rm(",
     "library": "var_list.r",
     "varRefreshCmd": "cat(var_dic_list()) "
    }
   },
   "types_to_exclude": [
    "module",
    "function",
    "builtin_function_or_method",
    "instance",
    "_Feature"
   ],
   "window_display": false
  },
  "vscode": {
   "interpreter": {
    "hash": "705f4b53614202f864d07490114fec02abec4a76f5e3bfdf17788828300854a5"
   }
  }
 },
 "nbformat": 4,
 "nbformat_minor": 2
}
